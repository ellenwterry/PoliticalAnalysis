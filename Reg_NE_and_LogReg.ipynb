{
  "nbformat": 4,
  "nbformat_minor": 0,
  "metadata": {
    "colab": {
      "provenance": [],
      "authorship_tag": "ABX9TyMz2BPBDpUPQJnQsxX82/vS",
      "include_colab_link": true
    },
    "kernelspec": {
      "name": "python3",
      "display_name": "Python 3"
    },
    "language_info": {
      "name": "python"
    }
  },
  "cells": [
    {
      "cell_type": "markdown",
      "metadata": {
        "id": "view-in-github",
        "colab_type": "text"
      },
      "source": [
        "<a href=\"https://colab.research.google.com/github/ellenwterry/PoliticalAnalysis/blob/main/Reg_NE_and_LogReg.ipynb\" target=\"_parent\"><img src=\"https://colab.research.google.com/assets/colab-badge.svg\" alt=\"Open In Colab\"/></a>"
      ]
    },
    {
      "cell_type": "markdown",
      "source": [
        "Load Libraries"
      ],
      "metadata": {
        "id": "yUOsjDzaufik"
      }
    },
    {
      "cell_type": "code",
      "source": [
        "import matplotlib.pyplot as plt\n",
        "import numpy as np\n",
        "import pandas as pd\n",
        "from scipy import stats\n",
        "import patsy\n",
        "from sklearn.linear_model import LogisticRegression\n",
        "\n",
        "\n",
        "!pip install nest-asyncio\n",
        "import nest_asyncio\n",
        "nest_asyncio.apply()\n",
        "\n",
        "import patsy\n",
        "from sklearn.linear_model import LogisticRegression\n",
        "\n",
        "!pip install pystan==3.7.0\n",
        "#!pip install pystan\n",
        "!pip install corner\n",
        "import stan\n",
        "\n",
        "import plotly.express as px\n",
        "import plotly.graph_objects as go\n",
        "\n",
        "!pip install geopy\n",
        "from geopy.geocoders import Nominatim\n",
        "import matplotlib.pyplot as plt\n",
        "!pip install pygris\n",
        "# import matplotlib.pyplot as plt\n",
        "from pygris import core_based_statistical_areas\n",
        "from pygris import tracts\n",
        "\n",
        "from google.colab import files\n",
        "\n",
        "\n",
        "import geopandas as gpd\n",
        "import folium\n",
        "# from google.colab import files\n"
      ],
      "metadata": {
        "id": "G9vYtDP_eAij"
      },
      "execution_count": null,
      "outputs": []
    },
    {
      "cell_type": "markdown",
      "source": [
        "Get Data"
      ],
      "metadata": {
        "id": "ss-RECEruwjo"
      }
    },
    {
      "cell_type": "code",
      "source": [
        "# ---------- Get Data from Github ---------- #\n",
        "\n",
        "url = 'https://raw.githubusercontent.com/ellenwterry/PoliticalAnalysis/main/VoteBase.csv'\n",
        "VoteBase = pd.read_csv(url)"
      ],
      "metadata": {
        "id": "nEk2b3mGgIXh"
      },
      "execution_count": 2,
      "outputs": []
    },
    {
      "cell_type": "markdown",
      "source": [
        "Tidy Data"
      ],
      "metadata": {
        "id": "DYdBz2E5u1Va"
      }
    },
    {
      "cell_type": "code",
      "source": [
        "# ---------- Clean up data ---------- #\n",
        "\n",
        "from sklearn import preprocessing\n",
        "le = preprocessing.LabelEncoder()\n",
        "\n",
        "le.fit(VoteBase['Sex'])\n",
        "\n",
        "codes = {'NR':0, 'M': 1, 'F': 2}\n",
        "VoteBase['Sex'] = VoteBase['Sex'].map(codes)\n",
        "\n",
        "VoteBase['Age']=VoteBase.Age.astype('int32')\n",
        "\n",
        "#VoteBase['LastPrimary'] = le.transform(VoteBase['LastPrimary'])\n",
        "codes = {'NR':0, 'R': 1, 'D':2}\n",
        "VoteBase['LastPrimary'] = VoteBase['LastPrimary'].map(codes)\n",
        "\n",
        "#VoteBase['Education'] = le.transform(VoteBase['Education'])\n",
        "codes = {'NR':0, 'HS': 1, 'Some College':2, 'Bachelor':3, 'Masters':4, 'Doctorate':5}\n",
        "VoteBase['Education'] = VoteBase['Education'].map(codes)\n",
        "\n",
        "#VoteBase['HHIncome'] = le.transform(VoteBase['HHIncome'])\n",
        "codes = {'NR':0, 'Under 50k': 1, '50k-100k':2, '100k-200k':3, '200k-300k':4, '300k-500k':5, 'Over 500k':6}\n",
        "VoteBase['HHIncome'] = VoteBase['HHIncome'].map(codes)\n",
        "\n",
        "#VoteBase['ReligiousAffil'] = le.transform(VoteBase['ReligiousAffil'])\n",
        "codes = {'NR':0,'Protestant': 1, 'Catholic':2, 'Other':3, 'None':4}\n",
        "VoteBase['ReligiousAffil'] = VoteBase['ReligiousAffil'].map(codes)\n",
        "\n",
        "#VoteBase['Support24'] = le.transform(VoteBase['Support24'])\n",
        "codes = {'R':0, 'D': 1}\n",
        "VoteBase['Support24'] = VoteBase['Support24'].map(codes)\n",
        "# NOTE: NAs were excluded from sample so that algorithms could score using logistic scale - 2nd pass will use imputed values\n",
        "\n",
        "#VoteBase['TopIssue'] = le.transform(VoteBase['TopIssue'])\n",
        "codes = {'NR':0, 'RFree':1, 'Parents':2, 'Crime':3, 'Economy':4, 'Womens':5, 'Education':6, 'Environment':7, 'Democracy':8}\n",
        "VoteBase['TopIssue'] = VoteBase['TopIssue'].map(codes)\n",
        "\n",
        "# This is for the second data source (later)\n",
        "codes = {'NS':0, 'NR':1,'Signed':2}\n",
        "VoteBase['RRPetition'] = VoteBase['RRPetition'].map(codes)"
      ],
      "metadata": {
        "id": "bOha1ArygIhY"
      },
      "execution_count": 3,
      "outputs": []
    },
    {
      "cell_type": "markdown",
      "source": [
        "Split into Training and Test Sets"
      ],
      "metadata": {
        "id": "ELXUZnIou9DK"
      }
    },
    {
      "cell_type": "code",
      "source": [
        "#np.random.randint(0, 10, size=4)\n",
        "rows = VoteBase.shape[0]-1\n",
        "testInd = np.random.randint(0, (VoteBase.shape[0]-1), size=100)\n",
        "tstBase = VoteBase[VoteBase.index.isin(testInd)]\n",
        "trainBase = VoteBase[~VoteBase.index.isin(tstBase)]\n"
      ],
      "metadata": {
        "id": "VhvBvipmJi7B"
      },
      "execution_count": 4,
      "outputs": []
    },
    {
      "cell_type": "code",
      "source": [
        "yTrain = trainBase['Support24']\n",
        "yTest = tstBase['Support24']\n",
        "Xmatrix = patsy.dmatrix('Age + Sex + Education + HHIncome+ ReligiousAffil + LastPrimary + TopIssue', trainBase)\n",
        "tstMatrix = patsy.dmatrix('Age + Sex + Education + HHIncome+ ReligiousAffil + LastPrimary + TopIssue', tstBase)\n",
        "rows = Xmatrix.shape[0]\n",
        "columns = Xmatrix.shape[1]\n",
        "rows, columns"
      ],
      "metadata": {
        "colab": {
          "base_uri": "https://localhost:8080/"
        },
        "id": "dEEzs2WbgXqt",
        "outputId": "67054a70-3a7d-445b-d650-1446cb65b268"
      },
      "execution_count": 5,
      "outputs": [
        {
          "output_type": "execute_result",
          "data": {
            "text/plain": [
              "(2498, 8)"
            ]
          },
          "metadata": {},
          "execution_count": 5
        }
      ]
    },
    {
      "cell_type": "markdown",
      "source": [
        "Train LogReg Model"
      ],
      "metadata": {
        "id": "g5WoIiVg7Iki"
      }
    },
    {
      "cell_type": "code",
      "source": [
        "model = LogisticRegression(solver='sag')\n",
        "model.fit(Xmatrix, yTrain)\n",
        "Pred = model.predict(Xmatrix)\n",
        "Probs = pd.DataFrame(model.predict_proba(tstMatrix))\n",
        "theta = np.matrix(model.coef_)\n",
        "intercept = model.intercept_\n",
        "Probs[1]"
      ],
      "metadata": {
        "colab": {
          "base_uri": "https://localhost:8080/"
        },
        "id": "VpRrP2aqgX0C",
        "outputId": "65ceec17-9432-4054-c068-9b2b94dc611e"
      },
      "execution_count": 6,
      "outputs": [
        {
          "output_type": "stream",
          "name": "stderr",
          "text": [
            "/usr/local/lib/python3.10/dist-packages/sklearn/linear_model/_sag.py:350: ConvergenceWarning: The max_iter was reached which means the coef_ did not converge\n",
            "  warnings.warn(\n"
          ]
        },
        {
          "output_type": "execute_result",
          "data": {
            "text/plain": [
              "0     0.845212\n",
              "1     0.035167\n",
              "2     0.022166\n",
              "3     0.083606\n",
              "4     0.148704\n",
              "        ...   \n",
              "94    0.991710\n",
              "95    0.994532\n",
              "96    0.960929\n",
              "97    0.994736\n",
              "98    0.787557\n",
              "Name: 1, Length: 99, dtype: float64"
            ]
          },
          "metadata": {},
          "execution_count": 6
        }
      ]
    },
    {
      "cell_type": "code",
      "source": [
        "model.coef_[0,6]"
      ],
      "metadata": {
        "id": "iaWD3UCkmY-J",
        "colab": {
          "base_uri": "https://localhost:8080/"
        },
        "outputId": "f971636e-a198-40ea-8027-5fa55b6cde14"
      },
      "execution_count": 50,
      "outputs": [
        {
          "output_type": "execute_result",
          "data": {
            "text/plain": [
              "0.3622477639852212"
            ]
          },
          "metadata": {},
          "execution_count": 50
        }
      ]
    },
    {
      "cell_type": "markdown",
      "source": [
        "Select Test Samples and Confirm using Equation."
      ],
      "metadata": {
        "id": "7Y4vLTFUv5pE"
      }
    },
    {
      "cell_type": "code",
      "source": [
        "def stable_sigmoid(x):\n",
        "  # Using np.where to avoid numerical overflow or underflow.\n",
        "  return np.where(x >= 0, 1 / (1 + np.exp(-x)), np.exp(x) / (1 + np.exp(x)))\n",
        "\n",
        "# This logreg algorithm breaks out the bias separately for analysis with multinomials.\n",
        "\n",
        "Prob2 = stable_sigmoid((np.dot(model.coef_,tstMatrix[0].transpose())+ model.intercept_).transpose())\n",
        "Prob2"
      ],
      "metadata": {
        "colab": {
          "base_uri": "https://localhost:8080/"
        },
        "id": "eN4HzVnImVYb",
        "outputId": "83c331c4-b97f-4ada-d3f3-a6244eceb3ab"
      },
      "execution_count": 7,
      "outputs": [
        {
          "output_type": "execute_result",
          "data": {
            "text/plain": [
              "array([0.84521246])"
            ]
          },
          "metadata": {},
          "execution_count": 7
        }
      ]
    },
    {
      "cell_type": "code",
      "source": [
        "Probs[1]"
      ],
      "metadata": {
        "colab": {
          "base_uri": "https://localhost:8080/"
        },
        "id": "-o-C6eOfKZj5",
        "outputId": "781cf799-e3af-4207-f528-dc2524400ab1"
      },
      "execution_count": 8,
      "outputs": [
        {
          "output_type": "execute_result",
          "data": {
            "text/plain": [
              "0     0.845212\n",
              "1     0.035167\n",
              "2     0.022166\n",
              "3     0.083606\n",
              "4     0.148704\n",
              "        ...   \n",
              "94    0.991710\n",
              "95    0.994532\n",
              "96    0.960929\n",
              "97    0.994736\n",
              "98    0.787557\n",
              "Name: 1, Length: 99, dtype: float64"
            ]
          },
          "metadata": {},
          "execution_count": 8
        }
      ]
    },
    {
      "cell_type": "code",
      "source": [
        "VoteBase['Prob'] = pd.DataFrame(model.predict_proba(Xmatrix))[1]"
      ],
      "metadata": {
        "id": "FJjNM2N3Hmv_"
      },
      "execution_count": 9,
      "outputs": []
    },
    {
      "cell_type": "code",
      "source": [
        "VoteBase"
      ],
      "metadata": {
        "colab": {
          "base_uri": "https://localhost:8080/",
          "height": 423
        },
        "id": "ekDquEAEHmo8",
        "outputId": "2b787906-2f7a-41dd-9911-1e31de105e96"
      },
      "execution_count": 10,
      "outputs": [
        {
          "output_type": "execute_result",
          "data": {
            "text/plain": [
              "        ID        Name  Sex  Age  LastPrimary  Latitude  Longitude  Education  \\\n",
              "0        1     Voter 1    1   51            0  41.00544  -73.62954          2   \n",
              "1        2     Voter 2    1   52            0  41.04027  -73.63011          2   \n",
              "2        3     Voter 3    2   54            0  41.05734  -73.65044          3   \n",
              "3        4     Voter 4    1   59            0  41.03255  -73.60403          2   \n",
              "4        5     Voter 5    1   36            0  41.06684  -73.57837          2   \n",
              "...    ...         ...  ...  ...          ...       ...        ...        ...   \n",
              "2493  2494  Voter 2494    2   62            0  41.07108  -73.63842          4   \n",
              "2494  2495  Voter 2495    2   62            2  41.03758  -73.57932          3   \n",
              "2495  2496  Voter 2496    2   65            2  41.01605  -73.58949          3   \n",
              "2496  2497  Voter 2497    1   67            2  40.99031  -73.65605          0   \n",
              "2497  2498  Voter 2498    2   90            2  41.02249  -73.57073          3   \n",
              "\n",
              "      HHIncome  ReligiousAffil  Support24  TopIssue  RRPetition      Prob  \n",
              "0            3               1          0         0           0  0.363540  \n",
              "1            2               1          0         0           0  0.252096  \n",
              "2            6               1          1         4           0  0.763573  \n",
              "3            3               1          0         0           0  0.330918  \n",
              "4            3               4          0         0           0  0.932524  \n",
              "...        ...             ...        ...       ...         ...       ...  \n",
              "2493         3               4          1         5           1  0.941904  \n",
              "2494         3               0          1         5           1  0.342916  \n",
              "2495         6               1          1         0           1  0.787557  \n",
              "2496         6               0          1         0           1  0.471982  \n",
              "2497         3               4          1         0           1  0.904487  \n",
              "\n",
              "[2498 rows x 14 columns]"
            ],
            "text/html": [
              "\n",
              "  <div id=\"df-ffd0f0ec-c54d-44eb-9a70-deea922e40ac\" class=\"colab-df-container\">\n",
              "    <div>\n",
              "<style scoped>\n",
              "    .dataframe tbody tr th:only-of-type {\n",
              "        vertical-align: middle;\n",
              "    }\n",
              "\n",
              "    .dataframe tbody tr th {\n",
              "        vertical-align: top;\n",
              "    }\n",
              "\n",
              "    .dataframe thead th {\n",
              "        text-align: right;\n",
              "    }\n",
              "</style>\n",
              "<table border=\"1\" class=\"dataframe\">\n",
              "  <thead>\n",
              "    <tr style=\"text-align: right;\">\n",
              "      <th></th>\n",
              "      <th>ID</th>\n",
              "      <th>Name</th>\n",
              "      <th>Sex</th>\n",
              "      <th>Age</th>\n",
              "      <th>LastPrimary</th>\n",
              "      <th>Latitude</th>\n",
              "      <th>Longitude</th>\n",
              "      <th>Education</th>\n",
              "      <th>HHIncome</th>\n",
              "      <th>ReligiousAffil</th>\n",
              "      <th>Support24</th>\n",
              "      <th>TopIssue</th>\n",
              "      <th>RRPetition</th>\n",
              "      <th>Prob</th>\n",
              "    </tr>\n",
              "  </thead>\n",
              "  <tbody>\n",
              "    <tr>\n",
              "      <th>0</th>\n",
              "      <td>1</td>\n",
              "      <td>Voter 1</td>\n",
              "      <td>1</td>\n",
              "      <td>51</td>\n",
              "      <td>0</td>\n",
              "      <td>41.00544</td>\n",
              "      <td>-73.62954</td>\n",
              "      <td>2</td>\n",
              "      <td>3</td>\n",
              "      <td>1</td>\n",
              "      <td>0</td>\n",
              "      <td>0</td>\n",
              "      <td>0</td>\n",
              "      <td>0.363540</td>\n",
              "    </tr>\n",
              "    <tr>\n",
              "      <th>1</th>\n",
              "      <td>2</td>\n",
              "      <td>Voter 2</td>\n",
              "      <td>1</td>\n",
              "      <td>52</td>\n",
              "      <td>0</td>\n",
              "      <td>41.04027</td>\n",
              "      <td>-73.63011</td>\n",
              "      <td>2</td>\n",
              "      <td>2</td>\n",
              "      <td>1</td>\n",
              "      <td>0</td>\n",
              "      <td>0</td>\n",
              "      <td>0</td>\n",
              "      <td>0.252096</td>\n",
              "    </tr>\n",
              "    <tr>\n",
              "      <th>2</th>\n",
              "      <td>3</td>\n",
              "      <td>Voter 3</td>\n",
              "      <td>2</td>\n",
              "      <td>54</td>\n",
              "      <td>0</td>\n",
              "      <td>41.05734</td>\n",
              "      <td>-73.65044</td>\n",
              "      <td>3</td>\n",
              "      <td>6</td>\n",
              "      <td>1</td>\n",
              "      <td>1</td>\n",
              "      <td>4</td>\n",
              "      <td>0</td>\n",
              "      <td>0.763573</td>\n",
              "    </tr>\n",
              "    <tr>\n",
              "      <th>3</th>\n",
              "      <td>4</td>\n",
              "      <td>Voter 4</td>\n",
              "      <td>1</td>\n",
              "      <td>59</td>\n",
              "      <td>0</td>\n",
              "      <td>41.03255</td>\n",
              "      <td>-73.60403</td>\n",
              "      <td>2</td>\n",
              "      <td>3</td>\n",
              "      <td>1</td>\n",
              "      <td>0</td>\n",
              "      <td>0</td>\n",
              "      <td>0</td>\n",
              "      <td>0.330918</td>\n",
              "    </tr>\n",
              "    <tr>\n",
              "      <th>4</th>\n",
              "      <td>5</td>\n",
              "      <td>Voter 5</td>\n",
              "      <td>1</td>\n",
              "      <td>36</td>\n",
              "      <td>0</td>\n",
              "      <td>41.06684</td>\n",
              "      <td>-73.57837</td>\n",
              "      <td>2</td>\n",
              "      <td>3</td>\n",
              "      <td>4</td>\n",
              "      <td>0</td>\n",
              "      <td>0</td>\n",
              "      <td>0</td>\n",
              "      <td>0.932524</td>\n",
              "    </tr>\n",
              "    <tr>\n",
              "      <th>...</th>\n",
              "      <td>...</td>\n",
              "      <td>...</td>\n",
              "      <td>...</td>\n",
              "      <td>...</td>\n",
              "      <td>...</td>\n",
              "      <td>...</td>\n",
              "      <td>...</td>\n",
              "      <td>...</td>\n",
              "      <td>...</td>\n",
              "      <td>...</td>\n",
              "      <td>...</td>\n",
              "      <td>...</td>\n",
              "      <td>...</td>\n",
              "      <td>...</td>\n",
              "    </tr>\n",
              "    <tr>\n",
              "      <th>2493</th>\n",
              "      <td>2494</td>\n",
              "      <td>Voter 2494</td>\n",
              "      <td>2</td>\n",
              "      <td>62</td>\n",
              "      <td>0</td>\n",
              "      <td>41.07108</td>\n",
              "      <td>-73.63842</td>\n",
              "      <td>4</td>\n",
              "      <td>3</td>\n",
              "      <td>4</td>\n",
              "      <td>1</td>\n",
              "      <td>5</td>\n",
              "      <td>1</td>\n",
              "      <td>0.941904</td>\n",
              "    </tr>\n",
              "    <tr>\n",
              "      <th>2494</th>\n",
              "      <td>2495</td>\n",
              "      <td>Voter 2495</td>\n",
              "      <td>2</td>\n",
              "      <td>62</td>\n",
              "      <td>2</td>\n",
              "      <td>41.03758</td>\n",
              "      <td>-73.57932</td>\n",
              "      <td>3</td>\n",
              "      <td>3</td>\n",
              "      <td>0</td>\n",
              "      <td>1</td>\n",
              "      <td>5</td>\n",
              "      <td>1</td>\n",
              "      <td>0.342916</td>\n",
              "    </tr>\n",
              "    <tr>\n",
              "      <th>2495</th>\n",
              "      <td>2496</td>\n",
              "      <td>Voter 2496</td>\n",
              "      <td>2</td>\n",
              "      <td>65</td>\n",
              "      <td>2</td>\n",
              "      <td>41.01605</td>\n",
              "      <td>-73.58949</td>\n",
              "      <td>3</td>\n",
              "      <td>6</td>\n",
              "      <td>1</td>\n",
              "      <td>1</td>\n",
              "      <td>0</td>\n",
              "      <td>1</td>\n",
              "      <td>0.787557</td>\n",
              "    </tr>\n",
              "    <tr>\n",
              "      <th>2496</th>\n",
              "      <td>2497</td>\n",
              "      <td>Voter 2497</td>\n",
              "      <td>1</td>\n",
              "      <td>67</td>\n",
              "      <td>2</td>\n",
              "      <td>40.99031</td>\n",
              "      <td>-73.65605</td>\n",
              "      <td>0</td>\n",
              "      <td>6</td>\n",
              "      <td>0</td>\n",
              "      <td>1</td>\n",
              "      <td>0</td>\n",
              "      <td>1</td>\n",
              "      <td>0.471982</td>\n",
              "    </tr>\n",
              "    <tr>\n",
              "      <th>2497</th>\n",
              "      <td>2498</td>\n",
              "      <td>Voter 2498</td>\n",
              "      <td>2</td>\n",
              "      <td>90</td>\n",
              "      <td>2</td>\n",
              "      <td>41.02249</td>\n",
              "      <td>-73.57073</td>\n",
              "      <td>3</td>\n",
              "      <td>3</td>\n",
              "      <td>4</td>\n",
              "      <td>1</td>\n",
              "      <td>0</td>\n",
              "      <td>1</td>\n",
              "      <td>0.904487</td>\n",
              "    </tr>\n",
              "  </tbody>\n",
              "</table>\n",
              "<p>2498 rows × 14 columns</p>\n",
              "</div>\n",
              "    <div class=\"colab-df-buttons\">\n",
              "\n",
              "  <div class=\"colab-df-container\">\n",
              "    <button class=\"colab-df-convert\" onclick=\"convertToInteractive('df-ffd0f0ec-c54d-44eb-9a70-deea922e40ac')\"\n",
              "            title=\"Convert this dataframe to an interactive table.\"\n",
              "            style=\"display:none;\">\n",
              "\n",
              "  <svg xmlns=\"http://www.w3.org/2000/svg\" height=\"24px\" viewBox=\"0 -960 960 960\">\n",
              "    <path d=\"M120-120v-720h720v720H120Zm60-500h600v-160H180v160Zm220 220h160v-160H400v160Zm0 220h160v-160H400v160ZM180-400h160v-160H180v160Zm440 0h160v-160H620v160ZM180-180h160v-160H180v160Zm440 0h160v-160H620v160Z\"/>\n",
              "  </svg>\n",
              "    </button>\n",
              "\n",
              "  <style>\n",
              "    .colab-df-container {\n",
              "      display:flex;\n",
              "      gap: 12px;\n",
              "    }\n",
              "\n",
              "    .colab-df-convert {\n",
              "      background-color: #E8F0FE;\n",
              "      border: none;\n",
              "      border-radius: 50%;\n",
              "      cursor: pointer;\n",
              "      display: none;\n",
              "      fill: #1967D2;\n",
              "      height: 32px;\n",
              "      padding: 0 0 0 0;\n",
              "      width: 32px;\n",
              "    }\n",
              "\n",
              "    .colab-df-convert:hover {\n",
              "      background-color: #E2EBFA;\n",
              "      box-shadow: 0px 1px 2px rgba(60, 64, 67, 0.3), 0px 1px 3px 1px rgba(60, 64, 67, 0.15);\n",
              "      fill: #174EA6;\n",
              "    }\n",
              "\n",
              "    .colab-df-buttons div {\n",
              "      margin-bottom: 4px;\n",
              "    }\n",
              "\n",
              "    [theme=dark] .colab-df-convert {\n",
              "      background-color: #3B4455;\n",
              "      fill: #D2E3FC;\n",
              "    }\n",
              "\n",
              "    [theme=dark] .colab-df-convert:hover {\n",
              "      background-color: #434B5C;\n",
              "      box-shadow: 0px 1px 3px 1px rgba(0, 0, 0, 0.15);\n",
              "      filter: drop-shadow(0px 1px 2px rgba(0, 0, 0, 0.3));\n",
              "      fill: #FFFFFF;\n",
              "    }\n",
              "  </style>\n",
              "\n",
              "    <script>\n",
              "      const buttonEl =\n",
              "        document.querySelector('#df-ffd0f0ec-c54d-44eb-9a70-deea922e40ac button.colab-df-convert');\n",
              "      buttonEl.style.display =\n",
              "        google.colab.kernel.accessAllowed ? 'block' : 'none';\n",
              "\n",
              "      async function convertToInteractive(key) {\n",
              "        const element = document.querySelector('#df-ffd0f0ec-c54d-44eb-9a70-deea922e40ac');\n",
              "        const dataTable =\n",
              "          await google.colab.kernel.invokeFunction('convertToInteractive',\n",
              "                                                    [key], {});\n",
              "        if (!dataTable) return;\n",
              "\n",
              "        const docLinkHtml = 'Like what you see? Visit the ' +\n",
              "          '<a target=\"_blank\" href=https://colab.research.google.com/notebooks/data_table.ipynb>data table notebook</a>'\n",
              "          + ' to learn more about interactive tables.';\n",
              "        element.innerHTML = '';\n",
              "        dataTable['output_type'] = 'display_data';\n",
              "        await google.colab.output.renderOutput(dataTable, element);\n",
              "        const docLink = document.createElement('div');\n",
              "        docLink.innerHTML = docLinkHtml;\n",
              "        element.appendChild(docLink);\n",
              "      }\n",
              "    </script>\n",
              "  </div>\n",
              "\n",
              "\n",
              "<div id=\"df-a189ad03-9d87-4f00-bece-0b1e9e952bb3\">\n",
              "  <button class=\"colab-df-quickchart\" onclick=\"quickchart('df-a189ad03-9d87-4f00-bece-0b1e9e952bb3')\"\n",
              "            title=\"Suggest charts\"\n",
              "            style=\"display:none;\">\n",
              "\n",
              "<svg xmlns=\"http://www.w3.org/2000/svg\" height=\"24px\"viewBox=\"0 0 24 24\"\n",
              "     width=\"24px\">\n",
              "    <g>\n",
              "        <path d=\"M19 3H5c-1.1 0-2 .9-2 2v14c0 1.1.9 2 2 2h14c1.1 0 2-.9 2-2V5c0-1.1-.9-2-2-2zM9 17H7v-7h2v7zm4 0h-2V7h2v10zm4 0h-2v-4h2v4z\"/>\n",
              "    </g>\n",
              "</svg>\n",
              "  </button>\n",
              "\n",
              "<style>\n",
              "  .colab-df-quickchart {\n",
              "      --bg-color: #E8F0FE;\n",
              "      --fill-color: #1967D2;\n",
              "      --hover-bg-color: #E2EBFA;\n",
              "      --hover-fill-color: #174EA6;\n",
              "      --disabled-fill-color: #AAA;\n",
              "      --disabled-bg-color: #DDD;\n",
              "  }\n",
              "\n",
              "  [theme=dark] .colab-df-quickchart {\n",
              "      --bg-color: #3B4455;\n",
              "      --fill-color: #D2E3FC;\n",
              "      --hover-bg-color: #434B5C;\n",
              "      --hover-fill-color: #FFFFFF;\n",
              "      --disabled-bg-color: #3B4455;\n",
              "      --disabled-fill-color: #666;\n",
              "  }\n",
              "\n",
              "  .colab-df-quickchart {\n",
              "    background-color: var(--bg-color);\n",
              "    border: none;\n",
              "    border-radius: 50%;\n",
              "    cursor: pointer;\n",
              "    display: none;\n",
              "    fill: var(--fill-color);\n",
              "    height: 32px;\n",
              "    padding: 0;\n",
              "    width: 32px;\n",
              "  }\n",
              "\n",
              "  .colab-df-quickchart:hover {\n",
              "    background-color: var(--hover-bg-color);\n",
              "    box-shadow: 0 1px 2px rgba(60, 64, 67, 0.3), 0 1px 3px 1px rgba(60, 64, 67, 0.15);\n",
              "    fill: var(--button-hover-fill-color);\n",
              "  }\n",
              "\n",
              "  .colab-df-quickchart-complete:disabled,\n",
              "  .colab-df-quickchart-complete:disabled:hover {\n",
              "    background-color: var(--disabled-bg-color);\n",
              "    fill: var(--disabled-fill-color);\n",
              "    box-shadow: none;\n",
              "  }\n",
              "\n",
              "  .colab-df-spinner {\n",
              "    border: 2px solid var(--fill-color);\n",
              "    border-color: transparent;\n",
              "    border-bottom-color: var(--fill-color);\n",
              "    animation:\n",
              "      spin 1s steps(1) infinite;\n",
              "  }\n",
              "\n",
              "  @keyframes spin {\n",
              "    0% {\n",
              "      border-color: transparent;\n",
              "      border-bottom-color: var(--fill-color);\n",
              "      border-left-color: var(--fill-color);\n",
              "    }\n",
              "    20% {\n",
              "      border-color: transparent;\n",
              "      border-left-color: var(--fill-color);\n",
              "      border-top-color: var(--fill-color);\n",
              "    }\n",
              "    30% {\n",
              "      border-color: transparent;\n",
              "      border-left-color: var(--fill-color);\n",
              "      border-top-color: var(--fill-color);\n",
              "      border-right-color: var(--fill-color);\n",
              "    }\n",
              "    40% {\n",
              "      border-color: transparent;\n",
              "      border-right-color: var(--fill-color);\n",
              "      border-top-color: var(--fill-color);\n",
              "    }\n",
              "    60% {\n",
              "      border-color: transparent;\n",
              "      border-right-color: var(--fill-color);\n",
              "    }\n",
              "    80% {\n",
              "      border-color: transparent;\n",
              "      border-right-color: var(--fill-color);\n",
              "      border-bottom-color: var(--fill-color);\n",
              "    }\n",
              "    90% {\n",
              "      border-color: transparent;\n",
              "      border-bottom-color: var(--fill-color);\n",
              "    }\n",
              "  }\n",
              "</style>\n",
              "\n",
              "  <script>\n",
              "    async function quickchart(key) {\n",
              "      const quickchartButtonEl =\n",
              "        document.querySelector('#' + key + ' button');\n",
              "      quickchartButtonEl.disabled = true;  // To prevent multiple clicks.\n",
              "      quickchartButtonEl.classList.add('colab-df-spinner');\n",
              "      try {\n",
              "        const charts = await google.colab.kernel.invokeFunction(\n",
              "            'suggestCharts', [key], {});\n",
              "      } catch (error) {\n",
              "        console.error('Error during call to suggestCharts:', error);\n",
              "      }\n",
              "      quickchartButtonEl.classList.remove('colab-df-spinner');\n",
              "      quickchartButtonEl.classList.add('colab-df-quickchart-complete');\n",
              "    }\n",
              "    (() => {\n",
              "      let quickchartButtonEl =\n",
              "        document.querySelector('#df-a189ad03-9d87-4f00-bece-0b1e9e952bb3 button');\n",
              "      quickchartButtonEl.style.display =\n",
              "        google.colab.kernel.accessAllowed ? 'block' : 'none';\n",
              "    })();\n",
              "  </script>\n",
              "</div>\n",
              "\n",
              "  <div id=\"id_7942feb7-ffe2-497e-ad04-7c060d81a319\">\n",
              "    <style>\n",
              "      .colab-df-generate {\n",
              "        background-color: #E8F0FE;\n",
              "        border: none;\n",
              "        border-radius: 50%;\n",
              "        cursor: pointer;\n",
              "        display: none;\n",
              "        fill: #1967D2;\n",
              "        height: 32px;\n",
              "        padding: 0 0 0 0;\n",
              "        width: 32px;\n",
              "      }\n",
              "\n",
              "      .colab-df-generate:hover {\n",
              "        background-color: #E2EBFA;\n",
              "        box-shadow: 0px 1px 2px rgba(60, 64, 67, 0.3), 0px 1px 3px 1px rgba(60, 64, 67, 0.15);\n",
              "        fill: #174EA6;\n",
              "      }\n",
              "\n",
              "      [theme=dark] .colab-df-generate {\n",
              "        background-color: #3B4455;\n",
              "        fill: #D2E3FC;\n",
              "      }\n",
              "\n",
              "      [theme=dark] .colab-df-generate:hover {\n",
              "        background-color: #434B5C;\n",
              "        box-shadow: 0px 1px 3px 1px rgba(0, 0, 0, 0.15);\n",
              "        filter: drop-shadow(0px 1px 2px rgba(0, 0, 0, 0.3));\n",
              "        fill: #FFFFFF;\n",
              "      }\n",
              "    </style>\n",
              "    <button class=\"colab-df-generate\" onclick=\"generateWithVariable('VoteBase')\"\n",
              "            title=\"Generate code using this dataframe.\"\n",
              "            style=\"display:none;\">\n",
              "\n",
              "  <svg xmlns=\"http://www.w3.org/2000/svg\" height=\"24px\"viewBox=\"0 0 24 24\"\n",
              "       width=\"24px\">\n",
              "    <path d=\"M7,19H8.4L18.45,9,17,7.55,7,17.6ZM5,21V16.75L18.45,3.32a2,2,0,0,1,2.83,0l1.4,1.43a1.91,1.91,0,0,1,.58,1.4,1.91,1.91,0,0,1-.58,1.4L9.25,21ZM18.45,9,17,7.55Zm-12,3A5.31,5.31,0,0,0,4.9,8.1,5.31,5.31,0,0,0,1,6.5,5.31,5.31,0,0,0,4.9,4.9,5.31,5.31,0,0,0,6.5,1,5.31,5.31,0,0,0,8.1,4.9,5.31,5.31,0,0,0,12,6.5,5.46,5.46,0,0,0,6.5,12Z\"/>\n",
              "  </svg>\n",
              "    </button>\n",
              "    <script>\n",
              "      (() => {\n",
              "      const buttonEl =\n",
              "        document.querySelector('#id_7942feb7-ffe2-497e-ad04-7c060d81a319 button.colab-df-generate');\n",
              "      buttonEl.style.display =\n",
              "        google.colab.kernel.accessAllowed ? 'block' : 'none';\n",
              "\n",
              "      buttonEl.onclick = () => {\n",
              "        google.colab.notebook.generateWithVariable('VoteBase');\n",
              "      }\n",
              "      })();\n",
              "    </script>\n",
              "  </div>\n",
              "\n",
              "    </div>\n",
              "  </div>\n"
            ],
            "application/vnd.google.colaboratory.intrinsic+json": {
              "type": "dataframe",
              "variable_name": "VoteBase",
              "summary": "{\n  \"name\": \"VoteBase\",\n  \"rows\": 2498,\n  \"fields\": [\n    {\n      \"column\": \"ID\",\n      \"properties\": {\n        \"dtype\": \"number\",\n        \"std\": 721,\n        \"min\": 1,\n        \"max\": 2498,\n        \"num_unique_values\": 2498,\n        \"samples\": [\n          2294,\n          1865,\n          903\n        ],\n        \"semantic_type\": \"\",\n        \"description\": \"\"\n      }\n    },\n    {\n      \"column\": \"Name\",\n      \"properties\": {\n        \"dtype\": \"string\",\n        \"num_unique_values\": 2498,\n        \"samples\": [\n          \"Voter 2294\",\n          \"Voter 1865\",\n          \"Voter 903\"\n        ],\n        \"semantic_type\": \"\",\n        \"description\": \"\"\n      }\n    },\n    {\n      \"column\": \"Sex\",\n      \"properties\": {\n        \"dtype\": \"number\",\n        \"std\": 0,\n        \"min\": 1,\n        \"max\": 2,\n        \"num_unique_values\": 2,\n        \"samples\": [\n          2,\n          1\n        ],\n        \"semantic_type\": \"\",\n        \"description\": \"\"\n      }\n    },\n    {\n      \"column\": \"Age\",\n      \"properties\": {\n        \"dtype\": \"int32\",\n        \"num_unique_values\": 80,\n        \"samples\": [\n          75,\n          51\n        ],\n        \"semantic_type\": \"\",\n        \"description\": \"\"\n      }\n    },\n    {\n      \"column\": \"LastPrimary\",\n      \"properties\": {\n        \"dtype\": \"number\",\n        \"std\": 0,\n        \"min\": 0,\n        \"max\": 2,\n        \"num_unique_values\": 3,\n        \"samples\": [\n          0,\n          2\n        ],\n        \"semantic_type\": \"\",\n        \"description\": \"\"\n      }\n    },\n    {\n      \"column\": \"Latitude\",\n      \"properties\": {\n        \"dtype\": \"number\",\n        \"std\": 0.025668932771855203,\n        \"min\": 40.99031,\n        \"max\": 41.20214,\n        \"num_unique_values\": 1672,\n        \"samples\": [\n          41.03876,\n          41.09038\n        ],\n        \"semantic_type\": \"\",\n        \"description\": \"\"\n      }\n    },\n    {\n      \"column\": \"Longitude\",\n      \"properties\": {\n        \"dtype\": \"number\",\n        \"std\": 0.03609867078460551,\n        \"min\": -73.71461,\n        \"max\": -73.22756,\n        \"num_unique_values\": 1751,\n        \"samples\": [\n          -73.66495,\n          -73.61965\n        ],\n        \"semantic_type\": \"\",\n        \"description\": \"\"\n      }\n    },\n    {\n      \"column\": \"Education\",\n      \"properties\": {\n        \"dtype\": \"number\",\n        \"std\": 1,\n        \"min\": 0,\n        \"max\": 5,\n        \"num_unique_values\": 6,\n        \"samples\": [\n          2,\n          3\n        ],\n        \"semantic_type\": \"\",\n        \"description\": \"\"\n      }\n    },\n    {\n      \"column\": \"HHIncome\",\n      \"properties\": {\n        \"dtype\": \"number\",\n        \"std\": 0,\n        \"min\": 0,\n        \"max\": 6,\n        \"num_unique_values\": 6,\n        \"samples\": [\n          3,\n          2\n        ],\n        \"semantic_type\": \"\",\n        \"description\": \"\"\n      }\n    },\n    {\n      \"column\": \"ReligiousAffil\",\n      \"properties\": {\n        \"dtype\": \"number\",\n        \"std\": 1,\n        \"min\": 0,\n        \"max\": 4,\n        \"num_unique_values\": 5,\n        \"samples\": [\n          4,\n          0\n        ],\n        \"semantic_type\": \"\",\n        \"description\": \"\"\n      }\n    },\n    {\n      \"column\": \"Support24\",\n      \"properties\": {\n        \"dtype\": \"number\",\n        \"std\": 0,\n        \"min\": 0,\n        \"max\": 1,\n        \"num_unique_values\": 2,\n        \"samples\": [\n          1,\n          0\n        ],\n        \"semantic_type\": \"\",\n        \"description\": \"\"\n      }\n    },\n    {\n      \"column\": \"TopIssue\",\n      \"properties\": {\n        \"dtype\": \"number\",\n        \"std\": 2,\n        \"min\": 0,\n        \"max\": 8,\n        \"num_unique_values\": 9,\n        \"samples\": [\n          6,\n          4\n        ],\n        \"semantic_type\": \"\",\n        \"description\": \"\"\n      }\n    },\n    {\n      \"column\": \"RRPetition\",\n      \"properties\": {\n        \"dtype\": \"number\",\n        \"std\": 0,\n        \"min\": 0,\n        \"max\": 2,\n        \"num_unique_values\": 3,\n        \"samples\": [\n          0,\n          2\n        ],\n        \"semantic_type\": \"\",\n        \"description\": \"\"\n      }\n    },\n    {\n      \"column\": \"Prob\",\n      \"properties\": {\n        \"dtype\": \"number\",\n        \"std\": 0.3300348796473135,\n        \"min\": 0.0158473292606915,\n        \"max\": 0.995763428498368,\n        \"num_unique_values\": 2056,\n        \"samples\": [\n          0.032985098031279324,\n          0.8160812252486066\n        ],\n        \"semantic_type\": \"\",\n        \"description\": \"\"\n      }\n    }\n  ]\n}"
            }
          },
          "metadata": {},
          "execution_count": 10
        }
      ]
    },
    {
      "cell_type": "code",
      "source": [
        "# use this instead\n",
        "\n",
        "Votematrix = patsy.dmatrix('Age + Sex + Education + HHIncome+ ReligiousAffil + LastPrimary + TopIssue', VoteBase)\n",
        "ProbTst = stable_sigmoid((np.dot(model.coef_,Votematrix[0].transpose())+ model.intercept_).transpose())\n",
        "ProbTst"
      ],
      "metadata": {
        "colab": {
          "base_uri": "https://localhost:8080/"
        },
        "id": "APkM8bdqUn4a",
        "outputId": "833f0a31-ed1c-4c0a-e74a-5d41ab532e0a"
      },
      "execution_count": 58,
      "outputs": [
        {
          "output_type": "execute_result",
          "data": {
            "text/plain": [
              "array([0.36354012])"
            ]
          },
          "metadata": {},
          "execution_count": 58
        }
      ]
    },
    {
      "cell_type": "code",
      "source": [
        "# What happens if we can move Voter 1 to a TopIssue of 5\n",
        "\n",
        "Votematrix[0,6] = 5\n",
        "Votematrix[0,6]\n",
        "ProbNew = stable_sigmoid((np.dot(model.coef_,Votematrix[0].transpose())+ model.intercept_).transpose())\n",
        "ProbNew\n"
      ],
      "metadata": {
        "colab": {
          "base_uri": "https://localhost:8080/"
        },
        "id": "l6cxge8IXEjB",
        "outputId": "a6688b26-2f3e-43d9-ef1f-d220e68fc879"
      },
      "execution_count": 59,
      "outputs": [
        {
          "output_type": "execute_result",
          "data": {
            "text/plain": [
              "array([0.77750874])"
            ]
          },
          "metadata": {},
          "execution_count": 59
        }
      ]
    },
    {
      "cell_type": "code",
      "source": [
        "ProbNew - ProbTst\n"
      ],
      "metadata": {
        "colab": {
          "base_uri": "https://localhost:8080/"
        },
        "id": "97eKcmh-XErE",
        "outputId": "10c4c522-b04b-4ece-deda-fe7ef2f2a119"
      },
      "execution_count": 42,
      "outputs": [
        {
          "output_type": "execute_result",
          "data": {
            "text/plain": [
              "array([0.41396863])"
            ]
          },
          "metadata": {},
          "execution_count": 42
        }
      ]
    },
    {
      "cell_type": "code",
      "source": [],
      "metadata": {
        "colab": {
          "base_uri": "https://localhost:8080/"
        },
        "id": "k7_7a0mpXEx2",
        "outputId": "678a34c6-f5ce-4988-f8a0-bd6a2bf225c3"
      },
      "execution_count": 57,
      "outputs": [
        {
          "output_type": "execute_result",
          "data": {
            "text/plain": [
              "1.9913291518154552"
            ]
          },
          "metadata": {},
          "execution_count": 57
        }
      ]
    },
    {
      "cell_type": "code",
      "source": [
        "fig = go.Figure()\n",
        "fig.add_trace(go.Histogram(x=VoteBase['Prob'], marker_color='#378796', opacity=0.05, name = \"Vote Prob\"))\n",
        "fig.update_layout(barmode='overlay')\n",
        "fig.update_traces(opacity=0.9, nbinsx=100)\n",
        "fig.update_layout(\n",
        "    autosize=False,\n",
        "    width=800,\n",
        "    height=400,\n",
        "    plot_bgcolor = \"white\",\n",
        "    xaxis=dict(title='Probability of Vote',),\n",
        ")\n",
        "\n",
        "fig.show()"
      ],
      "metadata": {
        "colab": {
          "base_uri": "https://localhost:8080/",
          "height": 417
        },
        "id": "dYs5oMjJHmgD",
        "outputId": "3e9bb783-2122-40f1-eb0e-928bf4ea3647"
      },
      "execution_count": 11,
      "outputs": [
        {
          "output_type": "display_data",
          "data": {
            "text/html": [
              "<html>\n",
              "<head><meta charset=\"utf-8\" /></head>\n",
              "<body>\n",
              "    <div>            <script src=\"https://cdnjs.cloudflare.com/ajax/libs/mathjax/2.7.5/MathJax.js?config=TeX-AMS-MML_SVG\"></script><script type=\"text/javascript\">if (window.MathJax && window.MathJax.Hub && window.MathJax.Hub.Config) {window.MathJax.Hub.Config({SVG: {font: \"STIX-Web\"}});}</script>                <script type=\"text/javascript\">window.PlotlyConfig = {MathJaxConfig: 'local'};</script>\n",
              "        <script charset=\"utf-8\" src=\"https://cdn.plot.ly/plotly-2.24.1.min.js\"></script>                <div id=\"3b7d1898-835d-4268-9457-a487d3d976a6\" class=\"plotly-graph-div\" style=\"height:400px; width:800px;\"></div>            <script type=\"text/javascript\">                                    window.PLOTLYENV=window.PLOTLYENV || {};                                    if (document.getElementById(\"3b7d1898-835d-4268-9457-a487d3d976a6\")) {                    Plotly.newPlot(                        \"3b7d1898-835d-4268-9457-a487d3d976a6\",                        [{\"marker\":{\"color\":\"#378796\"},\"name\":\"Vote Prob\",\"opacity\":0.9,\"x\":[0.36354011769676103,0.2520963863422752,0.7635728151244189,0.3309183935811395,0.9325235485480358,0.2872113310520364,0.4819310612375443,0.4480687145391813,0.5237082636375239,0.7117972973161049,0.3601314790853354,0.47006027219019003,0.6615311584828961,0.8043267917861256,0.5800427198163844,0.6522522661958698,0.9541469307868699,0.7087235739508162,0.7260755965990778,0.7767262785300985,0.8584034511947787,0.8309610154520783,0.2925945918457964,0.1015579735021976,0.11837385119107746,0.1796432280172017,0.9245114103885776,0.7757132874967406,0.5118783310734697,0.9023592930548621,0.9127741301072527,0.8749060659401628,0.8452124587213737,0.9355011396242393,0.07738630725392845,0.5674649425341879,0.08330412948268302,0.16132807564239401,0.14244897764481754,0.022017407245968897,0.12329540634969764,0.09775710635085691,0.6926503047852743,0.07639250756986261,0.24236860732924043,0.3272896859351502,0.03451140372404527,0.10362829810672168,0.08915186787452468,0.07786310456193157,0.13114430275298403,0.053520663181488924,0.6365691525191702,0.08752176724864894,0.1847926492086362,0.09935628138325803,0.20744715787926618,0.0661687292859946,0.10787148007238569,0.06364199568572708,0.18539253256812807,0.03516733691379923,0.195659592390793,0.022166135079146835,0.06708950078969689,0.10410322220037475,0.05395830823347253,0.09965957474563936,0.6197536591283337,0.10946899324643138,0.07085861698922852,0.15162749121362398,0.12142027171128762,0.13810759105136144,0.6743637135239784,0.11855610813642499,0.13771705173821774,0.08788079727048353,0.04489945774848501,0.08360618105722349,0.09831993085187855,0.15353492399901617,0.09777476324777955,0.07945047721423591,0.15318412914854826,0.0563750928248603,0.1972856285206424,0.06529269214765385,0.2344977515697091,0.14751955089565189,0.03680861426477757,0.04619727556079323,0.06582133411168681,0.06738467033305562,0.08788079727048353,0.07979537892876389,0.08953324509974529,0.1152459975483613,0.05328275343749002,0.11732289216650828,0.11184517805173387,0.19284226863541887,0.08689824479525304,0.35884405074886555,0.09211881906858205,0.17486930366949383,0.14870427827405744,0.10898974754058827,0.029347273932425415,0.08847313244513334,0.15712902218259306,0.0821841658344927,0.18993538695817083,0.11781116071774403,0.20509207871501775,0.18823780200496787,0.20453204093491206,0.04766453890436352,0.18598369555657732,0.050518300769523065,0.06612224363700607,0.026664381989476613,0.27648195326863884,0.15686998914401956,0.13115044923696745,0.19592072309993508,0.04918601334848171,0.06099264995264383,0.061160455372422796,0.12070901988900574,0.09673564465431489,0.07700227018926087,0.07203826094933083,0.06198651095148045,0.07084419320372813,0.1017992803801889,0.08791254675837204,0.41410564429987523,0.07100508588748218,0.12828888441102743,0.10298643134047603,0.20606776224138165,0.06433565492349744,0.14917379399394867,0.18839101287589083,0.13180436222579525,0.11327130442883816,0.0158473292606915,0.20593964974715098,0.24064781202442306,0.11018211468559348,0.09043985563361973,0.5363142956686946,0.6205522381778537,0.06406929480478414,0.11759675439198494,0.034233555297850486,0.11557403088633153,0.15147286776877425,0.04153756588227037,0.11597132694095078,0.14829649328052627,0.1515010307976071,0.07478523567314667,0.13516683973840454,0.08560682423297586,0.15618464832467213,0.05913680760466642,0.11967178747345554,0.09992729321671204,0.17384029812640767,0.20353394852658976,0.11436589244906498,0.09641082360753483,0.09600525765640389,0.1652626638307887,0.10831868526631638,0.14058539982362261,0.12525435622226935,0.15133882137659868,0.4641879392701042,0.04112676149198358,0.15089701762686533,0.13349742883571505,0.4233702803476615,0.032985098031279324,0.15524738717593153,0.13307644566916368,0.18405813141754476,0.04220783523339122,0.11184517805173387,0.13390107273779653,0.11853321380712564,0.26293751222905726,0.12773906526882858,0.056663925312459694,0.08647987670945088,0.1778385100658316,0.04859040816990436,0.1323606553911977,0.18804852663193772,0.16876117871942367,0.18921231172565856,0.631299858262459,0.23863049476782885,0.08788079727048353,0.18714797274804343,0.0830217047425848,0.09062441220012167,0.11995038753610006,0.06662396417403134,0.2472877169683879,0.30254784155895786,0.13943073895392996,0.12927482529590567,0.11106558499242508,0.06883708637538337,0.23707378027553122,0.14603733339488958,0.5695002022896889,0.21892310132250745,0.0965225060280904,0.19015212199093953,0.25593197148783964,0.15752411178622494,0.044531644621751465,0.060160444439954386,0.1354829049328329,0.044144372872191515,0.16550297192817778,0.20642741217221694,0.17394640426367972,0.07884394530910506,0.10689556993203904,0.19146469218333634,0.11602654097122404,0.12388266677320593,0.4929763949791703,0.27437993243411873,0.14730496388331146,0.11765263929782664,0.1253133634114682,0.08960944951424249,0.27654583950169914,0.11739940403311228,0.22843839320793877,0.14699616467391075,0.1253133634114682,0.21658724995489018,0.14226496037745964,0.13580188552582892,0.17687415472210638,0.11132668322049012,0.440712251093262,0.15424390978423272,0.2779782316530674,0.17918016949108054,0.18450611018845192,0.16139107885949752,0.12142027171128762,0.21902282045649177,0.12609688247624443,0.188127202312904,0.09259008092134853,0.201344985712756,0.28160540641967435,0.13981278014424575,0.1086068589923229,0.13860622167180817,0.1865479958846423,0.24868030494210147,0.15814971120706528,0.09218061069643908,0.12492980367274746,0.1337031886427921,0.14941978373392287,0.31785278628333186,0.2042550951632077,0.201344985712756,0.18781850477035147,0.050551152346670264,0.13819553543515653,0.2258900941155967,0.27723540956934783,0.22275803008555659,0.17497590485479883,0.16880598144480996,0.1956180912319961,0.35243511042093467,0.25205864665433564,0.12337526876407826,0.17954234789819642,0.16883406982127683,0.1380713269438292,0.1528051504971391,0.1309289285744703,0.11602654097122404,0.10710975250762514,0.08687774491431054,0.08233347276995534,0.3881702612485381,0.15772082329312215,0.22364674060512033,0.3011970717822372,0.3780904454446465,0.2342273030246734,0.2564016525414367,0.1373723742439635,0.1729530294546465,0.2383212108601764,0.055864756528456724,0.10414882216008954,0.2110283302498569,0.229304356176854,0.16786395769289897,0.16289513623368426,0.15566492690428874,0.33987178868119666,0.1533137219120256,0.15099167935385494,0.2042550951632077,0.1315480741243347,0.3636474612175634,0.12003037909416096,0.13981278014424575,0.1648539809393451,0.19280122181585424,0.19280122181585424,0.13553903789727184,0.1900153329906833,0.03323585724124015,0.12271211784876881,0.1273219595445543,0.17918016949108054,0.08967086178523716,0.19814078047620406,0.17932763676174135,0.07378437897603185,0.17394640426367972,0.18561432413332551,0.11953415923196016,0.1663231373109766,0.11759675439198494,0.11216148586558577,0.15657780448371925,0.15657780448371925,0.15657780448371925,0.10689556993203904,0.17108481741998915,0.1450559890839946,0.07948986709631199,0.15514998527762563,0.1796872580426081,0.04425972460264477,0.11431476686142866,0.0669496781496473,0.11466808541915106,0.10382697026135859,0.08831636902630473,0.03119207455069304,0.044363124547635004,0.05779588251311384,0.0941990383560487,0.05492449816201275,0.8195503655822042,0.265436064704615,0.24826174185843747,0.26683213685137086,0.24491762586740126,0.12721816578542922,0.2383212108601764,0.3463747014278707,0.13525320536759888,0.13316168128718175,0.26122574620874095,0.1290607432756735,0.28822990252127617,0.16598485062829257,0.10734055143351007,0.15660674148458903,0.201344985712756,0.13981278014424575,0.1786681894032744,0.15389712306995135,0.13344377585073172,0.17918016949108054,0.22610044081200523,0.182209229549699,0.09369803536758338,0.1638421866788013,0.14121799228757778,0.04640209547859584,0.16139107885949752,0.14686539425715714,0.17887950293443836,0.12386141173252628,0.11038146629232018,0.13095386140821536,0.15657780448371925,0.26304187724806594,0.14957789111129915,0.1823558137480931,0.10021369925835713,0.20874298937990943,0.03707968027906655,0.09238514204346121,0.12412662549146025,0.12836890588012886,0.10896016258760984,0.1752997226704064,0.11285334219394808,0.06857040404993983,0.06630650472386394,0.32994060797965624,0.4898203081727502,0.27605760391252027,0.14389774629583754,0.0920724569796093,0.17816335211652998,0.2416040781306054,0.2416040781306054,0.1703933971939834,0.28772536400203497,0.14037976040230307,0.22237018423461566,0.1604554776623169,0.096045671932173,0.21927310083462107,0.33678279226343594,0.2071963535342122,0.14869862922051164,0.27295907229532906,0.14643439644537043,0.201344985712756,0.1984659969409979,0.22800499071658809,0.20837300331054887,0.09536777027281447,0.12933544648073808,0.09838543130517996,0.1360656710773086,0.1537613200839917,0.1663231373109766,0.1663231373109766,0.1258280637597725,0.06562248153270168,0.10862623963489754,0.10862623963489754,0.10862623963489754,0.19616058246070164,0.1450559890839946,0.09860223464676166,0.04425972460264477,0.08995239514272654,0.2307865909365177,0.13424705970931916,0.19023064874692433,0.08941045790640224,0.08652242406274835,0.06234796823622379,0.08406396741676683,0.058186369336292815,0.32597335369427627,0.8676386244449685,0.9173695288336763,0.18620809144868886,0.20385852371604457,0.24826174185843747,0.3696632237840862,0.31188806939027647,0.04163365883904916,0.22237018423461566,0.22237018423461566,0.17882134184973905,0.21620715941852445,0.15566492690428874,0.23795007372614438,0.2818487449171691,0.2071963535342122,0.2005922654254517,0.19772137506941667,0.1441988011148915,0.15864349209640327,0.19207276050756994,0.19337195187504297,0.13981278014424575,0.10666268924506707,0.1756563623023433,0.14286474403186514,0.12933544648073808,0.21255175562614417,0.17918016949108054,0.09999374573926928,0.16883406982127683,0.07017782655600724,0.2684867609422948,0.15421532954412942,0.14957789111129915,0.15453654676978917,0.13176950017451036,0.1959710362539013,0.07074504491269172,0.06615550053539362,0.10722481268449742,0.07706871192387076,0.02709579214997417,0.8221970925653386,0.19453009887397127,0.19453009887397127,0.8280389821140252,0.0783566290063792,0.16807459849703396,0.2516363018169009,0.18349581366716994,0.6120290485775631,0.22804355900280074,0.13718842652750937,0.21095110329308542,0.2383212108601764,0.2318479071517505,0.13316168128718175,0.22865763622518076,0.1290607432756735,0.06742771105353423,0.22237018423461566,0.06519889769880706,0.15566492690428874,0.17359584112931528,0.1533137219120256,0.21016877947559176,0.14869862922051164,0.23148378717908963,0.1441988011148915,0.23118888504274246,0.14199165867656838,0.057927314257804736,0.19862549577850572,0.07983096247099239,0.19280122181585424,0.20837300331054887,0.1872603603461084,0.14926756473477312,0.1313759814368042,0.1273219595445543,0.1482303484995053,0.22905321816852575,0.1339635295529663,0.09742696565647,0.25922719988985893,0.23577374376690574,0.09860223464676166,0.05763381198138816,0.08941045790640224,0.12412662549146025,0.11977026925011684,0.08511029425256801,0.12026533279538923,0.08999414087326245,0.032267222772271696,0.11650817825024858,0.08480530593926747,0.8696921685410334,0.34171626843967423,0.8676386244449685,0.34359718754228846,0.33366481154622113,0.24826174185843747,0.32754584876148163,0.24559569167710776,0.14389774629583754,0.19807786748511352,0.17554297619977322,0.22865763622518076,0.29866592198370595,0.22300426245743277,0.21847169125597088,0.2966485908829492,0.22237018423461566,0.23228641648991508,0.8241921807245158,0.2007851651598683,0.1533137219120256,0.3709240406690381,0.11554707635612987,0.1441988011148915,0.05992348432287951,0.14779109118582096,0.2623747950862915,0.1101419278634169,0.13981278014424575,0.1900153329906833,0.13553903789727184,0.11627959444986083,0.1784917925617224,0.24201503023129087,0.19558659544574272,0.18184286376427553,0.1406746645045923,0.12337526876407826,0.17137511682503145,0.12144162736624357,0.16883406982127683,0.201145101647892,0.15834395816408584,0.08632963761135527,0.6231276703530615,0.1450559890839946,0.2201102402680188,0.12809383957121276,0.17426871928262067,0.04650138056362524,0.05029302793939814,0.0856685462225822,0.13675902929400796,0.10999680779049306,0.09921979915996021,0.3881702612485381,0.40801013827277,0.9271656989593616,0.24096609393439947,0.1889511822433505,0.28293544137420706,0.18349581366716994,0.18081426462813427,0.18081426462813427,0.17816335211652998,0.28747898284579515,0.17359584112931528,0.2107774963032849,0.2005922654254517,0.1984659969409979,0.08424979315614355,0.13766197230068639,0.19280122181585424,0.13344377585073172,0.13344377585073172,0.05412088281198398,0.232461835325942,0.12933544648073808,0.2770747020673659,0.17654805117976108,0.17071048919317067,0.12729971965797607,0.1663231373109766,0.1638421866788013,0.1638421866788013,0.1638421866788013,0.04561207248387432,0.17239257520786752,0.11038146629232018,0.15421532954412942,0.10862623963489754,0.15188208108862022,0.1428379161702358,0.10021369925835713,0.17636734794155218,0.07689521675124524,0.13635294986717686,0.12180956201478733,0.03707968027906655,0.09900178707582198,0.09147920001083269,0.04591465496092753,0.04360622879676446,0.13202615408621113,0.10415168548943639,0.06411220480380471,0.09296778377365687,0.8451760346434639,0.12217955807278791,0.1071259627110547,0.2407828107815613,0.11837064853023015,0.23750760798319737,0.2342632091138126,0.33152282795663646,0.24826174185843747,0.39010770267950107,0.14106124396258948,0.22159519382401466,0.13951938950471734,0.26855851926926483,0.17554297619977322,0.19964055704194764,0.3463747014278707,0.22237018423461566,0.29290665587010223,0.2555053536615614,0.19772137506941667,0.2042550951632077,0.27104827132260306,0.1441988011148915,0.201344985712756,0.21586070063287907,0.30661659698782046,0.13553903789727184,0.30678002525302733,0.13344377585073172,0.10105904603076703,0.15517870695390826,0.1313759814368042,0.18184286376427553,0.12933544648073808,0.29320484786490814,0.17654805117976108,0.34688235089468306,0.17394640426367972,0.22905321816852575,0.21057437963776618,0.17758963928838734,0.14673984865147405,0.2460077199805636,0.19318150255468278,0.2403423418488077,0.19039141490830286,0.1450559890839946,0.18872424730739992,0.04184250275122314,0.11604707326909752,0.14151436742261025,0.216779835006107,0.18205100029775706,0.08234859811321557,0.16025600439347915,0.07706871192387076,0.10415168548943639,0.10824695350624647,0.07731403952829631,0.32261207112837526,0.8519212538992343,0.2850086300296575,0.30630354003244764,0.1387744914898938,0.31633936915546745,0.22159519382401466,0.22159519382401466,0.1416944489301014,0.13951938950471734,0.21850587124848753,0.2064602056254818,0.27658588974673987,0.3342524392572969,0.26944090276215193,0.19491296623117627,0.05043409074337175,0.26241353745077817,0.25894445839636077,0.32310210954063473,0.17589663449222706,0.17589663449222706,0.10607158968768506,0.23876471768433816,0.16820530171918158,0.7827461164927938,0.17238487936321636,0.14035332277207516,0.2656697543576358,0.21057437963776618,0.06212603206053978,0.256161035770513,0.1762508529669689,0.18819124889629543,0.18220640917418318,0.30546187820561893,0.07818269180263798,0.12560322335975513,0.07314861655097485,0.22631734084817623,0.0473150656048136,0.11604707326909752,0.06801934522931419,0.20521339296786623,0.8436908551820698,0.15690052584912687,0.06253098754088,0.10541926317440732,0.09881946337605965,0.20618482378040584,0.32575316166383794,0.24408872015797625,0.15534427871362444,0.2342632091138126,0.2342632091138126,0.1825659393444943,0.23104969981578252,0.31014155478485145,0.23104969981578252,0.22786715419615608,0.14389774629583754,0.31633936915546745,0.13951938950471734,0.21242069057076465,0.8328201304518502,0.12193889336265312,0.2983922165987508,0.27658588974673987,0.36057676297642033,0.2729987991091187,0.19491296623117627,0.11675658064777462,0.2520963863422752,0.24536945384818987,0.17852114645510408,0.15389712306995135,0.09901652042901388,0.16570185611406735,0.16322835831406549,0.142539229350218,0.15598611472175594,0.09470332095034709,0.20759772502584178,0.14900797995633966,0.08870787061388286,0.204652239763418,0.08921186488786559,0.22553258376120236,0.13455660932130198,0.130419175525121,0.11604707326909752,0.11421332153208162,0.04651025688351806,0.10886288498666018,0.16025600439347915,0.06045354215478463,0.09881946337605965,0.13877815930251342,0.1825406474378118,0.03652814617630717,0.051002804335954256,0.24408872015797625,0.31400589170147347,0.2521376988401812,0.30630354003244764,0.05978608581212291,0.30249219479482026,0.27270543639404504,0.2949508353026678,0.21850587124848753,0.13452752363257914,0.20352671455220311,0.20352671455220311,0.21972894633249918,0.17619336316957307,0.12052065292955996,0.2659124150780018,0.17852114645510408,0.24536945384818987,0.3162919862210667,0.23550845042628593,0.23550845042628593,0.10666268924506707,0.23228304114770967,0.10495961978895817,0.21969138407256228,0.21969138407256228,0.1815387173576751,0.19318150255468278,0.11811927140163203,0.18220640917418318,0.18220640917418318,0.07437841581369338,0.16666197566845442,0.20521339296786623,0.14401607083881474,0.08253329740171583,0.936915440155514,0.24408872015797625,0.2407828107815613,0.20976375297296299,0.2384380810863773,0.5123806956010172,0.33337427836028655,0.4279972480949952,0.43380423408912777,0.43416481804250673,0.20361401261949658,0.2838467309842598,0.2838467309842598,0.7491834640072789,0.29463750089677637,0.37191011055823925,0.28354044885184243,0.32808387798098204,0.1759746997275369,0.35525195155588307,0.34704970799586937,0.2621219176998328,0.23550845042628593,0.2552187545597433,0.10157623962312279,0.28771145336557563,0.14379961149773285,0.3074567820622502,0.204652239763418,0.22253181619675902,0.21943311688385858,0.19318150255468278,0.1256623712898984,0.08432191714312397,0.2669721095740291,0.17179872601358495,0.3581453058628516,0.10886288498666018,0.15433725455661063,0.14517191552697617,0.21570111573088419,0.4368327116348918,0.5123806956010172,0.8521739706115918,0.4235963133585842,0.4235963133585842,0.21448912695215286,0.43506493885282704,0.31756945942319087,0.269044044150959,0.36070091717587716,0.2702687517424822,0.4886442457078535,0.1364594148434429,0.36771514921397047,0.2762844197951043,0.2762844197951043,0.24881833325884803,0.24546916806534477,0.35525195155588307,0.2621219176998328,0.2586553418999795,0.3349159269125794,0.2484361809139391,0.2288224935040177,0.2288224935040177,0.2288224935040177,0.30363736804855873,0.22253181619675902,0.213329162332256,0.20149529518900391,0.07773568782520801,0.24554252445886246,0.1957651733775576,0.19015919839299422,0.2599862191538597,0.18467689385350228,0.2397515588437879,0.48894058091444514,0.1776941439793342,0.31801295731272333,0.5091040625536599,0.29828548778853736,0.3373865192006948,0.31756945942319087,0.5426666767289172,0.14516810721553877,0.3394357277006715,0.8177028834881448,0.27669363841279365,0.36250248151681874,0.29463750089677637,0.3460335495848335,0.36771514921397047,0.1776896598513472,0.36354011769676103,0.42859511377968007,0.2762844197951043,0.41542419796827157,0.31809885322391823,0.4394402026185075,0.5798150724245921,0.20593013072634941,0.3429820340809873,0.3349159269125794,0.5332782036292602,0.7478837325772577,0.24177534376486087,0.5399177355059464,0.22253181619675902,0.2696248857027628,0.2696248857027628,0.213329162332256,0.39876648100915363,0.3394845826748053,0.3394845826748053,0.28129676620290567,0.2389346047013127,0.5360505445147474,0.1884935907824452,0.10891513164341317,0.1777261611375182,0.18800471273605715,0.13664073926501108,0.3219273602812384,0.4686532032583978,0.12819824282825135,0.15942157366521217,0.9612539822260648,0.5001049123608824,0.40070793476135513,0.516302176696792,0.48752305009553404,0.4821122366765238,0.4821122366765238,0.5785971271095468,0.4821122366765238,0.3835475708919096,0.25699817716238327,0.36250248151681874,0.266017534725576,0.6805854259009432,0.26251776856823034,0.4659441257557362,0.23157959016995983,0.43743348093952267,0.42419259044621804,0.42571222351048216,0.33550886835553395,0.16828065047448995,0.31034152352105343,0.31034152352105343,0.427706054976454,0.6319193556807479,0.39374722847581484,0.6898827624549316,0.2989036438920671,0.7657571788657231,0.19160171015361593,0.38518717462391533,0.19256676520015553,0.6547007889970201,0.2786169882128803,0.5118783310734697,0.4368316476223181,0.1815387173576751,0.3516963565043241,0.13588859316438254,0.6460149165556636,0.6192622019200054,0.2522726155831328,0.3706516562147622,0.14046610840164808,0.5225975709143021,0.2795995520842183,0.37978234572808967,0.9503844854776783,0.6276547325415649,0.40503817193128977,0.37542541825360315,0.3064179620103073,0.28765187245976553,0.22168808481858743,0.3878123684996654,0.4821122366765238,0.3516466797446833,0.8008947947510973,0.5697954105175433,0.27310567791922696,0.7445162662154406,0.8480395026986065,0.3775848133578212,0.42859511377968007,0.31809885322391823,0.30845981670153566,0.31420721719430905,0.6402525277716793,0.31034152352105343,0.31034152352105343,0.3275308982061117,0.5985440561980877,0.3894586854752735,0.2638960492847543,0.37669758502567663,0.3724806475522528,0.3354600230135539,0.418620571604088,0.31570220633864143,0.5091117321353235,0.32508808025942176,0.24078123956634628,0.30185334331824454,0.1244509853678215,0.08534263332027033,0.7959684730363703,0.5136017903542965,0.7291802628998544,0.44368564774356906,0.6303062184478614,0.7533256917227271,0.4911056941972167,0.7110452538599685,0.4821122366765238,0.6218787180475437,0.4163417122476637,0.4502647998077913,0.3583530911724754,0.45076412556068596,0.6805854259009432,0.6805854259009432,0.8239012694920541,0.34197154806472296,0.723436851259209,0.15941746125348513,0.56107492071018,0.6763298507062051,0.6921997342085241,0.6525940515965185,0.3220160568718374,0.6485019802679763,0.5755550166283311,0.6883513907685855,0.5432725878626107,0.5432725878626107,0.9528581058963139,0.7337806733468146,0.5253590237406345,0.5532998256033311,0.28771145336557563,0.6064604273133006,0.3682830242413466,0.6021562294096225,0.6623018726849559,0.5935008747657837,0.3516963565043241,0.3792146074927195,0.4758986330647521,0.46245053665153757,0.45351418501050555,0.33463478730000523,0.7024504300399317,0.3755588791896531,0.7931214667399726,0.37930784004486523,0.2695529474483399,0.1755417322713259,0.17507919889866105,0.6510214840308708,0.7362306059353213,0.7327202010908935,0.746297484055881,0.9146413066704293,0.8112596081096328,0.5016595648665139,0.6641895147947232,0.8121280625723983,0.1989987202376677,0.7183853776547368,0.6303062184478614,0.7147295008910777,0.8899219692059532,0.7431542360555458,0.6998250804562095,0.6883601777174237,0.591828121233792,0.8618560261895021,0.5699203854612614,0.56107492071018,0.7382823941070358,0.32595844012255054,0.2977146636217939,0.6360961486417541,0.6975317856480542,0.529845357334441,0.6277226797035654,0.7372821440618083,0.5253590237406345,0.1833764583759415,0.07874907079636172,0.670306071619237,0.4124259257353181,0.4893817718696938,0.4893817718696938,0.5891509590443196,0.7300646411157554,0.5887860870944133,0.36646260760895033,0.45797898123210556,0.45351418501050555,0.0498350948190286,0.5238957381481001,0.4137499449243528,0.21494294349386034,0.15887289984454303,0.6510214840308708,0.7765115981421592,0.1476734345275376,0.9683333132397988,0.43836315346826676,0.20188349039332817,0.7678332269970851,0.2674442004049138,0.26393241411116425,0.5207697585669256,0.6133769449235907,0.7253108110418957,0.6090996349358517,0.24682269037028082,0.5961691209741827,0.6844857106606322,0.7769350441028311,0.7305814695670537,0.5655028676653623,0.6960215422840296,0.7708928091803389,0.5755550166283311,0.5477353635782427,0.4797806315587061,0.538802854623839,0.6360961486417541,0.8494044945542871,0.3894586854752735,0.615018833477199,0.4809007300647971,0.5118783310734697,0.6895220757848011,0.705027236910458,0.5672046114741919,0.5672046114741919,0.4669281406632445,0.6817629098743762,0.36241805902398694,0.43131613523054996,0.21386498202532897,0.3298448405837685,0.5446175672550667,0.13335165989716452,0.5865117095504672,0.5512100355405082,0.375079265847367,0.35024763774010415,0.19500229150856171,0.722012625192257,0.6303062184478614,0.6261020326801487,0.7359378092349451,0.3937995315204474,0.9031747289386011,0.21113104316305042,0.08257175378620009,0.2499015657160711,0.6655497738150745,0.6566637053878612,0.6485019802679763,0.5521904767914589,0.6723770025004561,0.07229832713038627,0.408210436099156,0.5909330302921874,0.5432725878626107,0.275141933919852,0.5253590237406345,0.619271859415317,0.619271859415317,0.5163747867617464,0.21767835663435653,0.5776580494171151,0.5073799522184704,0.5028803780946249,0.4983803373739822,0.6846874885865463,0.49388055903088784,0.5847870602486782,0.5804098211443179,0.47141107877587773,0.659393930481042,0.73359724277609,0.5672046114741919,0.6335709045759917,0.6396889487108778,0.24447202864986525,0.4815102870064854,0.3304332645872778,0.5315710743502995,0.5671945562991744,0.20097473903346785,0.4093906579185488,0.5440726677036901,0.4956126188497615,0.7362306059353213,0.7563852677073718,0.7291802628998544,0.8140003405530961,0.43836315346826676,0.7870216117215388,0.3835475708919096,0.42072228986747484,0.6176368324939989,0.6133769449235907,0.7035927513593712,0.7730135215495353,0.6004951179046544,0.6229333160500158,0.5455789905601485,0.6266734490693083,0.7407538321537612,0.5343268732984118,0.13674739336899577,0.6118567317434765,0.5709218634783688,0.8222891923480158,0.34760321382262266,0.5483401485201463,0.4758986330647521,0.73359724277609,0.6528058796797589,0.7644791610147592,0.608155374573334,0.3905773354078811,0.4137499449243528,0.15772490014993074,0.40504556733896324,0.26867033196657697,0.3583601476009868,0.6695696952412445,0.8601450926684363,0.7604069785078573,0.6366107522199851,0.9015227270960814,0.7810121124304392,0.8558208946032252,0.9101090366682352,0.7716362132393342,0.8690921555464608,0.9005550671995416,0.9307126245562128,0.827285262870217,0.8843471168177471,0.8926039560553063,0.9079370439148129,0.8346574457372041,0.7383808965746048,0.49388055903088784,0.8468687982289476,0.8789683780289532,0.8301154060389051,0.6672035704986904,0.4225085401622638,0.826297374022866,0.634497845630017,0.5150185261628433,0.5831110969656191,0.9230312899551719,0.9230312899551719,0.8236941384238391,0.9497741214011789,0.9163887499396433,0.8157144644335522,0.9149991811205116,0.7989229140251718,0.2601601383523464,0.8537738188011091,0.9031092762002606,0.7930773145980816,0.8982800871579155,0.24321415423653403,0.16184437973276636,0.3418239265147858,0.8323687441458468,0.8194324940664216,0.9246789027541574,0.7520492024745572,0.7651125687275101,0.8085330064733205,0.8667188127830995,0.9154199177983696,0.7096258643785386,0.5862962134655305,0.8612129059304854,0.8220425336392237,0.8992051288400156,0.35688990861556,0.6218859342878754,0.6774855160451273,0.8129931871662814,0.878575401036087,0.9121570528683849,0.8102410737836889,0.9092293211881288,0.893686648844458,0.8706825258615033,0.8560067715864572,0.906214043507797,0.8949431167672237,0.7779179115607953,0.8513215743389182,0.5126661746396272,0.8590739205101007,0.576942038878554,0.7728933627770344,0.39928228175525915,0.7452753890400016,0.8078062960873019,0.8748188302796699,0.8085330064733205,0.9181659482786615,0.7348888042074143,0.7348888042074143,0.7933701872098831,0.8902209853152286,0.8054949090069311,0.6545548712972791,0.8675423811915588,0.768847413939644,0.6907367873056144,0.7849916732297237,0.7778729795411402,0.6631947705003104,0.6591623495953732,0.8451416549743297,0.8385360041485591,0.5961765092570939,0.9287488542444383,0.8313997043618552,0.9230312899551719,0.8896342060863679,0.9204343734975782,0.8236941384238391,0.8313077181414512,0.9163887499396433,0.8746821903815047,0.9158787158020273,0.906214043507797,0.8850984846212423,0.796015687664146,0.8580277855856546,0.8932386573677574,0.9286182190154184,0.7619812251919956,0.6333646028704584,0.9234155969772551,0.8298138268076364,0.9049695658347394,0.8501296431468185,0.8968496130801172,0.9226446025625442,0.8625049403350897,0.7096258643785386,0.8537413485852798,0.779112673319152,0.8445905665256106,0.6907367873056144,0.8421416439524616,0.8421416439524616,0.6170672881593371,0.6633150313914343,0.8051440605703606,0.6551067573840748,0.6261092167795712,0.6176440799146081,0.5338609142528564,0.6048128275633934,0.9217426887063938,0.9393297180185418,0.919106105295244,0.8916729583341478,0.8074580506174801,0.9107040088044795,0.8415788612512493,0.9015227270960814,0.9206523494654288,0.7747925977285408,0.5521904767914589,0.8685350754113572,0.8843471168177471,0.8321583364464522,0.8708228827259299,0.8687844692788885,0.7313670576248671,0.8581796402635663,0.7997924885537464,0.5687305412248868,0.8445198783373674,0.7827810633272264,0.7183915861388067,0.5293788636469192,0.788222432885044,0.8313997043618552,0.9275484622220295,0.9392725696885587,0.8896342060863679,0.722012625192257,0.8210648462543427,0.9163887499396433,0.8157144644335522,0.9443645619869524,0.8537738188011091,0.9257872720495262,0.8685058721084346,0.8932386573677574,0.8903126978356753,0.9536601123221882,0.8843471168177471,0.7993148713360291,0.8806138167269268,0.9234155969772551,0.8579133868440509,0.8872508803682911,0.7242354085521022,0.7169876929385044,0.6423685259667863,0.6983739556978305,0.6868784270257496,0.6711883128495179,0.8298053690534749,0.8541449387994715,0.6218859342878754,0.9299308603352645,0.9238346317080669,0.917757644282991,0.504228087704386,0.8531305243367964,0.9294131663565026,0.906214043507797,0.796015687664146,0.864479662311887,0.9015227270960814,0.7840751688496433,0.7810121124304392,0.7273318900511443,0.888978599518975,0.9125363565817508,0.5900648704787251,0.9096200141708897,0.7587012041707383,0.976717178491387,0.8488756028904412,0.8767767967716364,0.7383808965746048,0.7278158552725355,0.9140157583563971,0.7242354085521022,0.7624237788569669,0.6901293463364446,0.8491885687858933,0.9178872019315498,0.8243442258422817,0.9189457173131365,0.6913632327507513,0.6428056390234748,0.9068633247433585,0.6091069417617251,0.7989278439383736,0.6192033055133767,0.919106105295244,0.9835045944458379,0.9107040088044795,0.8183074608968353,0.6369699801306424,0.7989229140251718,0.9404583141875847,0.796015687664146,0.7840751688496433,0.8266431512106086,0.5582748767464853,0.8558208946032252,0.7504231096631897,0.6960215422840296,0.7652304567605215,0.7652304567605215,0.8321583364464522,0.8787083846282405,0.7486774560637957,0.7452753890400016,0.7348888042074143,0.9530994885351284,0.8667188127830995,0.846585105972634,0.8049647336822209,0.8625049403350897,0.8026592316427752,0.7451993795304406,0.8537413485852798,0.8537413485852798,0.12765345232506703,0.9020030252458638,0.30797692577536645,0.8630664553209222,0.4691888574393708,0.5610824783507868,0.8896342060863679,0.9263294509598169,0.8210648462543427,0.2248094562857543,0.8554527825113515,0.9136311940183193,0.9163887499396433,0.8102410737836889,0.942790261344585,0.9046729674839388,0.8318170285918439,0.8999130779818862,0.8966235135363657,0.9180172205924007,0.8861754417271273,0.9234155969772551,0.8105854664574703,0.9477624371134968,0.5073799522184704,0.7206259419137335,0.9098941849729933,0.7688829871570553,0.8680258664279414,0.939134902055194,0.5055566730603598,0.791005499122448,0.6907367873056144,0.7696333274119973,0.9275484622220295,0.39639314832337574,0.9480287013134001,0.8129931871662814,0.9107040088044795,0.9258764738420195,0.8999130779818862,0.860206414357066,0.3379325896021009,0.6030607025313104,0.8133641246614493,0.8760024378235499,0.9454805730844226,0.8167537859470477,0.9019430132980193,0.8679674483313214,0.9160161844997448,0.8296291641027298,0.7348888042074143,0.6810725066379572,0.6344059989469383,0.8559747135642309,0.9285834911287368,0.3394845826748053,0.8491885687858933,0.3225056209841735,0.9104870392207456,0.7212255184417337,0.824660527496219,0.8220425336392237,0.6551067573840748,0.7827810633272264,0.9008249088024491,0.9699479654320491,0.8313997043618552,0.8313997043618552,0.9193037139738102,0.9449319961386003,0.9361782363301446,0.39209442526581056,0.852358794672838,0.8157144644335522,0.9032137508827672,0.9092293211881288,0.8519748119557968,0.6844857106606322,0.33539521004654455,0.2567104809525123,0.9219186332523752,0.7871070599499803,0.5985940745885605,0.8861754417271273,0.8830812419228472,0.887316496316808,0.7452753890400016,0.8767767967716364,0.0642894040516751,0.834566883233638,0.8667188127830995,0.8919677954567719,0.8884494627204107,0.8581796402635663,0.9020030252458638,0.8445198783373674,0.8163874162354474,0.7912477896441086,0.09478346766957597,0.8867211869781214,0.6591623495953732,0.7858261619899557,0.08733793744615566,0.7317679268117,0.8860495833174686,0.8210648462543427,0.8184049874908879,0.9149991811205116,0.7196417457941083,0.8804826380925646,0.7880621099575267,0.9077327470886768,0.5609493555384737,0.8560067715864572,0.9373615474437398,0.6201619663399756,0.15941746125348513,0.8654857091163588,0.887978524391502,0.9166363491655798,0.7016411975080729,0.9011933906252754,0.8080926540424314,0.8600934848717713,0.7302496096449003,0.8748188302796699,0.7313670576248671,0.80289786063333,0.9550150132068685,0.9320827899423619,0.4848847040527005,0.9098205473796585,0.05520501142177144,0.6167002171110456,0.8737286877025946,0.7183915861388067,0.8058471014204112,0.6837392282900598,0.6960367012662763,0.771285998234888,0.8576643709285768,0.9163887499396433,0.7645120125986027,0.8577066360676272,0.9036053184401502,0.7901077752798459,0.3063937708174641,0.8949431167672237,0.7747925977285408,0.48849988862590077,0.5944117713856834,0.6571155347190113,0.9034102203350082,0.7383808965746048,0.821860017065589,0.7059028262063886,0.6983739556978305,0.784031136727141,0.8388385365819379,0.25939785708869956,0.8074628217011466,0.9666348923309691,0.8184049874908879,0.9212625078054886,0.9493819213146248,0.9252946623430545,0.7930773145980816,0.9031092762002606,0.7779179115607953,0.977521960390736,0.7619812251919956,0.7486774560637957,0.7452753890400016,0.5208685926304061,0.967945326469219,0.7383808965746048,0.550386080170583,0.781317353060845,0.8680258664279414,0.8918224731404892,0.7021520886125334,0.6945687449616009,0.4695938412879477,0.6510284561981158,0.8259761833446213,0.9694188140166579,0.8724028700822685,0.917757644282991,0.8184049874908879,0.95261218887655,0.9328747510648763,0.801799022800245,0.9246316168896812,0.9015227270960814,0.860206414357066,0.8266431512106086,0.7899989510767388,0.9193617994992304,0.8897565978859827,0.8419757786998798,0.7553904928976142,0.870016655115055,0.9486464620181466,0.7383808965746048,0.9181659482786615,0.8687844692788885,0.7242354085521022,0.9376814296190322,0.8625049403350897,0.9111439411155026,0.5235397997710008,0.8559747135642309,0.6113284754903335,0.8609251928496748,0.7629631578143404,0.8710748208702415,0.9512264205585003,0.6427985927098048,0.917757644282991,0.8823639289546876,0.9149991811205116,0.8157144644335522,0.8509439755128174,0.8843695240528258,0.876641992701519,0.8074580506174801,0.8046440524622327,0.36667246173379087,0.8932386573677574,0.8513215743389182,0.891509896855677,0.7684488114105872,0.7652304567605215,0.9066163818242767,0.8371266271569984,0.9048833293209149,0.8703053783468667,0.9477624371134968,0.6623018726849559,0.9637967110152493,0.7782262404232813,0.7133209124105389,0.5190479138597185,0.6868784270257496,0.8954517838385538,0.8745507207458897,0.7533390057508698,0.6303133694646464,0.8877639563596798,0.9795396257043909,0.9204343734975782,0.8184049874908879,0.8184049874908879,0.8157144644335522,0.945302771094114,0.902481990688908,0.9305849756532002,0.9046729674839388,0.8982800871579155,0.9278778642008473,0.8366028762307555,0.7652304567605215,0.7651125687275101,0.870016655115055,0.6522522661958698,0.7486774560637957,0.8767767967716364,0.7519268412745124,0.9569359763617923,0.8470236433560908,0.66016193041579,0.843578974735868,0.8445198783373674,0.6672035704986904,0.8731929949273631,0.8528602681486557,0.7566609972110026,0.6303133694646464,0.6261092167795712,0.7107417937030709,0.9423351668352261,0.9287488542444383,0.8184049874908879,0.9121570528683849,0.9563591679771701,0.7901077752798459,0.7779179115607953,0.7869970993700991,0.5944117713856834,0.9259230412589398,0.7993148713360291,0.9204556640056207,0.6291747352135415,0.8748188302796699,0.939637968296431,0.7278158552725355,0.797138476414715,0.7059028262063886,0.9278491538892926,0.7939656494999071,0.9315213465262111,0.43131613523054996,0.824660527496219,0.7827810633272264,0.9578909264310805,0.6091069417617251,0.788222432885044,0.9217426887063938,0.6735399689260189,0.5177209976504449,0.9149991811205116,0.9040547300343355,0.8074580506174801,0.8074580506174801,0.9586081877386301,0.7871070599499803,0.792969626603645,0.8732448310928514,0.7716362132393342,0.5284301338825786,0.7563376528057457,0.9777583274410035,0.9765531705981008,0.9740995948213783,0.7418431491349905,0.8667188127830995,0.751974541580677,0.8581796402635663,0.8923894044774574,0.9401557129968319,0.7283967260402648,0.8468687982289476,0.8506379108224825,0.7819380022754125,0.7821879102655332,0.7101287315769751,0.6386621100125468,0.7183915861388067,0.8093709378058187,0.9612712563993321,0.9163887499396433,0.8708521344041233,0.9163887499396433,0.941063102342694,0.9107040088044795,0.9107040088044795,0.8074580506174801,0.914481461555415,0.7861536812951105,0.752878499829099,0.7871070599499803,0.9147106500007254,0.9153673512481381,0.9709310927583843,0.7716362132393342,0.8861754417271273,0.8246981281574476,0.9066163818242767,0.9314417490766425,0.6416836082631403,0.672699914964374,0.8167537859470477,0.8145982295262322,0.9181659482786615,0.846585105972634,0.9082173194526746,0.9440806326185056,0.7242354085521022,0.9310178650487828,0.5325114355848968,0.8700743022555496,0.7096258643785386,0.47141107877587773,0.7939656494999071,0.8269354874590338,0.765632909812443,0.877148404087733,0.4830629931711037,0.8489954429922355,0.803442319061842,0.8053477831901232,0.8381049490603276,0.8451416549743297,0.9515101916396936,0.3682153834918221,0.972590053071039,0.7035927513593712,0.26298397029473713,0.9571042935833659,0.6411220096026589,0.6048054925480524,0.801799022800245,0.6922084611700363,0.951292581558486,0.7448115833945177,0.7871070599499803,0.16430102319686093,0.8664365040619086,0.8535855523852193,0.9109836886990089,0.7755746225096086,0.1388862133739092,0.9239781440595235,0.877389348166423,0.7418431491349905,0.8987126576175328,0.8616550457904693,0.9576716894057017,0.8551579418966145,0.848908407409004,0.8919677954567719,0.8866529926382938,0.6545548712972791,0.17520976713270894,0.6652687112535361,0.49716719514947183,0.5471380415879769,0.7960206706568018,0.8544170555258513,0.7409068244493499,0.888812415462867,0.9205077494096661,0.8775827675718657,0.3751982892645117,0.6576668083556304,0.8575842597618881,0.8964207234023288,0.8519748119557968,0.9181554069775767,0.874551195257425,0.9098175414977165,0.678018788615395,0.9439911642958654,0.8932899945761595,0.6701096831781882,0.5258690953658494,0.654002568519374,0.9300637556105106,0.8591390954448407,0.9094306349463016,0.8808555574241471,0.9351009082460703,0.6416836082631403,0.9049296630459897,0.7343347306061176,0.3399670618172859,0.7134216141790558,0.8730894878446319,0.7349936950163531,0.9088069697212898,0.8323128757566519,0.42630927618586695,0.793412108057807,0.8751448218687364,0.7528105221933856,0.17765166377497896,0.7338427240857611,0.5151628271293631,0.6758018421251039,0.7409068244493499,0.901305743524892,0.7409068244493499,0.9688806443169323,0.7221206841090482,0.8682267731384797,0.9238346317080669,0.7268473872612478,0.8640831362940172,0.8258381262114538,0.973941620573179,0.8173183956773431,0.8183454808900447,0.9582058444890357,0.8898094029228846,0.869798033240157,0.8999361097491891,0.9110889751585265,0.931830247467434,0.9064670183193577,0.576942038878554,0.8468506048041258,0.7016411975080729,0.913801404503675,0.9094960278604729,0.6863530401105513,0.8418167782570601,0.7485539872700441,0.9064430461625792,0.888274622754324,0.9230235033112141,0.7755674928874,0.8320271733285256,0.8448218255329591,0.6749259842430797,0.546532978145719,0.49716719514947183,0.560481079525428,0.7202395391093476,0.5656427042894695,0.9132337882817175,0.8641301476925156,0.9280103914241061,0.9371863415607575,0.7914037941355868,0.8576643709285768,0.9350334004295064,0.853212711985848,0.9561024648126578,0.9570631226893659,0.9415554012420174,0.9369679355262995,0.9244710806766805,0.9232045787380162,0.9212933031323877,0.8266431512106086,0.9745063001408085,0.8240484438376523,0.8133641246614493,0.878765760547898,0.8915346292744439,0.8454515841460997,0.796411867880997,0.9374186968873552,0.9283717668719199,0.9583035180295073,0.876804423755811,0.876804423755811,0.7843773187066877,0.9721905732689046,0.8603870402846038,0.883917208939134,0.915211456777649,0.7908833672201439,0.9557174842733818,0.7064094734209426,0.7026624756242662,0.7026624756242662,0.49716719514947183,0.8556329327626856,0.961764654627341,0.4917706939589025,0.9409259434207254,0.9361183213475577,0.9078327451897473,0.9339313544101173,0.9252253460952897,0.8463197929324264,0.829207525657745,0.888097292585938,0.9206130061662767,0.8751144006380293,0.7868290248884989,0.916575642202246,0.882617133302149,0.8160812252486066,0.821327030483327,0.9123524993503487,0.6499181879259548,0.947821545322807,0.8050275792386623,0.9413099131067648,0.9587349987548234,0.8915346292744439,0.6100301026713604,0.7260887208736586,0.9222593790492061,0.8968496130801172,0.7933701872098831,0.5840537270944817,0.8951724618954898,0.891745830297282,0.8748468335841193,0.889995873750339,0.8887840515847601,0.7624237788569669,0.30702137827543474,0.8893442821829147,0.8965064424657723,0.9196888321931335,0.7353642367081301,0.5332873219203099,0.5739823833079187,0.803827629915912,0.8876996676586548,0.8682267731384797,0.853212711985848,0.9780556160633262,0.8509439755128174,0.8383960890291678,0.930520199496591,0.9239704518352224,0.9443889303659819,0.829207525657745,0.9909851616308276,0.8133641246614493,0.9123524993503487,0.8966472153524481,0.9630574827075287,0.8689205835448702,0.9363989353486876,0.8843732703483123,0.8825198353649022,0.6122255246210117,0.9308699146598819,0.9312824465960701,0.7624237788569669,0.8845966107733593,0.8429569395497529,0.8954757229868906,0.8272846448828404,0.6950864836434701,0.9412938483591118,0.9402912185080885,0.8983426312877896,0.969708273086234,0.9371863415607575,0.853212711985848,0.8509439755128174,0.9577967593428828,0.9316749820083071,0.9293473797218335,0.8415788612512493,0.9150190691386297,0.8950553735872423,0.9670609953029902,0.9244710806766805,0.9424677034305661,0.9513395767929775,0.9552763999128924,0.974949696659284,0.9206130061662767,0.8266431512106086,0.9721722171358319,0.9487046240682049,0.7993148713360291,0.796411867880997,0.793477721114505,0.8880039607211311,0.7349936950163531,0.7875159239727572,0.9685132952668464,0.957578300407499,0.7656688269511954,0.9716997572043242,0.8688136200544876,0.8864214980601169,0.905290779729696,0.8317052896323606,0.9164435453937068,0.7457386394871451,0.6198473762588015,0.8053791610905747,0.8276280183599152,0.7972895463285727,0.8756035215953591,0.8756035215953591,0.558948597006023,0.6912581342247026,0.8242023193980585,0.6677455064042187,0.7856522472130401,0.8662297323540683,0.9757018654797993,0.9636489209598276,0.43796286384269956,0.9677846500015492,0.9346289866505529,0.9385119634561202,0.9811124421038585,0.9745063001408085,0.9667135513689732,0.9109023724536066,0.9574894140289683,0.9821708004886649,0.9146722201229792,0.8021867618803343,0.7100688780724562,0.9624117065290254,0.9460121275225575,0.9559996901317254,0.9617550901061807,0.9696310960310468,0.9690965429944426,0.8642718995771055,0.9088823762013938,0.9685528859219185,0.9536714126747556,0.6081045781351497,0.9731475178422718,0.9668241968438752,0.9553296519989192,0.1620867430760528,0.9656498616682517,0.9327356771943789,0.8994751515018526,0.8893442821829147,0.9209014939764827,0.9303807279911973,0.8103285631333194,0.8532165553970651,0.9039704154756381,0.46022615401885997,0.9428955361969837,0.9642742305212579,0.9399174312657326,0.9734742633288191,0.9786161340737614,0.9346289866505529,0.9039018444461209,0.9715502792975383,0.9654626241637873,0.9648573570363445,0.9694911170390064,0.9843957246141256,0.9661294376376582,0.9584512745327081,0.09436530616083492,0.9123524993503487,0.9782506313294542,0.9636925828401629,0.9160666437004739,0.97800305648708,0.9146722201229792,0.9503976107198424,0.9685528859219185,0.9681132553507451,0.9590168683520833,0.9674376808484456,0.9740724113865799,0.8010267201996046,0.9644800171906197,0.9475289355345892,0.9638128942375864,0.9061106054774717,0.9401700999021252,0.7566685390032996,0.8649112442037872,0.8775782360058454,0.9016314480346843,0.8074628217011466,0.14981514827959105,0.9520545920096722,0.7844882613700687,0.9745231569828697,0.9290581395162756,0.9394168479452839,0.9665150818724317,0.9344551309274639,0.9596702866237917,0.9648573570363445,0.9130314175095355,0.38682108423576705,0.9468769118806537,0.9694400146757415,0.9269663875415403,0.9241494762562262,0.9656915681493319,0.9471021772400121,0.9000233789319008,0.9768394238599688,0.974949696659284,0.950269019956447,0.9711815449528334,0.9422144794558315,0.3825603755974724,0.9662843040910757,0.953451678545504,0.8418508295661777,0.9879305457071031,0.7542025097285523,0.9011495283086851,0.9477750969020674,0.35739314727834703,0.9644283466060934,0.931537658025467,0.9606809597454985,0.981948619365705,0.9597185275487451,0.9701130186962565,0.9336471409169367,0.95629023483846,0.9060307078465544,0.826647548960426,0.9842482995898243,0.983295755171355,0.9325484633770059,0.8123572590639225,0.9298878161494587,0.9783513178909187,0.9468769118806537,0.8945478999069653,0.9302224082849018,0.9612644628270814,0.47889874370460245,0.9666348923309691,0.9158787158020273,0.4034441224278529,0.9758140595809279,0.9797765917482415,0.9839898992980477,0.9574894140289683,0.08985035474386024,0.9336471409169367,0.9274679677855702,0.9450366361448289,0.959385064378551,0.9657797571967411,0.9391497656534193,0.5990607907837698,0.9110889751585265,0.9589308669352006,0.9439651194854282,0.9655439483406717,0.9853617780319711,0.9369151845215236,0.8978959915305827,0.9717481967498304,0.21147123681637958,0.9771766285246527,0.9581182154965954,0.9661211211518531,0.9813136611942791,0.9711815449528334,0.9797360184673248,0.9265368919009456,0.9679286157829958,0.44239743250985003,0.9401700999021252,0.9750257929334474,0.9626707560116445,0.4121379250821651,0.9682582232456926,0.9476541078168523,0.9749128600668231,0.9632691018834297,0.39109918815070127,0.9379707649787257,0.965214748337616,0.5774550916488317,0.9163310706326836,0.9496454674385848,0.9718091840421742,0.9694186857951276,0.9766706134027786,0.9941661801155487,0.9837039488705317,0.9870911328521288,0.6648767482493899,0.9944043860763332,0.9858300904089753,0.995763428498368,0.9939118407992539,0.984824837801337,0.2505617048554479,0.5649706002106463,0.9951759551787119,0.9949865476324736,0.9943576220649251,0.9863517981023234,0.9921975488887858,0.9794955970546064,0.9917102738263663,0.9945317023284143,0.9844150637319619,0.68797377971171,0.9933719104078984,0.9920397126919681,0.7210868827032731,0.9654754706349824,0.991139887043671,0.9650770480096976,0.993856731502803,0.9950887649542915,0.9942557265867015,0.983123321902724,0.9888030131298432,0.9953652832708988,0.40028401761818966,0.9895979243051308,0.5047738666360554,0.9932057365611592,0.9933422995910711,0.9919420580633534,0.9609285020886731,0.993953625724963,0.9467680752632096,0.9843460690002784,0.9886890047629548,0.8496167267869954,0.9907958483996427,0.9906302370938425,0.9936047828576982,0.9943309239984848,0.5170457179176732,0.6505302207711885,0.78229885913898,0.9947355025541028,0.9939389339783183,0.9936731155943431,0.9895727599130945,0.9779899629119534,0.9916184188918598,0.9922153451183329,0.9934718821038584,0.9875419077610226,0.9938442290702152,0.9845490420532655,0.14711328437062984,0.9925687476758346,0.972590053071039,0.9882321557981576,0.9766493119103494,0.9540634752781038,0.9942557265867015,0.9692551995962624,0.9840317626919816,0.9665559140342765,0.9786671704154467,0.9056141183042561,0.965747473227881,0.9605097190456554,0.9544602439171096,0.9419043442182591,0.34291554320004086,0.7875569260776165,0.47198191942102835,0.9044869367957549],\"type\":\"histogram\",\"nbinsx\":100}],                        {\"template\":{\"data\":{\"histogram2dcontour\":[{\"type\":\"histogram2dcontour\",\"colorbar\":{\"outlinewidth\":0,\"ticks\":\"\"},\"colorscale\":[[0.0,\"#0d0887\"],[0.1111111111111111,\"#46039f\"],[0.2222222222222222,\"#7201a8\"],[0.3333333333333333,\"#9c179e\"],[0.4444444444444444,\"#bd3786\"],[0.5555555555555556,\"#d8576b\"],[0.6666666666666666,\"#ed7953\"],[0.7777777777777778,\"#fb9f3a\"],[0.8888888888888888,\"#fdca26\"],[1.0,\"#f0f921\"]]}],\"choropleth\":[{\"type\":\"choropleth\",\"colorbar\":{\"outlinewidth\":0,\"ticks\":\"\"}}],\"histogram2d\":[{\"type\":\"histogram2d\",\"colorbar\":{\"outlinewidth\":0,\"ticks\":\"\"},\"colorscale\":[[0.0,\"#0d0887\"],[0.1111111111111111,\"#46039f\"],[0.2222222222222222,\"#7201a8\"],[0.3333333333333333,\"#9c179e\"],[0.4444444444444444,\"#bd3786\"],[0.5555555555555556,\"#d8576b\"],[0.6666666666666666,\"#ed7953\"],[0.7777777777777778,\"#fb9f3a\"],[0.8888888888888888,\"#fdca26\"],[1.0,\"#f0f921\"]]}],\"heatmap\":[{\"type\":\"heatmap\",\"colorbar\":{\"outlinewidth\":0,\"ticks\":\"\"},\"colorscale\":[[0.0,\"#0d0887\"],[0.1111111111111111,\"#46039f\"],[0.2222222222222222,\"#7201a8\"],[0.3333333333333333,\"#9c179e\"],[0.4444444444444444,\"#bd3786\"],[0.5555555555555556,\"#d8576b\"],[0.6666666666666666,\"#ed7953\"],[0.7777777777777778,\"#fb9f3a\"],[0.8888888888888888,\"#fdca26\"],[1.0,\"#f0f921\"]]}],\"heatmapgl\":[{\"type\":\"heatmapgl\",\"colorbar\":{\"outlinewidth\":0,\"ticks\":\"\"},\"colorscale\":[[0.0,\"#0d0887\"],[0.1111111111111111,\"#46039f\"],[0.2222222222222222,\"#7201a8\"],[0.3333333333333333,\"#9c179e\"],[0.4444444444444444,\"#bd3786\"],[0.5555555555555556,\"#d8576b\"],[0.6666666666666666,\"#ed7953\"],[0.7777777777777778,\"#fb9f3a\"],[0.8888888888888888,\"#fdca26\"],[1.0,\"#f0f921\"]]}],\"contourcarpet\":[{\"type\":\"contourcarpet\",\"colorbar\":{\"outlinewidth\":0,\"ticks\":\"\"}}],\"contour\":[{\"type\":\"contour\",\"colorbar\":{\"outlinewidth\":0,\"ticks\":\"\"},\"colorscale\":[[0.0,\"#0d0887\"],[0.1111111111111111,\"#46039f\"],[0.2222222222222222,\"#7201a8\"],[0.3333333333333333,\"#9c179e\"],[0.4444444444444444,\"#bd3786\"],[0.5555555555555556,\"#d8576b\"],[0.6666666666666666,\"#ed7953\"],[0.7777777777777778,\"#fb9f3a\"],[0.8888888888888888,\"#fdca26\"],[1.0,\"#f0f921\"]]}],\"surface\":[{\"type\":\"surface\",\"colorbar\":{\"outlinewidth\":0,\"ticks\":\"\"},\"colorscale\":[[0.0,\"#0d0887\"],[0.1111111111111111,\"#46039f\"],[0.2222222222222222,\"#7201a8\"],[0.3333333333333333,\"#9c179e\"],[0.4444444444444444,\"#bd3786\"],[0.5555555555555556,\"#d8576b\"],[0.6666666666666666,\"#ed7953\"],[0.7777777777777778,\"#fb9f3a\"],[0.8888888888888888,\"#fdca26\"],[1.0,\"#f0f921\"]]}],\"mesh3d\":[{\"type\":\"mesh3d\",\"colorbar\":{\"outlinewidth\":0,\"ticks\":\"\"}}],\"scatter\":[{\"fillpattern\":{\"fillmode\":\"overlay\",\"size\":10,\"solidity\":0.2},\"type\":\"scatter\"}],\"parcoords\":[{\"type\":\"parcoords\",\"line\":{\"colorbar\":{\"outlinewidth\":0,\"ticks\":\"\"}}}],\"scatterpolargl\":[{\"type\":\"scatterpolargl\",\"marker\":{\"colorbar\":{\"outlinewidth\":0,\"ticks\":\"\"}}}],\"bar\":[{\"error_x\":{\"color\":\"#2a3f5f\"},\"error_y\":{\"color\":\"#2a3f5f\"},\"marker\":{\"line\":{\"color\":\"#E5ECF6\",\"width\":0.5},\"pattern\":{\"fillmode\":\"overlay\",\"size\":10,\"solidity\":0.2}},\"type\":\"bar\"}],\"scattergeo\":[{\"type\":\"scattergeo\",\"marker\":{\"colorbar\":{\"outlinewidth\":0,\"ticks\":\"\"}}}],\"scatterpolar\":[{\"type\":\"scatterpolar\",\"marker\":{\"colorbar\":{\"outlinewidth\":0,\"ticks\":\"\"}}}],\"histogram\":[{\"marker\":{\"pattern\":{\"fillmode\":\"overlay\",\"size\":10,\"solidity\":0.2}},\"type\":\"histogram\"}],\"scattergl\":[{\"type\":\"scattergl\",\"marker\":{\"colorbar\":{\"outlinewidth\":0,\"ticks\":\"\"}}}],\"scatter3d\":[{\"type\":\"scatter3d\",\"line\":{\"colorbar\":{\"outlinewidth\":0,\"ticks\":\"\"}},\"marker\":{\"colorbar\":{\"outlinewidth\":0,\"ticks\":\"\"}}}],\"scattermapbox\":[{\"type\":\"scattermapbox\",\"marker\":{\"colorbar\":{\"outlinewidth\":0,\"ticks\":\"\"}}}],\"scatterternary\":[{\"type\":\"scatterternary\",\"marker\":{\"colorbar\":{\"outlinewidth\":0,\"ticks\":\"\"}}}],\"scattercarpet\":[{\"type\":\"scattercarpet\",\"marker\":{\"colorbar\":{\"outlinewidth\":0,\"ticks\":\"\"}}}],\"carpet\":[{\"aaxis\":{\"endlinecolor\":\"#2a3f5f\",\"gridcolor\":\"white\",\"linecolor\":\"white\",\"minorgridcolor\":\"white\",\"startlinecolor\":\"#2a3f5f\"},\"baxis\":{\"endlinecolor\":\"#2a3f5f\",\"gridcolor\":\"white\",\"linecolor\":\"white\",\"minorgridcolor\":\"white\",\"startlinecolor\":\"#2a3f5f\"},\"type\":\"carpet\"}],\"table\":[{\"cells\":{\"fill\":{\"color\":\"#EBF0F8\"},\"line\":{\"color\":\"white\"}},\"header\":{\"fill\":{\"color\":\"#C8D4E3\"},\"line\":{\"color\":\"white\"}},\"type\":\"table\"}],\"barpolar\":[{\"marker\":{\"line\":{\"color\":\"#E5ECF6\",\"width\":0.5},\"pattern\":{\"fillmode\":\"overlay\",\"size\":10,\"solidity\":0.2}},\"type\":\"barpolar\"}],\"pie\":[{\"automargin\":true,\"type\":\"pie\"}]},\"layout\":{\"autotypenumbers\":\"strict\",\"colorway\":[\"#636efa\",\"#EF553B\",\"#00cc96\",\"#ab63fa\",\"#FFA15A\",\"#19d3f3\",\"#FF6692\",\"#B6E880\",\"#FF97FF\",\"#FECB52\"],\"font\":{\"color\":\"#2a3f5f\"},\"hovermode\":\"closest\",\"hoverlabel\":{\"align\":\"left\"},\"paper_bgcolor\":\"white\",\"plot_bgcolor\":\"#E5ECF6\",\"polar\":{\"bgcolor\":\"#E5ECF6\",\"angularaxis\":{\"gridcolor\":\"white\",\"linecolor\":\"white\",\"ticks\":\"\"},\"radialaxis\":{\"gridcolor\":\"white\",\"linecolor\":\"white\",\"ticks\":\"\"}},\"ternary\":{\"bgcolor\":\"#E5ECF6\",\"aaxis\":{\"gridcolor\":\"white\",\"linecolor\":\"white\",\"ticks\":\"\"},\"baxis\":{\"gridcolor\":\"white\",\"linecolor\":\"white\",\"ticks\":\"\"},\"caxis\":{\"gridcolor\":\"white\",\"linecolor\":\"white\",\"ticks\":\"\"}},\"coloraxis\":{\"colorbar\":{\"outlinewidth\":0,\"ticks\":\"\"}},\"colorscale\":{\"sequential\":[[0.0,\"#0d0887\"],[0.1111111111111111,\"#46039f\"],[0.2222222222222222,\"#7201a8\"],[0.3333333333333333,\"#9c179e\"],[0.4444444444444444,\"#bd3786\"],[0.5555555555555556,\"#d8576b\"],[0.6666666666666666,\"#ed7953\"],[0.7777777777777778,\"#fb9f3a\"],[0.8888888888888888,\"#fdca26\"],[1.0,\"#f0f921\"]],\"sequentialminus\":[[0.0,\"#0d0887\"],[0.1111111111111111,\"#46039f\"],[0.2222222222222222,\"#7201a8\"],[0.3333333333333333,\"#9c179e\"],[0.4444444444444444,\"#bd3786\"],[0.5555555555555556,\"#d8576b\"],[0.6666666666666666,\"#ed7953\"],[0.7777777777777778,\"#fb9f3a\"],[0.8888888888888888,\"#fdca26\"],[1.0,\"#f0f921\"]],\"diverging\":[[0,\"#8e0152\"],[0.1,\"#c51b7d\"],[0.2,\"#de77ae\"],[0.3,\"#f1b6da\"],[0.4,\"#fde0ef\"],[0.5,\"#f7f7f7\"],[0.6,\"#e6f5d0\"],[0.7,\"#b8e186\"],[0.8,\"#7fbc41\"],[0.9,\"#4d9221\"],[1,\"#276419\"]]},\"xaxis\":{\"gridcolor\":\"white\",\"linecolor\":\"white\",\"ticks\":\"\",\"title\":{\"standoff\":15},\"zerolinecolor\":\"white\",\"automargin\":true,\"zerolinewidth\":2},\"yaxis\":{\"gridcolor\":\"white\",\"linecolor\":\"white\",\"ticks\":\"\",\"title\":{\"standoff\":15},\"zerolinecolor\":\"white\",\"automargin\":true,\"zerolinewidth\":2},\"scene\":{\"xaxis\":{\"backgroundcolor\":\"#E5ECF6\",\"gridcolor\":\"white\",\"linecolor\":\"white\",\"showbackground\":true,\"ticks\":\"\",\"zerolinecolor\":\"white\",\"gridwidth\":2},\"yaxis\":{\"backgroundcolor\":\"#E5ECF6\",\"gridcolor\":\"white\",\"linecolor\":\"white\",\"showbackground\":true,\"ticks\":\"\",\"zerolinecolor\":\"white\",\"gridwidth\":2},\"zaxis\":{\"backgroundcolor\":\"#E5ECF6\",\"gridcolor\":\"white\",\"linecolor\":\"white\",\"showbackground\":true,\"ticks\":\"\",\"zerolinecolor\":\"white\",\"gridwidth\":2}},\"shapedefaults\":{\"line\":{\"color\":\"#2a3f5f\"}},\"annotationdefaults\":{\"arrowcolor\":\"#2a3f5f\",\"arrowhead\":0,\"arrowwidth\":1},\"geo\":{\"bgcolor\":\"white\",\"landcolor\":\"#E5ECF6\",\"subunitcolor\":\"white\",\"showland\":true,\"showlakes\":true,\"lakecolor\":\"white\"},\"title\":{\"x\":0.05},\"mapbox\":{\"style\":\"light\"}}},\"barmode\":\"overlay\",\"autosize\":false,\"width\":800,\"height\":400,\"plot_bgcolor\":\"white\",\"xaxis\":{\"title\":{\"text\":\"Probability of Vote\"}}},                        {\"responsive\": true}                    ).then(function(){\n",
              "                            \n",
              "var gd = document.getElementById('3b7d1898-835d-4268-9457-a487d3d976a6');\n",
              "var x = new MutationObserver(function (mutations, observer) {{\n",
              "        var display = window.getComputedStyle(gd).display;\n",
              "        if (!display || display === 'none') {{\n",
              "            console.log([gd, 'removed!']);\n",
              "            Plotly.purge(gd);\n",
              "            observer.disconnect();\n",
              "        }}\n",
              "}});\n",
              "\n",
              "// Listen for the removal of the full notebook cells\n",
              "var notebookContainer = gd.closest('#notebook-container');\n",
              "if (notebookContainer) {{\n",
              "    x.observe(notebookContainer, {childList: true});\n",
              "}}\n",
              "\n",
              "// Listen for the clearing of the current output cell\n",
              "var outputEl = gd.closest('.output');\n",
              "if (outputEl) {{\n",
              "    x.observe(outputEl, {childList: true});\n",
              "}}\n",
              "\n",
              "                        })                };                            </script>        </div>\n",
              "</body>\n",
              "</html>"
            ]
          },
          "metadata": {}
        }
      ]
    },
    {
      "cell_type": "code",
      "source": [
        "theta"
      ],
      "metadata": {
        "id": "GGbcDcWocZ7m",
        "outputId": "938dde82-420c-45a9-e15a-14d49390b45b",
        "colab": {
          "base_uri": "https://localhost:8080/"
        }
      },
      "execution_count": 12,
      "outputs": [
        {
          "output_type": "execute_result",
          "data": {
            "text/plain": [
              "matrix([[-1.13181762, -0.01800031, -0.4029359 ,  0.27244637,  0.50943057,\n",
              "          0.97204759,  0.36224776,  0.09714968]])"
            ]
          },
          "metadata": {},
          "execution_count": 12
        }
      ]
    },
    {
      "cell_type": "code",
      "source": [],
      "metadata": {
        "id": "oh99V3eEUSwE"
      },
      "execution_count": null,
      "outputs": []
    },
    {
      "cell_type": "code",
      "source": [],
      "metadata": {
        "id": "SBP3bWRsUS4q"
      },
      "execution_count": null,
      "outputs": []
    },
    {
      "cell_type": "code",
      "source": [],
      "metadata": {
        "id": "AqWqxel7UTKX"
      },
      "execution_count": null,
      "outputs": []
    },
    {
      "cell_type": "code",
      "source": [
        "color_map = {\n",
        "    1: \"#5218fa\"\n",
        "}\n",
        "\n",
        "fig2 = go.Figure()\n",
        "fig2.add_trace(go.Histogram(x=VoteBase['Prob'], marker_color=VoteBase[\"TopIssue\"].map(color_map)))\n",
        "fig2.update_traces(opacity=0.9, nbinsx=100)\n",
        "fig2.update_layout(\n",
        "    autosize=False,\n",
        "    width=800,\n",
        "    height=400,\n",
        "    plot_bgcolor = \"white\",\n",
        "    xaxis=dict(title='Probability of Vote',),\n",
        ")\n",
        "\n",
        "fig2.show()"
      ],
      "metadata": {
        "id": "_PdyRoYycaGh",
        "outputId": "63bbf58c-a710-4a64-a801-5f431d9ea402",
        "colab": {
          "base_uri": "https://localhost:8080/",
          "height": 417
        }
      },
      "execution_count": 18,
      "outputs": [
        {
          "output_type": "display_data",
          "data": {
            "text/html": [
              "<html>\n",
              "<head><meta charset=\"utf-8\" /></head>\n",
              "<body>\n",
              "    <div>            <script src=\"https://cdnjs.cloudflare.com/ajax/libs/mathjax/2.7.5/MathJax.js?config=TeX-AMS-MML_SVG\"></script><script type=\"text/javascript\">if (window.MathJax && window.MathJax.Hub && window.MathJax.Hub.Config) {window.MathJax.Hub.Config({SVG: {font: \"STIX-Web\"}});}</script>                <script type=\"text/javascript\">window.PlotlyConfig = {MathJaxConfig: 'local'};</script>\n",
              "        <script charset=\"utf-8\" src=\"https://cdn.plot.ly/plotly-2.24.1.min.js\"></script>                <div id=\"0832362d-e06d-4a73-8e00-53cd03b84d51\" class=\"plotly-graph-div\" style=\"height:400px; width:800px;\"></div>            <script type=\"text/javascript\">                                    window.PLOTLYENV=window.PLOTLYENV || {};                                    if (document.getElementById(\"0832362d-e06d-4a73-8e00-53cd03b84d51\")) {                    Plotly.newPlot(                        \"0832362d-e06d-4a73-8e00-53cd03b84d51\",                        [{\"marker\":{\"color\":[null,null,null,null,null,null,null,null,null,null,null,null,null,null,null,null,null,null,null,null,null,\"#5218fa\",null,null,null,null,null,null,null,null,null,null,null,null,null,null,null,null,null,null,null,\"#5218fa\",null,\"#5218fa\",\"#5218fa\",null,null,null,null,null,null,\"#5218fa\",null,null,null,\"#5218fa\",\"#5218fa\",null,null,null,null,null,null,null,null,\"#5218fa\",null,null,null,null,\"#5218fa\",null,null,null,null,null,null,null,null,null,null,null,\"#5218fa\",null,null,null,null,null,null,\"#5218fa\",null,null,null,\"#5218fa\",null,\"#5218fa\",null,null,null,null,null,null,null,null,null,\"#5218fa\",null,null,null,null,\"#5218fa\",null,\"#5218fa\",\"#5218fa\",null,\"#5218fa\",null,null,\"#5218fa\",\"#5218fa\",null,null,\"#5218fa\",null,null,\"#5218fa\",null,\"#5218fa\",null,null,null,null,null,null,null,null,null,null,null,null,null,null,null,null,null,null,\"#5218fa\",null,null,null,null,null,null,null,\"#5218fa\",null,null,null,null,null,null,null,\"#5218fa\",null,null,null,null,null,null,null,null,null,null,\"#5218fa\",null,null,null,\"#5218fa\",null,null,null,null,null,null,null,null,null,null,null,null,null,null,\"#5218fa\",null,null,null,null,\"#5218fa\",null,null,null,\"#5218fa\",null,null,null,null,null,null,null,null,null,null,null,null,null,\"#5218fa\",\"#5218fa\",null,null,null,null,null,null,null,\"#5218fa\",\"#5218fa\",\"#5218fa\",null,\"#5218fa\",null,null,null,null,null,\"#5218fa\",null,null,null,\"#5218fa\",\"#5218fa\",null,null,null,null,null,null,null,null,null,null,null,null,\"#5218fa\",null,\"#5218fa\",\"#5218fa\",null,null,null,null,null,null,null,null,null,\"#5218fa\",null,null,null,null,null,null,null,null,null,null,null,null,null,null,null,null,null,null,null,\"#5218fa\",null,null,null,null,null,\"#5218fa\",null,null,\"#5218fa\",\"#5218fa\",null,null,null,null,null,null,null,null,null,null,\"#5218fa\",null,null,null,null,null,null,null,null,null,null,\"#5218fa\",null,null,null,null,null,\"#5218fa\",null,null,null,null,null,null,null,null,null,null,null,null,null,null,null,\"#5218fa\",null,null,null,null,null,null,null,null,null,null,null,\"#5218fa\",null,null,null,null,null,null,null,null,null,null,null,null,null,null,null,\"#5218fa\",null,null,null,null,null,null,null,null,null,null,null,\"#5218fa\",null,null,null,null,null,null,null,\"#5218fa\",null,null,\"#5218fa\",null,null,null,null,null,null,null,null,null,null,null,null,\"#5218fa\",null,null,null,\"#5218fa\",null,\"#5218fa\",null,null,null,null,null,null,null,null,null,null,null,null,null,\"#5218fa\",null,null,null,null,null,null,null,null,null,null,null,null,\"#5218fa\",null,null,null,null,null,null,null,null,null,null,null,null,null,null,null,null,null,\"#5218fa\",null,null,null,null,\"#5218fa\",null,\"#5218fa\",null,null,null,null,null,null,null,null,null,null,null,null,null,null,null,null,null,null,null,null,null,null,null,null,null,null,\"#5218fa\",null,null,null,null,null,null,null,null,null,\"#5218fa\",null,null,null,null,null,null,null,null,null,null,null,null,null,null,null,null,null,null,\"#5218fa\",null,null,null,null,null,null,null,null,null,null,null,null,null,null,null,null,null,null,null,null,null,\"#5218fa\",null,null,null,null,null,null,null,\"#5218fa\",null,null,null,null,null,null,null,null,null,\"#5218fa\",null,null,\"#5218fa\",null,null,null,null,null,null,null,null,null,null,null,null,null,null,null,null,null,\"#5218fa\",null,null,null,null,null,null,null,null,null,null,null,null,null,\"#5218fa\",null,null,null,null,\"#5218fa\",null,null,null,null,null,null,null,null,null,null,null,null,null,null,\"#5218fa\",null,\"#5218fa\",null,null,null,null,null,null,null,null,null,null,null,null,null,null,null,null,null,null,null,null,null,null,null,null,null,null,null,null,null,null,null,null,null,\"#5218fa\",null,null,null,null,null,null,null,null,null,null,null,null,\"#5218fa\",null,null,null,null,null,null,null,null,null,null,null,null,null,null,null,null,null,null,null,null,null,null,null,null,null,null,null,null,null,null,null,null,null,null,null,null,null,null,null,null,null,\"#5218fa\",null,null,null,null,null,\"#5218fa\",null,null,null,null,null,null,\"#5218fa\",null,null,\"#5218fa\",null,null,null,\"#5218fa\",null,null,\"#5218fa\",null,null,null,null,null,null,null,null,null,null,null,null,null,null,null,null,null,null,null,null,null,null,null,null,null,null,null,null,null,null,null,null,null,null,null,null,null,null,null,null,null,null,null,null,null,null,null,null,null,null,\"#5218fa\",null,null,null,null,null,null,null,null,null,null,null,null,null,null,null,null,null,null,null,null,null,null,null,null,null,null,null,null,null,null,null,null,null,null,null,null,null,null,\"#5218fa\",\"#5218fa\",null,null,null,null,\"#5218fa\",null,null,null,null,null,null,null,null,\"#5218fa\",null,null,null,null,null,null,null,null,null,\"#5218fa\",null,null,null,null,null,null,null,null,null,null,null,null,null,null,null,null,null,null,null,null,null,\"#5218fa\",null,null,null,null,null,null,null,null,null,null,\"#5218fa\",null,null,null,null,null,null,null,null,null,null,null,null,null,null,null,null,null,null,null,null,null,null,null,null,null,null,null,null,null,null,\"#5218fa\",null,null,null,null,null,null,null,null,null,null,null,null,null,null,null,null,null,null,null,null,null,null,null,null,null,null,null,null,null,null,null,null,null,null,null,null,null,null,null,null,null,null,null,null,null,null,null,null,null,null,null,null,null,null,null,null,null,null,null,null,null,null,null,null,null,null,null,null,null,null,null,null,null,null,null,null,null,null,\"#5218fa\",null,\"#5218fa\",null,null,null,null,null,null,null,null,null,null,null,null,null,null,null,null,null,null,null,null,null,\"#5218fa\",null,null,null,null,\"#5218fa\",null,null,null,null,null,null,null,null,null,null,null,null,null,\"#5218fa\",null,null,null,null,null,null,null,null,null,null,null,\"#5218fa\",null,null,null,null,null,null,null,null,null,null,null,null,null,null,null,null,null,null,null,\"#5218fa\",null,null,null,null,\"#5218fa\",null,null,null,null,null,null,null,null,null,null,\"#5218fa\",null,null,null,null,null,null,null,null,null,null,null,null,null,null,null,null,null,null,null,null,null,null,null,null,null,null,null,null,null,null,null,null,null,null,null,null,null,null,null,null,null,null,null,null,null,null,null,null,null,null,null,null,null,null,\"#5218fa\",null,null,null,null,null,null,null,null,null,null,null,null,null,null,null,null,null,null,null,null,null,null,null,null,null,null,null,null,null,null,null,null,null,null,\"#5218fa\",null,null,null,null,null,null,null,null,null,null,null,\"#5218fa\",null,null,null,null,null,null,null,null,null,null,null,null,null,null,null,null,null,null,null,null,null,null,null,null,null,null,null,null,null,null,null,null,null,null,null,null,null,null,null,null,null,null,null,null,null,null,null,null,null,null,null,null,null,\"#5218fa\",null,null,null,null,null,null,null,null,null,null,null,null,null,null,null,null,null,null,null,null,null,null,null,null,null,null,null,null,null,null,null,null,null,null,null,\"#5218fa\",null,null,null,null,null,null,null,null,null,null,null,null,null,null,null,null,null,null,null,null,null,null,null,null,null,null,null,null,null,null,null,null,null,null,null,\"#5218fa\",null,null,null,null,null,null,null,null,null,null,null,null,null,null,null,null,null,null,null,null,null,null,null,null,null,null,null,null,null,null,null,\"#5218fa\",null,null,null,null,null,null,null,null,null,null,null,null,null,null,null,null,null,null,null,null,null,null,null,null,null,null,null,null,null,null,\"#5218fa\",null,null,null,null,null,null,null,null,null,null,null,null,null,null,null,null,null,\"#5218fa\",null,null,null,null,null,null,null,null,null,null,null,null,null,null,null,null,null,null,null,null,null,null,null,null,null,null,null,null,null,null,null,null,null,null,null,null,null,null,null,null,null,null,null,null,null,null,null,null,null,null,null,null,null,null,null,null,null,null,null,null,null,null,null,null,null,null,null,null,null,null,null,null,null,null,null,null,null,null,null,null,null,null,null,null,null,null,null,null,null,null,null,null,null,null,null,null,null,null,null,null,null,null,null,null,null,null,null,null,null,null,null,null,null,null,null,null,null,null,null,null,null,null,null,null,null,null,null,null,null,null,null,null,null,null,null,null,null,null,null,null,null,null,null,null,null,null,null,null,null,null,null,null,null,null,null,null,null,null,null,null,null,null,null,null,null,null,null,null,null,null,null,null,null,null,null,null,null,null,null,null,null,null,null,null,null,null,null,null,null,null,null,null,null,null,null,null,null,null,null,null,null,null,null,null,null,null,null,null,null,null,null,null,null,null,null,null,null,null,null,null,null,null,null,null,null,null,null,null,null,null,null,null,null,null,null,null,null,null,null,null,null,null,null,null,null,null,null,null,null,null,null,null,null,null,null,null,null,null,null,null,null,null,null,null,null,null,null,null,null,null,null,null,null,null,null,null,null,null,null,null,null,null,null,null,null,null,null,null,null,null,null,null,null,null,null,null,null,null,null,null,null,null,null,null,null,null,null,null,null,null,null,null,null,null,null,null,null,null,null,null,null,null,null,null,null,null,null,null,null,null,null,null,null,null,null,null,null,null,null,null,null,null,null,null,null,null,null,null,null,null,null,null,null,null,null,null,null,null,null,null,null,null,null,null,null,null,null,null,null,null,null,null,null,null,null,null,null,null,null,null,null,null,null,null,null,null,null,null,null,null,null,null,null,null,null,null,null,null,null,null,null,null,null,null,null,null,null,null,null,null,null,null,null,null,null,null,null,null,null,null,null,null,null,null,null,null,null,null,null,null,null,null,null,null,null,null,null,null,null,null,null,null,null,null,null,null,null,null,null,null,null,null,null,null,null,null,null,null,null,null,null,null,null,null,null,null,null,null,null,null,null,null,null,null,null,null,null,null,null,null,null,null,null,null,null,null,null,null,null,null,null,null,null,null,null,null,null,null,null,null,null,null,null,null,null,null,null,null,null,null,null,null,null,null,null,null,null,null,null,null,null,null,null,null,null,null,null,null,null,null,null,null,null,null,null,null,null,null,null,null,null,null,null,null,null,null,null,null,null,null,null,null,null,null,null,null,null,null,null,null,null,null,null,null,null,null,null,null,null,null,null,null,null,null,null,null,null,null,null,null,null,null,null,null,null,null,null,null,null,null,null,null,null,null,null,null,null,null,null,null,null,null,null,null,null,null,null,null,null,null,null,null,null,null,null,null,null,null,null,null,null,null,null,null,null,null,null,null,null,null,null,null,null,null,null,null,null,null,null,null,null,null,null,null,null,null,null,null,null,null,null,null,null,null,null,null,null,null,null,null,null,null,null,null,null,null,null,null,null,null,null,null,null,null,null,null,null,null,null,null,null,null,null,null,null,null,null,null,null,null,null,null,null,null,null,null,null,null,null,null,null,null,null,null,null,null,null,null,null,null,null,null,null,null,null,null,null,null,null,null,null,null,null,null,null,null,\"#5218fa\",null,null,null,null,null,null,null,null,null,null,null,null,null,null,null,null,null,null,null,null,null,null,\"#5218fa\",null,null,null,null,\"#5218fa\",null,null,null,null,null,null,null,null,null,null,null,null,null,null,null,null,null,null,null,null,null,null,null,null,null,null,null,null,null,null,null,null,null,null,null,null,null,null,null,null,null,null,null,null,null,null,null,null,null,null,null,null,null,null,null,null,null,null,null,null,null,null,null,null,null,null,null,null,null,null,null,null,null,null,null,null,null,null,null,null,null,null,null,null,null,null,null,null,null,null,null,null,null,null,null,null,null,null,null,null,null,null,null,null,null,null,null,null,null,null,null,null,null,null,null,null,null,null,null,null,null,null,null,null,null,null,null,null,null,null,null,\"#5218fa\",null,null,null,null,null,null,null,null,null,null,null,null,null,null,null,null,null,null,null,null,null,null,null,null,null,null,null,null,null,null,null,null,null,null,null,null,\"#5218fa\",null,null,\"#5218fa\",null,null,null,null,null,null,null,null,null,null,null,null,null,null,null,null,null,null,null,null,null,null,null,null,null,null,null,null,null,null,null,null,null,null,null,null,null,null,null,null,null,null,null,null,null,null,null,null,null,null,null,null,null,null,null,null,null,null,null,null,null,null,null,null,null,null,null,null,null,null,null,null,null,null,null,null,null,null,null,null,null,null,null,null,null,null,null,null,null,null,null,null,null,null,null,null,null,null,null,null,null,null,null,null,null,null,null,null,null,null,null,null,null,null,null,null,null,null,null,null,null,null,null,null,null,null,null,null,null,null,null,null,null,null,null,null,null,null,null,null,null,null,null,null,null,null,null,null,null,null,null,null,null,null,null,null,null,null,null,null,null,null,null,null,null,null,null,null,null,null,null,null,null,null,null,null,null,null,null,null,null,null,null,null,null,null]},\"x\":[0.36354011769676103,0.2520963863422752,0.7635728151244189,0.3309183935811395,0.9325235485480358,0.2872113310520364,0.4819310612375443,0.4480687145391813,0.5237082636375239,0.7117972973161049,0.3601314790853354,0.47006027219019003,0.6615311584828961,0.8043267917861256,0.5800427198163844,0.6522522661958698,0.9541469307868699,0.7087235739508162,0.7260755965990778,0.7767262785300985,0.8584034511947787,0.8309610154520783,0.2925945918457964,0.1015579735021976,0.11837385119107746,0.1796432280172017,0.9245114103885776,0.7757132874967406,0.5118783310734697,0.9023592930548621,0.9127741301072527,0.8749060659401628,0.8452124587213737,0.9355011396242393,0.07738630725392845,0.5674649425341879,0.08330412948268302,0.16132807564239401,0.14244897764481754,0.022017407245968897,0.12329540634969764,0.09775710635085691,0.6926503047852743,0.07639250756986261,0.24236860732924043,0.3272896859351502,0.03451140372404527,0.10362829810672168,0.08915186787452468,0.07786310456193157,0.13114430275298403,0.053520663181488924,0.6365691525191702,0.08752176724864894,0.1847926492086362,0.09935628138325803,0.20744715787926618,0.0661687292859946,0.10787148007238569,0.06364199568572708,0.18539253256812807,0.03516733691379923,0.195659592390793,0.022166135079146835,0.06708950078969689,0.10410322220037475,0.05395830823347253,0.09965957474563936,0.6197536591283337,0.10946899324643138,0.07085861698922852,0.15162749121362398,0.12142027171128762,0.13810759105136144,0.6743637135239784,0.11855610813642499,0.13771705173821774,0.08788079727048353,0.04489945774848501,0.08360618105722349,0.09831993085187855,0.15353492399901617,0.09777476324777955,0.07945047721423591,0.15318412914854826,0.0563750928248603,0.1972856285206424,0.06529269214765385,0.2344977515697091,0.14751955089565189,0.03680861426477757,0.04619727556079323,0.06582133411168681,0.06738467033305562,0.08788079727048353,0.07979537892876389,0.08953324509974529,0.1152459975483613,0.05328275343749002,0.11732289216650828,0.11184517805173387,0.19284226863541887,0.08689824479525304,0.35884405074886555,0.09211881906858205,0.17486930366949383,0.14870427827405744,0.10898974754058827,0.029347273932425415,0.08847313244513334,0.15712902218259306,0.0821841658344927,0.18993538695817083,0.11781116071774403,0.20509207871501775,0.18823780200496787,0.20453204093491206,0.04766453890436352,0.18598369555657732,0.050518300769523065,0.06612224363700607,0.026664381989476613,0.27648195326863884,0.15686998914401956,0.13115044923696745,0.19592072309993508,0.04918601334848171,0.06099264995264383,0.061160455372422796,0.12070901988900574,0.09673564465431489,0.07700227018926087,0.07203826094933083,0.06198651095148045,0.07084419320372813,0.1017992803801889,0.08791254675837204,0.41410564429987523,0.07100508588748218,0.12828888441102743,0.10298643134047603,0.20606776224138165,0.06433565492349744,0.14917379399394867,0.18839101287589083,0.13180436222579525,0.11327130442883816,0.0158473292606915,0.20593964974715098,0.24064781202442306,0.11018211468559348,0.09043985563361973,0.5363142956686946,0.6205522381778537,0.06406929480478414,0.11759675439198494,0.034233555297850486,0.11557403088633153,0.15147286776877425,0.04153756588227037,0.11597132694095078,0.14829649328052627,0.1515010307976071,0.07478523567314667,0.13516683973840454,0.08560682423297586,0.15618464832467213,0.05913680760466642,0.11967178747345554,0.09992729321671204,0.17384029812640767,0.20353394852658976,0.11436589244906498,0.09641082360753483,0.09600525765640389,0.1652626638307887,0.10831868526631638,0.14058539982362261,0.12525435622226935,0.15133882137659868,0.4641879392701042,0.04112676149198358,0.15089701762686533,0.13349742883571505,0.4233702803476615,0.032985098031279324,0.15524738717593153,0.13307644566916368,0.18405813141754476,0.04220783523339122,0.11184517805173387,0.13390107273779653,0.11853321380712564,0.26293751222905726,0.12773906526882858,0.056663925312459694,0.08647987670945088,0.1778385100658316,0.04859040816990436,0.1323606553911977,0.18804852663193772,0.16876117871942367,0.18921231172565856,0.631299858262459,0.23863049476782885,0.08788079727048353,0.18714797274804343,0.0830217047425848,0.09062441220012167,0.11995038753610006,0.06662396417403134,0.2472877169683879,0.30254784155895786,0.13943073895392996,0.12927482529590567,0.11106558499242508,0.06883708637538337,0.23707378027553122,0.14603733339488958,0.5695002022896889,0.21892310132250745,0.0965225060280904,0.19015212199093953,0.25593197148783964,0.15752411178622494,0.044531644621751465,0.060160444439954386,0.1354829049328329,0.044144372872191515,0.16550297192817778,0.20642741217221694,0.17394640426367972,0.07884394530910506,0.10689556993203904,0.19146469218333634,0.11602654097122404,0.12388266677320593,0.4929763949791703,0.27437993243411873,0.14730496388331146,0.11765263929782664,0.1253133634114682,0.08960944951424249,0.27654583950169914,0.11739940403311228,0.22843839320793877,0.14699616467391075,0.1253133634114682,0.21658724995489018,0.14226496037745964,0.13580188552582892,0.17687415472210638,0.11132668322049012,0.440712251093262,0.15424390978423272,0.2779782316530674,0.17918016949108054,0.18450611018845192,0.16139107885949752,0.12142027171128762,0.21902282045649177,0.12609688247624443,0.188127202312904,0.09259008092134853,0.201344985712756,0.28160540641967435,0.13981278014424575,0.1086068589923229,0.13860622167180817,0.1865479958846423,0.24868030494210147,0.15814971120706528,0.09218061069643908,0.12492980367274746,0.1337031886427921,0.14941978373392287,0.31785278628333186,0.2042550951632077,0.201344985712756,0.18781850477035147,0.050551152346670264,0.13819553543515653,0.2258900941155967,0.27723540956934783,0.22275803008555659,0.17497590485479883,0.16880598144480996,0.1956180912319961,0.35243511042093467,0.25205864665433564,0.12337526876407826,0.17954234789819642,0.16883406982127683,0.1380713269438292,0.1528051504971391,0.1309289285744703,0.11602654097122404,0.10710975250762514,0.08687774491431054,0.08233347276995534,0.3881702612485381,0.15772082329312215,0.22364674060512033,0.3011970717822372,0.3780904454446465,0.2342273030246734,0.2564016525414367,0.1373723742439635,0.1729530294546465,0.2383212108601764,0.055864756528456724,0.10414882216008954,0.2110283302498569,0.229304356176854,0.16786395769289897,0.16289513623368426,0.15566492690428874,0.33987178868119666,0.1533137219120256,0.15099167935385494,0.2042550951632077,0.1315480741243347,0.3636474612175634,0.12003037909416096,0.13981278014424575,0.1648539809393451,0.19280122181585424,0.19280122181585424,0.13553903789727184,0.1900153329906833,0.03323585724124015,0.12271211784876881,0.1273219595445543,0.17918016949108054,0.08967086178523716,0.19814078047620406,0.17932763676174135,0.07378437897603185,0.17394640426367972,0.18561432413332551,0.11953415923196016,0.1663231373109766,0.11759675439198494,0.11216148586558577,0.15657780448371925,0.15657780448371925,0.15657780448371925,0.10689556993203904,0.17108481741998915,0.1450559890839946,0.07948986709631199,0.15514998527762563,0.1796872580426081,0.04425972460264477,0.11431476686142866,0.0669496781496473,0.11466808541915106,0.10382697026135859,0.08831636902630473,0.03119207455069304,0.044363124547635004,0.05779588251311384,0.0941990383560487,0.05492449816201275,0.8195503655822042,0.265436064704615,0.24826174185843747,0.26683213685137086,0.24491762586740126,0.12721816578542922,0.2383212108601764,0.3463747014278707,0.13525320536759888,0.13316168128718175,0.26122574620874095,0.1290607432756735,0.28822990252127617,0.16598485062829257,0.10734055143351007,0.15660674148458903,0.201344985712756,0.13981278014424575,0.1786681894032744,0.15389712306995135,0.13344377585073172,0.17918016949108054,0.22610044081200523,0.182209229549699,0.09369803536758338,0.1638421866788013,0.14121799228757778,0.04640209547859584,0.16139107885949752,0.14686539425715714,0.17887950293443836,0.12386141173252628,0.11038146629232018,0.13095386140821536,0.15657780448371925,0.26304187724806594,0.14957789111129915,0.1823558137480931,0.10021369925835713,0.20874298937990943,0.03707968027906655,0.09238514204346121,0.12412662549146025,0.12836890588012886,0.10896016258760984,0.1752997226704064,0.11285334219394808,0.06857040404993983,0.06630650472386394,0.32994060797965624,0.4898203081727502,0.27605760391252027,0.14389774629583754,0.0920724569796093,0.17816335211652998,0.2416040781306054,0.2416040781306054,0.1703933971939834,0.28772536400203497,0.14037976040230307,0.22237018423461566,0.1604554776623169,0.096045671932173,0.21927310083462107,0.33678279226343594,0.2071963535342122,0.14869862922051164,0.27295907229532906,0.14643439644537043,0.201344985712756,0.1984659969409979,0.22800499071658809,0.20837300331054887,0.09536777027281447,0.12933544648073808,0.09838543130517996,0.1360656710773086,0.1537613200839917,0.1663231373109766,0.1663231373109766,0.1258280637597725,0.06562248153270168,0.10862623963489754,0.10862623963489754,0.10862623963489754,0.19616058246070164,0.1450559890839946,0.09860223464676166,0.04425972460264477,0.08995239514272654,0.2307865909365177,0.13424705970931916,0.19023064874692433,0.08941045790640224,0.08652242406274835,0.06234796823622379,0.08406396741676683,0.058186369336292815,0.32597335369427627,0.8676386244449685,0.9173695288336763,0.18620809144868886,0.20385852371604457,0.24826174185843747,0.3696632237840862,0.31188806939027647,0.04163365883904916,0.22237018423461566,0.22237018423461566,0.17882134184973905,0.21620715941852445,0.15566492690428874,0.23795007372614438,0.2818487449171691,0.2071963535342122,0.2005922654254517,0.19772137506941667,0.1441988011148915,0.15864349209640327,0.19207276050756994,0.19337195187504297,0.13981278014424575,0.10666268924506707,0.1756563623023433,0.14286474403186514,0.12933544648073808,0.21255175562614417,0.17918016949108054,0.09999374573926928,0.16883406982127683,0.07017782655600724,0.2684867609422948,0.15421532954412942,0.14957789111129915,0.15453654676978917,0.13176950017451036,0.1959710362539013,0.07074504491269172,0.06615550053539362,0.10722481268449742,0.07706871192387076,0.02709579214997417,0.8221970925653386,0.19453009887397127,0.19453009887397127,0.8280389821140252,0.0783566290063792,0.16807459849703396,0.2516363018169009,0.18349581366716994,0.6120290485775631,0.22804355900280074,0.13718842652750937,0.21095110329308542,0.2383212108601764,0.2318479071517505,0.13316168128718175,0.22865763622518076,0.1290607432756735,0.06742771105353423,0.22237018423461566,0.06519889769880706,0.15566492690428874,0.17359584112931528,0.1533137219120256,0.21016877947559176,0.14869862922051164,0.23148378717908963,0.1441988011148915,0.23118888504274246,0.14199165867656838,0.057927314257804736,0.19862549577850572,0.07983096247099239,0.19280122181585424,0.20837300331054887,0.1872603603461084,0.14926756473477312,0.1313759814368042,0.1273219595445543,0.1482303484995053,0.22905321816852575,0.1339635295529663,0.09742696565647,0.25922719988985893,0.23577374376690574,0.09860223464676166,0.05763381198138816,0.08941045790640224,0.12412662549146025,0.11977026925011684,0.08511029425256801,0.12026533279538923,0.08999414087326245,0.032267222772271696,0.11650817825024858,0.08480530593926747,0.8696921685410334,0.34171626843967423,0.8676386244449685,0.34359718754228846,0.33366481154622113,0.24826174185843747,0.32754584876148163,0.24559569167710776,0.14389774629583754,0.19807786748511352,0.17554297619977322,0.22865763622518076,0.29866592198370595,0.22300426245743277,0.21847169125597088,0.2966485908829492,0.22237018423461566,0.23228641648991508,0.8241921807245158,0.2007851651598683,0.1533137219120256,0.3709240406690381,0.11554707635612987,0.1441988011148915,0.05992348432287951,0.14779109118582096,0.2623747950862915,0.1101419278634169,0.13981278014424575,0.1900153329906833,0.13553903789727184,0.11627959444986083,0.1784917925617224,0.24201503023129087,0.19558659544574272,0.18184286376427553,0.1406746645045923,0.12337526876407826,0.17137511682503145,0.12144162736624357,0.16883406982127683,0.201145101647892,0.15834395816408584,0.08632963761135527,0.6231276703530615,0.1450559890839946,0.2201102402680188,0.12809383957121276,0.17426871928262067,0.04650138056362524,0.05029302793939814,0.0856685462225822,0.13675902929400796,0.10999680779049306,0.09921979915996021,0.3881702612485381,0.40801013827277,0.9271656989593616,0.24096609393439947,0.1889511822433505,0.28293544137420706,0.18349581366716994,0.18081426462813427,0.18081426462813427,0.17816335211652998,0.28747898284579515,0.17359584112931528,0.2107774963032849,0.2005922654254517,0.1984659969409979,0.08424979315614355,0.13766197230068639,0.19280122181585424,0.13344377585073172,0.13344377585073172,0.05412088281198398,0.232461835325942,0.12933544648073808,0.2770747020673659,0.17654805117976108,0.17071048919317067,0.12729971965797607,0.1663231373109766,0.1638421866788013,0.1638421866788013,0.1638421866788013,0.04561207248387432,0.17239257520786752,0.11038146629232018,0.15421532954412942,0.10862623963489754,0.15188208108862022,0.1428379161702358,0.10021369925835713,0.17636734794155218,0.07689521675124524,0.13635294986717686,0.12180956201478733,0.03707968027906655,0.09900178707582198,0.09147920001083269,0.04591465496092753,0.04360622879676446,0.13202615408621113,0.10415168548943639,0.06411220480380471,0.09296778377365687,0.8451760346434639,0.12217955807278791,0.1071259627110547,0.2407828107815613,0.11837064853023015,0.23750760798319737,0.2342632091138126,0.33152282795663646,0.24826174185843747,0.39010770267950107,0.14106124396258948,0.22159519382401466,0.13951938950471734,0.26855851926926483,0.17554297619977322,0.19964055704194764,0.3463747014278707,0.22237018423461566,0.29290665587010223,0.2555053536615614,0.19772137506941667,0.2042550951632077,0.27104827132260306,0.1441988011148915,0.201344985712756,0.21586070063287907,0.30661659698782046,0.13553903789727184,0.30678002525302733,0.13344377585073172,0.10105904603076703,0.15517870695390826,0.1313759814368042,0.18184286376427553,0.12933544648073808,0.29320484786490814,0.17654805117976108,0.34688235089468306,0.17394640426367972,0.22905321816852575,0.21057437963776618,0.17758963928838734,0.14673984865147405,0.2460077199805636,0.19318150255468278,0.2403423418488077,0.19039141490830286,0.1450559890839946,0.18872424730739992,0.04184250275122314,0.11604707326909752,0.14151436742261025,0.216779835006107,0.18205100029775706,0.08234859811321557,0.16025600439347915,0.07706871192387076,0.10415168548943639,0.10824695350624647,0.07731403952829631,0.32261207112837526,0.8519212538992343,0.2850086300296575,0.30630354003244764,0.1387744914898938,0.31633936915546745,0.22159519382401466,0.22159519382401466,0.1416944489301014,0.13951938950471734,0.21850587124848753,0.2064602056254818,0.27658588974673987,0.3342524392572969,0.26944090276215193,0.19491296623117627,0.05043409074337175,0.26241353745077817,0.25894445839636077,0.32310210954063473,0.17589663449222706,0.17589663449222706,0.10607158968768506,0.23876471768433816,0.16820530171918158,0.7827461164927938,0.17238487936321636,0.14035332277207516,0.2656697543576358,0.21057437963776618,0.06212603206053978,0.256161035770513,0.1762508529669689,0.18819124889629543,0.18220640917418318,0.30546187820561893,0.07818269180263798,0.12560322335975513,0.07314861655097485,0.22631734084817623,0.0473150656048136,0.11604707326909752,0.06801934522931419,0.20521339296786623,0.8436908551820698,0.15690052584912687,0.06253098754088,0.10541926317440732,0.09881946337605965,0.20618482378040584,0.32575316166383794,0.24408872015797625,0.15534427871362444,0.2342632091138126,0.2342632091138126,0.1825659393444943,0.23104969981578252,0.31014155478485145,0.23104969981578252,0.22786715419615608,0.14389774629583754,0.31633936915546745,0.13951938950471734,0.21242069057076465,0.8328201304518502,0.12193889336265312,0.2983922165987508,0.27658588974673987,0.36057676297642033,0.2729987991091187,0.19491296623117627,0.11675658064777462,0.2520963863422752,0.24536945384818987,0.17852114645510408,0.15389712306995135,0.09901652042901388,0.16570185611406735,0.16322835831406549,0.142539229350218,0.15598611472175594,0.09470332095034709,0.20759772502584178,0.14900797995633966,0.08870787061388286,0.204652239763418,0.08921186488786559,0.22553258376120236,0.13455660932130198,0.130419175525121,0.11604707326909752,0.11421332153208162,0.04651025688351806,0.10886288498666018,0.16025600439347915,0.06045354215478463,0.09881946337605965,0.13877815930251342,0.1825406474378118,0.03652814617630717,0.051002804335954256,0.24408872015797625,0.31400589170147347,0.2521376988401812,0.30630354003244764,0.05978608581212291,0.30249219479482026,0.27270543639404504,0.2949508353026678,0.21850587124848753,0.13452752363257914,0.20352671455220311,0.20352671455220311,0.21972894633249918,0.17619336316957307,0.12052065292955996,0.2659124150780018,0.17852114645510408,0.24536945384818987,0.3162919862210667,0.23550845042628593,0.23550845042628593,0.10666268924506707,0.23228304114770967,0.10495961978895817,0.21969138407256228,0.21969138407256228,0.1815387173576751,0.19318150255468278,0.11811927140163203,0.18220640917418318,0.18220640917418318,0.07437841581369338,0.16666197566845442,0.20521339296786623,0.14401607083881474,0.08253329740171583,0.936915440155514,0.24408872015797625,0.2407828107815613,0.20976375297296299,0.2384380810863773,0.5123806956010172,0.33337427836028655,0.4279972480949952,0.43380423408912777,0.43416481804250673,0.20361401261949658,0.2838467309842598,0.2838467309842598,0.7491834640072789,0.29463750089677637,0.37191011055823925,0.28354044885184243,0.32808387798098204,0.1759746997275369,0.35525195155588307,0.34704970799586937,0.2621219176998328,0.23550845042628593,0.2552187545597433,0.10157623962312279,0.28771145336557563,0.14379961149773285,0.3074567820622502,0.204652239763418,0.22253181619675902,0.21943311688385858,0.19318150255468278,0.1256623712898984,0.08432191714312397,0.2669721095740291,0.17179872601358495,0.3581453058628516,0.10886288498666018,0.15433725455661063,0.14517191552697617,0.21570111573088419,0.4368327116348918,0.5123806956010172,0.8521739706115918,0.4235963133585842,0.4235963133585842,0.21448912695215286,0.43506493885282704,0.31756945942319087,0.269044044150959,0.36070091717587716,0.2702687517424822,0.4886442457078535,0.1364594148434429,0.36771514921397047,0.2762844197951043,0.2762844197951043,0.24881833325884803,0.24546916806534477,0.35525195155588307,0.2621219176998328,0.2586553418999795,0.3349159269125794,0.2484361809139391,0.2288224935040177,0.2288224935040177,0.2288224935040177,0.30363736804855873,0.22253181619675902,0.213329162332256,0.20149529518900391,0.07773568782520801,0.24554252445886246,0.1957651733775576,0.19015919839299422,0.2599862191538597,0.18467689385350228,0.2397515588437879,0.48894058091444514,0.1776941439793342,0.31801295731272333,0.5091040625536599,0.29828548778853736,0.3373865192006948,0.31756945942319087,0.5426666767289172,0.14516810721553877,0.3394357277006715,0.8177028834881448,0.27669363841279365,0.36250248151681874,0.29463750089677637,0.3460335495848335,0.36771514921397047,0.1776896598513472,0.36354011769676103,0.42859511377968007,0.2762844197951043,0.41542419796827157,0.31809885322391823,0.4394402026185075,0.5798150724245921,0.20593013072634941,0.3429820340809873,0.3349159269125794,0.5332782036292602,0.7478837325772577,0.24177534376486087,0.5399177355059464,0.22253181619675902,0.2696248857027628,0.2696248857027628,0.213329162332256,0.39876648100915363,0.3394845826748053,0.3394845826748053,0.28129676620290567,0.2389346047013127,0.5360505445147474,0.1884935907824452,0.10891513164341317,0.1777261611375182,0.18800471273605715,0.13664073926501108,0.3219273602812384,0.4686532032583978,0.12819824282825135,0.15942157366521217,0.9612539822260648,0.5001049123608824,0.40070793476135513,0.516302176696792,0.48752305009553404,0.4821122366765238,0.4821122366765238,0.5785971271095468,0.4821122366765238,0.3835475708919096,0.25699817716238327,0.36250248151681874,0.266017534725576,0.6805854259009432,0.26251776856823034,0.4659441257557362,0.23157959016995983,0.43743348093952267,0.42419259044621804,0.42571222351048216,0.33550886835553395,0.16828065047448995,0.31034152352105343,0.31034152352105343,0.427706054976454,0.6319193556807479,0.39374722847581484,0.6898827624549316,0.2989036438920671,0.7657571788657231,0.19160171015361593,0.38518717462391533,0.19256676520015553,0.6547007889970201,0.2786169882128803,0.5118783310734697,0.4368316476223181,0.1815387173576751,0.3516963565043241,0.13588859316438254,0.6460149165556636,0.6192622019200054,0.2522726155831328,0.3706516562147622,0.14046610840164808,0.5225975709143021,0.2795995520842183,0.37978234572808967,0.9503844854776783,0.6276547325415649,0.40503817193128977,0.37542541825360315,0.3064179620103073,0.28765187245976553,0.22168808481858743,0.3878123684996654,0.4821122366765238,0.3516466797446833,0.8008947947510973,0.5697954105175433,0.27310567791922696,0.7445162662154406,0.8480395026986065,0.3775848133578212,0.42859511377968007,0.31809885322391823,0.30845981670153566,0.31420721719430905,0.6402525277716793,0.31034152352105343,0.31034152352105343,0.3275308982061117,0.5985440561980877,0.3894586854752735,0.2638960492847543,0.37669758502567663,0.3724806475522528,0.3354600230135539,0.418620571604088,0.31570220633864143,0.5091117321353235,0.32508808025942176,0.24078123956634628,0.30185334331824454,0.1244509853678215,0.08534263332027033,0.7959684730363703,0.5136017903542965,0.7291802628998544,0.44368564774356906,0.6303062184478614,0.7533256917227271,0.4911056941972167,0.7110452538599685,0.4821122366765238,0.6218787180475437,0.4163417122476637,0.4502647998077913,0.3583530911724754,0.45076412556068596,0.6805854259009432,0.6805854259009432,0.8239012694920541,0.34197154806472296,0.723436851259209,0.15941746125348513,0.56107492071018,0.6763298507062051,0.6921997342085241,0.6525940515965185,0.3220160568718374,0.6485019802679763,0.5755550166283311,0.6883513907685855,0.5432725878626107,0.5432725878626107,0.9528581058963139,0.7337806733468146,0.5253590237406345,0.5532998256033311,0.28771145336557563,0.6064604273133006,0.3682830242413466,0.6021562294096225,0.6623018726849559,0.5935008747657837,0.3516963565043241,0.3792146074927195,0.4758986330647521,0.46245053665153757,0.45351418501050555,0.33463478730000523,0.7024504300399317,0.3755588791896531,0.7931214667399726,0.37930784004486523,0.2695529474483399,0.1755417322713259,0.17507919889866105,0.6510214840308708,0.7362306059353213,0.7327202010908935,0.746297484055881,0.9146413066704293,0.8112596081096328,0.5016595648665139,0.6641895147947232,0.8121280625723983,0.1989987202376677,0.7183853776547368,0.6303062184478614,0.7147295008910777,0.8899219692059532,0.7431542360555458,0.6998250804562095,0.6883601777174237,0.591828121233792,0.8618560261895021,0.5699203854612614,0.56107492071018,0.7382823941070358,0.32595844012255054,0.2977146636217939,0.6360961486417541,0.6975317856480542,0.529845357334441,0.6277226797035654,0.7372821440618083,0.5253590237406345,0.1833764583759415,0.07874907079636172,0.670306071619237,0.4124259257353181,0.4893817718696938,0.4893817718696938,0.5891509590443196,0.7300646411157554,0.5887860870944133,0.36646260760895033,0.45797898123210556,0.45351418501050555,0.0498350948190286,0.5238957381481001,0.4137499449243528,0.21494294349386034,0.15887289984454303,0.6510214840308708,0.7765115981421592,0.1476734345275376,0.9683333132397988,0.43836315346826676,0.20188349039332817,0.7678332269970851,0.2674442004049138,0.26393241411116425,0.5207697585669256,0.6133769449235907,0.7253108110418957,0.6090996349358517,0.24682269037028082,0.5961691209741827,0.6844857106606322,0.7769350441028311,0.7305814695670537,0.5655028676653623,0.6960215422840296,0.7708928091803389,0.5755550166283311,0.5477353635782427,0.4797806315587061,0.538802854623839,0.6360961486417541,0.8494044945542871,0.3894586854752735,0.615018833477199,0.4809007300647971,0.5118783310734697,0.6895220757848011,0.705027236910458,0.5672046114741919,0.5672046114741919,0.4669281406632445,0.6817629098743762,0.36241805902398694,0.43131613523054996,0.21386498202532897,0.3298448405837685,0.5446175672550667,0.13335165989716452,0.5865117095504672,0.5512100355405082,0.375079265847367,0.35024763774010415,0.19500229150856171,0.722012625192257,0.6303062184478614,0.6261020326801487,0.7359378092349451,0.3937995315204474,0.9031747289386011,0.21113104316305042,0.08257175378620009,0.2499015657160711,0.6655497738150745,0.6566637053878612,0.6485019802679763,0.5521904767914589,0.6723770025004561,0.07229832713038627,0.408210436099156,0.5909330302921874,0.5432725878626107,0.275141933919852,0.5253590237406345,0.619271859415317,0.619271859415317,0.5163747867617464,0.21767835663435653,0.5776580494171151,0.5073799522184704,0.5028803780946249,0.4983803373739822,0.6846874885865463,0.49388055903088784,0.5847870602486782,0.5804098211443179,0.47141107877587773,0.659393930481042,0.73359724277609,0.5672046114741919,0.6335709045759917,0.6396889487108778,0.24447202864986525,0.4815102870064854,0.3304332645872778,0.5315710743502995,0.5671945562991744,0.20097473903346785,0.4093906579185488,0.5440726677036901,0.4956126188497615,0.7362306059353213,0.7563852677073718,0.7291802628998544,0.8140003405530961,0.43836315346826676,0.7870216117215388,0.3835475708919096,0.42072228986747484,0.6176368324939989,0.6133769449235907,0.7035927513593712,0.7730135215495353,0.6004951179046544,0.6229333160500158,0.5455789905601485,0.6266734490693083,0.7407538321537612,0.5343268732984118,0.13674739336899577,0.6118567317434765,0.5709218634783688,0.8222891923480158,0.34760321382262266,0.5483401485201463,0.4758986330647521,0.73359724277609,0.6528058796797589,0.7644791610147592,0.608155374573334,0.3905773354078811,0.4137499449243528,0.15772490014993074,0.40504556733896324,0.26867033196657697,0.3583601476009868,0.6695696952412445,0.8601450926684363,0.7604069785078573,0.6366107522199851,0.9015227270960814,0.7810121124304392,0.8558208946032252,0.9101090366682352,0.7716362132393342,0.8690921555464608,0.9005550671995416,0.9307126245562128,0.827285262870217,0.8843471168177471,0.8926039560553063,0.9079370439148129,0.8346574457372041,0.7383808965746048,0.49388055903088784,0.8468687982289476,0.8789683780289532,0.8301154060389051,0.6672035704986904,0.4225085401622638,0.826297374022866,0.634497845630017,0.5150185261628433,0.5831110969656191,0.9230312899551719,0.9230312899551719,0.8236941384238391,0.9497741214011789,0.9163887499396433,0.8157144644335522,0.9149991811205116,0.7989229140251718,0.2601601383523464,0.8537738188011091,0.9031092762002606,0.7930773145980816,0.8982800871579155,0.24321415423653403,0.16184437973276636,0.3418239265147858,0.8323687441458468,0.8194324940664216,0.9246789027541574,0.7520492024745572,0.7651125687275101,0.8085330064733205,0.8667188127830995,0.9154199177983696,0.7096258643785386,0.5862962134655305,0.8612129059304854,0.8220425336392237,0.8992051288400156,0.35688990861556,0.6218859342878754,0.6774855160451273,0.8129931871662814,0.878575401036087,0.9121570528683849,0.8102410737836889,0.9092293211881288,0.893686648844458,0.8706825258615033,0.8560067715864572,0.906214043507797,0.8949431167672237,0.7779179115607953,0.8513215743389182,0.5126661746396272,0.8590739205101007,0.576942038878554,0.7728933627770344,0.39928228175525915,0.7452753890400016,0.8078062960873019,0.8748188302796699,0.8085330064733205,0.9181659482786615,0.7348888042074143,0.7348888042074143,0.7933701872098831,0.8902209853152286,0.8054949090069311,0.6545548712972791,0.8675423811915588,0.768847413939644,0.6907367873056144,0.7849916732297237,0.7778729795411402,0.6631947705003104,0.6591623495953732,0.8451416549743297,0.8385360041485591,0.5961765092570939,0.9287488542444383,0.8313997043618552,0.9230312899551719,0.8896342060863679,0.9204343734975782,0.8236941384238391,0.8313077181414512,0.9163887499396433,0.8746821903815047,0.9158787158020273,0.906214043507797,0.8850984846212423,0.796015687664146,0.8580277855856546,0.8932386573677574,0.9286182190154184,0.7619812251919956,0.6333646028704584,0.9234155969772551,0.8298138268076364,0.9049695658347394,0.8501296431468185,0.8968496130801172,0.9226446025625442,0.8625049403350897,0.7096258643785386,0.8537413485852798,0.779112673319152,0.8445905665256106,0.6907367873056144,0.8421416439524616,0.8421416439524616,0.6170672881593371,0.6633150313914343,0.8051440605703606,0.6551067573840748,0.6261092167795712,0.6176440799146081,0.5338609142528564,0.6048128275633934,0.9217426887063938,0.9393297180185418,0.919106105295244,0.8916729583341478,0.8074580506174801,0.9107040088044795,0.8415788612512493,0.9015227270960814,0.9206523494654288,0.7747925977285408,0.5521904767914589,0.8685350754113572,0.8843471168177471,0.8321583364464522,0.8708228827259299,0.8687844692788885,0.7313670576248671,0.8581796402635663,0.7997924885537464,0.5687305412248868,0.8445198783373674,0.7827810633272264,0.7183915861388067,0.5293788636469192,0.788222432885044,0.8313997043618552,0.9275484622220295,0.9392725696885587,0.8896342060863679,0.722012625192257,0.8210648462543427,0.9163887499396433,0.8157144644335522,0.9443645619869524,0.8537738188011091,0.9257872720495262,0.8685058721084346,0.8932386573677574,0.8903126978356753,0.9536601123221882,0.8843471168177471,0.7993148713360291,0.8806138167269268,0.9234155969772551,0.8579133868440509,0.8872508803682911,0.7242354085521022,0.7169876929385044,0.6423685259667863,0.6983739556978305,0.6868784270257496,0.6711883128495179,0.8298053690534749,0.8541449387994715,0.6218859342878754,0.9299308603352645,0.9238346317080669,0.917757644282991,0.504228087704386,0.8531305243367964,0.9294131663565026,0.906214043507797,0.796015687664146,0.864479662311887,0.9015227270960814,0.7840751688496433,0.7810121124304392,0.7273318900511443,0.888978599518975,0.9125363565817508,0.5900648704787251,0.9096200141708897,0.7587012041707383,0.976717178491387,0.8488756028904412,0.8767767967716364,0.7383808965746048,0.7278158552725355,0.9140157583563971,0.7242354085521022,0.7624237788569669,0.6901293463364446,0.8491885687858933,0.9178872019315498,0.8243442258422817,0.9189457173131365,0.6913632327507513,0.6428056390234748,0.9068633247433585,0.6091069417617251,0.7989278439383736,0.6192033055133767,0.919106105295244,0.9835045944458379,0.9107040088044795,0.8183074608968353,0.6369699801306424,0.7989229140251718,0.9404583141875847,0.796015687664146,0.7840751688496433,0.8266431512106086,0.5582748767464853,0.8558208946032252,0.7504231096631897,0.6960215422840296,0.7652304567605215,0.7652304567605215,0.8321583364464522,0.8787083846282405,0.7486774560637957,0.7452753890400016,0.7348888042074143,0.9530994885351284,0.8667188127830995,0.846585105972634,0.8049647336822209,0.8625049403350897,0.8026592316427752,0.7451993795304406,0.8537413485852798,0.8537413485852798,0.12765345232506703,0.9020030252458638,0.30797692577536645,0.8630664553209222,0.4691888574393708,0.5610824783507868,0.8896342060863679,0.9263294509598169,0.8210648462543427,0.2248094562857543,0.8554527825113515,0.9136311940183193,0.9163887499396433,0.8102410737836889,0.942790261344585,0.9046729674839388,0.8318170285918439,0.8999130779818862,0.8966235135363657,0.9180172205924007,0.8861754417271273,0.9234155969772551,0.8105854664574703,0.9477624371134968,0.5073799522184704,0.7206259419137335,0.9098941849729933,0.7688829871570553,0.8680258664279414,0.939134902055194,0.5055566730603598,0.791005499122448,0.6907367873056144,0.7696333274119973,0.9275484622220295,0.39639314832337574,0.9480287013134001,0.8129931871662814,0.9107040088044795,0.9258764738420195,0.8999130779818862,0.860206414357066,0.3379325896021009,0.6030607025313104,0.8133641246614493,0.8760024378235499,0.9454805730844226,0.8167537859470477,0.9019430132980193,0.8679674483313214,0.9160161844997448,0.8296291641027298,0.7348888042074143,0.6810725066379572,0.6344059989469383,0.8559747135642309,0.9285834911287368,0.3394845826748053,0.8491885687858933,0.3225056209841735,0.9104870392207456,0.7212255184417337,0.824660527496219,0.8220425336392237,0.6551067573840748,0.7827810633272264,0.9008249088024491,0.9699479654320491,0.8313997043618552,0.8313997043618552,0.9193037139738102,0.9449319961386003,0.9361782363301446,0.39209442526581056,0.852358794672838,0.8157144644335522,0.9032137508827672,0.9092293211881288,0.8519748119557968,0.6844857106606322,0.33539521004654455,0.2567104809525123,0.9219186332523752,0.7871070599499803,0.5985940745885605,0.8861754417271273,0.8830812419228472,0.887316496316808,0.7452753890400016,0.8767767967716364,0.0642894040516751,0.834566883233638,0.8667188127830995,0.8919677954567719,0.8884494627204107,0.8581796402635663,0.9020030252458638,0.8445198783373674,0.8163874162354474,0.7912477896441086,0.09478346766957597,0.8867211869781214,0.6591623495953732,0.7858261619899557,0.08733793744615566,0.7317679268117,0.8860495833174686,0.8210648462543427,0.8184049874908879,0.9149991811205116,0.7196417457941083,0.8804826380925646,0.7880621099575267,0.9077327470886768,0.5609493555384737,0.8560067715864572,0.9373615474437398,0.6201619663399756,0.15941746125348513,0.8654857091163588,0.887978524391502,0.9166363491655798,0.7016411975080729,0.9011933906252754,0.8080926540424314,0.8600934848717713,0.7302496096449003,0.8748188302796699,0.7313670576248671,0.80289786063333,0.9550150132068685,0.9320827899423619,0.4848847040527005,0.9098205473796585,0.05520501142177144,0.6167002171110456,0.8737286877025946,0.7183915861388067,0.8058471014204112,0.6837392282900598,0.6960367012662763,0.771285998234888,0.8576643709285768,0.9163887499396433,0.7645120125986027,0.8577066360676272,0.9036053184401502,0.7901077752798459,0.3063937708174641,0.8949431167672237,0.7747925977285408,0.48849988862590077,0.5944117713856834,0.6571155347190113,0.9034102203350082,0.7383808965746048,0.821860017065589,0.7059028262063886,0.6983739556978305,0.784031136727141,0.8388385365819379,0.25939785708869956,0.8074628217011466,0.9666348923309691,0.8184049874908879,0.9212625078054886,0.9493819213146248,0.9252946623430545,0.7930773145980816,0.9031092762002606,0.7779179115607953,0.977521960390736,0.7619812251919956,0.7486774560637957,0.7452753890400016,0.5208685926304061,0.967945326469219,0.7383808965746048,0.550386080170583,0.781317353060845,0.8680258664279414,0.8918224731404892,0.7021520886125334,0.6945687449616009,0.4695938412879477,0.6510284561981158,0.8259761833446213,0.9694188140166579,0.8724028700822685,0.917757644282991,0.8184049874908879,0.95261218887655,0.9328747510648763,0.801799022800245,0.9246316168896812,0.9015227270960814,0.860206414357066,0.8266431512106086,0.7899989510767388,0.9193617994992304,0.8897565978859827,0.8419757786998798,0.7553904928976142,0.870016655115055,0.9486464620181466,0.7383808965746048,0.9181659482786615,0.8687844692788885,0.7242354085521022,0.9376814296190322,0.8625049403350897,0.9111439411155026,0.5235397997710008,0.8559747135642309,0.6113284754903335,0.8609251928496748,0.7629631578143404,0.8710748208702415,0.9512264205585003,0.6427985927098048,0.917757644282991,0.8823639289546876,0.9149991811205116,0.8157144644335522,0.8509439755128174,0.8843695240528258,0.876641992701519,0.8074580506174801,0.8046440524622327,0.36667246173379087,0.8932386573677574,0.8513215743389182,0.891509896855677,0.7684488114105872,0.7652304567605215,0.9066163818242767,0.8371266271569984,0.9048833293209149,0.8703053783468667,0.9477624371134968,0.6623018726849559,0.9637967110152493,0.7782262404232813,0.7133209124105389,0.5190479138597185,0.6868784270257496,0.8954517838385538,0.8745507207458897,0.7533390057508698,0.6303133694646464,0.8877639563596798,0.9795396257043909,0.9204343734975782,0.8184049874908879,0.8184049874908879,0.8157144644335522,0.945302771094114,0.902481990688908,0.9305849756532002,0.9046729674839388,0.8982800871579155,0.9278778642008473,0.8366028762307555,0.7652304567605215,0.7651125687275101,0.870016655115055,0.6522522661958698,0.7486774560637957,0.8767767967716364,0.7519268412745124,0.9569359763617923,0.8470236433560908,0.66016193041579,0.843578974735868,0.8445198783373674,0.6672035704986904,0.8731929949273631,0.8528602681486557,0.7566609972110026,0.6303133694646464,0.6261092167795712,0.7107417937030709,0.9423351668352261,0.9287488542444383,0.8184049874908879,0.9121570528683849,0.9563591679771701,0.7901077752798459,0.7779179115607953,0.7869970993700991,0.5944117713856834,0.9259230412589398,0.7993148713360291,0.9204556640056207,0.6291747352135415,0.8748188302796699,0.939637968296431,0.7278158552725355,0.797138476414715,0.7059028262063886,0.9278491538892926,0.7939656494999071,0.9315213465262111,0.43131613523054996,0.824660527496219,0.7827810633272264,0.9578909264310805,0.6091069417617251,0.788222432885044,0.9217426887063938,0.6735399689260189,0.5177209976504449,0.9149991811205116,0.9040547300343355,0.8074580506174801,0.8074580506174801,0.9586081877386301,0.7871070599499803,0.792969626603645,0.8732448310928514,0.7716362132393342,0.5284301338825786,0.7563376528057457,0.9777583274410035,0.9765531705981008,0.9740995948213783,0.7418431491349905,0.8667188127830995,0.751974541580677,0.8581796402635663,0.8923894044774574,0.9401557129968319,0.7283967260402648,0.8468687982289476,0.8506379108224825,0.7819380022754125,0.7821879102655332,0.7101287315769751,0.6386621100125468,0.7183915861388067,0.8093709378058187,0.9612712563993321,0.9163887499396433,0.8708521344041233,0.9163887499396433,0.941063102342694,0.9107040088044795,0.9107040088044795,0.8074580506174801,0.914481461555415,0.7861536812951105,0.752878499829099,0.7871070599499803,0.9147106500007254,0.9153673512481381,0.9709310927583843,0.7716362132393342,0.8861754417271273,0.8246981281574476,0.9066163818242767,0.9314417490766425,0.6416836082631403,0.672699914964374,0.8167537859470477,0.8145982295262322,0.9181659482786615,0.846585105972634,0.9082173194526746,0.9440806326185056,0.7242354085521022,0.9310178650487828,0.5325114355848968,0.8700743022555496,0.7096258643785386,0.47141107877587773,0.7939656494999071,0.8269354874590338,0.765632909812443,0.877148404087733,0.4830629931711037,0.8489954429922355,0.803442319061842,0.8053477831901232,0.8381049490603276,0.8451416549743297,0.9515101916396936,0.3682153834918221,0.972590053071039,0.7035927513593712,0.26298397029473713,0.9571042935833659,0.6411220096026589,0.6048054925480524,0.801799022800245,0.6922084611700363,0.951292581558486,0.7448115833945177,0.7871070599499803,0.16430102319686093,0.8664365040619086,0.8535855523852193,0.9109836886990089,0.7755746225096086,0.1388862133739092,0.9239781440595235,0.877389348166423,0.7418431491349905,0.8987126576175328,0.8616550457904693,0.9576716894057017,0.8551579418966145,0.848908407409004,0.8919677954567719,0.8866529926382938,0.6545548712972791,0.17520976713270894,0.6652687112535361,0.49716719514947183,0.5471380415879769,0.7960206706568018,0.8544170555258513,0.7409068244493499,0.888812415462867,0.9205077494096661,0.8775827675718657,0.3751982892645117,0.6576668083556304,0.8575842597618881,0.8964207234023288,0.8519748119557968,0.9181554069775767,0.874551195257425,0.9098175414977165,0.678018788615395,0.9439911642958654,0.8932899945761595,0.6701096831781882,0.5258690953658494,0.654002568519374,0.9300637556105106,0.8591390954448407,0.9094306349463016,0.8808555574241471,0.9351009082460703,0.6416836082631403,0.9049296630459897,0.7343347306061176,0.3399670618172859,0.7134216141790558,0.8730894878446319,0.7349936950163531,0.9088069697212898,0.8323128757566519,0.42630927618586695,0.793412108057807,0.8751448218687364,0.7528105221933856,0.17765166377497896,0.7338427240857611,0.5151628271293631,0.6758018421251039,0.7409068244493499,0.901305743524892,0.7409068244493499,0.9688806443169323,0.7221206841090482,0.8682267731384797,0.9238346317080669,0.7268473872612478,0.8640831362940172,0.8258381262114538,0.973941620573179,0.8173183956773431,0.8183454808900447,0.9582058444890357,0.8898094029228846,0.869798033240157,0.8999361097491891,0.9110889751585265,0.931830247467434,0.9064670183193577,0.576942038878554,0.8468506048041258,0.7016411975080729,0.913801404503675,0.9094960278604729,0.6863530401105513,0.8418167782570601,0.7485539872700441,0.9064430461625792,0.888274622754324,0.9230235033112141,0.7755674928874,0.8320271733285256,0.8448218255329591,0.6749259842430797,0.546532978145719,0.49716719514947183,0.560481079525428,0.7202395391093476,0.5656427042894695,0.9132337882817175,0.8641301476925156,0.9280103914241061,0.9371863415607575,0.7914037941355868,0.8576643709285768,0.9350334004295064,0.853212711985848,0.9561024648126578,0.9570631226893659,0.9415554012420174,0.9369679355262995,0.9244710806766805,0.9232045787380162,0.9212933031323877,0.8266431512106086,0.9745063001408085,0.8240484438376523,0.8133641246614493,0.878765760547898,0.8915346292744439,0.8454515841460997,0.796411867880997,0.9374186968873552,0.9283717668719199,0.9583035180295073,0.876804423755811,0.876804423755811,0.7843773187066877,0.9721905732689046,0.8603870402846038,0.883917208939134,0.915211456777649,0.7908833672201439,0.9557174842733818,0.7064094734209426,0.7026624756242662,0.7026624756242662,0.49716719514947183,0.8556329327626856,0.961764654627341,0.4917706939589025,0.9409259434207254,0.9361183213475577,0.9078327451897473,0.9339313544101173,0.9252253460952897,0.8463197929324264,0.829207525657745,0.888097292585938,0.9206130061662767,0.8751144006380293,0.7868290248884989,0.916575642202246,0.882617133302149,0.8160812252486066,0.821327030483327,0.9123524993503487,0.6499181879259548,0.947821545322807,0.8050275792386623,0.9413099131067648,0.9587349987548234,0.8915346292744439,0.6100301026713604,0.7260887208736586,0.9222593790492061,0.8968496130801172,0.7933701872098831,0.5840537270944817,0.8951724618954898,0.891745830297282,0.8748468335841193,0.889995873750339,0.8887840515847601,0.7624237788569669,0.30702137827543474,0.8893442821829147,0.8965064424657723,0.9196888321931335,0.7353642367081301,0.5332873219203099,0.5739823833079187,0.803827629915912,0.8876996676586548,0.8682267731384797,0.853212711985848,0.9780556160633262,0.8509439755128174,0.8383960890291678,0.930520199496591,0.9239704518352224,0.9443889303659819,0.829207525657745,0.9909851616308276,0.8133641246614493,0.9123524993503487,0.8966472153524481,0.9630574827075287,0.8689205835448702,0.9363989353486876,0.8843732703483123,0.8825198353649022,0.6122255246210117,0.9308699146598819,0.9312824465960701,0.7624237788569669,0.8845966107733593,0.8429569395497529,0.8954757229868906,0.8272846448828404,0.6950864836434701,0.9412938483591118,0.9402912185080885,0.8983426312877896,0.969708273086234,0.9371863415607575,0.853212711985848,0.8509439755128174,0.9577967593428828,0.9316749820083071,0.9293473797218335,0.8415788612512493,0.9150190691386297,0.8950553735872423,0.9670609953029902,0.9244710806766805,0.9424677034305661,0.9513395767929775,0.9552763999128924,0.974949696659284,0.9206130061662767,0.8266431512106086,0.9721722171358319,0.9487046240682049,0.7993148713360291,0.796411867880997,0.793477721114505,0.8880039607211311,0.7349936950163531,0.7875159239727572,0.9685132952668464,0.957578300407499,0.7656688269511954,0.9716997572043242,0.8688136200544876,0.8864214980601169,0.905290779729696,0.8317052896323606,0.9164435453937068,0.7457386394871451,0.6198473762588015,0.8053791610905747,0.8276280183599152,0.7972895463285727,0.8756035215953591,0.8756035215953591,0.558948597006023,0.6912581342247026,0.8242023193980585,0.6677455064042187,0.7856522472130401,0.8662297323540683,0.9757018654797993,0.9636489209598276,0.43796286384269956,0.9677846500015492,0.9346289866505529,0.9385119634561202,0.9811124421038585,0.9745063001408085,0.9667135513689732,0.9109023724536066,0.9574894140289683,0.9821708004886649,0.9146722201229792,0.8021867618803343,0.7100688780724562,0.9624117065290254,0.9460121275225575,0.9559996901317254,0.9617550901061807,0.9696310960310468,0.9690965429944426,0.8642718995771055,0.9088823762013938,0.9685528859219185,0.9536714126747556,0.6081045781351497,0.9731475178422718,0.9668241968438752,0.9553296519989192,0.1620867430760528,0.9656498616682517,0.9327356771943789,0.8994751515018526,0.8893442821829147,0.9209014939764827,0.9303807279911973,0.8103285631333194,0.8532165553970651,0.9039704154756381,0.46022615401885997,0.9428955361969837,0.9642742305212579,0.9399174312657326,0.9734742633288191,0.9786161340737614,0.9346289866505529,0.9039018444461209,0.9715502792975383,0.9654626241637873,0.9648573570363445,0.9694911170390064,0.9843957246141256,0.9661294376376582,0.9584512745327081,0.09436530616083492,0.9123524993503487,0.9782506313294542,0.9636925828401629,0.9160666437004739,0.97800305648708,0.9146722201229792,0.9503976107198424,0.9685528859219185,0.9681132553507451,0.9590168683520833,0.9674376808484456,0.9740724113865799,0.8010267201996046,0.9644800171906197,0.9475289355345892,0.9638128942375864,0.9061106054774717,0.9401700999021252,0.7566685390032996,0.8649112442037872,0.8775782360058454,0.9016314480346843,0.8074628217011466,0.14981514827959105,0.9520545920096722,0.7844882613700687,0.9745231569828697,0.9290581395162756,0.9394168479452839,0.9665150818724317,0.9344551309274639,0.9596702866237917,0.9648573570363445,0.9130314175095355,0.38682108423576705,0.9468769118806537,0.9694400146757415,0.9269663875415403,0.9241494762562262,0.9656915681493319,0.9471021772400121,0.9000233789319008,0.9768394238599688,0.974949696659284,0.950269019956447,0.9711815449528334,0.9422144794558315,0.3825603755974724,0.9662843040910757,0.953451678545504,0.8418508295661777,0.9879305457071031,0.7542025097285523,0.9011495283086851,0.9477750969020674,0.35739314727834703,0.9644283466060934,0.931537658025467,0.9606809597454985,0.981948619365705,0.9597185275487451,0.9701130186962565,0.9336471409169367,0.95629023483846,0.9060307078465544,0.826647548960426,0.9842482995898243,0.983295755171355,0.9325484633770059,0.8123572590639225,0.9298878161494587,0.9783513178909187,0.9468769118806537,0.8945478999069653,0.9302224082849018,0.9612644628270814,0.47889874370460245,0.9666348923309691,0.9158787158020273,0.4034441224278529,0.9758140595809279,0.9797765917482415,0.9839898992980477,0.9574894140289683,0.08985035474386024,0.9336471409169367,0.9274679677855702,0.9450366361448289,0.959385064378551,0.9657797571967411,0.9391497656534193,0.5990607907837698,0.9110889751585265,0.9589308669352006,0.9439651194854282,0.9655439483406717,0.9853617780319711,0.9369151845215236,0.8978959915305827,0.9717481967498304,0.21147123681637958,0.9771766285246527,0.9581182154965954,0.9661211211518531,0.9813136611942791,0.9711815449528334,0.9797360184673248,0.9265368919009456,0.9679286157829958,0.44239743250985003,0.9401700999021252,0.9750257929334474,0.9626707560116445,0.4121379250821651,0.9682582232456926,0.9476541078168523,0.9749128600668231,0.9632691018834297,0.39109918815070127,0.9379707649787257,0.965214748337616,0.5774550916488317,0.9163310706326836,0.9496454674385848,0.9718091840421742,0.9694186857951276,0.9766706134027786,0.9941661801155487,0.9837039488705317,0.9870911328521288,0.6648767482493899,0.9944043860763332,0.9858300904089753,0.995763428498368,0.9939118407992539,0.984824837801337,0.2505617048554479,0.5649706002106463,0.9951759551787119,0.9949865476324736,0.9943576220649251,0.9863517981023234,0.9921975488887858,0.9794955970546064,0.9917102738263663,0.9945317023284143,0.9844150637319619,0.68797377971171,0.9933719104078984,0.9920397126919681,0.7210868827032731,0.9654754706349824,0.991139887043671,0.9650770480096976,0.993856731502803,0.9950887649542915,0.9942557265867015,0.983123321902724,0.9888030131298432,0.9953652832708988,0.40028401761818966,0.9895979243051308,0.5047738666360554,0.9932057365611592,0.9933422995910711,0.9919420580633534,0.9609285020886731,0.993953625724963,0.9467680752632096,0.9843460690002784,0.9886890047629548,0.8496167267869954,0.9907958483996427,0.9906302370938425,0.9936047828576982,0.9943309239984848,0.5170457179176732,0.6505302207711885,0.78229885913898,0.9947355025541028,0.9939389339783183,0.9936731155943431,0.9895727599130945,0.9779899629119534,0.9916184188918598,0.9922153451183329,0.9934718821038584,0.9875419077610226,0.9938442290702152,0.9845490420532655,0.14711328437062984,0.9925687476758346,0.972590053071039,0.9882321557981576,0.9766493119103494,0.9540634752781038,0.9942557265867015,0.9692551995962624,0.9840317626919816,0.9665559140342765,0.9786671704154467,0.9056141183042561,0.965747473227881,0.9605097190456554,0.9544602439171096,0.9419043442182591,0.34291554320004086,0.7875569260776165,0.47198191942102835,0.9044869367957549],\"type\":\"histogram\",\"nbinsx\":100,\"opacity\":0.9}],                        {\"template\":{\"data\":{\"histogram2dcontour\":[{\"type\":\"histogram2dcontour\",\"colorbar\":{\"outlinewidth\":0,\"ticks\":\"\"},\"colorscale\":[[0.0,\"#0d0887\"],[0.1111111111111111,\"#46039f\"],[0.2222222222222222,\"#7201a8\"],[0.3333333333333333,\"#9c179e\"],[0.4444444444444444,\"#bd3786\"],[0.5555555555555556,\"#d8576b\"],[0.6666666666666666,\"#ed7953\"],[0.7777777777777778,\"#fb9f3a\"],[0.8888888888888888,\"#fdca26\"],[1.0,\"#f0f921\"]]}],\"choropleth\":[{\"type\":\"choropleth\",\"colorbar\":{\"outlinewidth\":0,\"ticks\":\"\"}}],\"histogram2d\":[{\"type\":\"histogram2d\",\"colorbar\":{\"outlinewidth\":0,\"ticks\":\"\"},\"colorscale\":[[0.0,\"#0d0887\"],[0.1111111111111111,\"#46039f\"],[0.2222222222222222,\"#7201a8\"],[0.3333333333333333,\"#9c179e\"],[0.4444444444444444,\"#bd3786\"],[0.5555555555555556,\"#d8576b\"],[0.6666666666666666,\"#ed7953\"],[0.7777777777777778,\"#fb9f3a\"],[0.8888888888888888,\"#fdca26\"],[1.0,\"#f0f921\"]]}],\"heatmap\":[{\"type\":\"heatmap\",\"colorbar\":{\"outlinewidth\":0,\"ticks\":\"\"},\"colorscale\":[[0.0,\"#0d0887\"],[0.1111111111111111,\"#46039f\"],[0.2222222222222222,\"#7201a8\"],[0.3333333333333333,\"#9c179e\"],[0.4444444444444444,\"#bd3786\"],[0.5555555555555556,\"#d8576b\"],[0.6666666666666666,\"#ed7953\"],[0.7777777777777778,\"#fb9f3a\"],[0.8888888888888888,\"#fdca26\"],[1.0,\"#f0f921\"]]}],\"heatmapgl\":[{\"type\":\"heatmapgl\",\"colorbar\":{\"outlinewidth\":0,\"ticks\":\"\"},\"colorscale\":[[0.0,\"#0d0887\"],[0.1111111111111111,\"#46039f\"],[0.2222222222222222,\"#7201a8\"],[0.3333333333333333,\"#9c179e\"],[0.4444444444444444,\"#bd3786\"],[0.5555555555555556,\"#d8576b\"],[0.6666666666666666,\"#ed7953\"],[0.7777777777777778,\"#fb9f3a\"],[0.8888888888888888,\"#fdca26\"],[1.0,\"#f0f921\"]]}],\"contourcarpet\":[{\"type\":\"contourcarpet\",\"colorbar\":{\"outlinewidth\":0,\"ticks\":\"\"}}],\"contour\":[{\"type\":\"contour\",\"colorbar\":{\"outlinewidth\":0,\"ticks\":\"\"},\"colorscale\":[[0.0,\"#0d0887\"],[0.1111111111111111,\"#46039f\"],[0.2222222222222222,\"#7201a8\"],[0.3333333333333333,\"#9c179e\"],[0.4444444444444444,\"#bd3786\"],[0.5555555555555556,\"#d8576b\"],[0.6666666666666666,\"#ed7953\"],[0.7777777777777778,\"#fb9f3a\"],[0.8888888888888888,\"#fdca26\"],[1.0,\"#f0f921\"]]}],\"surface\":[{\"type\":\"surface\",\"colorbar\":{\"outlinewidth\":0,\"ticks\":\"\"},\"colorscale\":[[0.0,\"#0d0887\"],[0.1111111111111111,\"#46039f\"],[0.2222222222222222,\"#7201a8\"],[0.3333333333333333,\"#9c179e\"],[0.4444444444444444,\"#bd3786\"],[0.5555555555555556,\"#d8576b\"],[0.6666666666666666,\"#ed7953\"],[0.7777777777777778,\"#fb9f3a\"],[0.8888888888888888,\"#fdca26\"],[1.0,\"#f0f921\"]]}],\"mesh3d\":[{\"type\":\"mesh3d\",\"colorbar\":{\"outlinewidth\":0,\"ticks\":\"\"}}],\"scatter\":[{\"fillpattern\":{\"fillmode\":\"overlay\",\"size\":10,\"solidity\":0.2},\"type\":\"scatter\"}],\"parcoords\":[{\"type\":\"parcoords\",\"line\":{\"colorbar\":{\"outlinewidth\":0,\"ticks\":\"\"}}}],\"scatterpolargl\":[{\"type\":\"scatterpolargl\",\"marker\":{\"colorbar\":{\"outlinewidth\":0,\"ticks\":\"\"}}}],\"bar\":[{\"error_x\":{\"color\":\"#2a3f5f\"},\"error_y\":{\"color\":\"#2a3f5f\"},\"marker\":{\"line\":{\"color\":\"#E5ECF6\",\"width\":0.5},\"pattern\":{\"fillmode\":\"overlay\",\"size\":10,\"solidity\":0.2}},\"type\":\"bar\"}],\"scattergeo\":[{\"type\":\"scattergeo\",\"marker\":{\"colorbar\":{\"outlinewidth\":0,\"ticks\":\"\"}}}],\"scatterpolar\":[{\"type\":\"scatterpolar\",\"marker\":{\"colorbar\":{\"outlinewidth\":0,\"ticks\":\"\"}}}],\"histogram\":[{\"marker\":{\"pattern\":{\"fillmode\":\"overlay\",\"size\":10,\"solidity\":0.2}},\"type\":\"histogram\"}],\"scattergl\":[{\"type\":\"scattergl\",\"marker\":{\"colorbar\":{\"outlinewidth\":0,\"ticks\":\"\"}}}],\"scatter3d\":[{\"type\":\"scatter3d\",\"line\":{\"colorbar\":{\"outlinewidth\":0,\"ticks\":\"\"}},\"marker\":{\"colorbar\":{\"outlinewidth\":0,\"ticks\":\"\"}}}],\"scattermapbox\":[{\"type\":\"scattermapbox\",\"marker\":{\"colorbar\":{\"outlinewidth\":0,\"ticks\":\"\"}}}],\"scatterternary\":[{\"type\":\"scatterternary\",\"marker\":{\"colorbar\":{\"outlinewidth\":0,\"ticks\":\"\"}}}],\"scattercarpet\":[{\"type\":\"scattercarpet\",\"marker\":{\"colorbar\":{\"outlinewidth\":0,\"ticks\":\"\"}}}],\"carpet\":[{\"aaxis\":{\"endlinecolor\":\"#2a3f5f\",\"gridcolor\":\"white\",\"linecolor\":\"white\",\"minorgridcolor\":\"white\",\"startlinecolor\":\"#2a3f5f\"},\"baxis\":{\"endlinecolor\":\"#2a3f5f\",\"gridcolor\":\"white\",\"linecolor\":\"white\",\"minorgridcolor\":\"white\",\"startlinecolor\":\"#2a3f5f\"},\"type\":\"carpet\"}],\"table\":[{\"cells\":{\"fill\":{\"color\":\"#EBF0F8\"},\"line\":{\"color\":\"white\"}},\"header\":{\"fill\":{\"color\":\"#C8D4E3\"},\"line\":{\"color\":\"white\"}},\"type\":\"table\"}],\"barpolar\":[{\"marker\":{\"line\":{\"color\":\"#E5ECF6\",\"width\":0.5},\"pattern\":{\"fillmode\":\"overlay\",\"size\":10,\"solidity\":0.2}},\"type\":\"barpolar\"}],\"pie\":[{\"automargin\":true,\"type\":\"pie\"}]},\"layout\":{\"autotypenumbers\":\"strict\",\"colorway\":[\"#636efa\",\"#EF553B\",\"#00cc96\",\"#ab63fa\",\"#FFA15A\",\"#19d3f3\",\"#FF6692\",\"#B6E880\",\"#FF97FF\",\"#FECB52\"],\"font\":{\"color\":\"#2a3f5f\"},\"hovermode\":\"closest\",\"hoverlabel\":{\"align\":\"left\"},\"paper_bgcolor\":\"white\",\"plot_bgcolor\":\"#E5ECF6\",\"polar\":{\"bgcolor\":\"#E5ECF6\",\"angularaxis\":{\"gridcolor\":\"white\",\"linecolor\":\"white\",\"ticks\":\"\"},\"radialaxis\":{\"gridcolor\":\"white\",\"linecolor\":\"white\",\"ticks\":\"\"}},\"ternary\":{\"bgcolor\":\"#E5ECF6\",\"aaxis\":{\"gridcolor\":\"white\",\"linecolor\":\"white\",\"ticks\":\"\"},\"baxis\":{\"gridcolor\":\"white\",\"linecolor\":\"white\",\"ticks\":\"\"},\"caxis\":{\"gridcolor\":\"white\",\"linecolor\":\"white\",\"ticks\":\"\"}},\"coloraxis\":{\"colorbar\":{\"outlinewidth\":0,\"ticks\":\"\"}},\"colorscale\":{\"sequential\":[[0.0,\"#0d0887\"],[0.1111111111111111,\"#46039f\"],[0.2222222222222222,\"#7201a8\"],[0.3333333333333333,\"#9c179e\"],[0.4444444444444444,\"#bd3786\"],[0.5555555555555556,\"#d8576b\"],[0.6666666666666666,\"#ed7953\"],[0.7777777777777778,\"#fb9f3a\"],[0.8888888888888888,\"#fdca26\"],[1.0,\"#f0f921\"]],\"sequentialminus\":[[0.0,\"#0d0887\"],[0.1111111111111111,\"#46039f\"],[0.2222222222222222,\"#7201a8\"],[0.3333333333333333,\"#9c179e\"],[0.4444444444444444,\"#bd3786\"],[0.5555555555555556,\"#d8576b\"],[0.6666666666666666,\"#ed7953\"],[0.7777777777777778,\"#fb9f3a\"],[0.8888888888888888,\"#fdca26\"],[1.0,\"#f0f921\"]],\"diverging\":[[0,\"#8e0152\"],[0.1,\"#c51b7d\"],[0.2,\"#de77ae\"],[0.3,\"#f1b6da\"],[0.4,\"#fde0ef\"],[0.5,\"#f7f7f7\"],[0.6,\"#e6f5d0\"],[0.7,\"#b8e186\"],[0.8,\"#7fbc41\"],[0.9,\"#4d9221\"],[1,\"#276419\"]]},\"xaxis\":{\"gridcolor\":\"white\",\"linecolor\":\"white\",\"ticks\":\"\",\"title\":{\"standoff\":15},\"zerolinecolor\":\"white\",\"automargin\":true,\"zerolinewidth\":2},\"yaxis\":{\"gridcolor\":\"white\",\"linecolor\":\"white\",\"ticks\":\"\",\"title\":{\"standoff\":15},\"zerolinecolor\":\"white\",\"automargin\":true,\"zerolinewidth\":2},\"scene\":{\"xaxis\":{\"backgroundcolor\":\"#E5ECF6\",\"gridcolor\":\"white\",\"linecolor\":\"white\",\"showbackground\":true,\"ticks\":\"\",\"zerolinecolor\":\"white\",\"gridwidth\":2},\"yaxis\":{\"backgroundcolor\":\"#E5ECF6\",\"gridcolor\":\"white\",\"linecolor\":\"white\",\"showbackground\":true,\"ticks\":\"\",\"zerolinecolor\":\"white\",\"gridwidth\":2},\"zaxis\":{\"backgroundcolor\":\"#E5ECF6\",\"gridcolor\":\"white\",\"linecolor\":\"white\",\"showbackground\":true,\"ticks\":\"\",\"zerolinecolor\":\"white\",\"gridwidth\":2}},\"shapedefaults\":{\"line\":{\"color\":\"#2a3f5f\"}},\"annotationdefaults\":{\"arrowcolor\":\"#2a3f5f\",\"arrowhead\":0,\"arrowwidth\":1},\"geo\":{\"bgcolor\":\"white\",\"landcolor\":\"#E5ECF6\",\"subunitcolor\":\"white\",\"showland\":true,\"showlakes\":true,\"lakecolor\":\"white\"},\"title\":{\"x\":0.05},\"mapbox\":{\"style\":\"light\"}}},\"autosize\":false,\"width\":800,\"height\":400,\"plot_bgcolor\":\"white\",\"xaxis\":{\"title\":{\"text\":\"Probability of Vote\"}}},                        {\"responsive\": true}                    ).then(function(){\n",
              "                            \n",
              "var gd = document.getElementById('0832362d-e06d-4a73-8e00-53cd03b84d51');\n",
              "var x = new MutationObserver(function (mutations, observer) {{\n",
              "        var display = window.getComputedStyle(gd).display;\n",
              "        if (!display || display === 'none') {{\n",
              "            console.log([gd, 'removed!']);\n",
              "            Plotly.purge(gd);\n",
              "            observer.disconnect();\n",
              "        }}\n",
              "}});\n",
              "\n",
              "// Listen for the removal of the full notebook cells\n",
              "var notebookContainer = gd.closest('#notebook-container');\n",
              "if (notebookContainer) {{\n",
              "    x.observe(notebookContainer, {childList: true});\n",
              "}}\n",
              "\n",
              "// Listen for the clearing of the current output cell\n",
              "var outputEl = gd.closest('.output');\n",
              "if (outputEl) {{\n",
              "    x.observe(outputEl, {childList: true});\n",
              "}}\n",
              "\n",
              "                        })                };                            </script>        </div>\n",
              "</body>\n",
              "</html>"
            ]
          },
          "metadata": {}
        }
      ]
    }
  ]
}