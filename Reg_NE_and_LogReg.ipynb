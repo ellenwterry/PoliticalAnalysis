{
  "nbformat": 4,
  "nbformat_minor": 0,
  "metadata": {
    "colab": {
      "provenance": [],
      "authorship_tag": "ABX9TyM/WnhwgDN3TPZaca3tRoKx",
      "include_colab_link": true
    },
    "kernelspec": {
      "name": "python3",
      "display_name": "Python 3"
    },
    "language_info": {
      "name": "python"
    }
  },
  "cells": [
    {
      "cell_type": "markdown",
      "metadata": {
        "id": "view-in-github",
        "colab_type": "text"
      },
      "source": [
        "<a href=\"https://colab.research.google.com/github/ellenwterry/PoliticalAnalysis/blob/main/Reg_NE_and_LogReg.ipynb\" target=\"_parent\"><img src=\"https://colab.research.google.com/assets/colab-badge.svg\" alt=\"Open In Colab\"/></a>"
      ]
    },
    {
      "cell_type": "markdown",
      "source": [
        "Load Libraries"
      ],
      "metadata": {
        "id": "yUOsjDzaufik"
      }
    },
    {
      "cell_type": "code",
      "source": [
        "import matplotlib.pyplot as plt\n",
        "import numpy as np\n",
        "import pandas as pd\n",
        "from scipy import stats\n",
        "import patsy\n",
        "from sklearn.linear_model import LogisticRegression\n",
        "\n",
        "\n",
        "!pip install nest-asyncio\n",
        "import nest_asyncio\n",
        "nest_asyncio.apply()\n",
        "\n",
        "import patsy\n",
        "from sklearn.linear_model import LogisticRegression\n",
        "\n",
        "!pip install pystan==3.7.0\n",
        "#!pip install pystan\n",
        "!pip install corner\n",
        "import stan\n",
        "\n",
        "import plotly.express as px\n",
        "import plotly.graph_objects as go\n",
        "\n",
        "!pip install geopy\n",
        "from geopy.geocoders import Nominatim\n",
        "import matplotlib.pyplot as plt\n",
        "!pip install pygris\n",
        "# import matplotlib.pyplot as plt\n",
        "from pygris import core_based_statistical_areas\n",
        "from pygris import tracts\n",
        "\n",
        "from google.colab import files\n",
        "\n",
        "\n",
        "import geopandas as gpd\n",
        "import folium\n",
        "# from google.colab import files\n"
      ],
      "metadata": {
        "id": "G9vYtDP_eAij"
      },
      "execution_count": null,
      "outputs": []
    },
    {
      "cell_type": "markdown",
      "source": [
        "Get Data"
      ],
      "metadata": {
        "id": "ss-RECEruwjo"
      }
    },
    {
      "cell_type": "code",
      "source": [
        "# ---------- Get Data from Github ---------- #\n",
        "\n",
        "url = 'https://raw.githubusercontent.com/ellenwterry/PoliticalAnalysis/main/VoteBase.csv'\n",
        "VoteBase = pd.read_csv(url)"
      ],
      "metadata": {
        "id": "nEk2b3mGgIXh"
      },
      "execution_count": 61,
      "outputs": []
    },
    {
      "cell_type": "markdown",
      "source": [
        "Tidy Data"
      ],
      "metadata": {
        "id": "DYdBz2E5u1Va"
      }
    },
    {
      "cell_type": "code",
      "source": [
        "# ---------- Clean up data ---------- #\n",
        "\n",
        "from sklearn import preprocessing\n",
        "le = preprocessing.LabelEncoder()\n",
        "\n",
        "le.fit(VoteBase['Sex'])\n",
        "\n",
        "codes = {'NR':0, 'M': 1, 'F': 2}\n",
        "VoteBase['Sex'] = VoteBase['Sex'].map(codes)\n",
        "\n",
        "VoteBase['Age']=VoteBase.Age.astype('int32')\n",
        "\n",
        "#VoteBase['LastPrimary'] = le.transform(VoteBase['LastPrimary'])\n",
        "codes = {'NR':0, 'R': 1, 'D':2}\n",
        "VoteBase['LastPrimary'] = VoteBase['LastPrimary'].map(codes)\n",
        "\n",
        "#VoteBase['Education'] = le.transform(VoteBase['Education'])\n",
        "codes = {'NR':0, 'HS': 1, 'Some College':2, 'Bachelor':3, 'Masters':4, 'Doctorate':5}\n",
        "VoteBase['Education'] = VoteBase['Education'].map(codes)\n",
        "\n",
        "#VoteBase['HHIncome'] = le.transform(VoteBase['HHIncome'])\n",
        "codes = {'NR':0, 'Under 50k': 1, '50k-100k':2, '100k-200k':3, '200k-300k':4, '300k-500k':5, 'Over 500k':6}\n",
        "VoteBase['HHIncome'] = VoteBase['HHIncome'].map(codes)\n",
        "\n",
        "#VoteBase['ReligiousAffil'] = le.transform(VoteBase['ReligiousAffil'])\n",
        "codes = {'NR':0,'Protestant': 1, 'Catholic':2, 'Other':3, 'None':4}\n",
        "VoteBase['ReligiousAffil'] = VoteBase['ReligiousAffil'].map(codes)\n",
        "\n",
        "#VoteBase['Support24'] = le.transform(VoteBase['Support24'])\n",
        "codes = {'R':0, 'D': 1}\n",
        "VoteBase['Support24'] = VoteBase['Support24'].map(codes)\n",
        "# NOTE: NAs were excluded from sample so that algorithms could score using logistic scale - 2nd pass will use imputed values\n",
        "\n",
        "#VoteBase['TopIssue'] = le.transform(VoteBase['TopIssue'])\n",
        "codes = {'NR':0, 'RFree':1, 'Parents':2, 'Crime':3, 'Economy':4, 'Womens':5, 'Education':6, 'Environment':7, 'Democracy':8}\n",
        "VoteBase['TopIssue'] = VoteBase['TopIssue'].map(codes)\n",
        "\n",
        "# This is for the second data source (later)\n",
        "codes = {'NS':0, 'NR':1,'Signed':2}\n",
        "VoteBase['RRPetition'] = VoteBase['RRPetition'].map(codes)"
      ],
      "metadata": {
        "id": "bOha1ArygIhY"
      },
      "execution_count": 62,
      "outputs": []
    },
    {
      "cell_type": "markdown",
      "source": [
        "Split into Training and Test Sets"
      ],
      "metadata": {
        "id": "ELXUZnIou9DK"
      }
    },
    {
      "cell_type": "code",
      "source": [
        "#np.random.randint(0, 10, size=4)\n",
        "rows = VoteBase.shape[0]-1\n",
        "testInd = np.random.randint(0, (VoteBase.shape[0]-1), size=100)\n",
        "tstBase = VoteBase[VoteBase.index.isin(testInd)]\n",
        "trainBase = VoteBase[~VoteBase.index.isin(tstBase)]\n"
      ],
      "metadata": {
        "id": "VhvBvipmJi7B"
      },
      "execution_count": 63,
      "outputs": []
    },
    {
      "cell_type": "code",
      "source": [
        "yTrain = trainBase['Support24']\n",
        "yTest = tstBase['Support24']\n",
        "Xmatrix = patsy.dmatrix('Age + Sex + Education + HHIncome+ ReligiousAffil + LastPrimary + TopIssue', trainBase)\n",
        "tstMatrix = patsy.dmatrix('Age + Sex + Education + HHIncome+ ReligiousAffil + LastPrimary + TopIssue', tstBase)\n",
        "rows = Xmatrix.shape[0]\n",
        "columns = Xmatrix.shape[1]\n",
        "rows, columns"
      ],
      "metadata": {
        "colab": {
          "base_uri": "https://localhost:8080/"
        },
        "id": "dEEzs2WbgXqt",
        "outputId": "8ef67764-5753-4889-ff43-51e3391ea497"
      },
      "execution_count": 64,
      "outputs": [
        {
          "output_type": "execute_result",
          "data": {
            "text/plain": [
              "(2498, 8)"
            ]
          },
          "metadata": {},
          "execution_count": 64
        }
      ]
    },
    {
      "cell_type": "markdown",
      "source": [
        "Train LogReg Model"
      ],
      "metadata": {
        "id": "g5WoIiVg7Iki"
      }
    },
    {
      "cell_type": "code",
      "source": [
        "model = LogisticRegression(solver='sag')\n",
        "model.fit(Xmatrix, yTrain)\n",
        "Pred = model.predict(Xmatrix)\n",
        "Probs = pd.DataFrame(model.predict_proba(tstMatrix))\n",
        "theta = np.matrix(model.coef_)\n",
        "intercept = model.intercept_\n",
        "Probs[1]"
      ],
      "metadata": {
        "colab": {
          "base_uri": "https://localhost:8080/"
        },
        "id": "VpRrP2aqgX0C",
        "outputId": "3eebb28c-0c30-46f5-e8a1-7e9f53017da4"
      },
      "execution_count": 65,
      "outputs": [
        {
          "output_type": "stream",
          "name": "stderr",
          "text": [
            "/usr/local/lib/python3.10/dist-packages/sklearn/linear_model/_sag.py:350: ConvergenceWarning:\n",
            "\n",
            "The max_iter was reached which means the coef_ did not converge\n",
            "\n"
          ]
        },
        {
          "output_type": "execute_result",
          "data": {
            "text/plain": [
              "0     0.179316\n",
              "1     0.185081\n",
              "2     0.083378\n",
              "3     0.358175\n",
              "4     0.076757\n",
              "        ...   \n",
              "93    0.914493\n",
              "94    0.973976\n",
              "95    0.929655\n",
              "96    0.993319\n",
              "97    0.990596\n",
              "Name: 1, Length: 98, dtype: float64"
            ]
          },
          "metadata": {},
          "execution_count": 65
        }
      ]
    },
    {
      "cell_type": "code",
      "source": [],
      "metadata": {
        "id": "iaWD3UCkmY-J"
      },
      "execution_count": null,
      "outputs": []
    },
    {
      "cell_type": "markdown",
      "source": [
        "Select Test Samples and Confirm using Equation."
      ],
      "metadata": {
        "id": "7Y4vLTFUv5pE"
      }
    },
    {
      "cell_type": "code",
      "source": [
        "def stable_sigmoid(x):\n",
        "  # Using np.where to avoid numerical overflow or underflow.\n",
        "  return np.where(x >= 0, 1 / (1 + np.exp(-x)), np.exp(x) / (1 + np.exp(x)))\n",
        "\n",
        "# This logreg algorithm breaks out the bias separately for analysis with multinomials.\n",
        "\n",
        "Prob2 = stable_sigmoid((np.dot(model.coef_,tstMatrix[0].transpose())+ model.intercept_).transpose())\n",
        "Prob2"
      ],
      "metadata": {
        "colab": {
          "base_uri": "https://localhost:8080/"
        },
        "id": "eN4HzVnImVYb",
        "outputId": "1d4240f0-ccc5-42bc-927a-b9ed47fc0f08"
      },
      "execution_count": 66,
      "outputs": [
        {
          "output_type": "execute_result",
          "data": {
            "text/plain": [
              "array([0.17931555])"
            ]
          },
          "metadata": {},
          "execution_count": 66
        }
      ]
    },
    {
      "cell_type": "code",
      "source": [
        "Probs[1]"
      ],
      "metadata": {
        "colab": {
          "base_uri": "https://localhost:8080/"
        },
        "id": "-o-C6eOfKZj5",
        "outputId": "a55a3a00-6b1e-4364-8e5e-3d4963f25a37"
      },
      "execution_count": 67,
      "outputs": [
        {
          "output_type": "execute_result",
          "data": {
            "text/plain": [
              "0     0.179316\n",
              "1     0.185081\n",
              "2     0.083378\n",
              "3     0.358175\n",
              "4     0.076757\n",
              "        ...   \n",
              "93    0.914493\n",
              "94    0.973976\n",
              "95    0.929655\n",
              "96    0.993319\n",
              "97    0.990596\n",
              "Name: 1, Length: 98, dtype: float64"
            ]
          },
          "metadata": {},
          "execution_count": 67
        }
      ]
    },
    {
      "cell_type": "code",
      "source": [
        "VoteBase['Prob'] = pd.DataFrame(model.predict_proba(Xmatrix))[1]"
      ],
      "metadata": {
        "id": "FJjNM2N3Hmv_"
      },
      "execution_count": 88,
      "outputs": []
    },
    {
      "cell_type": "code",
      "source": [
        "VoteBase"
      ],
      "metadata": {
        "colab": {
          "base_uri": "https://localhost:8080/",
          "height": 423
        },
        "id": "ekDquEAEHmo8",
        "outputId": "05fec914-9012-4b75-f5f7-f4aa9a462d50"
      },
      "execution_count": 89,
      "outputs": [
        {
          "output_type": "execute_result",
          "data": {
            "text/plain": [
              "        ID        Name  Sex  Age  LastPrimary  Latitude  Longitude  Education  \\\n",
              "0        1     Voter 1    1   51            0  41.00544  -73.62954          2   \n",
              "1        2     Voter 2    1   52            0  41.04027  -73.63011          2   \n",
              "2        3     Voter 3    2   54            0  41.05734  -73.65044          3   \n",
              "3        4     Voter 4    1   59            0  41.03255  -73.60403          2   \n",
              "4        5     Voter 5    1   36            0  41.06684  -73.57837          2   \n",
              "...    ...         ...  ...  ...          ...       ...        ...        ...   \n",
              "2493  2494  Voter 2494    2   62            0  41.07108  -73.63842          4   \n",
              "2494  2495  Voter 2495    2   62            2  41.03758  -73.57932          3   \n",
              "2495  2496  Voter 2496    2   65            2  41.01605  -73.58949          3   \n",
              "2496  2497  Voter 2497    1   67            2  40.99031  -73.65605          0   \n",
              "2497  2498  Voter 2498    2   90            2  41.02249  -73.57073          3   \n",
              "\n",
              "      HHIncome  ReligiousAffil  Support24  TopIssue  RRPetition      Prob  \n",
              "0            3               1          0         0           0  0.362846  \n",
              "1            2               1          0         0           0  0.251569  \n",
              "2            6               1          1         4           0  0.763076  \n",
              "3            3               1          0         0           0  0.330180  \n",
              "4            3               4          0         0           0  0.932369  \n",
              "...        ...             ...        ...       ...         ...       ...  \n",
              "2493         3               4          1         5           1  0.941773  \n",
              "2494         3               0          1         5           1  0.342222  \n",
              "2495         6               1          1         0           1  0.786879  \n",
              "2496         6               0          1         0           1  0.470675  \n",
              "2497         3               4          1         0           1  0.904100  \n",
              "\n",
              "[2498 rows x 14 columns]"
            ],
            "text/html": [
              "\n",
              "  <div id=\"df-9906ff91-921e-432a-9c6c-77f12313f9b8\" class=\"colab-df-container\">\n",
              "    <div>\n",
              "<style scoped>\n",
              "    .dataframe tbody tr th:only-of-type {\n",
              "        vertical-align: middle;\n",
              "    }\n",
              "\n",
              "    .dataframe tbody tr th {\n",
              "        vertical-align: top;\n",
              "    }\n",
              "\n",
              "    .dataframe thead th {\n",
              "        text-align: right;\n",
              "    }\n",
              "</style>\n",
              "<table border=\"1\" class=\"dataframe\">\n",
              "  <thead>\n",
              "    <tr style=\"text-align: right;\">\n",
              "      <th></th>\n",
              "      <th>ID</th>\n",
              "      <th>Name</th>\n",
              "      <th>Sex</th>\n",
              "      <th>Age</th>\n",
              "      <th>LastPrimary</th>\n",
              "      <th>Latitude</th>\n",
              "      <th>Longitude</th>\n",
              "      <th>Education</th>\n",
              "      <th>HHIncome</th>\n",
              "      <th>ReligiousAffil</th>\n",
              "      <th>Support24</th>\n",
              "      <th>TopIssue</th>\n",
              "      <th>RRPetition</th>\n",
              "      <th>Prob</th>\n",
              "    </tr>\n",
              "  </thead>\n",
              "  <tbody>\n",
              "    <tr>\n",
              "      <th>0</th>\n",
              "      <td>1</td>\n",
              "      <td>Voter 1</td>\n",
              "      <td>1</td>\n",
              "      <td>51</td>\n",
              "      <td>0</td>\n",
              "      <td>41.00544</td>\n",
              "      <td>-73.62954</td>\n",
              "      <td>2</td>\n",
              "      <td>3</td>\n",
              "      <td>1</td>\n",
              "      <td>0</td>\n",
              "      <td>0</td>\n",
              "      <td>0</td>\n",
              "      <td>0.362846</td>\n",
              "    </tr>\n",
              "    <tr>\n",
              "      <th>1</th>\n",
              "      <td>2</td>\n",
              "      <td>Voter 2</td>\n",
              "      <td>1</td>\n",
              "      <td>52</td>\n",
              "      <td>0</td>\n",
              "      <td>41.04027</td>\n",
              "      <td>-73.63011</td>\n",
              "      <td>2</td>\n",
              "      <td>2</td>\n",
              "      <td>1</td>\n",
              "      <td>0</td>\n",
              "      <td>0</td>\n",
              "      <td>0</td>\n",
              "      <td>0.251569</td>\n",
              "    </tr>\n",
              "    <tr>\n",
              "      <th>2</th>\n",
              "      <td>3</td>\n",
              "      <td>Voter 3</td>\n",
              "      <td>2</td>\n",
              "      <td>54</td>\n",
              "      <td>0</td>\n",
              "      <td>41.05734</td>\n",
              "      <td>-73.65044</td>\n",
              "      <td>3</td>\n",
              "      <td>6</td>\n",
              "      <td>1</td>\n",
              "      <td>1</td>\n",
              "      <td>4</td>\n",
              "      <td>0</td>\n",
              "      <td>0.763076</td>\n",
              "    </tr>\n",
              "    <tr>\n",
              "      <th>3</th>\n",
              "      <td>4</td>\n",
              "      <td>Voter 4</td>\n",
              "      <td>1</td>\n",
              "      <td>59</td>\n",
              "      <td>0</td>\n",
              "      <td>41.03255</td>\n",
              "      <td>-73.60403</td>\n",
              "      <td>2</td>\n",
              "      <td>3</td>\n",
              "      <td>1</td>\n",
              "      <td>0</td>\n",
              "      <td>0</td>\n",
              "      <td>0</td>\n",
              "      <td>0.330180</td>\n",
              "    </tr>\n",
              "    <tr>\n",
              "      <th>4</th>\n",
              "      <td>5</td>\n",
              "      <td>Voter 5</td>\n",
              "      <td>1</td>\n",
              "      <td>36</td>\n",
              "      <td>0</td>\n",
              "      <td>41.06684</td>\n",
              "      <td>-73.57837</td>\n",
              "      <td>2</td>\n",
              "      <td>3</td>\n",
              "      <td>4</td>\n",
              "      <td>0</td>\n",
              "      <td>0</td>\n",
              "      <td>0</td>\n",
              "      <td>0.932369</td>\n",
              "    </tr>\n",
              "    <tr>\n",
              "      <th>...</th>\n",
              "      <td>...</td>\n",
              "      <td>...</td>\n",
              "      <td>...</td>\n",
              "      <td>...</td>\n",
              "      <td>...</td>\n",
              "      <td>...</td>\n",
              "      <td>...</td>\n",
              "      <td>...</td>\n",
              "      <td>...</td>\n",
              "      <td>...</td>\n",
              "      <td>...</td>\n",
              "      <td>...</td>\n",
              "      <td>...</td>\n",
              "      <td>...</td>\n",
              "    </tr>\n",
              "    <tr>\n",
              "      <th>2493</th>\n",
              "      <td>2494</td>\n",
              "      <td>Voter 2494</td>\n",
              "      <td>2</td>\n",
              "      <td>62</td>\n",
              "      <td>0</td>\n",
              "      <td>41.07108</td>\n",
              "      <td>-73.63842</td>\n",
              "      <td>4</td>\n",
              "      <td>3</td>\n",
              "      <td>4</td>\n",
              "      <td>1</td>\n",
              "      <td>5</td>\n",
              "      <td>1</td>\n",
              "      <td>0.941773</td>\n",
              "    </tr>\n",
              "    <tr>\n",
              "      <th>2494</th>\n",
              "      <td>2495</td>\n",
              "      <td>Voter 2495</td>\n",
              "      <td>2</td>\n",
              "      <td>62</td>\n",
              "      <td>2</td>\n",
              "      <td>41.03758</td>\n",
              "      <td>-73.57932</td>\n",
              "      <td>3</td>\n",
              "      <td>3</td>\n",
              "      <td>0</td>\n",
              "      <td>1</td>\n",
              "      <td>5</td>\n",
              "      <td>1</td>\n",
              "      <td>0.342222</td>\n",
              "    </tr>\n",
              "    <tr>\n",
              "      <th>2495</th>\n",
              "      <td>2496</td>\n",
              "      <td>Voter 2496</td>\n",
              "      <td>2</td>\n",
              "      <td>65</td>\n",
              "      <td>2</td>\n",
              "      <td>41.01605</td>\n",
              "      <td>-73.58949</td>\n",
              "      <td>3</td>\n",
              "      <td>6</td>\n",
              "      <td>1</td>\n",
              "      <td>1</td>\n",
              "      <td>0</td>\n",
              "      <td>1</td>\n",
              "      <td>0.786879</td>\n",
              "    </tr>\n",
              "    <tr>\n",
              "      <th>2496</th>\n",
              "      <td>2497</td>\n",
              "      <td>Voter 2497</td>\n",
              "      <td>1</td>\n",
              "      <td>67</td>\n",
              "      <td>2</td>\n",
              "      <td>40.99031</td>\n",
              "      <td>-73.65605</td>\n",
              "      <td>0</td>\n",
              "      <td>6</td>\n",
              "      <td>0</td>\n",
              "      <td>1</td>\n",
              "      <td>0</td>\n",
              "      <td>1</td>\n",
              "      <td>0.470675</td>\n",
              "    </tr>\n",
              "    <tr>\n",
              "      <th>2497</th>\n",
              "      <td>2498</td>\n",
              "      <td>Voter 2498</td>\n",
              "      <td>2</td>\n",
              "      <td>90</td>\n",
              "      <td>2</td>\n",
              "      <td>41.02249</td>\n",
              "      <td>-73.57073</td>\n",
              "      <td>3</td>\n",
              "      <td>3</td>\n",
              "      <td>4</td>\n",
              "      <td>1</td>\n",
              "      <td>0</td>\n",
              "      <td>1</td>\n",
              "      <td>0.904100</td>\n",
              "    </tr>\n",
              "  </tbody>\n",
              "</table>\n",
              "<p>2498 rows × 14 columns</p>\n",
              "</div>\n",
              "    <div class=\"colab-df-buttons\">\n",
              "\n",
              "  <div class=\"colab-df-container\">\n",
              "    <button class=\"colab-df-convert\" onclick=\"convertToInteractive('df-9906ff91-921e-432a-9c6c-77f12313f9b8')\"\n",
              "            title=\"Convert this dataframe to an interactive table.\"\n",
              "            style=\"display:none;\">\n",
              "\n",
              "  <svg xmlns=\"http://www.w3.org/2000/svg\" height=\"24px\" viewBox=\"0 -960 960 960\">\n",
              "    <path d=\"M120-120v-720h720v720H120Zm60-500h600v-160H180v160Zm220 220h160v-160H400v160Zm0 220h160v-160H400v160ZM180-400h160v-160H180v160Zm440 0h160v-160H620v160ZM180-180h160v-160H180v160Zm440 0h160v-160H620v160Z\"/>\n",
              "  </svg>\n",
              "    </button>\n",
              "\n",
              "  <style>\n",
              "    .colab-df-container {\n",
              "      display:flex;\n",
              "      gap: 12px;\n",
              "    }\n",
              "\n",
              "    .colab-df-convert {\n",
              "      background-color: #E8F0FE;\n",
              "      border: none;\n",
              "      border-radius: 50%;\n",
              "      cursor: pointer;\n",
              "      display: none;\n",
              "      fill: #1967D2;\n",
              "      height: 32px;\n",
              "      padding: 0 0 0 0;\n",
              "      width: 32px;\n",
              "    }\n",
              "\n",
              "    .colab-df-convert:hover {\n",
              "      background-color: #E2EBFA;\n",
              "      box-shadow: 0px 1px 2px rgba(60, 64, 67, 0.3), 0px 1px 3px 1px rgba(60, 64, 67, 0.15);\n",
              "      fill: #174EA6;\n",
              "    }\n",
              "\n",
              "    .colab-df-buttons div {\n",
              "      margin-bottom: 4px;\n",
              "    }\n",
              "\n",
              "    [theme=dark] .colab-df-convert {\n",
              "      background-color: #3B4455;\n",
              "      fill: #D2E3FC;\n",
              "    }\n",
              "\n",
              "    [theme=dark] .colab-df-convert:hover {\n",
              "      background-color: #434B5C;\n",
              "      box-shadow: 0px 1px 3px 1px rgba(0, 0, 0, 0.15);\n",
              "      filter: drop-shadow(0px 1px 2px rgba(0, 0, 0, 0.3));\n",
              "      fill: #FFFFFF;\n",
              "    }\n",
              "  </style>\n",
              "\n",
              "    <script>\n",
              "      const buttonEl =\n",
              "        document.querySelector('#df-9906ff91-921e-432a-9c6c-77f12313f9b8 button.colab-df-convert');\n",
              "      buttonEl.style.display =\n",
              "        google.colab.kernel.accessAllowed ? 'block' : 'none';\n",
              "\n",
              "      async function convertToInteractive(key) {\n",
              "        const element = document.querySelector('#df-9906ff91-921e-432a-9c6c-77f12313f9b8');\n",
              "        const dataTable =\n",
              "          await google.colab.kernel.invokeFunction('convertToInteractive',\n",
              "                                                    [key], {});\n",
              "        if (!dataTable) return;\n",
              "\n",
              "        const docLinkHtml = 'Like what you see? Visit the ' +\n",
              "          '<a target=\"_blank\" href=https://colab.research.google.com/notebooks/data_table.ipynb>data table notebook</a>'\n",
              "          + ' to learn more about interactive tables.';\n",
              "        element.innerHTML = '';\n",
              "        dataTable['output_type'] = 'display_data';\n",
              "        await google.colab.output.renderOutput(dataTable, element);\n",
              "        const docLink = document.createElement('div');\n",
              "        docLink.innerHTML = docLinkHtml;\n",
              "        element.appendChild(docLink);\n",
              "      }\n",
              "    </script>\n",
              "  </div>\n",
              "\n",
              "\n",
              "<div id=\"df-6e5eb3db-2aa1-48b5-9543-0fe1664c73f0\">\n",
              "  <button class=\"colab-df-quickchart\" onclick=\"quickchart('df-6e5eb3db-2aa1-48b5-9543-0fe1664c73f0')\"\n",
              "            title=\"Suggest charts\"\n",
              "            style=\"display:none;\">\n",
              "\n",
              "<svg xmlns=\"http://www.w3.org/2000/svg\" height=\"24px\"viewBox=\"0 0 24 24\"\n",
              "     width=\"24px\">\n",
              "    <g>\n",
              "        <path d=\"M19 3H5c-1.1 0-2 .9-2 2v14c0 1.1.9 2 2 2h14c1.1 0 2-.9 2-2V5c0-1.1-.9-2-2-2zM9 17H7v-7h2v7zm4 0h-2V7h2v10zm4 0h-2v-4h2v4z\"/>\n",
              "    </g>\n",
              "</svg>\n",
              "  </button>\n",
              "\n",
              "<style>\n",
              "  .colab-df-quickchart {\n",
              "      --bg-color: #E8F0FE;\n",
              "      --fill-color: #1967D2;\n",
              "      --hover-bg-color: #E2EBFA;\n",
              "      --hover-fill-color: #174EA6;\n",
              "      --disabled-fill-color: #AAA;\n",
              "      --disabled-bg-color: #DDD;\n",
              "  }\n",
              "\n",
              "  [theme=dark] .colab-df-quickchart {\n",
              "      --bg-color: #3B4455;\n",
              "      --fill-color: #D2E3FC;\n",
              "      --hover-bg-color: #434B5C;\n",
              "      --hover-fill-color: #FFFFFF;\n",
              "      --disabled-bg-color: #3B4455;\n",
              "      --disabled-fill-color: #666;\n",
              "  }\n",
              "\n",
              "  .colab-df-quickchart {\n",
              "    background-color: var(--bg-color);\n",
              "    border: none;\n",
              "    border-radius: 50%;\n",
              "    cursor: pointer;\n",
              "    display: none;\n",
              "    fill: var(--fill-color);\n",
              "    height: 32px;\n",
              "    padding: 0;\n",
              "    width: 32px;\n",
              "  }\n",
              "\n",
              "  .colab-df-quickchart:hover {\n",
              "    background-color: var(--hover-bg-color);\n",
              "    box-shadow: 0 1px 2px rgba(60, 64, 67, 0.3), 0 1px 3px 1px rgba(60, 64, 67, 0.15);\n",
              "    fill: var(--button-hover-fill-color);\n",
              "  }\n",
              "\n",
              "  .colab-df-quickchart-complete:disabled,\n",
              "  .colab-df-quickchart-complete:disabled:hover {\n",
              "    background-color: var(--disabled-bg-color);\n",
              "    fill: var(--disabled-fill-color);\n",
              "    box-shadow: none;\n",
              "  }\n",
              "\n",
              "  .colab-df-spinner {\n",
              "    border: 2px solid var(--fill-color);\n",
              "    border-color: transparent;\n",
              "    border-bottom-color: var(--fill-color);\n",
              "    animation:\n",
              "      spin 1s steps(1) infinite;\n",
              "  }\n",
              "\n",
              "  @keyframes spin {\n",
              "    0% {\n",
              "      border-color: transparent;\n",
              "      border-bottom-color: var(--fill-color);\n",
              "      border-left-color: var(--fill-color);\n",
              "    }\n",
              "    20% {\n",
              "      border-color: transparent;\n",
              "      border-left-color: var(--fill-color);\n",
              "      border-top-color: var(--fill-color);\n",
              "    }\n",
              "    30% {\n",
              "      border-color: transparent;\n",
              "      border-left-color: var(--fill-color);\n",
              "      border-top-color: var(--fill-color);\n",
              "      border-right-color: var(--fill-color);\n",
              "    }\n",
              "    40% {\n",
              "      border-color: transparent;\n",
              "      border-right-color: var(--fill-color);\n",
              "      border-top-color: var(--fill-color);\n",
              "    }\n",
              "    60% {\n",
              "      border-color: transparent;\n",
              "      border-right-color: var(--fill-color);\n",
              "    }\n",
              "    80% {\n",
              "      border-color: transparent;\n",
              "      border-right-color: var(--fill-color);\n",
              "      border-bottom-color: var(--fill-color);\n",
              "    }\n",
              "    90% {\n",
              "      border-color: transparent;\n",
              "      border-bottom-color: var(--fill-color);\n",
              "    }\n",
              "  }\n",
              "</style>\n",
              "\n",
              "  <script>\n",
              "    async function quickchart(key) {\n",
              "      const quickchartButtonEl =\n",
              "        document.querySelector('#' + key + ' button');\n",
              "      quickchartButtonEl.disabled = true;  // To prevent multiple clicks.\n",
              "      quickchartButtonEl.classList.add('colab-df-spinner');\n",
              "      try {\n",
              "        const charts = await google.colab.kernel.invokeFunction(\n",
              "            'suggestCharts', [key], {});\n",
              "      } catch (error) {\n",
              "        console.error('Error during call to suggestCharts:', error);\n",
              "      }\n",
              "      quickchartButtonEl.classList.remove('colab-df-spinner');\n",
              "      quickchartButtonEl.classList.add('colab-df-quickchart-complete');\n",
              "    }\n",
              "    (() => {\n",
              "      let quickchartButtonEl =\n",
              "        document.querySelector('#df-6e5eb3db-2aa1-48b5-9543-0fe1664c73f0 button');\n",
              "      quickchartButtonEl.style.display =\n",
              "        google.colab.kernel.accessAllowed ? 'block' : 'none';\n",
              "    })();\n",
              "  </script>\n",
              "</div>\n",
              "\n",
              "  <div id=\"id_46bef672-ce99-4c98-8739-f9532f74f825\">\n",
              "    <style>\n",
              "      .colab-df-generate {\n",
              "        background-color: #E8F0FE;\n",
              "        border: none;\n",
              "        border-radius: 50%;\n",
              "        cursor: pointer;\n",
              "        display: none;\n",
              "        fill: #1967D2;\n",
              "        height: 32px;\n",
              "        padding: 0 0 0 0;\n",
              "        width: 32px;\n",
              "      }\n",
              "\n",
              "      .colab-df-generate:hover {\n",
              "        background-color: #E2EBFA;\n",
              "        box-shadow: 0px 1px 2px rgba(60, 64, 67, 0.3), 0px 1px 3px 1px rgba(60, 64, 67, 0.15);\n",
              "        fill: #174EA6;\n",
              "      }\n",
              "\n",
              "      [theme=dark] .colab-df-generate {\n",
              "        background-color: #3B4455;\n",
              "        fill: #D2E3FC;\n",
              "      }\n",
              "\n",
              "      [theme=dark] .colab-df-generate:hover {\n",
              "        background-color: #434B5C;\n",
              "        box-shadow: 0px 1px 3px 1px rgba(0, 0, 0, 0.15);\n",
              "        filter: drop-shadow(0px 1px 2px rgba(0, 0, 0, 0.3));\n",
              "        fill: #FFFFFF;\n",
              "      }\n",
              "    </style>\n",
              "    <button class=\"colab-df-generate\" onclick=\"generateWithVariable('VoteBase')\"\n",
              "            title=\"Generate code using this dataframe.\"\n",
              "            style=\"display:none;\">\n",
              "\n",
              "  <svg xmlns=\"http://www.w3.org/2000/svg\" height=\"24px\"viewBox=\"0 0 24 24\"\n",
              "       width=\"24px\">\n",
              "    <path d=\"M7,19H8.4L18.45,9,17,7.55,7,17.6ZM5,21V16.75L18.45,3.32a2,2,0,0,1,2.83,0l1.4,1.43a1.91,1.91,0,0,1,.58,1.4,1.91,1.91,0,0,1-.58,1.4L9.25,21ZM18.45,9,17,7.55Zm-12,3A5.31,5.31,0,0,0,4.9,8.1,5.31,5.31,0,0,0,1,6.5,5.31,5.31,0,0,0,4.9,4.9,5.31,5.31,0,0,0,6.5,1,5.31,5.31,0,0,0,8.1,4.9,5.31,5.31,0,0,0,12,6.5,5.46,5.46,0,0,0,6.5,12Z\"/>\n",
              "  </svg>\n",
              "    </button>\n",
              "    <script>\n",
              "      (() => {\n",
              "      const buttonEl =\n",
              "        document.querySelector('#id_46bef672-ce99-4c98-8739-f9532f74f825 button.colab-df-generate');\n",
              "      buttonEl.style.display =\n",
              "        google.colab.kernel.accessAllowed ? 'block' : 'none';\n",
              "\n",
              "      buttonEl.onclick = () => {\n",
              "        google.colab.notebook.generateWithVariable('VoteBase');\n",
              "      }\n",
              "      })();\n",
              "    </script>\n",
              "  </div>\n",
              "\n",
              "    </div>\n",
              "  </div>\n"
            ],
            "application/vnd.google.colaboratory.intrinsic+json": {
              "type": "dataframe",
              "variable_name": "VoteBase",
              "summary": "{\n  \"name\": \"VoteBase\",\n  \"rows\": 2498,\n  \"fields\": [\n    {\n      \"column\": \"ID\",\n      \"properties\": {\n        \"dtype\": \"number\",\n        \"std\": 721,\n        \"min\": 1,\n        \"max\": 2498,\n        \"num_unique_values\": 2498,\n        \"samples\": [\n          2294,\n          1865,\n          903\n        ],\n        \"semantic_type\": \"\",\n        \"description\": \"\"\n      }\n    },\n    {\n      \"column\": \"Name\",\n      \"properties\": {\n        \"dtype\": \"string\",\n        \"num_unique_values\": 2498,\n        \"samples\": [\n          \"Voter 2294\",\n          \"Voter 1865\",\n          \"Voter 903\"\n        ],\n        \"semantic_type\": \"\",\n        \"description\": \"\"\n      }\n    },\n    {\n      \"column\": \"Sex\",\n      \"properties\": {\n        \"dtype\": \"number\",\n        \"std\": 0,\n        \"min\": 1,\n        \"max\": 2,\n        \"num_unique_values\": 2,\n        \"samples\": [\n          2,\n          1\n        ],\n        \"semantic_type\": \"\",\n        \"description\": \"\"\n      }\n    },\n    {\n      \"column\": \"Age\",\n      \"properties\": {\n        \"dtype\": \"int32\",\n        \"num_unique_values\": 80,\n        \"samples\": [\n          75,\n          51\n        ],\n        \"semantic_type\": \"\",\n        \"description\": \"\"\n      }\n    },\n    {\n      \"column\": \"LastPrimary\",\n      \"properties\": {\n        \"dtype\": \"number\",\n        \"std\": 0,\n        \"min\": 0,\n        \"max\": 2,\n        \"num_unique_values\": 3,\n        \"samples\": [\n          0,\n          2\n        ],\n        \"semantic_type\": \"\",\n        \"description\": \"\"\n      }\n    },\n    {\n      \"column\": \"Latitude\",\n      \"properties\": {\n        \"dtype\": \"number\",\n        \"std\": 0.025668932771855203,\n        \"min\": 40.99031,\n        \"max\": 41.20214,\n        \"num_unique_values\": 1672,\n        \"samples\": [\n          41.03876,\n          41.09038\n        ],\n        \"semantic_type\": \"\",\n        \"description\": \"\"\n      }\n    },\n    {\n      \"column\": \"Longitude\",\n      \"properties\": {\n        \"dtype\": \"number\",\n        \"std\": 0.03609867078460551,\n        \"min\": -73.71461,\n        \"max\": -73.22756,\n        \"num_unique_values\": 1751,\n        \"samples\": [\n          -73.66495,\n          -73.61965\n        ],\n        \"semantic_type\": \"\",\n        \"description\": \"\"\n      }\n    },\n    {\n      \"column\": \"Education\",\n      \"properties\": {\n        \"dtype\": \"number\",\n        \"std\": 1,\n        \"min\": 0,\n        \"max\": 5,\n        \"num_unique_values\": 6,\n        \"samples\": [\n          2,\n          3\n        ],\n        \"semantic_type\": \"\",\n        \"description\": \"\"\n      }\n    },\n    {\n      \"column\": \"HHIncome\",\n      \"properties\": {\n        \"dtype\": \"number\",\n        \"std\": 0,\n        \"min\": 0,\n        \"max\": 6,\n        \"num_unique_values\": 6,\n        \"samples\": [\n          3,\n          2\n        ],\n        \"semantic_type\": \"\",\n        \"description\": \"\"\n      }\n    },\n    {\n      \"column\": \"ReligiousAffil\",\n      \"properties\": {\n        \"dtype\": \"number\",\n        \"std\": 1,\n        \"min\": 0,\n        \"max\": 4,\n        \"num_unique_values\": 5,\n        \"samples\": [\n          4,\n          0\n        ],\n        \"semantic_type\": \"\",\n        \"description\": \"\"\n      }\n    },\n    {\n      \"column\": \"Support24\",\n      \"properties\": {\n        \"dtype\": \"number\",\n        \"std\": 0,\n        \"min\": 0,\n        \"max\": 1,\n        \"num_unique_values\": 2,\n        \"samples\": [\n          1,\n          0\n        ],\n        \"semantic_type\": \"\",\n        \"description\": \"\"\n      }\n    },\n    {\n      \"column\": \"TopIssue\",\n      \"properties\": {\n        \"dtype\": \"number\",\n        \"std\": 2,\n        \"min\": 0,\n        \"max\": 8,\n        \"num_unique_values\": 9,\n        \"samples\": [\n          6,\n          4\n        ],\n        \"semantic_type\": \"\",\n        \"description\": \"\"\n      }\n    },\n    {\n      \"column\": \"RRPetition\",\n      \"properties\": {\n        \"dtype\": \"number\",\n        \"std\": 0,\n        \"min\": 0,\n        \"max\": 2,\n        \"num_unique_values\": 3,\n        \"samples\": [\n          0,\n          2\n        ],\n        \"semantic_type\": \"\",\n        \"description\": \"\"\n      }\n    },\n    {\n      \"column\": \"Prob\",\n      \"properties\": {\n        \"dtype\": \"number\",\n        \"std\": 0.3300707336840851,\n        \"min\": 0.015799640722799747,\n        \"max\": 0.9957502732888185,\n        \"num_unique_values\": 2056,\n        \"samples\": [\n          0.03291587268875155,\n          0.8157729766376547\n        ],\n        \"semantic_type\": \"\",\n        \"description\": \"\"\n      }\n    }\n  ]\n}"
            }
          },
          "metadata": {},
          "execution_count": 89
        }
      ]
    },
    {
      "cell_type": "code",
      "source": [
        "fig = go.Figure()\n",
        "fig.add_trace(go.Histogram(x=VoteBase['Prob'], marker_color='#378796', opacity=0.05, name = \"Vote Prob\"))\n",
        "fig.update_layout(barmode='overlay')\n",
        "fig.update_traces(opacity=0.9, nbinsx=100)\n",
        "fig.update_layout(\n",
        "    autosize=False,\n",
        "    width=800,\n",
        "    height=400,\n",
        "    plot_bgcolor = \"white\",\n",
        "    xaxis=dict(title='Probability of Vote',),\n",
        ")\n",
        "\n",
        "fig.show()"
      ],
      "metadata": {
        "colab": {
          "base_uri": "https://localhost:8080/",
          "height": 417
        },
        "id": "dYs5oMjJHmgD",
        "outputId": "575dd044-b1fc-4366-f67e-9fb832e17efe"
      },
      "execution_count": 90,
      "outputs": [
        {
          "output_type": "display_data",
          "data": {
            "text/html": [
              "<html>\n",
              "<head><meta charset=\"utf-8\" /></head>\n",
              "<body>\n",
              "    <div>            <script src=\"https://cdnjs.cloudflare.com/ajax/libs/mathjax/2.7.5/MathJax.js?config=TeX-AMS-MML_SVG\"></script><script type=\"text/javascript\">if (window.MathJax && window.MathJax.Hub && window.MathJax.Hub.Config) {window.MathJax.Hub.Config({SVG: {font: \"STIX-Web\"}});}</script>                <script type=\"text/javascript\">window.PlotlyConfig = {MathJaxConfig: 'local'};</script>\n",
              "        <script charset=\"utf-8\" src=\"https://cdn.plot.ly/plotly-2.24.1.min.js\"></script>                <div id=\"4e90425a-1d76-4d0f-b171-18440d9c5bdb\" class=\"plotly-graph-div\" style=\"height:400px; width:800px;\"></div>            <script type=\"text/javascript\">                                    window.PLOTLYENV=window.PLOTLYENV || {};                                    if (document.getElementById(\"4e90425a-1d76-4d0f-b171-18440d9c5bdb\")) {                    Plotly.newPlot(                        \"4e90425a-1d76-4d0f-b171-18440d9c5bdb\",                        [{\"marker\":{\"color\":\"#378796\"},\"name\":\"Vote Prob\",\"opacity\":0.9,\"x\":[0.36284649377529354,0.2515693656126952,0.7630757684166566,0.3301797155247511,0.9323685151232215,0.28682785554927903,0.48136247903320134,0.44749691558354066,0.5225800251395715,0.7115155510738232,0.35981523421938183,0.4696901764127091,0.6611002149284846,0.8040721324867298,0.5792311815054338,0.6516600169674436,0.9540939041706761,0.7079700727630203,0.7255044396184586,0.7763352061823071,0.8581357334982873,0.8308027658549401,0.29216529797448654,0.10131879935442088,0.1179182937320527,0.17931554857701568,0.9243607573601283,0.7755134445660133,0.5112448270628175,0.9022075080709757,0.9126029104448008,0.8747800754447788,0.8448080114942437,0.9353820454740592,0.07720325868577693,0.5669407166472391,0.08315907014902797,0.16101819435707565,0.14200193869936065,0.021963779608767667,0.12300365965544137,0.09737919565935932,0.6917297827736163,0.0760455379220052,0.24205839584693783,0.32684694205237125,0.034423934990582064,0.10326421209884724,0.08891154584365432,0.07759511615870499,0.1310038518809255,0.05340604963062053,0.6359692190958848,0.08738020349684249,0.18417331563271114,0.09897664674035957,0.20708319984153445,0.06601198582150669,0.10760197751728277,0.06352334146908123,0.18508149289063996,0.03506280123631604,0.1951239366312132,0.022117270161068965,0.06693619048699186,0.10378981173318205,0.053860731673119625,0.09949623559868816,0.6191025942463803,0.10924869797339193,0.07073130104629588,0.1512553119430949,0.12110034547446605,0.1376619252721459,0.6736566604975451,0.11834206647361506,0.13750267382968695,0.08763118962886106,0.04476763515475994,0.08337762409610537,0.09808005055211484,0.1531850350006905,0.09745352364139077,0.0792594578849846,0.1527724109941348,0.05614191741288349,0.19680082523700226,0.06502058201690834,0.23409890679660467,0.14719980417847392,0.03671832927782715,0.0460721565477074,0.06570410563765271,0.06725516691571659,0.08763118962886106,0.07963214749530675,0.08923517985861244,0.11490232552847447,0.053149013791388436,0.11709085988399859,0.11161000019957415,0.1923058979306103,0.08673350458112188,0.3581752019297772,0.09187837886655897,0.17430777908445755,0.14820199684512803,0.10856465404157675,0.029302336440224633,0.08834569653368603,0.15673717355025288,0.08194148802405934,0.18967214985659303,0.1176187141448928,0.20484667749600657,0.1876754198310536,0.2039112555954129,0.04754152032235742,0.18538997657023557,0.05038497152667584,0.06593225246683283,0.026551719888158118,0.2762512153822135,0.15653703928607268,0.130997011163995,0.19557226351191329,0.04910264929088143,0.060831555255796435,0.06095711010728518,0.12043398301670705,0.09649552048952782,0.0767569263410764,0.07179620319156488,0.06175778229156374,0.07060306098745883,0.10156496415679862,0.08767655384413456,0.413304553163107,0.07072489774557024,0.12808349056717538,0.10280225938617783,0.20557072469358123,0.06413010526031894,0.14872540924104316,0.18782117573239634,0.13136142582549526,0.11288499908790806,0.015799640722799747,0.20573357976362075,0.2403955862283187,0.11001560942175863,0.09030100265887635,0.5357094027487531,0.619779420495393,0.06393811519074064,0.11737033989680998,0.034145255016616374,0.11533592913263394,0.1510242336689985,0.04141620817124969,0.1156173051029552,0.14809367192405745,0.15127477110138499,0.07470498289169804,0.1349494379132755,0.08540036487739015,0.1558206129152809,0.058970858645271254,0.11929890909935743,0.09968772899216917,0.17330958701006022,0.2029397300610194,0.11400049675418529,0.09603898511333893,0.09588648506037867,0.16500121743822355,0.10808184769510326,0.1402764385178482,0.12496326968383122,0.15098164172118422,0.46342599927408423,0.04099147493674314,0.1506216566708251,0.13327881110765966,0.4226655933150902,0.03291587268875155,0.15505344855293515,0.13285700620965413,0.18361644663854554,0.04213871619911848,0.11161000019957415,0.1335317041509921,0.11813847932224635,0.2622230360659157,0.1272983691639311,0.05651039180177895,0.08624402560109289,0.1771901708255136,0.04851736897734593,0.13204773707154782,0.1876671653314948,0.1684736734128664,0.18889015331562653,0.6305956622399442,0.23802172533686333,0.08763118962886106,0.18661797818235473,0.08284395079833451,0.09038399934627246,0.11958294560468757,0.0664246095545984,0.2470465646099488,0.3019916470236873,0.13921774163010678,0.12905779769224768,0.11072506871588436,0.06863270268345477,0.23660078690614264,0.14583179277965258,0.5691030551925348,0.21860231587685433,0.09633389125493438,0.18962679890852993,0.25517358751144203,0.15701962476791093,0.04433848734764224,0.059961046914343764,0.13491429886940098,0.04398814914132126,0.16528817138358773,0.2060827477341004,0.1734709040719821,0.07857160466733894,0.10663842567255664,0.1907710511336443,0.11564595677200816,0.12343480232264785,0.4924734667386806,0.2737065355225482,0.14696732375640503,0.11739936832457769,0.12499391007982728,0.08930407741279345,0.275916943841107,0.117207267478362,0.22800834536089443,0.14659629386783662,0.12499391007982728,0.21592478754354166,0.14187919170038488,0.13541598666117094,0.17621966368108116,0.11099126453400658,0.44018888717539806,0.15399382727895775,0.2773078730633919,0.17870589909166984,0.18393677055408045,0.16091459535011723,0.12110034547446605,0.21828779338596055,0.12563446169838235,0.18736998145480688,0.09228268188363725,0.2008808300298565,0.2809382666745639,0.13957533318855234,0.10828787814322993,0.1381299080542311,0.18618377303157702,0.24802979715290355,0.1576953309475495,0.09197233215282649,0.12463399558881033,0.13331743584468556,0.14895385341328432,0.31727212416096245,0.20379282030839393,0.2008808300298565,0.18751357192047044,0.05044172914458767,0.1377955921018593,0.22522954620889687,0.2764789091813094,0.22209668991877596,0.17446982917922205,0.16823950023017684,0.19515059601193344,0.3519688023979163,0.25141023596721174,0.12312512579495395,0.17914113790494388,0.16835782646856037,0.13775612554649055,0.15230209900523273,0.13043871895415504,0.11564595677200816,0.10673467646085814,0.0865141975980487,0.08203027495606197,0.38771911280362303,0.1575813507804849,0.22346352914287573,0.3007650448033873,0.377765613530252,0.23391825483761639,0.25595095905473625,0.13720279841772343,0.17275538682849317,0.23788939834785897,0.05578877671024968,0.10392604025829758,0.21066883604699302,0.2290558298703994,0.16765912114903816,0.16268362945989978,0.15544437001326722,0.33928745956889567,0.1530903966362334,0.15076570708553047,0.20379282030839393,0.1312462301848039,0.36300269984403316,0.11981822921146001,0.13957533318855234,0.1645862879922173,0.19233226429313027,0.19233226429313027,0.1352977892413103,0.1895450489994975,0.033175875596510786,0.12247928433137684,0.12707437787748127,0.17870589909166984,0.08940936939130809,0.19779565016779385,0.17884622261256986,0.07356052669779252,0.1734709040719821,0.1851099559392069,0.11928183826282181,0.16584669948416988,0.11737033989680998,0.1119058981220349,0.15610171818501437,0.15610171818501437,0.15610171818501437,0.10663842567255664,0.17071676091325977,0.14458271545971657,0.07927990724102545,0.15464616456112892,0.17911885067528177,0.044092290480713524,0.11399523999961204,0.0666898189729612,0.11421636480617768,0.10350972933707304,0.08795078150432754,0.031086011485689846,0.0441705529540589,0.057595906991495464,0.09388649493111424,0.0547273019094471,0.8193877977747428,0.2650382619989706,0.24784148223521502,0.26639452675006986,0.24449335635701316,0.12698040376034633,0.23788939834785897,0.34584876198805586,0.13508088354130587,0.13298672705724848,0.2607397700880765,0.1288808580245116,0.2878366125126163,0.16559019734040878,0.10713062456559377,0.1563591274443788,0.2008808300298565,0.13957533318855234,0.17838506516170155,0.15349837955962284,0.13320078793824733,0.17870589909166984,0.22554400049274237,0.181809685786043,0.0934902735475035,0.16336566953571707,0.1407920433164935,0.04629185780227315,0.16091459535011723,0.14655473512093595,0.17851693577454658,0.12346489361641301,0.11012527774249775,0.13066036239121878,0.15610171818501437,0.2622772442600179,0.14910319178645245,0.1817871400823776,0.09995557518006029,0.20804475500923308,0.03697110683071287,0.09212738959517865,0.12366581388195694,0.12796010861242985,0.10864145189783206,0.1746153371639,0.11240363389160056,0.06832550478143762,0.06606388676374042,0.3295088507190993,0.48925743719584586,0.2755464391672131,0.14373710722798352,0.09197282869512814,0.17797343851539238,0.24117595791016777,0.24117595791016777,0.1701920914168781,0.28722969563041945,0.14018845489678028,0.2219222537381878,0.1602408283938172,0.09582000571014918,0.21882240770249345,0.33637962259893567,0.20673610252302219,0.14847012964577358,0.27232686318508925,0.14620348751733517,0.2008808300298565,0.19800010172692004,0.2274872826842178,0.20787840604055313,0.09511735416201889,0.12908929393849491,0.0981796599413393,0.1356659509063838,0.153455215974141,0.16584669948416988,0.16584669948416988,0.125430800764888,0.0654035035014318,0.10836953286963658,0.10836953286963658,0.10836953286963658,0.19559249800329728,0.14458271545971657,0.09834404898913478,0.044092290480713524,0.08963849671401493,0.23009902504023083,0.1337789716807617,0.1897791262120612,0.08915330518793764,0.08626610817393994,0.06210259625390483,0.08370461294540778,0.057974373693629386,0.32553495907864965,0.8673878844969258,0.9172082904829141,0.186030797740315,0.2034919468907396,0.24784148223521502,0.36932158625369205,0.31138129264151115,0.04158112709622873,0.2219222537381878,0.2219222537381878,0.1784337629389943,0.21575385435947392,0.15544437001326722,0.23765596328128566,0.2813022592988341,0.20673610252302219,0.20024130878354696,0.197367486448387,0.14396559902903547,0.15824604261762187,0.1917134290735764,0.19307335300398684,0.13957533318855234,0.10646180903475783,0.17520502171897376,0.14260408494619714,0.12908929393849491,0.21202408737202585,0.17870589909166984,0.09978879048023055,0.16835782646856037,0.0699558158064666,0.26775403767452055,0.1537396023382499,0.14910319178645245,0.15412544651577625,0.13145197195759958,0.1953092711828746,0.07053695758222131,0.06594950962119553,0.10690652184100334,0.07681700215764443,0.0269955846117214,0.8220425922201361,0.19436668491214637,0.19436668491214637,0.827708988125845,0.07827144577030994,0.16779981038350394,0.2512202119228005,0.18331417483346601,0.6114013229868887,0.22783062597488712,0.13704623613836267,0.21055651392192049,0.23788939834785897,0.23140918182055872,0.13298672705724848,0.22821568840376963,0.1288808580245116,0.06732958104067291,0.2219222537381878,0.06509862533344239,0.15544437001326722,0.17320505862836535,0.1530903966362334,0.209710696986163,0.14847012964577358,0.23118017671736305,0.14396559902903547,0.23067362975503905,0.14175627784828593,0.05782136708138933,0.19815192019198394,0.07965708995822045,0.19233226429313027,0.20787840604055313,0.1867888838071559,0.14886796398676008,0.13113135951940147,0.12707437787748127,0.14794745952109906,0.22839361931448973,0.13356412480234084,0.09720198582436733,0.2586404717631102,0.23516987189498065,0.09834404898913478,0.0574801069520254,0.08915330518793764,0.12366581388195694,0.11938797580581491,0.0848544815034278,0.11980795500504839,0.08971939595861984,0.03216171314022662,0.11605450722116084,0.08438253799571795,0.8694495446624079,0.34117097391895873,0.8673878844969258,0.34314100125611224,0.33310703087614635,0.24784148223521502,0.32706303648769686,0.24537436995128661,0.14373710722798352,0.19770565691128394,0.175349130513652,0.22821568840376963,0.29806065041833396,0.22274591352682485,0.21814135997721767,0.2961205784069743,0.2219222537381878,0.23193653058638616,0.8236857617588872,0.2005299054453695,0.1530903966362334,0.3704566288833659,0.11535324959119723,0.14396559902903547,0.05981888556326967,0.14749042697987588,0.2617337026539288,0.10994359682509247,0.13957533318855234,0.1895450489994975,0.1352977892413103,0.11606450199217161,0.1781212380424951,0.24136083341281306,0.19501785485886733,0.18136939603296925,0.1404122306252474,0.12312512579495395,0.17089918529414927,0.1211903484326885,0.16835782646856037,0.20069186384544555,0.15796207793012007,0.08611997993287435,0.6224496507948474,0.14458271545971657,0.21945734667561553,0.12762988436029463,0.1736157541609509,0.04633646550750765,0.050141705518604945,0.08539583543546837,0.1362140585656727,0.1095296050826189,0.09878817409761921,0.38771911280362303,0.4078104711526797,0.9271032282986515,0.24077585003142082,0.1887783736856476,0.28271807744850114,0.18331417483346601,0.18062841956115974,0.18062841956115974,0.17797343851539238,0.2868610945073814,0.17320505862836535,0.2105012955136857,0.20024130878354696,0.19800010172692004,0.08402316373569202,0.13742257001401506,0.19233226429313027,0.13320078793824733,0.13320078793824733,0.05401283451003186,0.23190953069544537,0.12908929393849491,0.27645681741328093,0.17607310399139964,0.17033476788869337,0.12698063650132269,0.16584669948416988,0.16336566953571707,0.16336566953571707,0.16336566953571707,0.045501781155791426,0.17188638099709963,0.11012527774249775,0.1537396023382499,0.10836953286963658,0.15140681696169392,0.14236549890341962,0.09995557518006029,0.17590233733741317,0.07668553666848094,0.13588364848043183,0.12149005391085795,0.03697110683071287,0.09862312386547101,0.09120388890402142,0.04571936911855,0.04341503310314165,0.1315673208312984,0.10371289551815342,0.06387199757167461,0.09254632164886073,0.8449454880820297,0.12196884209791133,0.10703405950444525,0.24060117338542675,0.11815678394887486,0.23731999688238373,0.2340697748186446,0.3310464260398931,0.24784148223521502,0.38959784580796314,0.1407927625604943,0.2213799687782264,0.13935267500331047,0.26831477979650464,0.175349130513652,0.19941781651830398,0.34584876198805586,0.2219222537381878,0.29237376550774496,0.25498168787334197,0.197367486448387,0.20379282030839393,0.27048974616274074,0.14396559902903547,0.2008808300298565,0.21553599732712564,0.30608393539871254,0.1352977892413103,0.30605893782178173,0.13320078793824733,0.10078128783643477,0.15490161420118329,0.13113135951940147,0.18136939603296925,0.12908929393849491,0.2925598966297509,0.17607310399139964,0.3460772812152023,0.1734709040719821,0.22839361931448973,0.21001834073517303,0.1770838032976729,0.14643522949947207,0.24535633067620863,0.19262062779891023,0.239844437419458,0.18983021581755613,0.14458271545971657,0.18813027544967886,0.041706658217240476,0.11573243976885818,0.14101662450380847,0.21621151612514933,0.18159563906171694,0.08209395289267282,0.15967141907701035,0.07681700215764443,0.10371289551815342,0.10778220684277198,0.07701658868160655,0.3224173488446969,0.8517781085456556,0.28458644742922257,0.3058444842251341,0.13851015902254238,0.31608578024997047,0.2213799687782264,0.2213799687782264,0.14153071278630694,0.13935267500331047,0.21828557241821103,0.20622109092092022,0.27608586420649617,0.3337072338449854,0.268932324528366,0.19465736348719384,0.05035294059489015,0.26189708049627,0.25842431361020124,0.32263802190241736,0.175617567804993,0.175617567804993,0.10579370477375928,0.23822591904717497,0.16791818315252843,0.7823655802796478,0.17189493460405647,0.13995325066459874,0.2651702944312995,0.21001834073517303,0.06198866793854803,0.25551606060592613,0.17588632839138976,0.18779639062249084,0.18164501953059858,0.30468455866599375,0.07797284479330291,0.12528957676839594,0.07293974645920948,0.22555345841159963,0.047178305286128236,0.11573243976885818,0.06776125449392549,0.204551031305338,0.8431329039400212,0.1563462764889785,0.062279951425570294,0.10510609389238237,0.09850868321875836,0.205390282840575,0.32532514039438903,0.2439132069568701,0.15520096295042612,0.2340697748186446,0.2340697748186446,0.18226215767983628,0.23085059275578884,0.3096883762164454,0.23085059275578884,0.22766252462170847,0.14373710722798352,0.31608578024997047,0.13935267500331047,0.212190689339745,0.8326148938886917,0.12174056015771961,0.2980266560759005,0.27608586420649617,0.3600143493299753,0.27249441278716174,0.19465736348719384,0.11648052031162871,0.2515693656126952,0.24483621785504311,0.17824502492658112,0.15349837955962284,0.0988021984596486,0.16541230936203563,0.16293650845467766,0.14213912498720924,0.1556880884682726,0.09442669705049392,0.20704052577420795,0.14870483865253775,0.08843337952750045,0.2040940245946642,0.08900276263488412,0.22500486624872623,0.13422086300625224,0.1300826077222968,0.11573243976885818,0.1138987411649799,0.04637383503836907,0.10854892988562519,0.15967141907701035,0.06020551373068254,0.09850868321875836,0.13823702704479499,0.18179519383050285,0.03639906577668418,0.05077102270192266,0.2439132069568701,0.3135587562589327,0.2519372019940077,0.3058444842251341,0.0597146291533997,0.30202742849279485,0.2721538457269268,0.29447515103122635,0.21828557241821103,0.1342601655187688,0.20328326192181723,0.20328326192181723,0.21947403557668504,0.17580411888815353,0.12024587197167882,0.2653998134527889,0.17824502492658112,0.24483621785504311,0.31566380663875643,0.23496711228726738,0.23496711228726738,0.10646180903475783,0.23173932299688654,0.10475759562332743,0.21913971176457545,0.21913971176457545,0.18117823763406998,0.19262062779891023,0.11772545702653486,0.18164501953059858,0.18164501953059858,0.07416922569636021,0.16610351985969124,0.204551031305338,0.14344414422880908,0.08223386448504316,0.9367798552046751,0.2439132069568701,0.24060117338542675,0.20940338443136558,0.23821755314201945,0.5118583632783303,0.33307093606096994,0.4274187953544493,0.4335000695929002,0.4335464113943453,0.2033286437243405,0.28335593445627844,0.28335593445627844,0.7485374406245175,0.29426580825076143,0.37122961862451065,0.28315132392818965,0.32747149942970627,0.17565813511703426,0.35454593152344255,0.34633204040440296,0.2617023067826675,0.23496711228726738,0.254790281816013,0.1013957965778509,0.28720751563438496,0.14336188463792354,0.30669238565927337,0.2040940245946642,0.2220686184745944,0.21896730334236614,0.19262062779891023,0.12532028571467477,0.08408840868452347,0.2661785844019993,0.17120197609420984,0.3572419602129855,0.10854892988562519,0.1538498901393972,0.14468755750304138,0.21486762589461367,0.43627227389459683,0.5118583632783303,0.8520192857594219,0.42300906434413976,0.42300906434413976,0.21408246645541792,0.43471668055881635,0.3172369289706049,0.26853952716488955,0.3600789068969986,0.2699251559613981,0.48798410279305887,0.13625256816148693,0.367028000185627,0.2758844824143306,0.2758844824143306,0.2482397794919351,0.24488802479463967,0.35454593152344255,0.2617023067826675,0.2582312190235604,0.33418221348050964,0.24799949291473145,0.2283649856275636,0.2283649856275636,0.2283649856275636,0.3028693649205037,0.2220686184745944,0.2128585684244424,0.2010169025397752,0.07746802370950573,0.2449929366148575,0.19528373552696587,0.1896752654491392,0.25918983803149137,0.18419100047143672,0.23895088972420925,0.4877508869211859,0.17692279748567188,0.31751597484396565,0.5085575690604601,0.29781938047176343,0.3370908438609144,0.3172369289706049,0.5422565912214503,0.14497129052685387,0.3390741853492247,0.8172056188224341,0.27614186556317866,0.3621201152924298,0.29426580825076143,0.34562078873553265,0.367028000185627,0.17725664349231263,0.36284649377529354,0.4278729007246487,0.2758844824143306,0.4146772064418211,0.317638912716146,0.43867467930894166,0.5790246268948654,0.20541895736425198,0.3422588267369103,0.33418221348050964,0.5324715407142873,0.7472580280112853,0.2413310824882093,0.5390171072491146,0.2220686184745944,0.26909897091011187,0.26909897091011187,0.2128585684244424,0.39778606444447795,0.3386241101794118,0.3386241101794118,0.2805111724928159,0.23837974223507552,0.5349924389136236,0.18797639072076736,0.1085760449578185,0.17720733077264905,0.18735316610630406,0.13610164037781528,0.3210750699382394,0.46743577294208144,0.12772426881581003,0.15885413187588038,0.9612004895533552,0.499537055011289,0.400402157613192,0.5159923738215911,0.48719876613764307,0.481502800324371,0.481502800324371,0.5780165542630541,0.481502800324371,0.3832064396173542,0.25653049558933955,0.3621201152924298,0.2654544420776139,0.679973656707652,0.26195124523181273,0.4652456026243317,0.23122997885093585,0.4367286110264286,0.4234619495684582,0.42518229565825866,0.33503003779206963,0.1679573342771215,0.3098695729606333,0.3098695729606333,0.4271159271817093,0.6311464729222312,0.3929624534031078,0.6893989734398644,0.29841493690391957,0.7651646125355154,0.19108478235526302,0.38438858209885607,0.19217575605466433,0.6539881786292038,0.2779056456167558,0.5112448270628175,0.43599599980715165,0.18117823763406998,0.35085033220302986,0.13554781551746606,0.6453911580298981,0.6186055759025093,0.25172895757060904,0.3697645697813168,0.14005528535036388,0.521504438039199,0.278650868934101,0.37925414022834464,0.9502766438344227,0.6271611820622521,0.404741534055797,0.37495020189669903,0.3059039710967739,0.28740444049235203,0.2214282677484825,0.3874798882574092,0.481502800324371,0.3513080258444608,0.8004542685310161,0.5691909524425086,0.27254995992577896,0.7442071424454806,0.8475995226088755,0.37710368113070597,0.4278729007246487,0.317638912716146,0.30777702100576637,0.3137411883249922,0.6395067039660062,0.3098695729606333,0.3098695729606333,0.3270391918761753,0.597750198006396,0.38866690660437553,0.2634183423147271,0.37588594428391986,0.3716627761968007,0.3345951466773354,0.4176028380466947,0.31481841618855005,0.5079850083409814,0.32431150691535965,0.24003339741941576,0.3010539938227612,0.1238974245681667,0.08502045553575252,0.7958856006742335,0.5130661042804299,0.72873339649477,0.44336831702056084,0.6299820453715258,0.7530839473319375,0.49051684230977005,0.7105367533516007,0.481502800324371,0.621531651042596,0.41593686127955265,0.4495917627284029,0.35796290240508494,0.45008643269412324,0.679973656707652,0.679973656707652,0.823617656452509,0.3415515692440321,0.7230607844758696,0.15916047605804406,0.5605652953707589,0.6758139447463223,0.6917689604043166,0.6518887584830318,0.32156237033768165,0.6477831922701061,0.5746889505214895,0.6879085593865667,0.5427170601621563,0.5427170601621563,0.9527129572630229,0.7330669712492182,0.5247584831492729,0.5524351173421681,0.28720751563438496,0.6056067034726835,0.36745912031264427,0.6012891450245054,0.6617297371771602,0.5926072220798286,0.35085033220302986,0.3782785434826899,0.475181736281039,0.4617044467130192,0.4527493646645024,0.3336740003811265,0.7017049197061345,0.3744790905139232,0.7922693452618167,0.3784119632609752,0.2685371914125035,0.17489987333320733,0.17431069658819887,0.6507535778521965,0.7358076376211097,0.7322853409214858,0.7460038230825632,0.9144484080609796,0.8109181132298079,0.5012977346678767,0.6636549226826991,0.8117324591117533,0.1987942592729528,0.7179018378124377,0.6299820453715258,0.7142335295151494,0.8896657973186077,0.7428816374338881,0.6992784451729493,0.6877746722897908,0.591399895036945,0.861497391452414,0.5694339334902803,0.5605652953707589,0.7377010053423693,0.32551117198354373,0.2970010391041606,0.6353367953454165,0.6970725906423079,0.529255967167528,0.6269362734171386,0.7365826834085271,0.5247584831492729,0.182857700436743,0.07855984177457863,0.6697594854644495,0.41174353391912943,0.4886952755458213,0.4886952755458213,0.5882441111875075,0.7291324995225249,0.5879999801474953,0.3655698923211239,0.4572234499964142,0.4527493646645024,0.049685239822897076,0.5230013952598439,0.4129090245731994,0.21433783076689816,0.15822613352232257,0.6507535778521965,0.7760751912536681,0.1473839039207496,0.9682641948487393,0.438005125067645,0.20168363624631935,0.7675503660170715,0.2669892248562214,0.2634730385684362,0.5201153952851312,0.6130068196294791,0.7249511012678952,0.6087179312448785,0.24634377680816777,0.5957525463063786,0.6838871053298081,0.7763974398803289,0.730228195212725,0.5650048151353811,0.6956027400499631,0.770359164259671,0.5746889505214895,0.5471912419845695,0.4792201568978522,0.5382359764253586,0.6353367953454165,0.8489613531190024,0.38866690660437553,0.6141919522392637,0.48000467101492117,0.5112448270628175,0.6886310005900973,0.7042312851049362,0.566232930280892,0.566232930280892,0.46619163987871404,0.680841452051518,0.36146017866102226,0.43050729529047777,0.213198188800444,0.3288537917102796,0.5437072894149905,0.13284880281802874,0.5857063307724018,0.5503046931969502,0.37417742977113305,0.34925562005792443,0.19434234971124922,0.7215414156610597,0.6299820453715258,0.6257664356209153,0.7356116743221232,0.3934283526758814,0.9028852893001219,0.2108480292332086,0.08242811405466272,0.24952009371293918,0.6651307976898299,0.655971884331077,0.6477831922701061,0.5516578113446183,0.6718485080240977,0.07214844958495863,0.40764588709818383,0.5903990556091978,0.5427170601621563,0.27465977088585775,0.5247584831492729,0.6184584478272857,0.6184584478272857,0.5157521838288744,0.21726324077629317,0.5767853752768702,0.506735641006708,0.5022253588520392,0.4977147145036301,0.6840702815972165,0.49320444210206726,0.5838670849584016,0.5794767924821239,0.4706843105597186,0.6584496196455475,0.7326811350964192,0.566232930280892,0.632908134195343,0.6388197164061905,0.24372830768804,0.4804677642813034,0.32969479162991305,0.5305011429407123,0.5663860774695755,0.20022990541945074,0.4085421809040412,0.5429300757480842,0.4944538898891037,0.7358076376211097,0.7561229165610288,0.72873339649477,0.8136690919987518,0.438005125067645,0.7866239229725374,0.3832064396173542,0.4203265743966123,0.6172782544326522,0.6130068196294791,0.7030589149450402,0.7726979338280136,0.6000901843399092,0.6222707627726999,0.5451402683715627,0.6262008069258421,0.7400685096792733,0.533748705765871,0.1364710584295432,0.6112677748785841,0.5697900436884179,0.8217147065478686,0.34675216794480757,0.547650887876363,0.475181736281039,0.7326811350964192,0.6520810436985192,0.7635980434515671,0.6074144704461121,0.38961122154898853,0.4129090245731994,0.15727747750200363,0.4041897249617432,0.2679202214988864,0.35743657362902137,0.6692312337653308,0.8598301978021948,0.7599572975996568,0.6362316141301909,0.9012765301160803,0.7806742003566562,0.8555468884437137,0.9098569002661073,0.7712656380266038,0.8687447248998671,0.9002852429201524,0.9304988045997856,0.8268237032568758,0.8840200506794871,0.892382889436067,0.9076703123829694,0.834298273162076,0.7378927106279999,0.49320444210206726,0.8463549577436195,0.878552072669116,0.8296469626401759,0.6664635328273393,0.4216832954851321,0.8257774698115677,0.6336462922766994,0.5139785742314416,0.5820949246609093,0.9228795266555039,0.9228795266555039,0.8234996273212541,0.9496544589871326,0.9162088091273258,0.8154939892294382,0.9148132246375573,0.7986464132850409,0.25979288214630664,0.853428832757326,0.9028703354930679,0.792780934143272,0.8980189370356366,0.24282399876831162,0.1615899767567394,0.34112520797085516,0.8319298630308068,0.8189356868134743,0.9244331706739449,0.7516095953659085,0.7644961469889401,0.8079869339324467,0.866305250860962,0.9151237074634238,0.7090352083538729,0.5855772141285867,0.8607461703404162,0.8214007761268868,0.8986891548358584,0.3558807171223451,0.6209926197127809,0.6771697859386326,0.8127637532639334,0.8783883065961272,0.9119586706361672,0.8100025292675475,0.9090179755872013,0.8934400879411617,0.870465946548192,0.8556713978299848,0.905989182984441,0.894666415342875,0.7775692537370448,0.8510297585912796,0.5121875050393152,0.8588063696068345,0.5763410225433448,0.772489629850318,0.3984610774763203,0.7448117347897896,0.8073673620153631,0.8744453765523187,0.8079869339324467,0.9178848819728628,0.7343881779548588,0.7343881779548588,0.7927741773119324,0.889784280162964,0.8050140045093606,0.6539052419150487,0.8671083000366848,0.7682469278386612,0.6900791623076983,0.7844234694409488,0.7773392869538824,0.6624408502231648,0.6583945190179268,0.8444344754116091,0.8378413987562227,0.5952007119457738,0.9286664672571006,0.8312297921494809,0.9228795266555039,0.8894870097050602,0.9202717122101574,0.8234996273212541,0.8309635848575667,0.9162088091273258,0.8744806493145795,0.9157501001790964,0.905989182984441,0.884929843188414,0.7957293216706008,0.8577624479684168,0.8929539520738945,0.9283929730216252,0.7615767342606381,0.6327845051942912,0.9231630793057144,0.8292723058421335,0.904683814427789,0.8498264427457656,0.896526896913864,0.9223726276527108,0.862070304019483,0.7090352083538729,0.8532624949865648,0.7784325807668322,0.8440309143900172,0.6900791623076983,0.8416036072637758,0.8416036072637758,0.6162982706449367,0.6625034996782249,0.8046199039307393,0.6543249944235912,0.6252297988737372,0.6167369007735523,0.5327864946385513,0.6038643109087053,0.9215855373879175,0.9392057162020853,0.9189378102958075,0.891424466701929,0.8072102437658663,0.9104992129659022,0.8413616195448965,0.9012765301160803,0.9204282535112741,0.7744330516765833,0.5516578113446183,0.8681925370901048,0.8840200506794871,0.831788898599181,0.8704297127580305,0.8683811882437421,0.7308538789012639,0.857723241515835,0.7992873983834269,0.5679619042800347,0.8439940269244425,0.7820084460502806,0.7174376620793672,0.5282926783197719,0.7874051078852445,0.8312297921494809,0.9274619440595963,0.9391511196374669,0.8894870097050602,0.7215414156610597,0.8208618324068042,0.9162088091273258,0.8154939892294382,0.9442193747700793,0.853428832757326,0.9256027638557858,0.8681689944193934,0.8929539520738945,0.8899774112491169,0.9535191912189779,0.8840200506794871,0.7989445948581501,0.8802686876343736,0.9231630793057144,0.8575218205875095,0.8868830747859467,0.7236968016317256,0.7164232502463822,0.6416199025784337,0.6977433426661525,0.6862071976595551,0.6704621245761287,0.8292037989578874,0.8535553801422541,0.6209926197127809,0.9298525016655386,0.9237350854765846,0.9175835900376904,0.5037956995785324,0.8527973048452391,0.9292453448998257,0.905989182984441,0.7957293216706008,0.8642393951529231,0.9012765301160803,0.7837478586263351,0.7806742003566562,0.7269218868192759,0.8886872897226803,0.912227191196604,0.5895000033289775,0.9092945730137706,0.7582851383524983,0.9766179079567946,0.8484481609780402,0.8764129501590995,0.7378927106279999,0.7272900151887931,0.9137117521601147,0.7236968016317256,0.7619134466054699,0.6893202778560881,0.8486865648510074,0.9175722857780609,0.8237930177689624,0.9186437985694638,0.6904682896229423,0.6419820039233002,0.90641423881554,0.6081721551844677,0.7982777656883195,0.6186853588723136,0.9189378102958075,0.983463164851154,0.9104992129659022,0.81791105328647,0.6365378004556829,0.7986464132850409,0.940294059674007,0.7957293216706008,0.7837478586263351,0.8263731658054373,0.5575868683465629,0.8555468884437137,0.7500616032660029,0.6956027400499631,0.7648374072437544,0.7648374072437544,0.831788898599181,0.8783539791882404,0.7482258873356074,0.7448117347897896,0.7343881779548588,0.9529447959838732,0.866305250860962,0.8461403297341082,0.8044127278958357,0.862070304019483,0.8021663114535957,0.7444902577941009,0.8532624949865648,0.8532624949865648,0.12731144495658972,0.9016310453202255,0.30708701756526463,0.8624680343644482,0.4681370998513126,0.5600009030659185,0.8894870097050602,0.9262386970281649,0.8208618324068042,0.22455441712580762,0.8552827749422314,0.9134187538422444,0.9162088091273258,0.8100025292675475,0.9426639138757243,0.904441138372699,0.8315291563247545,0.8996594784048534,0.8963546633220276,0.9177959237515477,0.8858571646881527,0.9231630793057144,0.8101579070730388,0.947589832820718,0.506735641006708,0.7200744662290587,0.9096609070227005,0.7683974016231282,0.8676984587475126,0.938913751132548,0.5047717321715782,0.7904629870934026,0.6900791623076983,0.768720094315837,0.9274619440595963,0.3960783486135648,0.9479009221832737,0.8127637532639334,0.9104992129659022,0.925639799371571,0.8996594784048534,0.859949588831052,0.337505549273854,0.6025321331634147,0.8130459225709481,0.875658065057577,0.9453076038704306,0.8162449037743433,0.9015741142587832,0.8675846563585177,0.915746926896614,0.8292492998464338,0.7343881779548588,0.6801933868429085,0.6335145991594212,0.8555071741669225,0.9283158584818992,0.3386241101794118,0.8486865648510074,0.3217827361186741,0.9100965373756719,0.7205047013842605,0.8240323363536668,0.8214007761268868,0.6543249944235912,0.7820084460502806,0.9003201113514032,0.9698859759227617,0.8312297921494809,0.8312297921494809,0.9192210179611642,0.9448006817999373,0.9360406193502153,0.3917707233485898,0.8520430762899203,0.8154939892294382,0.9030610447485734,0.9090179755872013,0.8517599872987617,0.6838871053298081,0.33480930129042513,0.2563383269232431,0.9217195049693568,0.7867902063789607,0.5978631745562243,0.8858571646881527,0.8827092095426137,0.8870731850723256,0.7448117347897896,0.8764129501590995,0.06413716941266535,0.8340359395315549,0.866305250860962,0.8915412912245452,0.8880023814708771,0.857723241515835,0.9016310453202255,0.8439940269244425,0.8157977105207121,0.7907330674111775,0.09449918702597955,0.8862600629861618,0.6583945190179268,0.7850685539596765,0.08705699426695887,0.7308862527553066,0.8858896498355383,0.8208618324068042,0.8181933189725566,0.9148132246375573,0.7193259317931943,0.8803025483599038,0.7878036360241119,0.9075147138334361,0.5603211738876847,0.8556713978299848,0.9371818348182317,0.6196817655600737,0.15916047605804406,0.8652432486980782,0.8876688766064728,0.9163883661750609,0.7011462649698518,0.9009075347532444,0.8074361987498146,0.8597120563526527,0.7295215667885903,0.8744453765523187,0.7308538789012639,0.8023262007528602,0.9548370706336894,0.9318353855863737,0.48418794801369747,0.9094474758926883,0.05505317323052336,0.6159853203146268,0.8733163595940362,0.7174376620793672,0.8051135760512179,0.6829181502557339,0.6949852892421967,0.7705079961805749,0.8575017106224185,0.9162088091273258,0.764265243335146,0.8573867354684055,0.9033358649927243,0.7898012319848382,0.3058140142110956,0.894666415342875,0.7744330516765833,0.4877094380639442,0.5938589944933353,0.6564031442398955,0.9031165733594678,0.7378927106279999,0.821447908157691,0.7052989318963555,0.6977433426661525,0.7835225013612502,0.8383775448229832,0.258742508213496,0.8068534833707027,0.966558084799553,0.8181933189725566,0.9211537299090644,0.9493050868467828,0.9251226663381762,0.792780934143272,0.9028703354930679,0.7775692537370448,0.9774279122864915,0.7615767342606381,0.7482258873356074,0.7448117347897896,0.5202569793032832,0.9678295438755143,0.7378927106279999,0.5497138267014606,0.7806671579759017,0.8676984587475126,0.8914438002819296,0.7015348738509337,0.69392466031716,0.46872735201608345,0.6502327444779258,0.825208240203432,0.9693545083579138,0.8721441719576889,0.9175835900376904,0.8181933189725566,0.952495796266749,0.932722543684924,0.801532237388677,0.9243883296578714,0.9012765301160803,0.859949588831052,0.8263731658054373,0.7894862273858776,0.9191469624903923,0.889455420869428,0.841646435632499,0.7549627209119701,0.8696437171448641,0.9484786912914962,0.7378927106279999,0.9178848819728628,0.8683811882437421,0.7236968016317256,0.9374644059201277,0.862070304019483,0.9108238864810468,0.5227987565789941,0.8555071741669225,0.6103491567228905,0.8603138349962145,0.7623006041194057,0.8705435717732376,0.9511222853271213,0.6425083686008443,0.9175835900376904,0.8821907000066822,0.9148132246375573,0.8154939892294382,0.8507588268043123,0.8842201078516377,0.8764477482607519,0.8072102437658663,0.8043868318469358,0.36629806320827885,0.8929539520738945,0.8510297585912796,0.891217033523009,0.7680670677763654,0.7648374072437544,0.9062740389418021,0.8367775587223497,0.9046013643666746,0.8699018526359643,0.947589832820718,0.6617297371771602,0.9636561157950407,0.7775621400657023,0.7127434082872719,0.5182957297504832,0.6862071976595551,0.8950419031416008,0.8741179784701916,0.7525416145474845,0.6294478740438608,0.8872753648613935,0.9794909431479033,0.9202717122101574,0.8181933189725566,0.8181933189725566,0.8154939892294382,0.9451620870463279,0.9022590325818152,0.9304224756455883,0.904441138372699,0.8980189370356366,0.927663498055212,0.8361103320625453,0.7648374072437544,0.7644961469889401,0.8696437171448641,0.6516600169674436,0.7482258873356074,0.8764129501590995,0.7512553822964233,0.9567539286374506,0.8466377835088705,0.6593633868206239,0.8430765786502897,0.8439940269244425,0.6664635328273393,0.872711335709984,0.8523019591172495,0.7560012863028734,0.6294478740438608,0.6252297988737372,0.709857824844265,0.9422238526362114,0.9286664672571006,0.8181933189725566,0.9119586706361672,0.9562421767364534,0.7898012319848382,0.7775692537370448,0.7864719093864005,0.5938589944933353,0.9256839578786782,0.7989445948581501,0.9202011199927698,0.6285819998381807,0.8744453765523187,0.9394331810228842,0.7272900151887931,0.7965406067080177,0.7052989318963555,0.9275977153103393,0.7934357618999661,0.9312555640587432,0.43050729529047777,0.8240323363536668,0.7820084460502806,0.9576564608553352,0.6081721551844677,0.7874051078852445,0.9215855373879175,0.6732129144106976,0.5173208637405939,0.9148132246375573,0.9038386686557635,0.8072102437658663,0.8072102437658663,0.9584981802394169,0.7867902063789607,0.7924692215951238,0.8729110489381103,0.7712656380266038,0.52757079110244,0.7556114266631504,0.9776534382620042,0.9764398098047581,0.973990393614665,0.7413672881899968,0.866305250860962,0.7512938224952445,0.857723241515835,0.8920028163108648,0.9399404268215188,0.727650860684876,0.8463549577436195,0.8502316324919138,0.781356734966693,0.781635310237344,0.7094178104069944,0.6378245121355373,0.7174376620793672,0.8086053104210306,0.9612256776632714,0.9162088091273258,0.8705795419074205,0.9162088091273258,0.9409137137918688,0.9104992129659022,0.9104992129659022,0.8072102437658663,0.9143475898940648,0.7856535794034761,0.7524135032011864,0.7867902063789607,0.9144900245801135,0.9150738497523685,0.9708385459567641,0.7712656380266038,0.8858571646881527,0.8242249828332537,0.9062740389418021,0.9312761311361433,0.6411287198454012,0.6722080754949735,0.8162449037743433,0.8142448358472567,0.9178848819728628,0.8461403297341082,0.907870362492707,0.9438876037921358,0.7236968016317256,0.9307150749397042,0.5317929743713338,0.8697560155659741,0.7090352083538729,0.4706843105597186,0.7934357618999661,0.8263967793916396,0.7650190056166957,0.8767171027936093,0.4822259947197713,0.8485570962571157,0.8027716520993124,0.8047044583482945,0.8374360102393048,0.8444344754116091,0.9513962206258643,0.3676826863007138,0.9725017640011047,0.7030589149450402,0.2625360557967864,0.9569909546659328,0.6407017422257433,0.604412184381936,0.801532237388677,0.6916359870447913,0.9511600323253111,0.7444589482904523,0.7867902063789607,0.16404932714156303,0.8660902263387628,0.8533027204279536,0.9107280228034618,0.7749816671165491,0.13861131116878045,0.923746679499756,0.8769880095307355,0.7413672881899968,0.8983252328578288,0.8612416825977164,0.9574943387942133,0.8546805749000337,0.8484746107649229,0.8915412912245452,0.8861953588199178,0.6539052419150487,0.1747628446442711,0.6646216804469687,0.49621441745124206,0.5461637404349831,0.7953567018265414,0.8537614521589335,0.7406551847668538,0.8885865496566291,0.9203418114951062,0.8774197170828811,0.37477968410775675,0.6569440430626831,0.8572698273827319,0.8962013143763506,0.8517599872987617,0.9178576273830646,0.8742415434788899,0.9095912417557916,0.6775752351566492,0.9437983067810435,0.892980730926343,0.6696417892043545,0.5250796861480265,0.6534852496291425,0.9298632363121233,0.8588403404852603,0.9091712981540702,0.8804260306349034,0.9349093250644177,0.6411287198454012,0.9046255406894597,0.733695920998034,0.3392552861165408,0.7127362046529189,0.8726171667462675,0.7344428272583761,0.9084551289278163,0.8316933342696053,0.42563579122369455,0.7928079708758436,0.8746796420272628,0.7518806853666863,0.17706288907881867,0.7330219952693618,0.5142531822834763,0.6749049074141676,0.7406551847668538,0.9011113303740923,0.7406551847668538,0.9688139627791034,0.7215977061461806,0.8679565105174779,0.9237350854765846,0.7265534483538798,0.8637898494826532,0.8255516031002318,0.973880084761221,0.817021690313101,0.8179416890030288,0.958088352892647,0.8894829666017613,0.8695457052426482,0.8996780472798616,0.9107717492595776,0.9316387734544296,0.9061709079112867,0.5763410225433448,0.8463079371429868,0.7011462649698518,0.9135594850751322,0.9092114150163159,0.6858075698016928,0.8413561298020446,0.7478684676516261,0.9061645761904169,0.8878816325662439,0.9226905346769058,0.7750903872894882,0.8315129620219953,0.8441906020449063,0.6742071380940747,0.5457038369489327,0.49621441745124206,0.559543713501509,0.7192308728906991,0.5645105750833779,0.9131476258626453,0.8639886481349855,0.9278756778161842,0.9370559988576487,0.7911488907665172,0.8575017106224185,0.9348937407920109,0.8530352085974103,0.9559942903890979,0.9569515981301654,0.941366005694832,0.9368113592496589,0.9242838601065307,0.9230114681965134,0.9211433051303438,0.8263731658054373,0.9744136301582961,0.8237691255443603,0.8130459225709481,0.8783839129651201,0.8912369758672691,0.8450600173795199,0.7960307198521255,0.9372798776897995,0.9281422911735298,0.9581627881677152,0.8764352301447585,0.8764352301447585,0.7837408875988947,0.9720829718322215,0.8599356662796465,0.8835985055751999,0.9148828326118603,0.7902765040328454,0.9555189624259124,0.7056844075913004,0.7019231922374446,0.7019231922374446,0.49621441745124206,0.8550996649057919,0.9616823712531508,0.49146852521570306,0.9408500538460288,0.9359833740979742,0.9076972363429853,0.9337868727605136,0.925056431620824,0.8461189016097143,0.8289467178488282,0.8878857268680105,0.9204077305480894,0.8747945786587524,0.7863113570409783,0.9163511288374717,0.8823833822369493,0.8157729766376547,0.8208557843082195,0.9121075167138498,0.6493883853188662,0.947697823979666,0.8046785915461815,0.941127617365915,0.958605156973151,0.8912369758672691,0.6092046576674375,0.7256457846619757,0.9219608031020345,0.896526896913864,0.7927741773119324,0.5831490440649899,0.8948411252641195,0.8913967702059385,0.8744679604411316,0.88963770774518,0.8883823424456814,0.7619134466054699,0.3064185812457488,0.8890511519420975,0.8961421947068049,0.9193722200047868,0.7347499139394675,0.53203661286031,0.5730715964008625,0.8030652310600837,0.8875689371258881,0.8679565105174779,0.8530352085974103,0.9780043886277348,0.8507588268043123,0.8380227060670432,0.9303605761143308,0.9237959521989463,0.944254947452647,0.8289467178488282,0.9909496969506459,0.8130459225709481,0.9121075167138498,0.8963737733368051,0.962942766497087,0.8686297620971714,0.9362209917250417,0.884041140724468,0.8821786855367194,0.6115821455200239,0.930618690694605,0.9310650083813247,0.7619134466054699,0.8842101336328563,0.8424012090670192,0.89506122686475,0.8266627850857347,0.6943185656739528,0.9411808807387403,0.9401740600781587,0.898127465617287,0.9696725165002549,0.9370559988576487,0.8530352085974103,0.8507588268043123,0.9576887736793556,0.9315205202888177,0.9291824778444313,0.8413616195448965,0.9148292546676671,0.8948713570007333,0.9669740503888321,0.9242838601065307,0.9423247672246216,0.9512084623260004,0.9551858513252776,0.974859635699058,0.9204077305480894,0.8263731658054373,0.9720655515764086,0.9485849503319466,0.7989445948581501,0.7960307198521255,0.7930855514107411,0.8876893874369439,0.7344428272583761,0.7871012652051665,0.9684072718664323,0.9574335041566112,0.7651709346093449,0.9715891421676253,0.8684046987643159,0.8860446248640076,0.9048899840094772,0.8313035885385797,0.9161239194797061,0.7451642009688545,0.6188961355671005,0.8048372741862838,0.8271783498415622,0.796677911846786,0.8750156442694172,0.8750156442694172,0.5578072794784704,0.6904758091611791,0.823471922255261,0.6668758135793623,0.7852937452762173,0.8660949963984621,0.9756495994135423,0.9635925256076799,0.4374217071575397,0.9677114867100286,0.9345300118406962,0.93830599086058,0.9810560268336925,0.9744136301582961,0.9666180019000492,0.9106502847126162,0.9573662264074211,0.9820952248003542,0.9144927758590139,0.8018272058141963,0.7096160253362366,0.9622935255613617,0.9458800213055428,0.9558688086043325,0.9616333631581395,0.9695087311554698,0.9689708187843068,0.8638545770369702,0.9086779029215737,0.968423725890459,0.9535283077451272,0.6070784723362648,0.973045739900844,0.9667085891434076,0.9551720953027494,0.1615844046455329,0.965527486151622,0.9325387424280059,0.8991164160440802,0.8890511519420975,0.9206858118141017,0.9301048434230726,0.8096928946190672,0.8527477787242911,0.9035561177286715,0.45973262688314104,0.9428265929675899,0.9642202316145014,0.9398379323235027,0.9734118516023254,0.9785469743692591,0.9345300118406962,0.9036827112930403,0.9714787758859295,0.9653787097378769,0.9647705850426289,0.9694095737411459,0.9843494241713496,0.9660308794672894,0.9583284411751146,0.09418215653908579,0.9121075167138498,0.9781786212981178,0.9635812516864656,0.9158931274862206,0.9779402201533327,0.9144927758590139,0.9502270561145918,0.968423725890459,0.9680151305880511,0.9588801141112043,0.9673014138206628,0.9739761940875752,0.8005758147185676,0.9643245388502089,0.9473361714047046,0.963679769983486,0.9058212960138885,0.9399520389023651,0.7558862447681001,0.8644192736694626,0.8770602338061695,0.9012663607569028,0.8068534833707027,0.14919912740160868,0.9519028636081581,0.784062137847044,0.9744296246426819,0.9288560396878762,0.9391538740132771,0.9663875273788943,0.934312722536965,0.9595981187493096,0.9647705850426289,0.9127894590957513,0.38584870349526706,0.9466968832458282,0.9693216582609964,0.9267055886309785,0.9238772598431082,0.9655661247693658,0.9468552767404494,0.8996491610219791,0.9767936468410431,0.974859635699058,0.9501357086451042,0.9710688135329726,0.9420643965134037,0.38158203763418924,0.9661406062331486,0.9532928129458834,0.8413835859398914,0.9878902443357631,0.753500541379797,0.9009106756952904,0.9476000483937824,0.35638367858322734,0.9642898505465664,0.9312687325096694,0.9604776310832356,0.9819128782095228,0.9595856597994392,0.9700083007057114,0.9334276286436742,0.9560791859786544,0.9056530285503352,0.8260442246984456,0.9841860069190453,0.9832336314918673,0.9324042763723616,0.8117147927389601,0.9296552720575236,0.9782499920019355,0.9466968832458282,0.8942789382531152,0.9299841362370963,0.9610875518958347,0.47795523829724484,0.966558084799553,0.9157501001790964,0.4026391907337776,0.9757290364949767,0.9796968403403477,0.9839285426160431,0.9573662264074211,0.08966472029760063,0.9334276286436742,0.9271422258339403,0.9448463167040244,0.9592361934958228,0.9657297087618977,0.938989939177843,0.5984273446347214,0.9107717492595776,0.9588150244242586,0.9438001730189632,0.965440664344669,0.9852977856249138,0.9367132895173217,0.8976423814915124,0.9716226213056907,0.21087541614631944,0.977081969389046,0.9580220647742435,0.9660051018151721,0.9812423921028247,0.9710688135329726,0.9796712047484084,0.9263152047531722,0.9678208191233996,0.4415895825702143,0.9399520389023651,0.9749207604593305,0.9624819072828407,0.41134813470522436,0.9681725357361478,0.9475078498194784,0.974834923663688,0.9631654126357153,0.39013298037955396,0.9377744973153429,0.9651008880147207,0.5763252800604625,0.9161094182482629,0.9494522846448747,0.9717289732247456,0.969321117888813,0.9765884776805396,0.9941363665816403,0.9836326168659806,0.9870339792551746,0.6639000459094809,0.9943878576258608,0.9857989841380826,0.9957502732888185,0.9938919503537401,0.9847802326361907,0.24997271886526243,0.5636598711614231,0.9951628278250118,0.9949700683982293,0.9943325648719463,0.9862976245007402,0.9921633222311212,0.9793951126528969,0.9916869799168124,0.9945152132559425,0.9843450917729291,0.6872134500271792,0.9933399818062612,0.9920087163197941,0.7200671723667559,0.9653465209513039,0.9911031760386112,0.9649249420903433,0.9938239944139083,0.9950751937951995,0.9942299763558506,0.9830695689943719,0.9887571226332881,0.9953418859358755,0.39949508016307966,0.9895509479277839,0.5035665741959066,0.9931858028861497,0.9933191546263155,0.9919130961135612,0.9607941732603121,0.9939222204967686,0.9464771033592837,0.9842965804915934,0.9886375193126248,0.8491419991073141,0.9907623174416507,0.990595713675057,0.9935745100192228,0.9943073055491851,0.5158848197408894,0.6497649940178343,0.781790655170207,0.9947172521448782,0.993911002819494,0.9936488701646803,0.9895317472248399,0.9778748946894102,0.991583957816358,0.9921749278164395,0.9934375621388345,0.9874877721338192,0.9938160837473649,0.9845220896132071,0.1468335397262517,0.992545761323147,0.9725017640011047,0.9881935171916355,0.9765690944152453,0.9539121835177756,0.9942299763558506,0.9691532821267603,0.9839886478201147,0.966461668792069,0.9785858871501286,0.9053355012526872,0.9655893482920991,0.960424592877904,0.9543213066724785,0.9417733593897482,0.3422224269469439,0.7868792814072021,0.47067529530080326,0.9041000345183701],\"type\":\"histogram\",\"nbinsx\":100}],                        {\"template\":{\"data\":{\"histogram2dcontour\":[{\"type\":\"histogram2dcontour\",\"colorbar\":{\"outlinewidth\":0,\"ticks\":\"\"},\"colorscale\":[[0.0,\"#0d0887\"],[0.1111111111111111,\"#46039f\"],[0.2222222222222222,\"#7201a8\"],[0.3333333333333333,\"#9c179e\"],[0.4444444444444444,\"#bd3786\"],[0.5555555555555556,\"#d8576b\"],[0.6666666666666666,\"#ed7953\"],[0.7777777777777778,\"#fb9f3a\"],[0.8888888888888888,\"#fdca26\"],[1.0,\"#f0f921\"]]}],\"choropleth\":[{\"type\":\"choropleth\",\"colorbar\":{\"outlinewidth\":0,\"ticks\":\"\"}}],\"histogram2d\":[{\"type\":\"histogram2d\",\"colorbar\":{\"outlinewidth\":0,\"ticks\":\"\"},\"colorscale\":[[0.0,\"#0d0887\"],[0.1111111111111111,\"#46039f\"],[0.2222222222222222,\"#7201a8\"],[0.3333333333333333,\"#9c179e\"],[0.4444444444444444,\"#bd3786\"],[0.5555555555555556,\"#d8576b\"],[0.6666666666666666,\"#ed7953\"],[0.7777777777777778,\"#fb9f3a\"],[0.8888888888888888,\"#fdca26\"],[1.0,\"#f0f921\"]]}],\"heatmap\":[{\"type\":\"heatmap\",\"colorbar\":{\"outlinewidth\":0,\"ticks\":\"\"},\"colorscale\":[[0.0,\"#0d0887\"],[0.1111111111111111,\"#46039f\"],[0.2222222222222222,\"#7201a8\"],[0.3333333333333333,\"#9c179e\"],[0.4444444444444444,\"#bd3786\"],[0.5555555555555556,\"#d8576b\"],[0.6666666666666666,\"#ed7953\"],[0.7777777777777778,\"#fb9f3a\"],[0.8888888888888888,\"#fdca26\"],[1.0,\"#f0f921\"]]}],\"heatmapgl\":[{\"type\":\"heatmapgl\",\"colorbar\":{\"outlinewidth\":0,\"ticks\":\"\"},\"colorscale\":[[0.0,\"#0d0887\"],[0.1111111111111111,\"#46039f\"],[0.2222222222222222,\"#7201a8\"],[0.3333333333333333,\"#9c179e\"],[0.4444444444444444,\"#bd3786\"],[0.5555555555555556,\"#d8576b\"],[0.6666666666666666,\"#ed7953\"],[0.7777777777777778,\"#fb9f3a\"],[0.8888888888888888,\"#fdca26\"],[1.0,\"#f0f921\"]]}],\"contourcarpet\":[{\"type\":\"contourcarpet\",\"colorbar\":{\"outlinewidth\":0,\"ticks\":\"\"}}],\"contour\":[{\"type\":\"contour\",\"colorbar\":{\"outlinewidth\":0,\"ticks\":\"\"},\"colorscale\":[[0.0,\"#0d0887\"],[0.1111111111111111,\"#46039f\"],[0.2222222222222222,\"#7201a8\"],[0.3333333333333333,\"#9c179e\"],[0.4444444444444444,\"#bd3786\"],[0.5555555555555556,\"#d8576b\"],[0.6666666666666666,\"#ed7953\"],[0.7777777777777778,\"#fb9f3a\"],[0.8888888888888888,\"#fdca26\"],[1.0,\"#f0f921\"]]}],\"surface\":[{\"type\":\"surface\",\"colorbar\":{\"outlinewidth\":0,\"ticks\":\"\"},\"colorscale\":[[0.0,\"#0d0887\"],[0.1111111111111111,\"#46039f\"],[0.2222222222222222,\"#7201a8\"],[0.3333333333333333,\"#9c179e\"],[0.4444444444444444,\"#bd3786\"],[0.5555555555555556,\"#d8576b\"],[0.6666666666666666,\"#ed7953\"],[0.7777777777777778,\"#fb9f3a\"],[0.8888888888888888,\"#fdca26\"],[1.0,\"#f0f921\"]]}],\"mesh3d\":[{\"type\":\"mesh3d\",\"colorbar\":{\"outlinewidth\":0,\"ticks\":\"\"}}],\"scatter\":[{\"fillpattern\":{\"fillmode\":\"overlay\",\"size\":10,\"solidity\":0.2},\"type\":\"scatter\"}],\"parcoords\":[{\"type\":\"parcoords\",\"line\":{\"colorbar\":{\"outlinewidth\":0,\"ticks\":\"\"}}}],\"scatterpolargl\":[{\"type\":\"scatterpolargl\",\"marker\":{\"colorbar\":{\"outlinewidth\":0,\"ticks\":\"\"}}}],\"bar\":[{\"error_x\":{\"color\":\"#2a3f5f\"},\"error_y\":{\"color\":\"#2a3f5f\"},\"marker\":{\"line\":{\"color\":\"#E5ECF6\",\"width\":0.5},\"pattern\":{\"fillmode\":\"overlay\",\"size\":10,\"solidity\":0.2}},\"type\":\"bar\"}],\"scattergeo\":[{\"type\":\"scattergeo\",\"marker\":{\"colorbar\":{\"outlinewidth\":0,\"ticks\":\"\"}}}],\"scatterpolar\":[{\"type\":\"scatterpolar\",\"marker\":{\"colorbar\":{\"outlinewidth\":0,\"ticks\":\"\"}}}],\"histogram\":[{\"marker\":{\"pattern\":{\"fillmode\":\"overlay\",\"size\":10,\"solidity\":0.2}},\"type\":\"histogram\"}],\"scattergl\":[{\"type\":\"scattergl\",\"marker\":{\"colorbar\":{\"outlinewidth\":0,\"ticks\":\"\"}}}],\"scatter3d\":[{\"type\":\"scatter3d\",\"line\":{\"colorbar\":{\"outlinewidth\":0,\"ticks\":\"\"}},\"marker\":{\"colorbar\":{\"outlinewidth\":0,\"ticks\":\"\"}}}],\"scattermapbox\":[{\"type\":\"scattermapbox\",\"marker\":{\"colorbar\":{\"outlinewidth\":0,\"ticks\":\"\"}}}],\"scatterternary\":[{\"type\":\"scatterternary\",\"marker\":{\"colorbar\":{\"outlinewidth\":0,\"ticks\":\"\"}}}],\"scattercarpet\":[{\"type\":\"scattercarpet\",\"marker\":{\"colorbar\":{\"outlinewidth\":0,\"ticks\":\"\"}}}],\"carpet\":[{\"aaxis\":{\"endlinecolor\":\"#2a3f5f\",\"gridcolor\":\"white\",\"linecolor\":\"white\",\"minorgridcolor\":\"white\",\"startlinecolor\":\"#2a3f5f\"},\"baxis\":{\"endlinecolor\":\"#2a3f5f\",\"gridcolor\":\"white\",\"linecolor\":\"white\",\"minorgridcolor\":\"white\",\"startlinecolor\":\"#2a3f5f\"},\"type\":\"carpet\"}],\"table\":[{\"cells\":{\"fill\":{\"color\":\"#EBF0F8\"},\"line\":{\"color\":\"white\"}},\"header\":{\"fill\":{\"color\":\"#C8D4E3\"},\"line\":{\"color\":\"white\"}},\"type\":\"table\"}],\"barpolar\":[{\"marker\":{\"line\":{\"color\":\"#E5ECF6\",\"width\":0.5},\"pattern\":{\"fillmode\":\"overlay\",\"size\":10,\"solidity\":0.2}},\"type\":\"barpolar\"}],\"pie\":[{\"automargin\":true,\"type\":\"pie\"}]},\"layout\":{\"autotypenumbers\":\"strict\",\"colorway\":[\"#636efa\",\"#EF553B\",\"#00cc96\",\"#ab63fa\",\"#FFA15A\",\"#19d3f3\",\"#FF6692\",\"#B6E880\",\"#FF97FF\",\"#FECB52\"],\"font\":{\"color\":\"#2a3f5f\"},\"hovermode\":\"closest\",\"hoverlabel\":{\"align\":\"left\"},\"paper_bgcolor\":\"white\",\"plot_bgcolor\":\"#E5ECF6\",\"polar\":{\"bgcolor\":\"#E5ECF6\",\"angularaxis\":{\"gridcolor\":\"white\",\"linecolor\":\"white\",\"ticks\":\"\"},\"radialaxis\":{\"gridcolor\":\"white\",\"linecolor\":\"white\",\"ticks\":\"\"}},\"ternary\":{\"bgcolor\":\"#E5ECF6\",\"aaxis\":{\"gridcolor\":\"white\",\"linecolor\":\"white\",\"ticks\":\"\"},\"baxis\":{\"gridcolor\":\"white\",\"linecolor\":\"white\",\"ticks\":\"\"},\"caxis\":{\"gridcolor\":\"white\",\"linecolor\":\"white\",\"ticks\":\"\"}},\"coloraxis\":{\"colorbar\":{\"outlinewidth\":0,\"ticks\":\"\"}},\"colorscale\":{\"sequential\":[[0.0,\"#0d0887\"],[0.1111111111111111,\"#46039f\"],[0.2222222222222222,\"#7201a8\"],[0.3333333333333333,\"#9c179e\"],[0.4444444444444444,\"#bd3786\"],[0.5555555555555556,\"#d8576b\"],[0.6666666666666666,\"#ed7953\"],[0.7777777777777778,\"#fb9f3a\"],[0.8888888888888888,\"#fdca26\"],[1.0,\"#f0f921\"]],\"sequentialminus\":[[0.0,\"#0d0887\"],[0.1111111111111111,\"#46039f\"],[0.2222222222222222,\"#7201a8\"],[0.3333333333333333,\"#9c179e\"],[0.4444444444444444,\"#bd3786\"],[0.5555555555555556,\"#d8576b\"],[0.6666666666666666,\"#ed7953\"],[0.7777777777777778,\"#fb9f3a\"],[0.8888888888888888,\"#fdca26\"],[1.0,\"#f0f921\"]],\"diverging\":[[0,\"#8e0152\"],[0.1,\"#c51b7d\"],[0.2,\"#de77ae\"],[0.3,\"#f1b6da\"],[0.4,\"#fde0ef\"],[0.5,\"#f7f7f7\"],[0.6,\"#e6f5d0\"],[0.7,\"#b8e186\"],[0.8,\"#7fbc41\"],[0.9,\"#4d9221\"],[1,\"#276419\"]]},\"xaxis\":{\"gridcolor\":\"white\",\"linecolor\":\"white\",\"ticks\":\"\",\"title\":{\"standoff\":15},\"zerolinecolor\":\"white\",\"automargin\":true,\"zerolinewidth\":2},\"yaxis\":{\"gridcolor\":\"white\",\"linecolor\":\"white\",\"ticks\":\"\",\"title\":{\"standoff\":15},\"zerolinecolor\":\"white\",\"automargin\":true,\"zerolinewidth\":2},\"scene\":{\"xaxis\":{\"backgroundcolor\":\"#E5ECF6\",\"gridcolor\":\"white\",\"linecolor\":\"white\",\"showbackground\":true,\"ticks\":\"\",\"zerolinecolor\":\"white\",\"gridwidth\":2},\"yaxis\":{\"backgroundcolor\":\"#E5ECF6\",\"gridcolor\":\"white\",\"linecolor\":\"white\",\"showbackground\":true,\"ticks\":\"\",\"zerolinecolor\":\"white\",\"gridwidth\":2},\"zaxis\":{\"backgroundcolor\":\"#E5ECF6\",\"gridcolor\":\"white\",\"linecolor\":\"white\",\"showbackground\":true,\"ticks\":\"\",\"zerolinecolor\":\"white\",\"gridwidth\":2}},\"shapedefaults\":{\"line\":{\"color\":\"#2a3f5f\"}},\"annotationdefaults\":{\"arrowcolor\":\"#2a3f5f\",\"arrowhead\":0,\"arrowwidth\":1},\"geo\":{\"bgcolor\":\"white\",\"landcolor\":\"#E5ECF6\",\"subunitcolor\":\"white\",\"showland\":true,\"showlakes\":true,\"lakecolor\":\"white\"},\"title\":{\"x\":0.05},\"mapbox\":{\"style\":\"light\"}}},\"barmode\":\"overlay\",\"autosize\":false,\"width\":800,\"height\":400,\"plot_bgcolor\":\"white\",\"xaxis\":{\"title\":{\"text\":\"Probability of Vote\"}}},                        {\"responsive\": true}                    ).then(function(){\n",
              "                            \n",
              "var gd = document.getElementById('4e90425a-1d76-4d0f-b171-18440d9c5bdb');\n",
              "var x = new MutationObserver(function (mutations, observer) {{\n",
              "        var display = window.getComputedStyle(gd).display;\n",
              "        if (!display || display === 'none') {{\n",
              "            console.log([gd, 'removed!']);\n",
              "            Plotly.purge(gd);\n",
              "            observer.disconnect();\n",
              "        }}\n",
              "}});\n",
              "\n",
              "// Listen for the removal of the full notebook cells\n",
              "var notebookContainer = gd.closest('#notebook-container');\n",
              "if (notebookContainer) {{\n",
              "    x.observe(notebookContainer, {childList: true});\n",
              "}}\n",
              "\n",
              "// Listen for the clearing of the current output cell\n",
              "var outputEl = gd.closest('.output');\n",
              "if (outputEl) {{\n",
              "    x.observe(outputEl, {childList: true});\n",
              "}}\n",
              "\n",
              "                        })                };                            </script>        </div>\n",
              "</body>\n",
              "</html>"
            ]
          },
          "metadata": {}
        }
      ]
    },
    {
      "cell_type": "code",
      "source": [
        "theta"
      ],
      "metadata": {
        "id": "GGbcDcWocZ7m",
        "outputId": "f52940f0-d85a-4565-c55e-24996c311289",
        "colab": {
          "base_uri": "https://localhost:8080/"
        }
      },
      "execution_count": 91,
      "outputs": [
        {
          "output_type": "execute_result",
          "data": {
            "text/plain": [
              "matrix([[-1.13240003, -0.0180427 , -0.40193795,  0.27249577,  0.50918632,\n",
              "          0.97201492,  0.36186393,  0.09716475]])"
            ]
          },
          "metadata": {},
          "execution_count": 91
        }
      ]
    },
    {
      "cell_type": "code",
      "source": [
        "color_map = {\n",
        "    1: \"#5218fa\"\n",
        "}\n",
        "\n",
        "fig2 = go.Figure()\n",
        "fig2.add_trace(go.Histogram(x=VoteBase['Prob'], marker_color=VoteBase[\"TopIssue\"].map(color_map)))\n",
        "fig2.update_traces(opacity=0.9, nbinsx=100)\n",
        "fig2.update_layout(\n",
        "    plot_bgcolor = \"white\",\n",
        "    xaxis=dict(title='Probability of Vote',),\n",
        ")\n",
        "\n",
        "fig2.show()\n",
        "\n"
      ],
      "metadata": {
        "id": "_PdyRoYycaGh",
        "outputId": "f4db4ad4-4a28-4426-e389-6c58f9779a2e",
        "colab": {
          "base_uri": "https://localhost:8080/",
          "height": 542
        }
      },
      "execution_count": 92,
      "outputs": [
        {
          "output_type": "display_data",
          "data": {
            "text/html": [
              "<html>\n",
              "<head><meta charset=\"utf-8\" /></head>\n",
              "<body>\n",
              "    <div>            <script src=\"https://cdnjs.cloudflare.com/ajax/libs/mathjax/2.7.5/MathJax.js?config=TeX-AMS-MML_SVG\"></script><script type=\"text/javascript\">if (window.MathJax && window.MathJax.Hub && window.MathJax.Hub.Config) {window.MathJax.Hub.Config({SVG: {font: \"STIX-Web\"}});}</script>                <script type=\"text/javascript\">window.PlotlyConfig = {MathJaxConfig: 'local'};</script>\n",
              "        <script charset=\"utf-8\" src=\"https://cdn.plot.ly/plotly-2.24.1.min.js\"></script>                <div id=\"1715cc86-0f4d-43ab-af54-b77833d78db8\" class=\"plotly-graph-div\" style=\"height:525px; width:100%;\"></div>            <script type=\"text/javascript\">                                    window.PLOTLYENV=window.PLOTLYENV || {};                                    if (document.getElementById(\"1715cc86-0f4d-43ab-af54-b77833d78db8\")) {                    Plotly.newPlot(                        \"1715cc86-0f4d-43ab-af54-b77833d78db8\",                        [{\"marker\":{\"color\":[null,null,null,null,null,null,null,null,null,null,null,null,null,null,null,null,null,null,null,null,null,\"#5218fa\",null,null,null,null,null,null,null,null,null,null,null,null,null,null,null,null,null,null,null,\"#5218fa\",null,\"#5218fa\",\"#5218fa\",null,null,null,null,null,null,\"#5218fa\",null,null,null,\"#5218fa\",\"#5218fa\",null,null,null,null,null,null,null,null,\"#5218fa\",null,null,null,null,\"#5218fa\",null,null,null,null,null,null,null,null,null,null,null,\"#5218fa\",null,null,null,null,null,null,\"#5218fa\",null,null,null,\"#5218fa\",null,\"#5218fa\",null,null,null,null,null,null,null,null,null,\"#5218fa\",null,null,null,null,\"#5218fa\",null,\"#5218fa\",\"#5218fa\",null,\"#5218fa\",null,null,\"#5218fa\",\"#5218fa\",null,null,\"#5218fa\",null,null,\"#5218fa\",null,\"#5218fa\",null,null,null,null,null,null,null,null,null,null,null,null,null,null,null,null,null,null,\"#5218fa\",null,null,null,null,null,null,null,\"#5218fa\",null,null,null,null,null,null,null,\"#5218fa\",null,null,null,null,null,null,null,null,null,null,\"#5218fa\",null,null,null,\"#5218fa\",null,null,null,null,null,null,null,null,null,null,null,null,null,null,\"#5218fa\",null,null,null,null,\"#5218fa\",null,null,null,\"#5218fa\",null,null,null,null,null,null,null,null,null,null,null,null,null,\"#5218fa\",\"#5218fa\",null,null,null,null,null,null,null,\"#5218fa\",\"#5218fa\",\"#5218fa\",null,\"#5218fa\",null,null,null,null,null,\"#5218fa\",null,null,null,\"#5218fa\",\"#5218fa\",null,null,null,null,null,null,null,null,null,null,null,null,\"#5218fa\",null,\"#5218fa\",\"#5218fa\",null,null,null,null,null,null,null,null,null,\"#5218fa\",null,null,null,null,null,null,null,null,null,null,null,null,null,null,null,null,null,null,null,\"#5218fa\",null,null,null,null,null,\"#5218fa\",null,null,\"#5218fa\",\"#5218fa\",null,null,null,null,null,null,null,null,null,null,\"#5218fa\",null,null,null,null,null,null,null,null,null,null,\"#5218fa\",null,null,null,null,null,\"#5218fa\",null,null,null,null,null,null,null,null,null,null,null,null,null,null,null,\"#5218fa\",null,null,null,null,null,null,null,null,null,null,null,\"#5218fa\",null,null,null,null,null,null,null,null,null,null,null,null,null,null,null,\"#5218fa\",null,null,null,null,null,null,null,null,null,null,null,\"#5218fa\",null,null,null,null,null,null,null,\"#5218fa\",null,null,\"#5218fa\",null,null,null,null,null,null,null,null,null,null,null,null,\"#5218fa\",null,null,null,\"#5218fa\",null,\"#5218fa\",null,null,null,null,null,null,null,null,null,null,null,null,null,\"#5218fa\",null,null,null,null,null,null,null,null,null,null,null,null,\"#5218fa\",null,null,null,null,null,null,null,null,null,null,null,null,null,null,null,null,null,\"#5218fa\",null,null,null,null,\"#5218fa\",null,\"#5218fa\",null,null,null,null,null,null,null,null,null,null,null,null,null,null,null,null,null,null,null,null,null,null,null,null,null,null,\"#5218fa\",null,null,null,null,null,null,null,null,null,\"#5218fa\",null,null,null,null,null,null,null,null,null,null,null,null,null,null,null,null,null,null,\"#5218fa\",null,null,null,null,null,null,null,null,null,null,null,null,null,null,null,null,null,null,null,null,null,\"#5218fa\",null,null,null,null,null,null,null,\"#5218fa\",null,null,null,null,null,null,null,null,null,\"#5218fa\",null,null,\"#5218fa\",null,null,null,null,null,null,null,null,null,null,null,null,null,null,null,null,null,\"#5218fa\",null,null,null,null,null,null,null,null,null,null,null,null,null,\"#5218fa\",null,null,null,null,\"#5218fa\",null,null,null,null,null,null,null,null,null,null,null,null,null,null,\"#5218fa\",null,\"#5218fa\",null,null,null,null,null,null,null,null,null,null,null,null,null,null,null,null,null,null,null,null,null,null,null,null,null,null,null,null,null,null,null,null,null,\"#5218fa\",null,null,null,null,null,null,null,null,null,null,null,null,\"#5218fa\",null,null,null,null,null,null,null,null,null,null,null,null,null,null,null,null,null,null,null,null,null,null,null,null,null,null,null,null,null,null,null,null,null,null,null,null,null,null,null,null,null,\"#5218fa\",null,null,null,null,null,\"#5218fa\",null,null,null,null,null,null,\"#5218fa\",null,null,\"#5218fa\",null,null,null,\"#5218fa\",null,null,\"#5218fa\",null,null,null,null,null,null,null,null,null,null,null,null,null,null,null,null,null,null,null,null,null,null,null,null,null,null,null,null,null,null,null,null,null,null,null,null,null,null,null,null,null,null,null,null,null,null,null,null,null,null,\"#5218fa\",null,null,null,null,null,null,null,null,null,null,null,null,null,null,null,null,null,null,null,null,null,null,null,null,null,null,null,null,null,null,null,null,null,null,null,null,null,null,\"#5218fa\",\"#5218fa\",null,null,null,null,\"#5218fa\",null,null,null,null,null,null,null,null,\"#5218fa\",null,null,null,null,null,null,null,null,null,\"#5218fa\",null,null,null,null,null,null,null,null,null,null,null,null,null,null,null,null,null,null,null,null,null,\"#5218fa\",null,null,null,null,null,null,null,null,null,null,\"#5218fa\",null,null,null,null,null,null,null,null,null,null,null,null,null,null,null,null,null,null,null,null,null,null,null,null,null,null,null,null,null,null,\"#5218fa\",null,null,null,null,null,null,null,null,null,null,null,null,null,null,null,null,null,null,null,null,null,null,null,null,null,null,null,null,null,null,null,null,null,null,null,null,null,null,null,null,null,null,null,null,null,null,null,null,null,null,null,null,null,null,null,null,null,null,null,null,null,null,null,null,null,null,null,null,null,null,null,null,null,null,null,null,null,null,\"#5218fa\",null,\"#5218fa\",null,null,null,null,null,null,null,null,null,null,null,null,null,null,null,null,null,null,null,null,null,\"#5218fa\",null,null,null,null,\"#5218fa\",null,null,null,null,null,null,null,null,null,null,null,null,null,\"#5218fa\",null,null,null,null,null,null,null,null,null,null,null,\"#5218fa\",null,null,null,null,null,null,null,null,null,null,null,null,null,null,null,null,null,null,null,\"#5218fa\",null,null,null,null,\"#5218fa\",null,null,null,null,null,null,null,null,null,null,\"#5218fa\",null,null,null,null,null,null,null,null,null,null,null,null,null,null,null,null,null,null,null,null,null,null,null,null,null,null,null,null,null,null,null,null,null,null,null,null,null,null,null,null,null,null,null,null,null,null,null,null,null,null,null,null,null,null,\"#5218fa\",null,null,null,null,null,null,null,null,null,null,null,null,null,null,null,null,null,null,null,null,null,null,null,null,null,null,null,null,null,null,null,null,null,null,\"#5218fa\",null,null,null,null,null,null,null,null,null,null,null,\"#5218fa\",null,null,null,null,null,null,null,null,null,null,null,null,null,null,null,null,null,null,null,null,null,null,null,null,null,null,null,null,null,null,null,null,null,null,null,null,null,null,null,null,null,null,null,null,null,null,null,null,null,null,null,null,null,\"#5218fa\",null,null,null,null,null,null,null,null,null,null,null,null,null,null,null,null,null,null,null,null,null,null,null,null,null,null,null,null,null,null,null,null,null,null,null,\"#5218fa\",null,null,null,null,null,null,null,null,null,null,null,null,null,null,null,null,null,null,null,null,null,null,null,null,null,null,null,null,null,null,null,null,null,null,null,\"#5218fa\",null,null,null,null,null,null,null,null,null,null,null,null,null,null,null,null,null,null,null,null,null,null,null,null,null,null,null,null,null,null,null,\"#5218fa\",null,null,null,null,null,null,null,null,null,null,null,null,null,null,null,null,null,null,null,null,null,null,null,null,null,null,null,null,null,null,\"#5218fa\",null,null,null,null,null,null,null,null,null,null,null,null,null,null,null,null,null,\"#5218fa\",null,null,null,null,null,null,null,null,null,null,null,null,null,null,null,null,null,null,null,null,null,null,null,null,null,null,null,null,null,null,null,null,null,null,null,null,null,null,null,null,null,null,null,null,null,null,null,null,null,null,null,null,null,null,null,null,null,null,null,null,null,null,null,null,null,null,null,null,null,null,null,null,null,null,null,null,null,null,null,null,null,null,null,null,null,null,null,null,null,null,null,null,null,null,null,null,null,null,null,null,null,null,null,null,null,null,null,null,null,null,null,null,null,null,null,null,null,null,null,null,null,null,null,null,null,null,null,null,null,null,null,null,null,null,null,null,null,null,null,null,null,null,null,null,null,null,null,null,null,null,null,null,null,null,null,null,null,null,null,null,null,null,null,null,null,null,null,null,null,null,null,null,null,null,null,null,null,null,null,null,null,null,null,null,null,null,null,null,null,null,null,null,null,null,null,null,null,null,null,null,null,null,null,null,null,null,null,null,null,null,null,null,null,null,null,null,null,null,null,null,null,null,null,null,null,null,null,null,null,null,null,null,null,null,null,null,null,null,null,null,null,null,null,null,null,null,null,null,null,null,null,null,null,null,null,null,null,null,null,null,null,null,null,null,null,null,null,null,null,null,null,null,null,null,null,null,null,null,null,null,null,null,null,null,null,null,null,null,null,null,null,null,null,null,null,null,null,null,null,null,null,null,null,null,null,null,null,null,null,null,null,null,null,null,null,null,null,null,null,null,null,null,null,null,null,null,null,null,null,null,null,null,null,null,null,null,null,null,null,null,null,null,null,null,null,null,null,null,null,null,null,null,null,null,null,null,null,null,null,null,null,null,null,null,null,null,null,null,null,null,null,null,null,null,null,null,null,null,null,null,null,null,null,null,null,null,null,null,null,null,null,null,null,null,null,null,null,null,null,null,null,null,null,null,null,null,null,null,null,null,null,null,null,null,null,null,null,null,null,null,null,null,null,null,null,null,null,null,null,null,null,null,null,null,null,null,null,null,null,null,null,null,null,null,null,null,null,null,null,null,null,null,null,null,null,null,null,null,null,null,null,null,null,null,null,null,null,null,null,null,null,null,null,null,null,null,null,null,null,null,null,null,null,null,null,null,null,null,null,null,null,null,null,null,null,null,null,null,null,null,null,null,null,null,null,null,null,null,null,null,null,null,null,null,null,null,null,null,null,null,null,null,null,null,null,null,null,null,null,null,null,null,null,null,null,null,null,null,null,null,null,null,null,null,null,null,null,null,null,null,null,null,null,null,null,null,null,null,null,null,null,null,null,null,null,null,null,null,null,null,null,null,null,null,null,null,null,null,null,null,null,null,null,null,null,null,null,null,null,null,null,null,null,null,null,null,null,null,null,null,null,null,null,null,null,null,null,null,null,null,null,null,null,null,null,null,null,null,null,null,null,null,null,null,null,null,null,null,null,null,null,null,null,null,null,null,null,null,null,null,null,null,null,null,null,null,null,null,null,null,null,null,null,null,null,null,null,null,null,null,null,null,null,null,null,null,null,null,null,null,null,null,null,null,null,null,null,null,null,null,null,null,null,null,null,null,null,null,null,null,null,null,null,null,null,null,null,null,null,null,null,null,null,null,null,null,null,null,null,null,null,null,null,null,null,null,null,null,null,null,null,null,null,null,null,null,\"#5218fa\",null,null,null,null,null,null,null,null,null,null,null,null,null,null,null,null,null,null,null,null,null,null,\"#5218fa\",null,null,null,null,\"#5218fa\",null,null,null,null,null,null,null,null,null,null,null,null,null,null,null,null,null,null,null,null,null,null,null,null,null,null,null,null,null,null,null,null,null,null,null,null,null,null,null,null,null,null,null,null,null,null,null,null,null,null,null,null,null,null,null,null,null,null,null,null,null,null,null,null,null,null,null,null,null,null,null,null,null,null,null,null,null,null,null,null,null,null,null,null,null,null,null,null,null,null,null,null,null,null,null,null,null,null,null,null,null,null,null,null,null,null,null,null,null,null,null,null,null,null,null,null,null,null,null,null,null,null,null,null,null,null,null,null,null,null,null,\"#5218fa\",null,null,null,null,null,null,null,null,null,null,null,null,null,null,null,null,null,null,null,null,null,null,null,null,null,null,null,null,null,null,null,null,null,null,null,null,\"#5218fa\",null,null,\"#5218fa\",null,null,null,null,null,null,null,null,null,null,null,null,null,null,null,null,null,null,null,null,null,null,null,null,null,null,null,null,null,null,null,null,null,null,null,null,null,null,null,null,null,null,null,null,null,null,null,null,null,null,null,null,null,null,null,null,null,null,null,null,null,null,null,null,null,null,null,null,null,null,null,null,null,null,null,null,null,null,null,null,null,null,null,null,null,null,null,null,null,null,null,null,null,null,null,null,null,null,null,null,null,null,null,null,null,null,null,null,null,null,null,null,null,null,null,null,null,null,null,null,null,null,null,null,null,null,null,null,null,null,null,null,null,null,null,null,null,null,null,null,null,null,null,null,null,null,null,null,null,null,null,null,null,null,null,null,null,null,null,null,null,null,null,null,null,null,null,null,null,null,null,null,null,null,null,null,null,null,null,null,null,null,null,null,null,null]},\"x\":[0.36284649377529354,0.2515693656126952,0.7630757684166566,0.3301797155247511,0.9323685151232215,0.28682785554927903,0.48136247903320134,0.44749691558354066,0.5225800251395715,0.7115155510738232,0.35981523421938183,0.4696901764127091,0.6611002149284846,0.8040721324867298,0.5792311815054338,0.6516600169674436,0.9540939041706761,0.7079700727630203,0.7255044396184586,0.7763352061823071,0.8581357334982873,0.8308027658549401,0.29216529797448654,0.10131879935442088,0.1179182937320527,0.17931554857701568,0.9243607573601283,0.7755134445660133,0.5112448270628175,0.9022075080709757,0.9126029104448008,0.8747800754447788,0.8448080114942437,0.9353820454740592,0.07720325868577693,0.5669407166472391,0.08315907014902797,0.16101819435707565,0.14200193869936065,0.021963779608767667,0.12300365965544137,0.09737919565935932,0.6917297827736163,0.0760455379220052,0.24205839584693783,0.32684694205237125,0.034423934990582064,0.10326421209884724,0.08891154584365432,0.07759511615870499,0.1310038518809255,0.05340604963062053,0.6359692190958848,0.08738020349684249,0.18417331563271114,0.09897664674035957,0.20708319984153445,0.06601198582150669,0.10760197751728277,0.06352334146908123,0.18508149289063996,0.03506280123631604,0.1951239366312132,0.022117270161068965,0.06693619048699186,0.10378981173318205,0.053860731673119625,0.09949623559868816,0.6191025942463803,0.10924869797339193,0.07073130104629588,0.1512553119430949,0.12110034547446605,0.1376619252721459,0.6736566604975451,0.11834206647361506,0.13750267382968695,0.08763118962886106,0.04476763515475994,0.08337762409610537,0.09808005055211484,0.1531850350006905,0.09745352364139077,0.0792594578849846,0.1527724109941348,0.05614191741288349,0.19680082523700226,0.06502058201690834,0.23409890679660467,0.14719980417847392,0.03671832927782715,0.0460721565477074,0.06570410563765271,0.06725516691571659,0.08763118962886106,0.07963214749530675,0.08923517985861244,0.11490232552847447,0.053149013791388436,0.11709085988399859,0.11161000019957415,0.1923058979306103,0.08673350458112188,0.3581752019297772,0.09187837886655897,0.17430777908445755,0.14820199684512803,0.10856465404157675,0.029302336440224633,0.08834569653368603,0.15673717355025288,0.08194148802405934,0.18967214985659303,0.1176187141448928,0.20484667749600657,0.1876754198310536,0.2039112555954129,0.04754152032235742,0.18538997657023557,0.05038497152667584,0.06593225246683283,0.026551719888158118,0.2762512153822135,0.15653703928607268,0.130997011163995,0.19557226351191329,0.04910264929088143,0.060831555255796435,0.06095711010728518,0.12043398301670705,0.09649552048952782,0.0767569263410764,0.07179620319156488,0.06175778229156374,0.07060306098745883,0.10156496415679862,0.08767655384413456,0.413304553163107,0.07072489774557024,0.12808349056717538,0.10280225938617783,0.20557072469358123,0.06413010526031894,0.14872540924104316,0.18782117573239634,0.13136142582549526,0.11288499908790806,0.015799640722799747,0.20573357976362075,0.2403955862283187,0.11001560942175863,0.09030100265887635,0.5357094027487531,0.619779420495393,0.06393811519074064,0.11737033989680998,0.034145255016616374,0.11533592913263394,0.1510242336689985,0.04141620817124969,0.1156173051029552,0.14809367192405745,0.15127477110138499,0.07470498289169804,0.1349494379132755,0.08540036487739015,0.1558206129152809,0.058970858645271254,0.11929890909935743,0.09968772899216917,0.17330958701006022,0.2029397300610194,0.11400049675418529,0.09603898511333893,0.09588648506037867,0.16500121743822355,0.10808184769510326,0.1402764385178482,0.12496326968383122,0.15098164172118422,0.46342599927408423,0.04099147493674314,0.1506216566708251,0.13327881110765966,0.4226655933150902,0.03291587268875155,0.15505344855293515,0.13285700620965413,0.18361644663854554,0.04213871619911848,0.11161000019957415,0.1335317041509921,0.11813847932224635,0.2622230360659157,0.1272983691639311,0.05651039180177895,0.08624402560109289,0.1771901708255136,0.04851736897734593,0.13204773707154782,0.1876671653314948,0.1684736734128664,0.18889015331562653,0.6305956622399442,0.23802172533686333,0.08763118962886106,0.18661797818235473,0.08284395079833451,0.09038399934627246,0.11958294560468757,0.0664246095545984,0.2470465646099488,0.3019916470236873,0.13921774163010678,0.12905779769224768,0.11072506871588436,0.06863270268345477,0.23660078690614264,0.14583179277965258,0.5691030551925348,0.21860231587685433,0.09633389125493438,0.18962679890852993,0.25517358751144203,0.15701962476791093,0.04433848734764224,0.059961046914343764,0.13491429886940098,0.04398814914132126,0.16528817138358773,0.2060827477341004,0.1734709040719821,0.07857160466733894,0.10663842567255664,0.1907710511336443,0.11564595677200816,0.12343480232264785,0.4924734667386806,0.2737065355225482,0.14696732375640503,0.11739936832457769,0.12499391007982728,0.08930407741279345,0.275916943841107,0.117207267478362,0.22800834536089443,0.14659629386783662,0.12499391007982728,0.21592478754354166,0.14187919170038488,0.13541598666117094,0.17621966368108116,0.11099126453400658,0.44018888717539806,0.15399382727895775,0.2773078730633919,0.17870589909166984,0.18393677055408045,0.16091459535011723,0.12110034547446605,0.21828779338596055,0.12563446169838235,0.18736998145480688,0.09228268188363725,0.2008808300298565,0.2809382666745639,0.13957533318855234,0.10828787814322993,0.1381299080542311,0.18618377303157702,0.24802979715290355,0.1576953309475495,0.09197233215282649,0.12463399558881033,0.13331743584468556,0.14895385341328432,0.31727212416096245,0.20379282030839393,0.2008808300298565,0.18751357192047044,0.05044172914458767,0.1377955921018593,0.22522954620889687,0.2764789091813094,0.22209668991877596,0.17446982917922205,0.16823950023017684,0.19515059601193344,0.3519688023979163,0.25141023596721174,0.12312512579495395,0.17914113790494388,0.16835782646856037,0.13775612554649055,0.15230209900523273,0.13043871895415504,0.11564595677200816,0.10673467646085814,0.0865141975980487,0.08203027495606197,0.38771911280362303,0.1575813507804849,0.22346352914287573,0.3007650448033873,0.377765613530252,0.23391825483761639,0.25595095905473625,0.13720279841772343,0.17275538682849317,0.23788939834785897,0.05578877671024968,0.10392604025829758,0.21066883604699302,0.2290558298703994,0.16765912114903816,0.16268362945989978,0.15544437001326722,0.33928745956889567,0.1530903966362334,0.15076570708553047,0.20379282030839393,0.1312462301848039,0.36300269984403316,0.11981822921146001,0.13957533318855234,0.1645862879922173,0.19233226429313027,0.19233226429313027,0.1352977892413103,0.1895450489994975,0.033175875596510786,0.12247928433137684,0.12707437787748127,0.17870589909166984,0.08940936939130809,0.19779565016779385,0.17884622261256986,0.07356052669779252,0.1734709040719821,0.1851099559392069,0.11928183826282181,0.16584669948416988,0.11737033989680998,0.1119058981220349,0.15610171818501437,0.15610171818501437,0.15610171818501437,0.10663842567255664,0.17071676091325977,0.14458271545971657,0.07927990724102545,0.15464616456112892,0.17911885067528177,0.044092290480713524,0.11399523999961204,0.0666898189729612,0.11421636480617768,0.10350972933707304,0.08795078150432754,0.031086011485689846,0.0441705529540589,0.057595906991495464,0.09388649493111424,0.0547273019094471,0.8193877977747428,0.2650382619989706,0.24784148223521502,0.26639452675006986,0.24449335635701316,0.12698040376034633,0.23788939834785897,0.34584876198805586,0.13508088354130587,0.13298672705724848,0.2607397700880765,0.1288808580245116,0.2878366125126163,0.16559019734040878,0.10713062456559377,0.1563591274443788,0.2008808300298565,0.13957533318855234,0.17838506516170155,0.15349837955962284,0.13320078793824733,0.17870589909166984,0.22554400049274237,0.181809685786043,0.0934902735475035,0.16336566953571707,0.1407920433164935,0.04629185780227315,0.16091459535011723,0.14655473512093595,0.17851693577454658,0.12346489361641301,0.11012527774249775,0.13066036239121878,0.15610171818501437,0.2622772442600179,0.14910319178645245,0.1817871400823776,0.09995557518006029,0.20804475500923308,0.03697110683071287,0.09212738959517865,0.12366581388195694,0.12796010861242985,0.10864145189783206,0.1746153371639,0.11240363389160056,0.06832550478143762,0.06606388676374042,0.3295088507190993,0.48925743719584586,0.2755464391672131,0.14373710722798352,0.09197282869512814,0.17797343851539238,0.24117595791016777,0.24117595791016777,0.1701920914168781,0.28722969563041945,0.14018845489678028,0.2219222537381878,0.1602408283938172,0.09582000571014918,0.21882240770249345,0.33637962259893567,0.20673610252302219,0.14847012964577358,0.27232686318508925,0.14620348751733517,0.2008808300298565,0.19800010172692004,0.2274872826842178,0.20787840604055313,0.09511735416201889,0.12908929393849491,0.0981796599413393,0.1356659509063838,0.153455215974141,0.16584669948416988,0.16584669948416988,0.125430800764888,0.0654035035014318,0.10836953286963658,0.10836953286963658,0.10836953286963658,0.19559249800329728,0.14458271545971657,0.09834404898913478,0.044092290480713524,0.08963849671401493,0.23009902504023083,0.1337789716807617,0.1897791262120612,0.08915330518793764,0.08626610817393994,0.06210259625390483,0.08370461294540778,0.057974373693629386,0.32553495907864965,0.8673878844969258,0.9172082904829141,0.186030797740315,0.2034919468907396,0.24784148223521502,0.36932158625369205,0.31138129264151115,0.04158112709622873,0.2219222537381878,0.2219222537381878,0.1784337629389943,0.21575385435947392,0.15544437001326722,0.23765596328128566,0.2813022592988341,0.20673610252302219,0.20024130878354696,0.197367486448387,0.14396559902903547,0.15824604261762187,0.1917134290735764,0.19307335300398684,0.13957533318855234,0.10646180903475783,0.17520502171897376,0.14260408494619714,0.12908929393849491,0.21202408737202585,0.17870589909166984,0.09978879048023055,0.16835782646856037,0.0699558158064666,0.26775403767452055,0.1537396023382499,0.14910319178645245,0.15412544651577625,0.13145197195759958,0.1953092711828746,0.07053695758222131,0.06594950962119553,0.10690652184100334,0.07681700215764443,0.0269955846117214,0.8220425922201361,0.19436668491214637,0.19436668491214637,0.827708988125845,0.07827144577030994,0.16779981038350394,0.2512202119228005,0.18331417483346601,0.6114013229868887,0.22783062597488712,0.13704623613836267,0.21055651392192049,0.23788939834785897,0.23140918182055872,0.13298672705724848,0.22821568840376963,0.1288808580245116,0.06732958104067291,0.2219222537381878,0.06509862533344239,0.15544437001326722,0.17320505862836535,0.1530903966362334,0.209710696986163,0.14847012964577358,0.23118017671736305,0.14396559902903547,0.23067362975503905,0.14175627784828593,0.05782136708138933,0.19815192019198394,0.07965708995822045,0.19233226429313027,0.20787840604055313,0.1867888838071559,0.14886796398676008,0.13113135951940147,0.12707437787748127,0.14794745952109906,0.22839361931448973,0.13356412480234084,0.09720198582436733,0.2586404717631102,0.23516987189498065,0.09834404898913478,0.0574801069520254,0.08915330518793764,0.12366581388195694,0.11938797580581491,0.0848544815034278,0.11980795500504839,0.08971939595861984,0.03216171314022662,0.11605450722116084,0.08438253799571795,0.8694495446624079,0.34117097391895873,0.8673878844969258,0.34314100125611224,0.33310703087614635,0.24784148223521502,0.32706303648769686,0.24537436995128661,0.14373710722798352,0.19770565691128394,0.175349130513652,0.22821568840376963,0.29806065041833396,0.22274591352682485,0.21814135997721767,0.2961205784069743,0.2219222537381878,0.23193653058638616,0.8236857617588872,0.2005299054453695,0.1530903966362334,0.3704566288833659,0.11535324959119723,0.14396559902903547,0.05981888556326967,0.14749042697987588,0.2617337026539288,0.10994359682509247,0.13957533318855234,0.1895450489994975,0.1352977892413103,0.11606450199217161,0.1781212380424951,0.24136083341281306,0.19501785485886733,0.18136939603296925,0.1404122306252474,0.12312512579495395,0.17089918529414927,0.1211903484326885,0.16835782646856037,0.20069186384544555,0.15796207793012007,0.08611997993287435,0.6224496507948474,0.14458271545971657,0.21945734667561553,0.12762988436029463,0.1736157541609509,0.04633646550750765,0.050141705518604945,0.08539583543546837,0.1362140585656727,0.1095296050826189,0.09878817409761921,0.38771911280362303,0.4078104711526797,0.9271032282986515,0.24077585003142082,0.1887783736856476,0.28271807744850114,0.18331417483346601,0.18062841956115974,0.18062841956115974,0.17797343851539238,0.2868610945073814,0.17320505862836535,0.2105012955136857,0.20024130878354696,0.19800010172692004,0.08402316373569202,0.13742257001401506,0.19233226429313027,0.13320078793824733,0.13320078793824733,0.05401283451003186,0.23190953069544537,0.12908929393849491,0.27645681741328093,0.17607310399139964,0.17033476788869337,0.12698063650132269,0.16584669948416988,0.16336566953571707,0.16336566953571707,0.16336566953571707,0.045501781155791426,0.17188638099709963,0.11012527774249775,0.1537396023382499,0.10836953286963658,0.15140681696169392,0.14236549890341962,0.09995557518006029,0.17590233733741317,0.07668553666848094,0.13588364848043183,0.12149005391085795,0.03697110683071287,0.09862312386547101,0.09120388890402142,0.04571936911855,0.04341503310314165,0.1315673208312984,0.10371289551815342,0.06387199757167461,0.09254632164886073,0.8449454880820297,0.12196884209791133,0.10703405950444525,0.24060117338542675,0.11815678394887486,0.23731999688238373,0.2340697748186446,0.3310464260398931,0.24784148223521502,0.38959784580796314,0.1407927625604943,0.2213799687782264,0.13935267500331047,0.26831477979650464,0.175349130513652,0.19941781651830398,0.34584876198805586,0.2219222537381878,0.29237376550774496,0.25498168787334197,0.197367486448387,0.20379282030839393,0.27048974616274074,0.14396559902903547,0.2008808300298565,0.21553599732712564,0.30608393539871254,0.1352977892413103,0.30605893782178173,0.13320078793824733,0.10078128783643477,0.15490161420118329,0.13113135951940147,0.18136939603296925,0.12908929393849491,0.2925598966297509,0.17607310399139964,0.3460772812152023,0.1734709040719821,0.22839361931448973,0.21001834073517303,0.1770838032976729,0.14643522949947207,0.24535633067620863,0.19262062779891023,0.239844437419458,0.18983021581755613,0.14458271545971657,0.18813027544967886,0.041706658217240476,0.11573243976885818,0.14101662450380847,0.21621151612514933,0.18159563906171694,0.08209395289267282,0.15967141907701035,0.07681700215764443,0.10371289551815342,0.10778220684277198,0.07701658868160655,0.3224173488446969,0.8517781085456556,0.28458644742922257,0.3058444842251341,0.13851015902254238,0.31608578024997047,0.2213799687782264,0.2213799687782264,0.14153071278630694,0.13935267500331047,0.21828557241821103,0.20622109092092022,0.27608586420649617,0.3337072338449854,0.268932324528366,0.19465736348719384,0.05035294059489015,0.26189708049627,0.25842431361020124,0.32263802190241736,0.175617567804993,0.175617567804993,0.10579370477375928,0.23822591904717497,0.16791818315252843,0.7823655802796478,0.17189493460405647,0.13995325066459874,0.2651702944312995,0.21001834073517303,0.06198866793854803,0.25551606060592613,0.17588632839138976,0.18779639062249084,0.18164501953059858,0.30468455866599375,0.07797284479330291,0.12528957676839594,0.07293974645920948,0.22555345841159963,0.047178305286128236,0.11573243976885818,0.06776125449392549,0.204551031305338,0.8431329039400212,0.1563462764889785,0.062279951425570294,0.10510609389238237,0.09850868321875836,0.205390282840575,0.32532514039438903,0.2439132069568701,0.15520096295042612,0.2340697748186446,0.2340697748186446,0.18226215767983628,0.23085059275578884,0.3096883762164454,0.23085059275578884,0.22766252462170847,0.14373710722798352,0.31608578024997047,0.13935267500331047,0.212190689339745,0.8326148938886917,0.12174056015771961,0.2980266560759005,0.27608586420649617,0.3600143493299753,0.27249441278716174,0.19465736348719384,0.11648052031162871,0.2515693656126952,0.24483621785504311,0.17824502492658112,0.15349837955962284,0.0988021984596486,0.16541230936203563,0.16293650845467766,0.14213912498720924,0.1556880884682726,0.09442669705049392,0.20704052577420795,0.14870483865253775,0.08843337952750045,0.2040940245946642,0.08900276263488412,0.22500486624872623,0.13422086300625224,0.1300826077222968,0.11573243976885818,0.1138987411649799,0.04637383503836907,0.10854892988562519,0.15967141907701035,0.06020551373068254,0.09850868321875836,0.13823702704479499,0.18179519383050285,0.03639906577668418,0.05077102270192266,0.2439132069568701,0.3135587562589327,0.2519372019940077,0.3058444842251341,0.0597146291533997,0.30202742849279485,0.2721538457269268,0.29447515103122635,0.21828557241821103,0.1342601655187688,0.20328326192181723,0.20328326192181723,0.21947403557668504,0.17580411888815353,0.12024587197167882,0.2653998134527889,0.17824502492658112,0.24483621785504311,0.31566380663875643,0.23496711228726738,0.23496711228726738,0.10646180903475783,0.23173932299688654,0.10475759562332743,0.21913971176457545,0.21913971176457545,0.18117823763406998,0.19262062779891023,0.11772545702653486,0.18164501953059858,0.18164501953059858,0.07416922569636021,0.16610351985969124,0.204551031305338,0.14344414422880908,0.08223386448504316,0.9367798552046751,0.2439132069568701,0.24060117338542675,0.20940338443136558,0.23821755314201945,0.5118583632783303,0.33307093606096994,0.4274187953544493,0.4335000695929002,0.4335464113943453,0.2033286437243405,0.28335593445627844,0.28335593445627844,0.7485374406245175,0.29426580825076143,0.37122961862451065,0.28315132392818965,0.32747149942970627,0.17565813511703426,0.35454593152344255,0.34633204040440296,0.2617023067826675,0.23496711228726738,0.254790281816013,0.1013957965778509,0.28720751563438496,0.14336188463792354,0.30669238565927337,0.2040940245946642,0.2220686184745944,0.21896730334236614,0.19262062779891023,0.12532028571467477,0.08408840868452347,0.2661785844019993,0.17120197609420984,0.3572419602129855,0.10854892988562519,0.1538498901393972,0.14468755750304138,0.21486762589461367,0.43627227389459683,0.5118583632783303,0.8520192857594219,0.42300906434413976,0.42300906434413976,0.21408246645541792,0.43471668055881635,0.3172369289706049,0.26853952716488955,0.3600789068969986,0.2699251559613981,0.48798410279305887,0.13625256816148693,0.367028000185627,0.2758844824143306,0.2758844824143306,0.2482397794919351,0.24488802479463967,0.35454593152344255,0.2617023067826675,0.2582312190235604,0.33418221348050964,0.24799949291473145,0.2283649856275636,0.2283649856275636,0.2283649856275636,0.3028693649205037,0.2220686184745944,0.2128585684244424,0.2010169025397752,0.07746802370950573,0.2449929366148575,0.19528373552696587,0.1896752654491392,0.25918983803149137,0.18419100047143672,0.23895088972420925,0.4877508869211859,0.17692279748567188,0.31751597484396565,0.5085575690604601,0.29781938047176343,0.3370908438609144,0.3172369289706049,0.5422565912214503,0.14497129052685387,0.3390741853492247,0.8172056188224341,0.27614186556317866,0.3621201152924298,0.29426580825076143,0.34562078873553265,0.367028000185627,0.17725664349231263,0.36284649377529354,0.4278729007246487,0.2758844824143306,0.4146772064418211,0.317638912716146,0.43867467930894166,0.5790246268948654,0.20541895736425198,0.3422588267369103,0.33418221348050964,0.5324715407142873,0.7472580280112853,0.2413310824882093,0.5390171072491146,0.2220686184745944,0.26909897091011187,0.26909897091011187,0.2128585684244424,0.39778606444447795,0.3386241101794118,0.3386241101794118,0.2805111724928159,0.23837974223507552,0.5349924389136236,0.18797639072076736,0.1085760449578185,0.17720733077264905,0.18735316610630406,0.13610164037781528,0.3210750699382394,0.46743577294208144,0.12772426881581003,0.15885413187588038,0.9612004895533552,0.499537055011289,0.400402157613192,0.5159923738215911,0.48719876613764307,0.481502800324371,0.481502800324371,0.5780165542630541,0.481502800324371,0.3832064396173542,0.25653049558933955,0.3621201152924298,0.2654544420776139,0.679973656707652,0.26195124523181273,0.4652456026243317,0.23122997885093585,0.4367286110264286,0.4234619495684582,0.42518229565825866,0.33503003779206963,0.1679573342771215,0.3098695729606333,0.3098695729606333,0.4271159271817093,0.6311464729222312,0.3929624534031078,0.6893989734398644,0.29841493690391957,0.7651646125355154,0.19108478235526302,0.38438858209885607,0.19217575605466433,0.6539881786292038,0.2779056456167558,0.5112448270628175,0.43599599980715165,0.18117823763406998,0.35085033220302986,0.13554781551746606,0.6453911580298981,0.6186055759025093,0.25172895757060904,0.3697645697813168,0.14005528535036388,0.521504438039199,0.278650868934101,0.37925414022834464,0.9502766438344227,0.6271611820622521,0.404741534055797,0.37495020189669903,0.3059039710967739,0.28740444049235203,0.2214282677484825,0.3874798882574092,0.481502800324371,0.3513080258444608,0.8004542685310161,0.5691909524425086,0.27254995992577896,0.7442071424454806,0.8475995226088755,0.37710368113070597,0.4278729007246487,0.317638912716146,0.30777702100576637,0.3137411883249922,0.6395067039660062,0.3098695729606333,0.3098695729606333,0.3270391918761753,0.597750198006396,0.38866690660437553,0.2634183423147271,0.37588594428391986,0.3716627761968007,0.3345951466773354,0.4176028380466947,0.31481841618855005,0.5079850083409814,0.32431150691535965,0.24003339741941576,0.3010539938227612,0.1238974245681667,0.08502045553575252,0.7958856006742335,0.5130661042804299,0.72873339649477,0.44336831702056084,0.6299820453715258,0.7530839473319375,0.49051684230977005,0.7105367533516007,0.481502800324371,0.621531651042596,0.41593686127955265,0.4495917627284029,0.35796290240508494,0.45008643269412324,0.679973656707652,0.679973656707652,0.823617656452509,0.3415515692440321,0.7230607844758696,0.15916047605804406,0.5605652953707589,0.6758139447463223,0.6917689604043166,0.6518887584830318,0.32156237033768165,0.6477831922701061,0.5746889505214895,0.6879085593865667,0.5427170601621563,0.5427170601621563,0.9527129572630229,0.7330669712492182,0.5247584831492729,0.5524351173421681,0.28720751563438496,0.6056067034726835,0.36745912031264427,0.6012891450245054,0.6617297371771602,0.5926072220798286,0.35085033220302986,0.3782785434826899,0.475181736281039,0.4617044467130192,0.4527493646645024,0.3336740003811265,0.7017049197061345,0.3744790905139232,0.7922693452618167,0.3784119632609752,0.2685371914125035,0.17489987333320733,0.17431069658819887,0.6507535778521965,0.7358076376211097,0.7322853409214858,0.7460038230825632,0.9144484080609796,0.8109181132298079,0.5012977346678767,0.6636549226826991,0.8117324591117533,0.1987942592729528,0.7179018378124377,0.6299820453715258,0.7142335295151494,0.8896657973186077,0.7428816374338881,0.6992784451729493,0.6877746722897908,0.591399895036945,0.861497391452414,0.5694339334902803,0.5605652953707589,0.7377010053423693,0.32551117198354373,0.2970010391041606,0.6353367953454165,0.6970725906423079,0.529255967167528,0.6269362734171386,0.7365826834085271,0.5247584831492729,0.182857700436743,0.07855984177457863,0.6697594854644495,0.41174353391912943,0.4886952755458213,0.4886952755458213,0.5882441111875075,0.7291324995225249,0.5879999801474953,0.3655698923211239,0.4572234499964142,0.4527493646645024,0.049685239822897076,0.5230013952598439,0.4129090245731994,0.21433783076689816,0.15822613352232257,0.6507535778521965,0.7760751912536681,0.1473839039207496,0.9682641948487393,0.438005125067645,0.20168363624631935,0.7675503660170715,0.2669892248562214,0.2634730385684362,0.5201153952851312,0.6130068196294791,0.7249511012678952,0.6087179312448785,0.24634377680816777,0.5957525463063786,0.6838871053298081,0.7763974398803289,0.730228195212725,0.5650048151353811,0.6956027400499631,0.770359164259671,0.5746889505214895,0.5471912419845695,0.4792201568978522,0.5382359764253586,0.6353367953454165,0.8489613531190024,0.38866690660437553,0.6141919522392637,0.48000467101492117,0.5112448270628175,0.6886310005900973,0.7042312851049362,0.566232930280892,0.566232930280892,0.46619163987871404,0.680841452051518,0.36146017866102226,0.43050729529047777,0.213198188800444,0.3288537917102796,0.5437072894149905,0.13284880281802874,0.5857063307724018,0.5503046931969502,0.37417742977113305,0.34925562005792443,0.19434234971124922,0.7215414156610597,0.6299820453715258,0.6257664356209153,0.7356116743221232,0.3934283526758814,0.9028852893001219,0.2108480292332086,0.08242811405466272,0.24952009371293918,0.6651307976898299,0.655971884331077,0.6477831922701061,0.5516578113446183,0.6718485080240977,0.07214844958495863,0.40764588709818383,0.5903990556091978,0.5427170601621563,0.27465977088585775,0.5247584831492729,0.6184584478272857,0.6184584478272857,0.5157521838288744,0.21726324077629317,0.5767853752768702,0.506735641006708,0.5022253588520392,0.4977147145036301,0.6840702815972165,0.49320444210206726,0.5838670849584016,0.5794767924821239,0.4706843105597186,0.6584496196455475,0.7326811350964192,0.566232930280892,0.632908134195343,0.6388197164061905,0.24372830768804,0.4804677642813034,0.32969479162991305,0.5305011429407123,0.5663860774695755,0.20022990541945074,0.4085421809040412,0.5429300757480842,0.4944538898891037,0.7358076376211097,0.7561229165610288,0.72873339649477,0.8136690919987518,0.438005125067645,0.7866239229725374,0.3832064396173542,0.4203265743966123,0.6172782544326522,0.6130068196294791,0.7030589149450402,0.7726979338280136,0.6000901843399092,0.6222707627726999,0.5451402683715627,0.6262008069258421,0.7400685096792733,0.533748705765871,0.1364710584295432,0.6112677748785841,0.5697900436884179,0.8217147065478686,0.34675216794480757,0.547650887876363,0.475181736281039,0.7326811350964192,0.6520810436985192,0.7635980434515671,0.6074144704461121,0.38961122154898853,0.4129090245731994,0.15727747750200363,0.4041897249617432,0.2679202214988864,0.35743657362902137,0.6692312337653308,0.8598301978021948,0.7599572975996568,0.6362316141301909,0.9012765301160803,0.7806742003566562,0.8555468884437137,0.9098569002661073,0.7712656380266038,0.8687447248998671,0.9002852429201524,0.9304988045997856,0.8268237032568758,0.8840200506794871,0.892382889436067,0.9076703123829694,0.834298273162076,0.7378927106279999,0.49320444210206726,0.8463549577436195,0.878552072669116,0.8296469626401759,0.6664635328273393,0.4216832954851321,0.8257774698115677,0.6336462922766994,0.5139785742314416,0.5820949246609093,0.9228795266555039,0.9228795266555039,0.8234996273212541,0.9496544589871326,0.9162088091273258,0.8154939892294382,0.9148132246375573,0.7986464132850409,0.25979288214630664,0.853428832757326,0.9028703354930679,0.792780934143272,0.8980189370356366,0.24282399876831162,0.1615899767567394,0.34112520797085516,0.8319298630308068,0.8189356868134743,0.9244331706739449,0.7516095953659085,0.7644961469889401,0.8079869339324467,0.866305250860962,0.9151237074634238,0.7090352083538729,0.5855772141285867,0.8607461703404162,0.8214007761268868,0.8986891548358584,0.3558807171223451,0.6209926197127809,0.6771697859386326,0.8127637532639334,0.8783883065961272,0.9119586706361672,0.8100025292675475,0.9090179755872013,0.8934400879411617,0.870465946548192,0.8556713978299848,0.905989182984441,0.894666415342875,0.7775692537370448,0.8510297585912796,0.5121875050393152,0.8588063696068345,0.5763410225433448,0.772489629850318,0.3984610774763203,0.7448117347897896,0.8073673620153631,0.8744453765523187,0.8079869339324467,0.9178848819728628,0.7343881779548588,0.7343881779548588,0.7927741773119324,0.889784280162964,0.8050140045093606,0.6539052419150487,0.8671083000366848,0.7682469278386612,0.6900791623076983,0.7844234694409488,0.7773392869538824,0.6624408502231648,0.6583945190179268,0.8444344754116091,0.8378413987562227,0.5952007119457738,0.9286664672571006,0.8312297921494809,0.9228795266555039,0.8894870097050602,0.9202717122101574,0.8234996273212541,0.8309635848575667,0.9162088091273258,0.8744806493145795,0.9157501001790964,0.905989182984441,0.884929843188414,0.7957293216706008,0.8577624479684168,0.8929539520738945,0.9283929730216252,0.7615767342606381,0.6327845051942912,0.9231630793057144,0.8292723058421335,0.904683814427789,0.8498264427457656,0.896526896913864,0.9223726276527108,0.862070304019483,0.7090352083538729,0.8532624949865648,0.7784325807668322,0.8440309143900172,0.6900791623076983,0.8416036072637758,0.8416036072637758,0.6162982706449367,0.6625034996782249,0.8046199039307393,0.6543249944235912,0.6252297988737372,0.6167369007735523,0.5327864946385513,0.6038643109087053,0.9215855373879175,0.9392057162020853,0.9189378102958075,0.891424466701929,0.8072102437658663,0.9104992129659022,0.8413616195448965,0.9012765301160803,0.9204282535112741,0.7744330516765833,0.5516578113446183,0.8681925370901048,0.8840200506794871,0.831788898599181,0.8704297127580305,0.8683811882437421,0.7308538789012639,0.857723241515835,0.7992873983834269,0.5679619042800347,0.8439940269244425,0.7820084460502806,0.7174376620793672,0.5282926783197719,0.7874051078852445,0.8312297921494809,0.9274619440595963,0.9391511196374669,0.8894870097050602,0.7215414156610597,0.8208618324068042,0.9162088091273258,0.8154939892294382,0.9442193747700793,0.853428832757326,0.9256027638557858,0.8681689944193934,0.8929539520738945,0.8899774112491169,0.9535191912189779,0.8840200506794871,0.7989445948581501,0.8802686876343736,0.9231630793057144,0.8575218205875095,0.8868830747859467,0.7236968016317256,0.7164232502463822,0.6416199025784337,0.6977433426661525,0.6862071976595551,0.6704621245761287,0.8292037989578874,0.8535553801422541,0.6209926197127809,0.9298525016655386,0.9237350854765846,0.9175835900376904,0.5037956995785324,0.8527973048452391,0.9292453448998257,0.905989182984441,0.7957293216706008,0.8642393951529231,0.9012765301160803,0.7837478586263351,0.7806742003566562,0.7269218868192759,0.8886872897226803,0.912227191196604,0.5895000033289775,0.9092945730137706,0.7582851383524983,0.9766179079567946,0.8484481609780402,0.8764129501590995,0.7378927106279999,0.7272900151887931,0.9137117521601147,0.7236968016317256,0.7619134466054699,0.6893202778560881,0.8486865648510074,0.9175722857780609,0.8237930177689624,0.9186437985694638,0.6904682896229423,0.6419820039233002,0.90641423881554,0.6081721551844677,0.7982777656883195,0.6186853588723136,0.9189378102958075,0.983463164851154,0.9104992129659022,0.81791105328647,0.6365378004556829,0.7986464132850409,0.940294059674007,0.7957293216706008,0.7837478586263351,0.8263731658054373,0.5575868683465629,0.8555468884437137,0.7500616032660029,0.6956027400499631,0.7648374072437544,0.7648374072437544,0.831788898599181,0.8783539791882404,0.7482258873356074,0.7448117347897896,0.7343881779548588,0.9529447959838732,0.866305250860962,0.8461403297341082,0.8044127278958357,0.862070304019483,0.8021663114535957,0.7444902577941009,0.8532624949865648,0.8532624949865648,0.12731144495658972,0.9016310453202255,0.30708701756526463,0.8624680343644482,0.4681370998513126,0.5600009030659185,0.8894870097050602,0.9262386970281649,0.8208618324068042,0.22455441712580762,0.8552827749422314,0.9134187538422444,0.9162088091273258,0.8100025292675475,0.9426639138757243,0.904441138372699,0.8315291563247545,0.8996594784048534,0.8963546633220276,0.9177959237515477,0.8858571646881527,0.9231630793057144,0.8101579070730388,0.947589832820718,0.506735641006708,0.7200744662290587,0.9096609070227005,0.7683974016231282,0.8676984587475126,0.938913751132548,0.5047717321715782,0.7904629870934026,0.6900791623076983,0.768720094315837,0.9274619440595963,0.3960783486135648,0.9479009221832737,0.8127637532639334,0.9104992129659022,0.925639799371571,0.8996594784048534,0.859949588831052,0.337505549273854,0.6025321331634147,0.8130459225709481,0.875658065057577,0.9453076038704306,0.8162449037743433,0.9015741142587832,0.8675846563585177,0.915746926896614,0.8292492998464338,0.7343881779548588,0.6801933868429085,0.6335145991594212,0.8555071741669225,0.9283158584818992,0.3386241101794118,0.8486865648510074,0.3217827361186741,0.9100965373756719,0.7205047013842605,0.8240323363536668,0.8214007761268868,0.6543249944235912,0.7820084460502806,0.9003201113514032,0.9698859759227617,0.8312297921494809,0.8312297921494809,0.9192210179611642,0.9448006817999373,0.9360406193502153,0.3917707233485898,0.8520430762899203,0.8154939892294382,0.9030610447485734,0.9090179755872013,0.8517599872987617,0.6838871053298081,0.33480930129042513,0.2563383269232431,0.9217195049693568,0.7867902063789607,0.5978631745562243,0.8858571646881527,0.8827092095426137,0.8870731850723256,0.7448117347897896,0.8764129501590995,0.06413716941266535,0.8340359395315549,0.866305250860962,0.8915412912245452,0.8880023814708771,0.857723241515835,0.9016310453202255,0.8439940269244425,0.8157977105207121,0.7907330674111775,0.09449918702597955,0.8862600629861618,0.6583945190179268,0.7850685539596765,0.08705699426695887,0.7308862527553066,0.8858896498355383,0.8208618324068042,0.8181933189725566,0.9148132246375573,0.7193259317931943,0.8803025483599038,0.7878036360241119,0.9075147138334361,0.5603211738876847,0.8556713978299848,0.9371818348182317,0.6196817655600737,0.15916047605804406,0.8652432486980782,0.8876688766064728,0.9163883661750609,0.7011462649698518,0.9009075347532444,0.8074361987498146,0.8597120563526527,0.7295215667885903,0.8744453765523187,0.7308538789012639,0.8023262007528602,0.9548370706336894,0.9318353855863737,0.48418794801369747,0.9094474758926883,0.05505317323052336,0.6159853203146268,0.8733163595940362,0.7174376620793672,0.8051135760512179,0.6829181502557339,0.6949852892421967,0.7705079961805749,0.8575017106224185,0.9162088091273258,0.764265243335146,0.8573867354684055,0.9033358649927243,0.7898012319848382,0.3058140142110956,0.894666415342875,0.7744330516765833,0.4877094380639442,0.5938589944933353,0.6564031442398955,0.9031165733594678,0.7378927106279999,0.821447908157691,0.7052989318963555,0.6977433426661525,0.7835225013612502,0.8383775448229832,0.258742508213496,0.8068534833707027,0.966558084799553,0.8181933189725566,0.9211537299090644,0.9493050868467828,0.9251226663381762,0.792780934143272,0.9028703354930679,0.7775692537370448,0.9774279122864915,0.7615767342606381,0.7482258873356074,0.7448117347897896,0.5202569793032832,0.9678295438755143,0.7378927106279999,0.5497138267014606,0.7806671579759017,0.8676984587475126,0.8914438002819296,0.7015348738509337,0.69392466031716,0.46872735201608345,0.6502327444779258,0.825208240203432,0.9693545083579138,0.8721441719576889,0.9175835900376904,0.8181933189725566,0.952495796266749,0.932722543684924,0.801532237388677,0.9243883296578714,0.9012765301160803,0.859949588831052,0.8263731658054373,0.7894862273858776,0.9191469624903923,0.889455420869428,0.841646435632499,0.7549627209119701,0.8696437171448641,0.9484786912914962,0.7378927106279999,0.9178848819728628,0.8683811882437421,0.7236968016317256,0.9374644059201277,0.862070304019483,0.9108238864810468,0.5227987565789941,0.8555071741669225,0.6103491567228905,0.8603138349962145,0.7623006041194057,0.8705435717732376,0.9511222853271213,0.6425083686008443,0.9175835900376904,0.8821907000066822,0.9148132246375573,0.8154939892294382,0.8507588268043123,0.8842201078516377,0.8764477482607519,0.8072102437658663,0.8043868318469358,0.36629806320827885,0.8929539520738945,0.8510297585912796,0.891217033523009,0.7680670677763654,0.7648374072437544,0.9062740389418021,0.8367775587223497,0.9046013643666746,0.8699018526359643,0.947589832820718,0.6617297371771602,0.9636561157950407,0.7775621400657023,0.7127434082872719,0.5182957297504832,0.6862071976595551,0.8950419031416008,0.8741179784701916,0.7525416145474845,0.6294478740438608,0.8872753648613935,0.9794909431479033,0.9202717122101574,0.8181933189725566,0.8181933189725566,0.8154939892294382,0.9451620870463279,0.9022590325818152,0.9304224756455883,0.904441138372699,0.8980189370356366,0.927663498055212,0.8361103320625453,0.7648374072437544,0.7644961469889401,0.8696437171448641,0.6516600169674436,0.7482258873356074,0.8764129501590995,0.7512553822964233,0.9567539286374506,0.8466377835088705,0.6593633868206239,0.8430765786502897,0.8439940269244425,0.6664635328273393,0.872711335709984,0.8523019591172495,0.7560012863028734,0.6294478740438608,0.6252297988737372,0.709857824844265,0.9422238526362114,0.9286664672571006,0.8181933189725566,0.9119586706361672,0.9562421767364534,0.7898012319848382,0.7775692537370448,0.7864719093864005,0.5938589944933353,0.9256839578786782,0.7989445948581501,0.9202011199927698,0.6285819998381807,0.8744453765523187,0.9394331810228842,0.7272900151887931,0.7965406067080177,0.7052989318963555,0.9275977153103393,0.7934357618999661,0.9312555640587432,0.43050729529047777,0.8240323363536668,0.7820084460502806,0.9576564608553352,0.6081721551844677,0.7874051078852445,0.9215855373879175,0.6732129144106976,0.5173208637405939,0.9148132246375573,0.9038386686557635,0.8072102437658663,0.8072102437658663,0.9584981802394169,0.7867902063789607,0.7924692215951238,0.8729110489381103,0.7712656380266038,0.52757079110244,0.7556114266631504,0.9776534382620042,0.9764398098047581,0.973990393614665,0.7413672881899968,0.866305250860962,0.7512938224952445,0.857723241515835,0.8920028163108648,0.9399404268215188,0.727650860684876,0.8463549577436195,0.8502316324919138,0.781356734966693,0.781635310237344,0.7094178104069944,0.6378245121355373,0.7174376620793672,0.8086053104210306,0.9612256776632714,0.9162088091273258,0.8705795419074205,0.9162088091273258,0.9409137137918688,0.9104992129659022,0.9104992129659022,0.8072102437658663,0.9143475898940648,0.7856535794034761,0.7524135032011864,0.7867902063789607,0.9144900245801135,0.9150738497523685,0.9708385459567641,0.7712656380266038,0.8858571646881527,0.8242249828332537,0.9062740389418021,0.9312761311361433,0.6411287198454012,0.6722080754949735,0.8162449037743433,0.8142448358472567,0.9178848819728628,0.8461403297341082,0.907870362492707,0.9438876037921358,0.7236968016317256,0.9307150749397042,0.5317929743713338,0.8697560155659741,0.7090352083538729,0.4706843105597186,0.7934357618999661,0.8263967793916396,0.7650190056166957,0.8767171027936093,0.4822259947197713,0.8485570962571157,0.8027716520993124,0.8047044583482945,0.8374360102393048,0.8444344754116091,0.9513962206258643,0.3676826863007138,0.9725017640011047,0.7030589149450402,0.2625360557967864,0.9569909546659328,0.6407017422257433,0.604412184381936,0.801532237388677,0.6916359870447913,0.9511600323253111,0.7444589482904523,0.7867902063789607,0.16404932714156303,0.8660902263387628,0.8533027204279536,0.9107280228034618,0.7749816671165491,0.13861131116878045,0.923746679499756,0.8769880095307355,0.7413672881899968,0.8983252328578288,0.8612416825977164,0.9574943387942133,0.8546805749000337,0.8484746107649229,0.8915412912245452,0.8861953588199178,0.6539052419150487,0.1747628446442711,0.6646216804469687,0.49621441745124206,0.5461637404349831,0.7953567018265414,0.8537614521589335,0.7406551847668538,0.8885865496566291,0.9203418114951062,0.8774197170828811,0.37477968410775675,0.6569440430626831,0.8572698273827319,0.8962013143763506,0.8517599872987617,0.9178576273830646,0.8742415434788899,0.9095912417557916,0.6775752351566492,0.9437983067810435,0.892980730926343,0.6696417892043545,0.5250796861480265,0.6534852496291425,0.9298632363121233,0.8588403404852603,0.9091712981540702,0.8804260306349034,0.9349093250644177,0.6411287198454012,0.9046255406894597,0.733695920998034,0.3392552861165408,0.7127362046529189,0.8726171667462675,0.7344428272583761,0.9084551289278163,0.8316933342696053,0.42563579122369455,0.7928079708758436,0.8746796420272628,0.7518806853666863,0.17706288907881867,0.7330219952693618,0.5142531822834763,0.6749049074141676,0.7406551847668538,0.9011113303740923,0.7406551847668538,0.9688139627791034,0.7215977061461806,0.8679565105174779,0.9237350854765846,0.7265534483538798,0.8637898494826532,0.8255516031002318,0.973880084761221,0.817021690313101,0.8179416890030288,0.958088352892647,0.8894829666017613,0.8695457052426482,0.8996780472798616,0.9107717492595776,0.9316387734544296,0.9061709079112867,0.5763410225433448,0.8463079371429868,0.7011462649698518,0.9135594850751322,0.9092114150163159,0.6858075698016928,0.8413561298020446,0.7478684676516261,0.9061645761904169,0.8878816325662439,0.9226905346769058,0.7750903872894882,0.8315129620219953,0.8441906020449063,0.6742071380940747,0.5457038369489327,0.49621441745124206,0.559543713501509,0.7192308728906991,0.5645105750833779,0.9131476258626453,0.8639886481349855,0.9278756778161842,0.9370559988576487,0.7911488907665172,0.8575017106224185,0.9348937407920109,0.8530352085974103,0.9559942903890979,0.9569515981301654,0.941366005694832,0.9368113592496589,0.9242838601065307,0.9230114681965134,0.9211433051303438,0.8263731658054373,0.9744136301582961,0.8237691255443603,0.8130459225709481,0.8783839129651201,0.8912369758672691,0.8450600173795199,0.7960307198521255,0.9372798776897995,0.9281422911735298,0.9581627881677152,0.8764352301447585,0.8764352301447585,0.7837408875988947,0.9720829718322215,0.8599356662796465,0.8835985055751999,0.9148828326118603,0.7902765040328454,0.9555189624259124,0.7056844075913004,0.7019231922374446,0.7019231922374446,0.49621441745124206,0.8550996649057919,0.9616823712531508,0.49146852521570306,0.9408500538460288,0.9359833740979742,0.9076972363429853,0.9337868727605136,0.925056431620824,0.8461189016097143,0.8289467178488282,0.8878857268680105,0.9204077305480894,0.8747945786587524,0.7863113570409783,0.9163511288374717,0.8823833822369493,0.8157729766376547,0.8208557843082195,0.9121075167138498,0.6493883853188662,0.947697823979666,0.8046785915461815,0.941127617365915,0.958605156973151,0.8912369758672691,0.6092046576674375,0.7256457846619757,0.9219608031020345,0.896526896913864,0.7927741773119324,0.5831490440649899,0.8948411252641195,0.8913967702059385,0.8744679604411316,0.88963770774518,0.8883823424456814,0.7619134466054699,0.3064185812457488,0.8890511519420975,0.8961421947068049,0.9193722200047868,0.7347499139394675,0.53203661286031,0.5730715964008625,0.8030652310600837,0.8875689371258881,0.8679565105174779,0.8530352085974103,0.9780043886277348,0.8507588268043123,0.8380227060670432,0.9303605761143308,0.9237959521989463,0.944254947452647,0.8289467178488282,0.9909496969506459,0.8130459225709481,0.9121075167138498,0.8963737733368051,0.962942766497087,0.8686297620971714,0.9362209917250417,0.884041140724468,0.8821786855367194,0.6115821455200239,0.930618690694605,0.9310650083813247,0.7619134466054699,0.8842101336328563,0.8424012090670192,0.89506122686475,0.8266627850857347,0.6943185656739528,0.9411808807387403,0.9401740600781587,0.898127465617287,0.9696725165002549,0.9370559988576487,0.8530352085974103,0.8507588268043123,0.9576887736793556,0.9315205202888177,0.9291824778444313,0.8413616195448965,0.9148292546676671,0.8948713570007333,0.9669740503888321,0.9242838601065307,0.9423247672246216,0.9512084623260004,0.9551858513252776,0.974859635699058,0.9204077305480894,0.8263731658054373,0.9720655515764086,0.9485849503319466,0.7989445948581501,0.7960307198521255,0.7930855514107411,0.8876893874369439,0.7344428272583761,0.7871012652051665,0.9684072718664323,0.9574335041566112,0.7651709346093449,0.9715891421676253,0.8684046987643159,0.8860446248640076,0.9048899840094772,0.8313035885385797,0.9161239194797061,0.7451642009688545,0.6188961355671005,0.8048372741862838,0.8271783498415622,0.796677911846786,0.8750156442694172,0.8750156442694172,0.5578072794784704,0.6904758091611791,0.823471922255261,0.6668758135793623,0.7852937452762173,0.8660949963984621,0.9756495994135423,0.9635925256076799,0.4374217071575397,0.9677114867100286,0.9345300118406962,0.93830599086058,0.9810560268336925,0.9744136301582961,0.9666180019000492,0.9106502847126162,0.9573662264074211,0.9820952248003542,0.9144927758590139,0.8018272058141963,0.7096160253362366,0.9622935255613617,0.9458800213055428,0.9558688086043325,0.9616333631581395,0.9695087311554698,0.9689708187843068,0.8638545770369702,0.9086779029215737,0.968423725890459,0.9535283077451272,0.6070784723362648,0.973045739900844,0.9667085891434076,0.9551720953027494,0.1615844046455329,0.965527486151622,0.9325387424280059,0.8991164160440802,0.8890511519420975,0.9206858118141017,0.9301048434230726,0.8096928946190672,0.8527477787242911,0.9035561177286715,0.45973262688314104,0.9428265929675899,0.9642202316145014,0.9398379323235027,0.9734118516023254,0.9785469743692591,0.9345300118406962,0.9036827112930403,0.9714787758859295,0.9653787097378769,0.9647705850426289,0.9694095737411459,0.9843494241713496,0.9660308794672894,0.9583284411751146,0.09418215653908579,0.9121075167138498,0.9781786212981178,0.9635812516864656,0.9158931274862206,0.9779402201533327,0.9144927758590139,0.9502270561145918,0.968423725890459,0.9680151305880511,0.9588801141112043,0.9673014138206628,0.9739761940875752,0.8005758147185676,0.9643245388502089,0.9473361714047046,0.963679769983486,0.9058212960138885,0.9399520389023651,0.7558862447681001,0.8644192736694626,0.8770602338061695,0.9012663607569028,0.8068534833707027,0.14919912740160868,0.9519028636081581,0.784062137847044,0.9744296246426819,0.9288560396878762,0.9391538740132771,0.9663875273788943,0.934312722536965,0.9595981187493096,0.9647705850426289,0.9127894590957513,0.38584870349526706,0.9466968832458282,0.9693216582609964,0.9267055886309785,0.9238772598431082,0.9655661247693658,0.9468552767404494,0.8996491610219791,0.9767936468410431,0.974859635699058,0.9501357086451042,0.9710688135329726,0.9420643965134037,0.38158203763418924,0.9661406062331486,0.9532928129458834,0.8413835859398914,0.9878902443357631,0.753500541379797,0.9009106756952904,0.9476000483937824,0.35638367858322734,0.9642898505465664,0.9312687325096694,0.9604776310832356,0.9819128782095228,0.9595856597994392,0.9700083007057114,0.9334276286436742,0.9560791859786544,0.9056530285503352,0.8260442246984456,0.9841860069190453,0.9832336314918673,0.9324042763723616,0.8117147927389601,0.9296552720575236,0.9782499920019355,0.9466968832458282,0.8942789382531152,0.9299841362370963,0.9610875518958347,0.47795523829724484,0.966558084799553,0.9157501001790964,0.4026391907337776,0.9757290364949767,0.9796968403403477,0.9839285426160431,0.9573662264074211,0.08966472029760063,0.9334276286436742,0.9271422258339403,0.9448463167040244,0.9592361934958228,0.9657297087618977,0.938989939177843,0.5984273446347214,0.9107717492595776,0.9588150244242586,0.9438001730189632,0.965440664344669,0.9852977856249138,0.9367132895173217,0.8976423814915124,0.9716226213056907,0.21087541614631944,0.977081969389046,0.9580220647742435,0.9660051018151721,0.9812423921028247,0.9710688135329726,0.9796712047484084,0.9263152047531722,0.9678208191233996,0.4415895825702143,0.9399520389023651,0.9749207604593305,0.9624819072828407,0.41134813470522436,0.9681725357361478,0.9475078498194784,0.974834923663688,0.9631654126357153,0.39013298037955396,0.9377744973153429,0.9651008880147207,0.5763252800604625,0.9161094182482629,0.9494522846448747,0.9717289732247456,0.969321117888813,0.9765884776805396,0.9941363665816403,0.9836326168659806,0.9870339792551746,0.6639000459094809,0.9943878576258608,0.9857989841380826,0.9957502732888185,0.9938919503537401,0.9847802326361907,0.24997271886526243,0.5636598711614231,0.9951628278250118,0.9949700683982293,0.9943325648719463,0.9862976245007402,0.9921633222311212,0.9793951126528969,0.9916869799168124,0.9945152132559425,0.9843450917729291,0.6872134500271792,0.9933399818062612,0.9920087163197941,0.7200671723667559,0.9653465209513039,0.9911031760386112,0.9649249420903433,0.9938239944139083,0.9950751937951995,0.9942299763558506,0.9830695689943719,0.9887571226332881,0.9953418859358755,0.39949508016307966,0.9895509479277839,0.5035665741959066,0.9931858028861497,0.9933191546263155,0.9919130961135612,0.9607941732603121,0.9939222204967686,0.9464771033592837,0.9842965804915934,0.9886375193126248,0.8491419991073141,0.9907623174416507,0.990595713675057,0.9935745100192228,0.9943073055491851,0.5158848197408894,0.6497649940178343,0.781790655170207,0.9947172521448782,0.993911002819494,0.9936488701646803,0.9895317472248399,0.9778748946894102,0.991583957816358,0.9921749278164395,0.9934375621388345,0.9874877721338192,0.9938160837473649,0.9845220896132071,0.1468335397262517,0.992545761323147,0.9725017640011047,0.9881935171916355,0.9765690944152453,0.9539121835177756,0.9942299763558506,0.9691532821267603,0.9839886478201147,0.966461668792069,0.9785858871501286,0.9053355012526872,0.9655893482920991,0.960424592877904,0.9543213066724785,0.9417733593897482,0.3422224269469439,0.7868792814072021,0.47067529530080326,0.9041000345183701],\"type\":\"histogram\",\"nbinsx\":100,\"opacity\":0.9}],                        {\"template\":{\"data\":{\"histogram2dcontour\":[{\"type\":\"histogram2dcontour\",\"colorbar\":{\"outlinewidth\":0,\"ticks\":\"\"},\"colorscale\":[[0.0,\"#0d0887\"],[0.1111111111111111,\"#46039f\"],[0.2222222222222222,\"#7201a8\"],[0.3333333333333333,\"#9c179e\"],[0.4444444444444444,\"#bd3786\"],[0.5555555555555556,\"#d8576b\"],[0.6666666666666666,\"#ed7953\"],[0.7777777777777778,\"#fb9f3a\"],[0.8888888888888888,\"#fdca26\"],[1.0,\"#f0f921\"]]}],\"choropleth\":[{\"type\":\"choropleth\",\"colorbar\":{\"outlinewidth\":0,\"ticks\":\"\"}}],\"histogram2d\":[{\"type\":\"histogram2d\",\"colorbar\":{\"outlinewidth\":0,\"ticks\":\"\"},\"colorscale\":[[0.0,\"#0d0887\"],[0.1111111111111111,\"#46039f\"],[0.2222222222222222,\"#7201a8\"],[0.3333333333333333,\"#9c179e\"],[0.4444444444444444,\"#bd3786\"],[0.5555555555555556,\"#d8576b\"],[0.6666666666666666,\"#ed7953\"],[0.7777777777777778,\"#fb9f3a\"],[0.8888888888888888,\"#fdca26\"],[1.0,\"#f0f921\"]]}],\"heatmap\":[{\"type\":\"heatmap\",\"colorbar\":{\"outlinewidth\":0,\"ticks\":\"\"},\"colorscale\":[[0.0,\"#0d0887\"],[0.1111111111111111,\"#46039f\"],[0.2222222222222222,\"#7201a8\"],[0.3333333333333333,\"#9c179e\"],[0.4444444444444444,\"#bd3786\"],[0.5555555555555556,\"#d8576b\"],[0.6666666666666666,\"#ed7953\"],[0.7777777777777778,\"#fb9f3a\"],[0.8888888888888888,\"#fdca26\"],[1.0,\"#f0f921\"]]}],\"heatmapgl\":[{\"type\":\"heatmapgl\",\"colorbar\":{\"outlinewidth\":0,\"ticks\":\"\"},\"colorscale\":[[0.0,\"#0d0887\"],[0.1111111111111111,\"#46039f\"],[0.2222222222222222,\"#7201a8\"],[0.3333333333333333,\"#9c179e\"],[0.4444444444444444,\"#bd3786\"],[0.5555555555555556,\"#d8576b\"],[0.6666666666666666,\"#ed7953\"],[0.7777777777777778,\"#fb9f3a\"],[0.8888888888888888,\"#fdca26\"],[1.0,\"#f0f921\"]]}],\"contourcarpet\":[{\"type\":\"contourcarpet\",\"colorbar\":{\"outlinewidth\":0,\"ticks\":\"\"}}],\"contour\":[{\"type\":\"contour\",\"colorbar\":{\"outlinewidth\":0,\"ticks\":\"\"},\"colorscale\":[[0.0,\"#0d0887\"],[0.1111111111111111,\"#46039f\"],[0.2222222222222222,\"#7201a8\"],[0.3333333333333333,\"#9c179e\"],[0.4444444444444444,\"#bd3786\"],[0.5555555555555556,\"#d8576b\"],[0.6666666666666666,\"#ed7953\"],[0.7777777777777778,\"#fb9f3a\"],[0.8888888888888888,\"#fdca26\"],[1.0,\"#f0f921\"]]}],\"surface\":[{\"type\":\"surface\",\"colorbar\":{\"outlinewidth\":0,\"ticks\":\"\"},\"colorscale\":[[0.0,\"#0d0887\"],[0.1111111111111111,\"#46039f\"],[0.2222222222222222,\"#7201a8\"],[0.3333333333333333,\"#9c179e\"],[0.4444444444444444,\"#bd3786\"],[0.5555555555555556,\"#d8576b\"],[0.6666666666666666,\"#ed7953\"],[0.7777777777777778,\"#fb9f3a\"],[0.8888888888888888,\"#fdca26\"],[1.0,\"#f0f921\"]]}],\"mesh3d\":[{\"type\":\"mesh3d\",\"colorbar\":{\"outlinewidth\":0,\"ticks\":\"\"}}],\"scatter\":[{\"fillpattern\":{\"fillmode\":\"overlay\",\"size\":10,\"solidity\":0.2},\"type\":\"scatter\"}],\"parcoords\":[{\"type\":\"parcoords\",\"line\":{\"colorbar\":{\"outlinewidth\":0,\"ticks\":\"\"}}}],\"scatterpolargl\":[{\"type\":\"scatterpolargl\",\"marker\":{\"colorbar\":{\"outlinewidth\":0,\"ticks\":\"\"}}}],\"bar\":[{\"error_x\":{\"color\":\"#2a3f5f\"},\"error_y\":{\"color\":\"#2a3f5f\"},\"marker\":{\"line\":{\"color\":\"#E5ECF6\",\"width\":0.5},\"pattern\":{\"fillmode\":\"overlay\",\"size\":10,\"solidity\":0.2}},\"type\":\"bar\"}],\"scattergeo\":[{\"type\":\"scattergeo\",\"marker\":{\"colorbar\":{\"outlinewidth\":0,\"ticks\":\"\"}}}],\"scatterpolar\":[{\"type\":\"scatterpolar\",\"marker\":{\"colorbar\":{\"outlinewidth\":0,\"ticks\":\"\"}}}],\"histogram\":[{\"marker\":{\"pattern\":{\"fillmode\":\"overlay\",\"size\":10,\"solidity\":0.2}},\"type\":\"histogram\"}],\"scattergl\":[{\"type\":\"scattergl\",\"marker\":{\"colorbar\":{\"outlinewidth\":0,\"ticks\":\"\"}}}],\"scatter3d\":[{\"type\":\"scatter3d\",\"line\":{\"colorbar\":{\"outlinewidth\":0,\"ticks\":\"\"}},\"marker\":{\"colorbar\":{\"outlinewidth\":0,\"ticks\":\"\"}}}],\"scattermapbox\":[{\"type\":\"scattermapbox\",\"marker\":{\"colorbar\":{\"outlinewidth\":0,\"ticks\":\"\"}}}],\"scatterternary\":[{\"type\":\"scatterternary\",\"marker\":{\"colorbar\":{\"outlinewidth\":0,\"ticks\":\"\"}}}],\"scattercarpet\":[{\"type\":\"scattercarpet\",\"marker\":{\"colorbar\":{\"outlinewidth\":0,\"ticks\":\"\"}}}],\"carpet\":[{\"aaxis\":{\"endlinecolor\":\"#2a3f5f\",\"gridcolor\":\"white\",\"linecolor\":\"white\",\"minorgridcolor\":\"white\",\"startlinecolor\":\"#2a3f5f\"},\"baxis\":{\"endlinecolor\":\"#2a3f5f\",\"gridcolor\":\"white\",\"linecolor\":\"white\",\"minorgridcolor\":\"white\",\"startlinecolor\":\"#2a3f5f\"},\"type\":\"carpet\"}],\"table\":[{\"cells\":{\"fill\":{\"color\":\"#EBF0F8\"},\"line\":{\"color\":\"white\"}},\"header\":{\"fill\":{\"color\":\"#C8D4E3\"},\"line\":{\"color\":\"white\"}},\"type\":\"table\"}],\"barpolar\":[{\"marker\":{\"line\":{\"color\":\"#E5ECF6\",\"width\":0.5},\"pattern\":{\"fillmode\":\"overlay\",\"size\":10,\"solidity\":0.2}},\"type\":\"barpolar\"}],\"pie\":[{\"automargin\":true,\"type\":\"pie\"}]},\"layout\":{\"autotypenumbers\":\"strict\",\"colorway\":[\"#636efa\",\"#EF553B\",\"#00cc96\",\"#ab63fa\",\"#FFA15A\",\"#19d3f3\",\"#FF6692\",\"#B6E880\",\"#FF97FF\",\"#FECB52\"],\"font\":{\"color\":\"#2a3f5f\"},\"hovermode\":\"closest\",\"hoverlabel\":{\"align\":\"left\"},\"paper_bgcolor\":\"white\",\"plot_bgcolor\":\"#E5ECF6\",\"polar\":{\"bgcolor\":\"#E5ECF6\",\"angularaxis\":{\"gridcolor\":\"white\",\"linecolor\":\"white\",\"ticks\":\"\"},\"radialaxis\":{\"gridcolor\":\"white\",\"linecolor\":\"white\",\"ticks\":\"\"}},\"ternary\":{\"bgcolor\":\"#E5ECF6\",\"aaxis\":{\"gridcolor\":\"white\",\"linecolor\":\"white\",\"ticks\":\"\"},\"baxis\":{\"gridcolor\":\"white\",\"linecolor\":\"white\",\"ticks\":\"\"},\"caxis\":{\"gridcolor\":\"white\",\"linecolor\":\"white\",\"ticks\":\"\"}},\"coloraxis\":{\"colorbar\":{\"outlinewidth\":0,\"ticks\":\"\"}},\"colorscale\":{\"sequential\":[[0.0,\"#0d0887\"],[0.1111111111111111,\"#46039f\"],[0.2222222222222222,\"#7201a8\"],[0.3333333333333333,\"#9c179e\"],[0.4444444444444444,\"#bd3786\"],[0.5555555555555556,\"#d8576b\"],[0.6666666666666666,\"#ed7953\"],[0.7777777777777778,\"#fb9f3a\"],[0.8888888888888888,\"#fdca26\"],[1.0,\"#f0f921\"]],\"sequentialminus\":[[0.0,\"#0d0887\"],[0.1111111111111111,\"#46039f\"],[0.2222222222222222,\"#7201a8\"],[0.3333333333333333,\"#9c179e\"],[0.4444444444444444,\"#bd3786\"],[0.5555555555555556,\"#d8576b\"],[0.6666666666666666,\"#ed7953\"],[0.7777777777777778,\"#fb9f3a\"],[0.8888888888888888,\"#fdca26\"],[1.0,\"#f0f921\"]],\"diverging\":[[0,\"#8e0152\"],[0.1,\"#c51b7d\"],[0.2,\"#de77ae\"],[0.3,\"#f1b6da\"],[0.4,\"#fde0ef\"],[0.5,\"#f7f7f7\"],[0.6,\"#e6f5d0\"],[0.7,\"#b8e186\"],[0.8,\"#7fbc41\"],[0.9,\"#4d9221\"],[1,\"#276419\"]]},\"xaxis\":{\"gridcolor\":\"white\",\"linecolor\":\"white\",\"ticks\":\"\",\"title\":{\"standoff\":15},\"zerolinecolor\":\"white\",\"automargin\":true,\"zerolinewidth\":2},\"yaxis\":{\"gridcolor\":\"white\",\"linecolor\":\"white\",\"ticks\":\"\",\"title\":{\"standoff\":15},\"zerolinecolor\":\"white\",\"automargin\":true,\"zerolinewidth\":2},\"scene\":{\"xaxis\":{\"backgroundcolor\":\"#E5ECF6\",\"gridcolor\":\"white\",\"linecolor\":\"white\",\"showbackground\":true,\"ticks\":\"\",\"zerolinecolor\":\"white\",\"gridwidth\":2},\"yaxis\":{\"backgroundcolor\":\"#E5ECF6\",\"gridcolor\":\"white\",\"linecolor\":\"white\",\"showbackground\":true,\"ticks\":\"\",\"zerolinecolor\":\"white\",\"gridwidth\":2},\"zaxis\":{\"backgroundcolor\":\"#E5ECF6\",\"gridcolor\":\"white\",\"linecolor\":\"white\",\"showbackground\":true,\"ticks\":\"\",\"zerolinecolor\":\"white\",\"gridwidth\":2}},\"shapedefaults\":{\"line\":{\"color\":\"#2a3f5f\"}},\"annotationdefaults\":{\"arrowcolor\":\"#2a3f5f\",\"arrowhead\":0,\"arrowwidth\":1},\"geo\":{\"bgcolor\":\"white\",\"landcolor\":\"#E5ECF6\",\"subunitcolor\":\"white\",\"showland\":true,\"showlakes\":true,\"lakecolor\":\"white\"},\"title\":{\"x\":0.05},\"mapbox\":{\"style\":\"light\"}}},\"plot_bgcolor\":\"white\",\"xaxis\":{\"title\":{\"text\":\"Probability of Vote\"}}},                        {\"responsive\": true}                    ).then(function(){\n",
              "                            \n",
              "var gd = document.getElementById('1715cc86-0f4d-43ab-af54-b77833d78db8');\n",
              "var x = new MutationObserver(function (mutations, observer) {{\n",
              "        var display = window.getComputedStyle(gd).display;\n",
              "        if (!display || display === 'none') {{\n",
              "            console.log([gd, 'removed!']);\n",
              "            Plotly.purge(gd);\n",
              "            observer.disconnect();\n",
              "        }}\n",
              "}});\n",
              "\n",
              "// Listen for the removal of the full notebook cells\n",
              "var notebookContainer = gd.closest('#notebook-container');\n",
              "if (notebookContainer) {{\n",
              "    x.observe(notebookContainer, {childList: true});\n",
              "}}\n",
              "\n",
              "// Listen for the clearing of the current output cell\n",
              "var outputEl = gd.closest('.output');\n",
              "if (outputEl) {{\n",
              "    x.observe(outputEl, {childList: true});\n",
              "}}\n",
              "\n",
              "                        })                };                            </script>        </div>\n",
              "</body>\n",
              "</html>"
            ]
          },
          "metadata": {}
        }
      ]
    }
  ]
}