{
  "nbformat": 4,
  "nbformat_minor": 0,
  "metadata": {
    "colab": {
      "provenance": [],
      "authorship_tag": "ABX9TyNvy+S29hvQarWZ/4oW/4c5",
      "include_colab_link": true
    },
    "kernelspec": {
      "name": "python3",
      "display_name": "Python 3"
    },
    "language_info": {
      "name": "python"
    }
  },
  "cells": [
    {
      "cell_type": "markdown",
      "metadata": {
        "id": "view-in-github",
        "colab_type": "text"
      },
      "source": [
        "<a href=\"https://colab.research.google.com/github/ellenwterry/PoliticalAnalysis/blob/main/Bayesian_Campaign_Planning_Priors_Deep_Dive.ipynb\" target=\"_parent\"><img src=\"https://colab.research.google.com/assets/colab-badge.svg\" alt=\"Open In Colab\"/></a>"
      ]
    },
    {
      "cell_type": "code",
      "execution_count": null,
      "metadata": {
        "id": "32q7bjxaTLaz"
      },
      "outputs": [],
      "source": [
        "import matplotlib.pyplot as plt\n",
        "import numpy as np\n",
        "import pandas as pd\n",
        "from scipy import stats\n",
        "\n",
        "!pip install nest-asyncio\n",
        "import nest_asyncio\n",
        "nest_asyncio.apply()\n",
        "\n",
        "import patsy\n",
        "from sklearn.linear_model import LogisticRegression\n",
        "\n",
        "!pip install pystan\n",
        "!pip install corner\n",
        "import stan\n",
        "\n",
        "import plotly.express as px\n",
        "import plotly.graph_objects as go\n",
        "\n",
        "!pip install geopy\n",
        "from geopy.geocoders import Nominatim\n",
        "import matplotlib.pyplot as plt\n",
        "!pip install pygris\n",
        "# import matplotlib.pyplot as plt\n",
        "from pygris import core_based_statistical_areas\n",
        "from pygris import tracts\n",
        "\n",
        "from google.colab import files\n",
        "\n",
        "\n",
        "import geopandas as gpd\n",
        "import folium\n",
        "# from google.colab import files\n"
      ]
    },
    {
      "cell_type": "code",
      "source": [
        "url = 'https://raw.githubusercontent.com/ellenwterry/PoliticalAnalysis/main/BaseVote.csv'\n",
        "VoteBase = pd.read_csv(url)"
      ],
      "metadata": {
        "id": "WSDEuOLKTgfe"
      },
      "execution_count": null,
      "outputs": []
    },
    {
      "cell_type": "code",
      "source": [
        "# Clean up the data a bit\n",
        "\n",
        "from sklearn import preprocessing\n",
        "le = preprocessing.LabelEncoder()\n",
        "\n",
        "le.fit(VoteBase['Sex'])\n",
        "\n",
        "codes = {'NR':0, 'M':1, 'F': 2}\n",
        "VoteBase['Sex'] = VoteBase['Sex'].map(codes)\n",
        "\n",
        "VoteBase['Age']=VoteBase.Age.astype('int32')\n",
        "\n",
        "#VoteBase['LastPrimary'] = le.transform(VoteBase['LastPrimary'])\n",
        "codes = {'NR':0, 'R': 1, 'D':2}\n",
        "VoteBase['LastPrimary'] = VoteBase['LastPrimary'].map(codes)\n",
        "\n",
        "#VoteBase['Education'] = le.transform(VoteBase['Education'])\n",
        "codes = {'NR':0, 'HS': 1, 'Some College':2, 'Bachelor':3, 'Masters':4, 'Doctorate':5}\n",
        "VoteBase['Education'] = VoteBase['Education'].map(codes)\n",
        "\n",
        "#VoteBase['HHIncome'] = le.transform(VoteBase['HHIncome'])\n",
        "codes = {'NR':0, 'Under 50k': 1, '50k-100k':2, '100k-200k':3, '200k-300k':4, '300k-500k':5, 'Over 500k':6}\n",
        "VoteBase['HHIncome'] = VoteBase['HHIncome'].map(codes)\n",
        "\n",
        "#VoteBase['ReligiousAffil'] = le.transform(VoteBase['ReligiousAffil'])\n",
        "codes = {'NR':0,'Protestant': 1, 'Catholic':2, 'Other':3, 'None':4}\n",
        "VoteBase['ReligiousAffil'] = VoteBase['ReligiousAffil'].map(codes)\n",
        "\n",
        "#VoteBase['Support24'] = le.transform(VoteBase['Support24'])\n",
        "codes = {'R':0, 'D': 1}\n",
        "VoteBase['Support24'] = VoteBase['Support24'].map(codes)\n",
        "# NOTE: NAs were excluded from sample so that algorithms could score using logistic scale - 2nd pass will use imputed values\n",
        "\n",
        "#VoteBase['TopIssue'] = le.transform(VoteBase['TopIssue'])\n",
        "codes = {'NR':0, 'RFree':1, 'Crime':2, 'Parents':3, 'Economy':4, 'Womens':5, 'Education':6, 'Democracy':7}\n",
        "VoteBase['TopIssue'] = VoteBase['TopIssue'].map(codes)\n",
        "\n",
        "# This is for the second data source (later)\n",
        "codes = {'NR':0, 'Signed':1}\n",
        "VoteBase['RRPetition'] = VoteBase['RRPetition'].map(codes)"
      ],
      "metadata": {
        "id": "SYBW2MWbTgjV"
      },
      "execution_count": null,
      "outputs": []
    },
    {
      "cell_type": "code",
      "source": [
        "Xmatrix = patsy.dmatrix('Age + Sex + Education + HHIncome+ ReligiousAffil + LastPrimary + TopIssue + RRPetition', VoteBase)"
      ],
      "metadata": {
        "id": "Jewc4qEYWu5i"
      },
      "execution_count": null,
      "outputs": []
    },
    {
      "cell_type": "code",
      "source": [
        "Xmatrix[1154,]"
      ],
      "metadata": {
        "colab": {
          "base_uri": "https://localhost:8080/"
        },
        "id": "8N3qtxU_KgYJ",
        "outputId": "44d2ca49-77eb-4a53-9520-e2bee9af784a"
      },
      "execution_count": null,
      "outputs": [
        {
          "output_type": "execute_result",
          "data": {
            "text/plain": [
              "array([ 1., 53.,  2.,  3.,  4.,  1.,  0.,  0.,  0.])"
            ]
          },
          "metadata": {},
          "execution_count": 37
        }
      ]
    },
    {
      "cell_type": "code",
      "source": [
        "VoteBase.iloc[1154], VoteBase.iloc[464]"
      ],
      "metadata": {
        "colab": {
          "base_uri": "https://localhost:8080/"
        },
        "id": "bwsXrnZt77Uk",
        "outputId": "a17c83d3-b082-4c5a-edd4-c4ab3468131c"
      },
      "execution_count": null,
      "outputs": [
        {
          "output_type": "execute_result",
          "data": {
            "text/plain": [
              "(ID                          1154\n",
              " LastName                  Nelson\n",
              " FirstName                   Lisa\n",
              " Address           45 HUSTED LANE\n",
              " Town                   Greenwich\n",
              " Sex                            F\n",
              " Age                           53\n",
              " LastPrimary                   NR\n",
              " TurnoutScore                0.11\n",
              " SupportScore                0.47\n",
              " Latitude                41.05322\n",
              " Longitude              -73.63014\n",
              " Education               Bachelor\n",
              " HHIncome               200k-300k\n",
              " ReligiousAffil        Protestant\n",
              " Support24                      D\n",
              " TopIssue                      NR\n",
              " RRPetition                    NR\n",
              " Name: 1154, dtype: object,\n",
              " ID                                 464\n",
              " LastName                      Fletcher\n",
              " FirstName                       Joseph\n",
              " Address           154 BYRAM SHORE ROAD\n",
              " Town                         Greenwich\n",
              " Sex                                  M\n",
              " Age                                 35\n",
              " LastPrimary                         NR\n",
              " TurnoutScore                      0.23\n",
              " SupportScore                      0.33\n",
              " Latitude                      40.99461\n",
              " Longitude                    -73.65519\n",
              " Education                     Bachelor\n",
              " HHIncome                      50k-100k\n",
              " ReligiousAffil                    None\n",
              " Support24                            D\n",
              " TopIssue                            NR\n",
              " RRPetition                      Signed\n",
              " Name: 464, dtype: object)"
            ]
          },
          "metadata": {},
          "execution_count": 4
        }
      ]
    },
    {
      "cell_type": "code",
      "source": [],
      "metadata": {
        "colab": {
          "base_uri": "https://localhost:8080/"
        },
        "id": "64tpIq-HKX4r",
        "outputId": "0c9bd6db-d48a-41a5-bdfa-9305253e3b89"
      },
      "execution_count": null,
      "outputs": [
        {
          "output_type": "execute_result",
          "data": {
            "text/plain": [
              "array([ 1., 40.,  0.,  3.,  4.,  2.,  0.,  0.])"
            ]
          },
          "metadata": {},
          "execution_count": 25
        }
      ]
    },
    {
      "cell_type": "markdown",
      "source": [],
      "metadata": {
        "id": "kVBIA3SQTT4Z"
      }
    },
    {
      "cell_type": "code",
      "source": [
        "\n",
        "#                                 Age              Sex           Education      HHIncome      ReligiousAffil LastPrimary   TopIssue      Petition\n",
        "priors = np.array(  [-4.171538879, -0.007734962083, 0.1191608616, 0.08832740723, 0.7838277788, 0.5216263998,  0.2825111121, 0.2004093626])\n",
        "Ipriors = np.array([-4.175475702, -0.01344553919,  0.3878384869, 0.08312154144, 0.7756178787, 0.5169169459,  0.2823963907, 0.201670231 ])\n",
        "priors2 = np.array([-4.179523767, -0.01324793534,  0.3755421152, 0.07952228111, 0.7722277551, 0.5138709413,  0.2827103348, 0.2011010537, 0.4062255315])\n",
        "\n",
        "testRecord1a = Xmatrix[1154, 0:8]\n",
        "testRecord1b = Xmatrix[1154, 0:9]\n",
        "testRecord2a = Xmatrix[464, 0:8]\n",
        "testRecord2b = Xmatrix[464, 0:9]\n",
        "\n",
        "def stable_sigmoid(x):\n",
        "  # Using np.where to avoid numerical overflow or underflow.\n",
        "  return np.where(x >= 0, 1 / (1 + np.exp(-x)), np.exp(x) / (1 + np.exp(x)))\n",
        "\n",
        "# Create Probabilities for rec 1154\n",
        "rec1prob1 = stable_sigmoid((np.dot(priors,testRecord1a.transpose())).transpose())\n",
        "rec1Iprob = stable_sigmoid((np.dot(Ipriors,testRecord1a.transpose())).transpose())\n",
        "rec1prob2 = stable_sigmoid((np.dot(priors2,testRecord1b.transpose())).transpose())\n",
        "\n",
        "# Create Probabilities for rec 464\n",
        "rec2prob1 = stable_sigmoid((np.dot(priors,testRecord2a.transpose())).transpose())\n",
        "rec2Iprob = stable_sigmoid((np.dot(Ipriors,testRecord2a.transpose())).transpose())\n",
        "rec2prob2 = stable_sigmoid((np.dot(priors2,testRecord2b.transpose())).transpose())\n",
        "\n",
        "print(rec1prob1, rec1Iprob, rec1prob2)\n",
        "print(rec2prob1, rec2Iprob, rec2prob2)\n",
        "\n"
      ],
      "metadata": {
        "colab": {
          "base_uri": "https://localhost:8080/"
        },
        "id": "C2UcOgftTMUY",
        "outputId": "1d598b39-ed08-4e08-8fe8-db92b56f9d15"
      },
      "execution_count": null,
      "outputs": [
        {
          "output_type": "stream",
          "name": "stdout",
          "text": [
            "0.39621757687305553 0.4393847914263568 0.42819206683830935\n",
            "0.40036168554057106 0.40372622664595204 0.49426831646681907\n"
          ]
        }
      ]
    },
    {
      "cell_type": "code",
      "source": [
        "Xmatrix\n"
      ],
      "metadata": {
        "colab": {
          "base_uri": "https://localhost:8080/"
        },
        "id": "RagMeDTZIpRA",
        "outputId": "de0250b0-b05d-4cf8-ffc3-4224494d04ec"
      },
      "execution_count": null,
      "outputs": [
        {
          "output_type": "execute_result",
          "data": {
            "text/plain": [
              "DesignMatrix with shape (2498, 27)\n",
              "  Columns:\n",
              "    ['Intercept',\n",
              "     'Sex[T.M]',\n",
              "     'Education[T.Doctorate]',\n",
              "     'Education[T.HS]',\n",
              "     'Education[T.Masters]',\n",
              "     'Education[T.NR]',\n",
              "     'Education[T.Some College]',\n",
              "     'HHIncome[T.200k-300k]',\n",
              "     'HHIncome[T.300k-500k]',\n",
              "     'HHIncome[T.50k-100k]',\n",
              "     'HHIncome[T.NR]',\n",
              "     'HHIncome[T.Over 500k]',\n",
              "     'HHIncome[T.Under 50k]',\n",
              "     'ReligiousAffil[T.NR]',\n",
              "     'ReligiousAffil[T.None]',\n",
              "     'ReligiousAffil[T.Other]',\n",
              "     'ReligiousAffil[T.Protestant]',\n",
              "     'LastPrimary[T.NR]',\n",
              "     'LastPrimary[T.R]',\n",
              "     'TopIssue[T.Democracy]',\n",
              "     'TopIssue[T.Economy]',\n",
              "     'TopIssue[T.Education]',\n",
              "     'TopIssue[T.NR]',\n",
              "     'TopIssue[T.Parents]',\n",
              "     'TopIssue[T.RFree]',\n",
              "     'TopIssue[T.Womens]',\n",
              "     'Age']\n",
              "  Terms:\n",
              "    'Intercept' (column 0)\n",
              "    'Sex' (column 1)\n",
              "    'Education' (columns 2:7)\n",
              "    'HHIncome' (columns 7:13)\n",
              "    'ReligiousAffil' (columns 13:17)\n",
              "    'LastPrimary' (columns 17:19)\n",
              "    'TopIssue' (columns 19:26)\n",
              "    'Age' (column 26)\n",
              "  (to view full data, use np.asarray(this_obj))"
            ]
          },
          "metadata": {},
          "execution_count": 13
        }
      ]
    },
    {
      "cell_type": "code",
      "source": [],
      "metadata": {
        "id": "vwYz6jKyTMX7"
      },
      "execution_count": null,
      "outputs": []
    }
  ]
}